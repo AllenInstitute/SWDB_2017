{
 "cells": [
  {
   "cell_type": "markdown",
   "metadata": {},
   "source": [
    "<img src=\"../resources/cropped-SummerWorkshop_Header.png\">  \n",
    "\n",
    "<h1 align=\"center\">Cell Types Workshop SWDB 2017 </h1> \n",
    "<h3 align=\"center\">Wednesday, August 23, 2017</h3> "
   ]
  },
  {
   "cell_type": "markdown",
   "metadata": {},
   "source": [
    "<div style=\"border-left: 3px solid #000; padding: 1px; padding-left: 10px; background: #F0FAFF; \">\n",
    "<h2>Drive path</h2>\n",
    "\n",
    "<p>First things first - let's make sure your drive path is set up appropriately. You will want to un-comment only one of these options depending on which operating system you are running. You also may have to tweak the option for your specific set-up (e.g. change the drive letter for Windows).\n",
    "</p>\n",
    "</div>"
   ]
  },
  {
   "cell_type": "code",
   "execution_count": 1,
   "metadata": {
    "collapsed": true
   },
   "outputs": [],
   "source": [
    "# please make sure your drive_path is set, so that the notebook can find the data files on the hard drive\n",
    "\n",
    "# OS X\n",
    "# drive_path = '/Volumes/Brain2016'\n",
    "drive_path = '/Users/shawn/Desktop/FHL 2017/Cell Types Cache/'\n",
    "\n",
    "# Windows (a good guess)\n",
    "# drive_path = 'e:/'\n",
    "\n",
    "# Linux (will vary; the following is possibly what Ubuntu will do)\n",
    "# drive_path = '/media/Brain2016/'\n",
    "\n",
    "# AWS\n",
    "# drive_path = '/data/dynamic-brain-workshop/cell_types_cache/'"
   ]
  },
  {
   "cell_type": "markdown",
   "metadata": {},
   "source": [
    "<div style=\"border-left: 3px solid #000; padding: 1px; padding-left: 10px; background: #F0FAFF; \">\n",
    "<h2>Cell Types Database</h2>\n",
    "\n",
    "<p>\n",
    "The Cell Types database contains data derived from single-cell experiments including in vitro electrophysiological recordings from cortical slices and morphological reconstructions based on single-neuron fills.</p>\n",
    "\n",
    "<p>\n",
    "The database can be accessed [on the web](http://celltypes.brain-map.org/). This is useful for browsing and familiarizing yourself with the data, but for more in-depth analyses, it is often better to access data programmatically. The [AllenSDK](https://alleninstitute.github.io/AllenSDK/) provides Python-based tools to support that approach, and this notebook will introduce you to them.<p>\n",
    "\n",
    "<p>\n",
    "If you have not installed the `allensdk` python module yet, do so from a command prompt:</p>\n",
    "\n",
    "<p>\n",
    "   `> pip install allensdk` </p>\n",
    "    \n",
    "</div>"
   ]
  },
  {
   "cell_type": "code",
   "execution_count": 2,
   "metadata": {
    "collapsed": true
   },
   "outputs": [],
   "source": [
    "import os\n",
    "import numpy as np\n",
    "import matplotlib.pyplot as plt\n",
    "%matplotlib inline\n",
    "\n",
    "from allensdk.core.cell_types_cache import CellTypesCache"
   ]
  },
  {
   "cell_type": "markdown",
   "metadata": {},
   "source": [
    "<div style=\"border-left: 3px solid #000; padding: 1px; padding-left: 10px; background: #F0FAFF; \">\n",
    "<h2>Create a CellTypesCache instance</h2>\n",
    "\n",
    "<p>A CellTypesCache is used to copy and cache data from the cell types database. If you create the CellTypesCache instance with no arguments, then data is downloaded from the online repository:\n",
    "</p>\n",
    "</div>"
   ]
  },
  {
   "cell_type": "code",
   "execution_count": 3,
   "metadata": {
    "collapsed": true
   },
   "outputs": [],
   "source": [
    "# ctc = CellTypesCache()"
   ]
  },
  {
   "cell_type": "markdown",
   "metadata": {},
   "source": [
    "<div style=\"border-left: 3px solid #000; padding: 1px; padding-left: 10px; background: #F0FAFF; \">\n",
    "<p>Because we have limited internet bandwidth, the data you need is already provided on your external hard drive. To ensure this local data is used instead of the online repository, create the CellTypesCache instance using the `manifest_file` argument:\n",
    "</p>\n",
    "</div>"
   ]
  },
  {
   "cell_type": "code",
   "execution_count": 4,
   "metadata": {
    "collapsed": false
   },
   "outputs": [],
   "source": [
    "ctc = CellTypesCache(manifest_file=os.path.join(drive_path,'manifest.json'))"
   ]
  },
  {
   "cell_type": "markdown",
   "metadata": {},
   "source": [
    "<div style=\"border-left: 3px solid #000; padding: 1px; padding-left: 10px; background: #F0FAFF; \">\n",
    "<p>Create CellTypesCache instance using the `manifest_file` on AWS:\n",
    "</p>\n",
    "</div>"
   ]
  },
  {
   "cell_type": "code",
   "execution_count": 5,
   "metadata": {
    "collapsed": true
   },
   "outputs": [],
   "source": [
    "# ctc = CellTypesCache(manifest_file=os.path.join(drive_path, 'cell_types_manifest.json'))"
   ]
  },
  {
   "cell_type": "markdown",
   "metadata": {},
   "source": [
    "<div style=\"border-left: 3px solid #000; padding: 1px; padding-left: 10px; background: #F0FAFF; \">\n",
    "\n",
    "<p>\n",
    "<strong>Documentation:</strong>\n",
    "[CellTypesCache](http://alleninstitute.github.io/AllenSDK/allensdk.core.html#allensdk.core.cell_types_cache.CellTypesCache),\n",
    "[CellTypesCache.get_ephys_features()](http://alleninstitute.github.io/AllenSDK/allensdk.core.html#allensdk.core.cell_types_cache.CellTypesCache.get_ephys_features)\n",
    "[CellTypesCache.get_cells()](http://alleninstitute.github.io/AllenSDK/allensdk.core.html#allensdk.core.cell_types_cache.CellTypesCache.get_cells)</p>\n",
    "<p>\n",
    "*Note: you can find these by using the search tool on the main [AllenSDK page](http://alleninstitute.github.io/AllenSDK/)*\n",
    "</p>\n",
    "</div>"
   ]
  },
  {
   "cell_type": "markdown",
   "metadata": {},
   "source": [
    "<div style=\"border-left: 3px solid #000; padding: 1px; padding-left: 10px; background: #F0FAFF; \">\n",
    "<h2>1. Using pre-computed features: Htr3a-expressing interneurons</h2>\n",
    "\n",
    "<p>\n",
    "Let's say we're interested in looking at interneuron diversity in the mouse visual cortex. We know that interneurons can be divided into three major types based on the expression of specific molecular markers - some interneurons express parvalbumin (Pvalb), others express somatostatin (Sst), and most of the rest express the ionotropic serotonin receptor 5HT3a (Htr3a).\n",
    "</p>\n",
    "</div>"
   ]
  },
  {
   "cell_type": "markdown",
   "metadata": {},
   "source": [
    "<img src=\"../../resources/Neocortical Interneurons.png\">  "
   ]
  },
  {
   "cell_type": "markdown",
   "metadata": {},
   "source": [
    "<div style=\"border-left: 3px solid #000; padding: 1px; padding-left: 10px; background: #F0FAFF; \">\n",
    "<p>\n",
    "We'll start by looking at the Htr3a-expressing interneurons, which have two major subpopulations - those that express vasointestinal peptide (Vip), and those that don't. Many of the non-Vip cells express neuron derived neurotrophic factor (Ndnf). In the Cell Types Database, we have cells that are labeled by transgenic lines driven by Htr3a-Cre, as well as cells with reporter expression driven by Vip-Cre and Ndnf-Cre. We can look at the properties of those cells to see if there are characteristic differences among these populations. \n",
    "</p>\n",
    "<p>\n",
    "We'll start by looking at pre-computed features of these cells. To access them, we'll use SDK components that interact with the database via its API.</p>\n",
    "</div>"
   ]
  },
  {
   "cell_type": "markdown",
   "metadata": {},
   "source": [
    "<div style=\"background: #DFF0D8; border-radius: 3px; padding: 10px;\">\n",
    "<p><strong>Exercise 1.1:</strong></p>\n",
    "\n",
    "<p>Use the function `ctc.get_cells()` and specify the reporter_status to get all the cre reporter positive cells (we only want the cells actually labeled by the transgenic lines we're investigating). Store them in a variable named `cells`. How many cells are in the database? Does this match the number reported on the website? </p>\n",
    "\n",
    "</div>"
   ]
  },
  {
   "cell_type": "code",
   "execution_count": 6,
   "metadata": {
    "collapsed": false
   },
   "outputs": [
    {
     "name": "stdout",
     "output_type": "stream",
     "text": [
      "889\n"
     ]
    }
   ],
   "source": [
    "# ANSWER\n",
    "\n",
    "cells = ctc.get_cells(reporter_status=[\"cre reporter positive\"])\n",
    "print len(cells)"
   ]
  },
  {
   "cell_type": "markdown",
   "metadata": {},
   "source": [
    "<div style=\"border-left: 3px solid #000; padding: 1px; padding-left: 10px; background: #F0FAFF; \">\n",
    "\n",
    "<h2> Selecting specific cell populations </h2>\n",
    "\n",
    "Now we'd like to just select the cells for particular transgenic lines (i.e., Htr3a, Vip, and Ndnf). The full names of those driver lines are:\n",
    "<ul>\n",
    "<li> Htr3a-Cre_NO152 </li>\n",
    "<li> Vip-IRES-Cre </li>\n",
    "<li> Ndnf-IRES2-dgCre </li>\n",
    "</ul>\n",
    "\n",
    "<p>\n",
    "If we look at an entry in our `cells` list, we can see that there are several fields that are of use to us for this task: e.g. the 'transgenic_line' key allows us to select for Cre line, 'id' is the specimen_id for this cell that allows us to connect between datasets and with metadata, and 'dendrite_type' gives us information about the presence of spines which strongly covaries with excitatory/inhibitory neuron type.\n",
    "</p></div>"
   ]
  },
  {
   "cell_type": "code",
   "execution_count": 7,
   "metadata": {
    "collapsed": false,
    "scrolled": false
   },
   "outputs": [
    {
     "name": "stdout",
     "output_type": "stream",
     "text": [
      "[u'rna_integrity_number', u'weight', u'parent_y_coord', u'dendrite_type', u'has_morphology', u'parent_x_coord', u'ephys_result_id', u'data_sets', u'is_cell_specimen', u'cell_soma_locations', u'id', u'neuron_reconstructions', u'sphinx_id', u'parent_id', u'reporter_status', u'donor', u'is_ish', u'ephys_features', u'transgenic_line', u'failed_facet', u'treatment_id', u'tissue_ph', u'hemisphere', u'donor_id', u'cell_prep_sample_id', u'cell_reporter', u'data', u'structure_id', u'structure', u'parent_z_coord', u'apical', u'name', u'specimen_tags', u'has_reconstruction', u'specimen_id_path', u'cell_reporter_id', u'external_specimen_name']\n"
     ]
    }
   ],
   "source": [
    "example_cell = cells[100] # cells is a list of dictionaries\n",
    "print example_cell.keys()"
   ]
  },
  {
   "cell_type": "code",
   "execution_count": 8,
   "metadata": {
    "collapsed": false
   },
   "outputs": [
    {
     "name": "stdout",
     "output_type": "stream",
     "text": [
      "Specimen ID: 485640247\n",
      "Transgenic line: Pvalb-IRES-Cre\n",
      "Dendrite type: aspiny\n"
     ]
    }
   ],
   "source": [
    "# The specimen ID - this is a handle to refer to a specific cell in the database\n",
    "print \"Specimen ID:\", example_cell[\"id\"]\n",
    "\n",
    "# The transgenic line - the driver of the mouse from which the cell was recorded\n",
    "print \"Transgenic line:\", example_cell[\"transgenic_line\"]\n",
    "\n",
    "# The dendrite type - this is whether or not a given cell has dendritic spines (generally a \n",
    "# feature of excitatory neurons)\n",
    "print \"Dendrite type:\", example_cell[\"dendrite_type\"]"
   ]
  },
  {
   "cell_type": "markdown",
   "metadata": {},
   "source": [
    "<div style=\"background: #DFF0D8; border-radius: 3px; padding: 10px;\">\n",
    "<p><strong>Exercise 1.2:</strong></p>\n",
    "\n",
    "<p>From the `cells` list, select only the cells that are from the Htr3a-Cre_NO152 line and are not spiny. Store their specimen IDs in a new list called `htr3a_ids`. How many of these cells are there?</p>\n",
    "\n",
    "</div>"
   ]
  },
  {
   "cell_type": "code",
   "execution_count": 9,
   "metadata": {
    "collapsed": false
   },
   "outputs": [
    {
     "name": "stdout",
     "output_type": "stream",
     "text": [
      "87\n"
     ]
    }
   ],
   "source": [
    "# ANSWER\n",
    "\n",
    "htr3a_ids = [c[\"id\"] for c in cells\n",
    "             if c[\"transgenic_line\"] == \"Htr3a-Cre_NO152\" and\n",
    "             c[\"dendrite_type\"] != \"spiny\"]\n",
    "\n",
    "print len(htr3a_ids)"
   ]
  },
  {
   "cell_type": "markdown",
   "metadata": {},
   "source": [
    "<div style=\"border-left: 3px solid #000; padding: 1px; padding-left: 10px; background: #F0FAFF; \">\n",
    "<h3> Pandas DataFrame is useful for selecting and filtering data </h3>\n",
    "\n",
    "<p>\n",
    "<strong>Documentation:</strong>\n",
    "[pandas.DataFrame()](https://pandas.pydata.org/pandas-docs/stable/generated/pandas.DataFrame.html),\n",
    "\n",
    "[Intro to pandas data structures](https://pandas.pydata.org/pandas-docs/stable/dsintro.html)\n",
    "</p>\n",
    "</div>"
   ]
  },
  {
   "cell_type": "code",
   "execution_count": 10,
   "metadata": {
    "collapsed": false
   },
   "outputs": [],
   "source": [
    "import pandas as pd"
   ]
  },
  {
   "cell_type": "markdown",
   "metadata": {},
   "source": [
    "<div style=\"background: #DFF0D8; border-radius: 3px; padding: 10px;\">\n",
    "<p><strong>Exercise 1.3:</strong></p>\n",
    "\n",
    "<p>Make a DataFrame (`df_cells`) from the `cells` list of dictionaries. How many rows and columns does this dataframe contain?</p>\n",
    "\n",
    "</div>"
   ]
  },
  {
   "cell_type": "code",
   "execution_count": 11,
   "metadata": {
    "collapsed": false
   },
   "outputs": [
    {
     "name": "stdout",
     "output_type": "stream",
     "text": [
      "# of rows: 889\n",
      "# of columns: 37\n"
     ]
    }
   ],
   "source": [
    "# ANSWER\n",
    "\n",
    "df_cells = pd.DataFrame(cells)\n",
    "print \"# of rows:\", df_cells.shape[0]\n",
    "print \"# of columns:\", df_cells.shape[1]"
   ]
  },
  {
   "cell_type": "markdown",
   "metadata": {},
   "source": [
    "<div style=\"background: #DFF0D8; border-radius: 3px; padding: 10px;\">\n",
    "<p>**Exercise 1.4:**</p>\n",
    "\n",
    "<p>Make a new dataframe `df_vip` by selecting from the dataframe `df_cells` only the cells that are Vip-IRES-Cre+ and are not spiny. Print id values for these cells. </p>\n",
    "\n",
    "</div>"
   ]
  },
  {
   "cell_type": "code",
   "execution_count": 12,
   "metadata": {
    "collapsed": false,
    "scrolled": false
   },
   "outputs": [
    {
     "name": "stdout",
     "output_type": "stream",
     "text": [
      "VIP cell ids: [531121585 520347870 524876305 514767977 535728342 523478821 522418855\n",
      " 501570114 524693113 523478869 523205934 524689239 501736631 515264431\n",
      " 535708196 509620929]\n"
     ]
    }
   ],
   "source": [
    "# ANSWER \n",
    "\n",
    "df_vip = df_cells[(df_cells.transgenic_line=='Vip-IRES-Cre') & (df_cells.dendrite_type!='spiny')]\n",
    "print \"VIP cell ids:\", df_vip.id.values"
   ]
  },
  {
   "cell_type": "markdown",
   "metadata": {},
   "source": [
    "<div style=\"background: #DFF0D8; border-radius: 3px; padding: 10px;\">\n",
    "<p>**Exercise 1.5:**</p>\n",
    "\n",
    "<p>Make a new dataframe `df_tg_cells` from `df_cells` which includes all cells from the three transgenic lines of interest here: Htr3a-Cre_NO152, Vip-IRES-Cre, Ndnf-IRES2-dgCre. Hint: use the `isin` method. Additionally, only select cells that are not 'spiny'.</p>\n",
    "\n",
    "</div>"
   ]
  },
  {
   "cell_type": "code",
   "execution_count": 13,
   "metadata": {
    "collapsed": false
   },
   "outputs": [
    {
     "name": "stdout",
     "output_type": "stream",
     "text": [
      "Unique transgenic lines in dataframe:  [u'Htr3a-Cre_NO152' u'Ndnf-IRES2-dgCre' u'Vip-IRES-Cre']\n"
     ]
    }
   ],
   "source": [
    "# ANSWER\n",
    "\n",
    "line_list = ['Htr3a-Cre_NO152', 'Vip-IRES-Cre', 'Ndnf-IRES2-dgCre']\n",
    "df_tg_cells = df_cells[(df_cells.transgenic_line.isin(line_list)) & (df_cells.dendrite_type!='spiny')]\n",
    "print \"Unique transgenic lines in dataframe: \", df_tg_cells.transgenic_line.unique()"
   ]
  },
  {
   "cell_type": "markdown",
   "metadata": {},
   "source": [
    "<div style=\"border-left: 3px solid #000; padding: 1px; padding-left: 10px; background: #F0FAFF; \">\n",
    "<p>\n",
    "Now we have a table (`df_tg_cells`) with all cells labeled by our three Cre lines. Next, we'll get ephys features for the cells in the Cell Types database and extract the properties for the cells in `df_tg_cells`.\n",
    "</p>\n",
    "</div>"
   ]
  },
  {
   "cell_type": "markdown",
   "metadata": {},
   "source": [
    "<div style=\"border-left: 3px solid #000; padding: 1px; padding-left: 10px; background: #F0FAFF; \">\n",
    "\n",
    "<h3> Get Ephys Features from CellTypesCache object</h3>\n",
    "<p>\n",
    "We can get ephys features as a list of dictionaries. The returned data provides a record of feature values for each cell in the database, and additionally includes essential metadata about the cell (specimen_id) and experiment (id).\n",
    "</p>\n",
    "</div>"
   ]
  },
  {
   "cell_type": "code",
   "execution_count": 14,
   "metadata": {
    "collapsed": false
   },
   "outputs": [
    {
     "data": {
      "text/plain": [
       "{'adaptation': 0.0460790482526,\n",
       " 'avg_isi': 97.0,\n",
       " 'electrode_0_pa': 23.797500428600003,\n",
       " 'f_i_curve_slope': 0.124640301691,\n",
       " 'fast_trough_t_long_square': 1.156475,\n",
       " 'fast_trough_t_ramp': 6.003741666669999,\n",
       " 'fast_trough_t_short_square': 1.0255275,\n",
       " 'fast_trough_v_long_square': -42.0000038147,\n",
       " 'fast_trough_v_ramp': -42.3541679382,\n",
       " 'fast_trough_v_short_square': -46.335939407299996,\n",
       " 'has_burst': False,\n",
       " 'has_delay': False,\n",
       " 'has_pause': False,\n",
       " 'id': 478890939,\n",
       " 'input_resistance_mohm': 106.45978400000001,\n",
       " 'latency': 0.061110000000000005,\n",
       " 'peak_t_long_square': 1.1535600000000001,\n",
       " 'peak_t_ramp': 6.001371666669999,\n",
       " 'peak_t_short_square': 1.0235425,\n",
       " 'peak_v_long_square': 32.53125,\n",
       " 'peak_v_ramp': 33.28125,\n",
       " 'peak_v_short_square': 27.1562509537,\n",
       " 'rheobase_sweep_id': 478889888,\n",
       " 'rheobase_sweep_number': 57,\n",
       " 'ri': 113.28125,\n",
       " 'sag': 0.0900440961123,\n",
       " 'seal_gohm': 1.5778554880000002,\n",
       " 'slow_trough_t_long_square': 1.21095,\n",
       " 'slow_trough_t_ramp': 6.046945,\n",
       " 'slow_trough_t_short_square': 1.2625375,\n",
       " 'slow_trough_v_long_square': -52.5625,\n",
       " 'slow_trough_v_ramp': -53.708337148000005,\n",
       " 'slow_trough_v_short_square': -72.76562881470001,\n",
       " 'specimen_id': 478888052,\n",
       " 'tau': 19.3525924192,\n",
       " 'threshold_i_long_square': 110.0,\n",
       " 'threshold_i_ramp': 124.50001017299999,\n",
       " 'threshold_i_short_square': 0.0,\n",
       " 'threshold_t_long_square': 1.153065,\n",
       " 'threshold_t_ramp': 6.000883333330001,\n",
       " 'threshold_t_short_square': 1.0231125,\n",
       " 'threshold_v_long_square': -34.6875,\n",
       " 'threshold_v_ramp': -34.520834604899996,\n",
       " 'threshold_v_short_square': -42.6562519073,\n",
       " 'thumbnail_sweep_id': 478889876,\n",
       " 'trough_t_long_square': 1.21095,\n",
       " 'trough_t_ramp': 6.046945,\n",
       " 'trough_t_short_square': 1.2625375,\n",
       " 'trough_v_long_square': -52.5625,\n",
       " 'trough_v_ramp': -53.708337148000005,\n",
       " 'trough_v_short_square': -72.76562881470001,\n",
       " 'upstroke_downstroke_ratio_long_square': 3.11966505637,\n",
       " 'upstroke_downstroke_ratio_ramp': 3.0835326620599997,\n",
       " 'upstroke_downstroke_ratio_short_square': 3.06844870839,\n",
       " 'vm_for_sag': -85.9687576294,\n",
       " 'vrest': -72.38851165770001}"
      ]
     },
     "execution_count": 14,
     "metadata": {},
     "output_type": "execute_result"
    }
   ],
   "source": [
    "ephys_features_dict = ctc.get_ephys_features()\n",
    "ephys_features_dict[0]"
   ]
  },
  {
   "cell_type": "markdown",
   "metadata": {},
   "source": [
    "<div style=\"border-left: 3px solid #000; padding: 1px; padding-left: 10px; background: #F0FAFF; \">\n",
    "<p>\n",
    "Now we have a table (`df_tg_cells`) with all cells labeled by our three Cre lines. Next, we'll get ephys features for the cells in the Cell Types database and extract the properties for the cells in `df_tg_cells`.\n",
    "</p>\n",
    "</div>"
   ]
  },
  {
   "cell_type": "code",
   "execution_count": 15,
   "metadata": {
    "collapsed": false
   },
   "outputs": [
    {
     "data": {
      "text/html": [
       "<div>\n",
       "<table border=\"1\" class=\"dataframe\">\n",
       "  <thead>\n",
       "    <tr style=\"text-align: right;\">\n",
       "      <th></th>\n",
       "      <th>adaptation</th>\n",
       "      <th>avg_isi</th>\n",
       "      <th>electrode_0_pa</th>\n",
       "      <th>f_i_curve_slope</th>\n",
       "      <th>fast_trough_t_long_square</th>\n",
       "      <th>fast_trough_t_ramp</th>\n",
       "      <th>fast_trough_t_short_square</th>\n",
       "      <th>fast_trough_v_long_square</th>\n",
       "      <th>fast_trough_v_ramp</th>\n",
       "      <th>fast_trough_v_short_square</th>\n",
       "      <th>...</th>\n",
       "      <th>trough_t_ramp</th>\n",
       "      <th>trough_t_short_square</th>\n",
       "      <th>trough_v_long_square</th>\n",
       "      <th>trough_v_ramp</th>\n",
       "      <th>trough_v_short_square</th>\n",
       "      <th>upstroke_downstroke_ratio_long_square</th>\n",
       "      <th>upstroke_downstroke_ratio_ramp</th>\n",
       "      <th>upstroke_downstroke_ratio_short_square</th>\n",
       "      <th>vm_for_sag</th>\n",
       "      <th>vrest</th>\n",
       "    </tr>\n",
       "  </thead>\n",
       "  <tbody>\n",
       "    <tr>\n",
       "      <th>0</th>\n",
       "      <td>0.046079</td>\n",
       "      <td>97.0</td>\n",
       "      <td>23.7975</td>\n",
       "      <td>0.12464</td>\n",
       "      <td>1.156475</td>\n",
       "      <td>6.003742</td>\n",
       "      <td>1.025527</td>\n",
       "      <td>-42.000004</td>\n",
       "      <td>-42.354168</td>\n",
       "      <td>-46.335939</td>\n",
       "      <td>...</td>\n",
       "      <td>6.046945</td>\n",
       "      <td>1.262538</td>\n",
       "      <td>-52.5625</td>\n",
       "      <td>-53.708337</td>\n",
       "      <td>-72.765629</td>\n",
       "      <td>3.119665</td>\n",
       "      <td>3.083533</td>\n",
       "      <td>3.068449</td>\n",
       "      <td>-85.968758</td>\n",
       "      <td>-72.388512</td>\n",
       "    </tr>\n",
       "  </tbody>\n",
       "</table>\n",
       "<p>1 rows × 56 columns</p>\n",
       "</div>"
      ],
      "text/plain": [
       "   adaptation  avg_isi  electrode_0_pa  f_i_curve_slope  \\\n",
       "0    0.046079     97.0         23.7975          0.12464   \n",
       "\n",
       "   fast_trough_t_long_square  fast_trough_t_ramp  fast_trough_t_short_square  \\\n",
       "0                   1.156475            6.003742                    1.025527   \n",
       "\n",
       "   fast_trough_v_long_square  fast_trough_v_ramp  fast_trough_v_short_square  \\\n",
       "0                 -42.000004          -42.354168                  -46.335939   \n",
       "\n",
       "     ...     trough_t_ramp trough_t_short_square trough_v_long_square  \\\n",
       "0    ...          6.046945              1.262538             -52.5625   \n",
       "\n",
       "   trough_v_ramp  trough_v_short_square  \\\n",
       "0     -53.708337             -72.765629   \n",
       "\n",
       "   upstroke_downstroke_ratio_long_square  upstroke_downstroke_ratio_ramp  \\\n",
       "0                               3.119665                        3.083533   \n",
       "\n",
       "   upstroke_downstroke_ratio_short_square  vm_for_sag      vrest  \n",
       "0                                3.068449  -85.968758 -72.388512  \n",
       "\n",
       "[1 rows x 56 columns]"
      ]
     },
     "execution_count": 15,
     "metadata": {},
     "output_type": "execute_result"
    }
   ],
   "source": [
    "ephys_features_df = ctc.get_ephys_features(dataframe=True)\n",
    "ephys_features_df.head(1)"
   ]
  },
  {
   "cell_type": "markdown",
   "metadata": {},
   "source": [
    "<div style=\"border-left: 3px solid #000; padding: 1px; padding-left: 10px; background: #F0FAFF; \">\n",
    "\n",
    "### Merge `df_tg_cells` with `ephys_features_df`\n",
    "Critical information: \n",
    "* The merge operation will generate an expanded table (new columns) keyed to the specimen_id\n",
    "* The 'id' column of `df_tg_cells` corresponds to 'specimen_id' column of `ephys_features_df`\n",
    "* how = 'left' will include only cells in left dataframe\n",
    "* Following merge, each row (i.e. cell) now includes ephys features as additional columns"
   ]
  },
  {
   "cell_type": "markdown",
   "metadata": {},
   "source": [
    "<div style=\"border-left: 3px solid #000; padding: 1px; padding-left: 10px; background: #F0FAFF; \">\n",
    "\n",
    "<p>\n",
    "**Documentation:**\n",
    "[pandas.DataFrame.merge()](https://pandas.pydata.org/pandas-docs/stable/generated/pandas.DataFrame.merge.html)\n",
    "</p>\n",
    "</div>"
   ]
  },
  {
   "cell_type": "code",
   "execution_count": 16,
   "metadata": {
    "collapsed": false
   },
   "outputs": [
    {
     "data": {
      "text/plain": [
       "(113, 113)"
      ]
     },
     "execution_count": 16,
     "metadata": {},
     "output_type": "execute_result"
    }
   ],
   "source": [
    "df = pd.merge(df_tg_cells,ephys_features_df,left_on='id',right_on='specimen_id',how='left')\n",
    "len(df_tg_cells), len(df)"
   ]
  },
  {
   "cell_type": "markdown",
   "metadata": {},
   "source": [
    "<div style=\"border-left: 3px solid #000; padding: 1px; padding-left: 10px; background: #F0FAFF; \">\n",
    "<p>\n",
    "The dataframe `df` now includes metadata and ephys features for each cell\n",
    "</p>\n",
    "</div>"
   ]
  },
  {
   "cell_type": "code",
   "execution_count": 17,
   "metadata": {
    "collapsed": false
   },
   "outputs": [
    {
     "data": {
      "text/html": [
       "<div>\n",
       "<table border=\"1\" class=\"dataframe\">\n",
       "  <thead>\n",
       "    <tr style=\"text-align: right;\">\n",
       "      <th></th>\n",
       "      <th>apical</th>\n",
       "      <th>cell_prep_sample_id</th>\n",
       "      <th>cell_reporter</th>\n",
       "      <th>cell_reporter_id</th>\n",
       "      <th>cell_soma_locations</th>\n",
       "      <th>data</th>\n",
       "      <th>data_sets</th>\n",
       "      <th>dendrite_type</th>\n",
       "      <th>donor</th>\n",
       "      <th>donor_id</th>\n",
       "      <th>...</th>\n",
       "      <th>trough_t_ramp</th>\n",
       "      <th>trough_t_short_square</th>\n",
       "      <th>trough_v_long_square</th>\n",
       "      <th>trough_v_ramp</th>\n",
       "      <th>trough_v_short_square</th>\n",
       "      <th>upstroke_downstroke_ratio_long_square</th>\n",
       "      <th>upstroke_downstroke_ratio_ramp</th>\n",
       "      <th>upstroke_downstroke_ratio_short_square</th>\n",
       "      <th>vm_for_sag</th>\n",
       "      <th>vrest</th>\n",
       "    </tr>\n",
       "  </thead>\n",
       "  <tbody>\n",
       "    <tr>\n",
       "      <th>0</th>\n",
       "      <td>NA</td>\n",
       "      <td>None</td>\n",
       "      <td>{u'id': 491913822, u'name': u'cre reporter pos...</td>\n",
       "      <td>491913822</td>\n",
       "      <td>[{u'normalized_depth': 0.592588250717, u'speci...</td>\n",
       "      <td>None</td>\n",
       "      <td>[{u'name': u'T301-Ax.160426_01_B02_514824979',...</td>\n",
       "      <td>aspiny</td>\n",
       "      <td>{u'mgmt_ihc': None, u'donor_race_only_facet': ...</td>\n",
       "      <td>514081111</td>\n",
       "      <td>...</td>\n",
       "      <td>2.79076</td>\n",
       "      <td>1.483350</td>\n",
       "      <td>-51.093754</td>\n",
       "      <td>-50.437502</td>\n",
       "      <td>-74.296875</td>\n",
       "      <td>2.555152</td>\n",
       "      <td>2.625650</td>\n",
       "      <td>2.980522</td>\n",
       "      <td>-99.468750</td>\n",
       "      <td>-73.296921</td>\n",
       "    </tr>\n",
       "    <tr>\n",
       "      <th>1</th>\n",
       "      <td>NA</td>\n",
       "      <td>None</td>\n",
       "      <td>{u'id': 491913822, u'name': u'cre reporter pos...</td>\n",
       "      <td>491913822</td>\n",
       "      <td>[{u'normalized_depth': 0.0240655577418, u'spec...</td>\n",
       "      <td>None</td>\n",
       "      <td>[]</td>\n",
       "      <td>sparsely spiny</td>\n",
       "      <td>{u'mgmt_ihc': None, u'donor_race_only_facet': ...</td>\n",
       "      <td>526928924</td>\n",
       "      <td>...</td>\n",
       "      <td>6.44924</td>\n",
       "      <td>1.690957</td>\n",
       "      <td>-51.062504</td>\n",
       "      <td>-52.354170</td>\n",
       "      <td>-65.880213</td>\n",
       "      <td>3.023153</td>\n",
       "      <td>3.061118</td>\n",
       "      <td>2.408996</td>\n",
       "      <td>-81.531258</td>\n",
       "      <td>-65.245323</td>\n",
       "    </tr>\n",
       "  </tbody>\n",
       "</table>\n",
       "<p>2 rows × 93 columns</p>\n",
       "</div>"
      ],
      "text/plain": [
       "  apical cell_prep_sample_id  \\\n",
       "0     NA                None   \n",
       "1     NA                None   \n",
       "\n",
       "                                       cell_reporter  cell_reporter_id  \\\n",
       "0  {u'id': 491913822, u'name': u'cre reporter pos...         491913822   \n",
       "1  {u'id': 491913822, u'name': u'cre reporter pos...         491913822   \n",
       "\n",
       "                                 cell_soma_locations  data  \\\n",
       "0  [{u'normalized_depth': 0.592588250717, u'speci...  None   \n",
       "1  [{u'normalized_depth': 0.0240655577418, u'spec...  None   \n",
       "\n",
       "                                           data_sets   dendrite_type  \\\n",
       "0  [{u'name': u'T301-Ax.160426_01_B02_514824979',...          aspiny   \n",
       "1                                                 []  sparsely spiny   \n",
       "\n",
       "                                               donor   donor_id    ...      \\\n",
       "0  {u'mgmt_ihc': None, u'donor_race_only_facet': ...  514081111    ...       \n",
       "1  {u'mgmt_ihc': None, u'donor_race_only_facet': ...  526928924    ...       \n",
       "\n",
       "  trough_t_ramp  trough_t_short_square trough_v_long_square  trough_v_ramp  \\\n",
       "0       2.79076               1.483350           -51.093754     -50.437502   \n",
       "1       6.44924               1.690957           -51.062504     -52.354170   \n",
       "\n",
       "  trough_v_short_square upstroke_downstroke_ratio_long_square  \\\n",
       "0            -74.296875                              2.555152   \n",
       "1            -65.880213                              3.023153   \n",
       "\n",
       "  upstroke_downstroke_ratio_ramp  upstroke_downstroke_ratio_short_square  \\\n",
       "0                       2.625650                                2.980522   \n",
       "1                       3.061118                                2.408996   \n",
       "\n",
       "  vm_for_sag      vrest  \n",
       "0 -99.468750 -73.296921  \n",
       "1 -81.531258 -65.245323  \n",
       "\n",
       "[2 rows x 93 columns]"
      ]
     },
     "execution_count": 17,
     "metadata": {},
     "output_type": "execute_result"
    }
   ],
   "source": [
    "df.head(2)"
   ]
  },
  {
   "cell_type": "markdown",
   "metadata": {},
   "source": [
    "<div style=\"border-left: 3px solid #000; padding: 1px; padding-left: 10px; background: #F0FAFF; \">\n",
    "<p>Add column to `df` to store shorthand label for trangenic_line\n",
    "</p>\n",
    "</div>"
   ]
  },
  {
   "cell_type": "code",
   "execution_count": 18,
   "metadata": {
    "collapsed": true
   },
   "outputs": [],
   "source": [
    "df['tg_label'] = [x.split('-')[0] for x in df.transgenic_line.values]"
   ]
  },
  {
   "cell_type": "code",
   "execution_count": 19,
   "metadata": {
    "collapsed": false
   },
   "outputs": [
    {
     "data": {
      "text/plain": [
       "0    Htr3a\n",
       "1     Ndnf\n",
       "2      Vip\n",
       "3      Vip\n",
       "4    Htr3a\n",
       "Name: tg_label, dtype: object"
      ]
     },
     "execution_count": 19,
     "metadata": {},
     "output_type": "execute_result"
    }
   ],
   "source": [
    "df.tg_label.head()"
   ]
  },
  {
   "cell_type": "markdown",
   "metadata": {},
   "source": [
    "<div style=\"border-left: 3px solid #000; padding: 1px; padding-left: 10px; background: #F0FAFF; \">\n",
    "\n",
    "### Examining an electrophysiological feature\n",
    "\n",
    "Let's start by looking at something simple, like the input resistance (found in column `ri`). This reflects how much a cell will change its membrane potential for a given amount of current of current coming into the cell - cells with higher input resistances will experience a greater change in the membrane potential.\n",
    "\n",
    "Since we have the features in a `DataFrame`, we can use the pandas plotting function to visualize the data in a histogram."
   ]
  },
  {
   "cell_type": "code",
   "execution_count": 20,
   "metadata": {
    "collapsed": false
   },
   "outputs": [
    {
     "data": {
      "text/plain": [
       "<matplotlib.axes._subplots.AxesSubplot at 0x11949f110>"
      ]
     },
     "execution_count": 20,
     "metadata": {},
     "output_type": "execute_result"
    },
    {
     "data": {
      "image/png": "[encoded data removed]",
      "text/plain": [
       "<matplotlib.figure.Figure at 0x11933cb10>"
      ]
     },
     "metadata": {},
     "output_type": "display_data"
    }
   ],
   "source": [
    "df[df.tg_label=='Htr3a']['ri'].plot(kind=\"hist\", bins=np.linspace(0, 500, 25))"
   ]
  },
  {
   "cell_type": "markdown",
   "metadata": {},
   "source": [
    "<div style=\"border-left: 3px solid #000; padding: 1px; padding-left: 10px; background: #F0FAFF; \">\n",
    "\n",
    "<p>\n",
    "**Documentation:**\n",
    "[pandas.Series.plot()](https://pandas.pydata.org/pandas-docs/stable/generated/pandas.Series.plot.html)\n",
    "</p>\n",
    "</div>"
   ]
  },
  {
   "cell_type": "markdown",
   "metadata": {},
   "source": [
    "<div style=\"border-left: 3px solid #000; padding: 1px; padding-left: 10px; background: #F0FAFF; \">\n",
    "\n",
    "### Viewing individual cells\n",
    "\n",
    "The distribution looks multimodal - there is a peak around 100 MOhms and another around 250 MOhms.\n",
    "\n",
    "Let's split up those two peaks and look at views of some individual cells. On the website, we can summarize some of the electrophysiological and morphological properties of the cells with small thumbnail representations. These thumbnails are accessible via the website, as long as you have the cell's specimen ID.\n",
    "\n",
    "Not all cells have a morphological reconstruction; those that don't can't have a thumbnail. So we will need to only look at cells that have a reconstruction for this task."
   ]
  },
  {
   "cell_type": "code",
   "execution_count": 21,
   "metadata": {
    "collapsed": true
   },
   "outputs": [],
   "source": [
    "# These are the URLs for getting the thumbnails - we need to provide a specimen ID\n",
    "url_morph = \"http://celltypes.brain-map.org/mouse/thumbnail/morphology?id=\"\n",
    "url_ephys = \"http://celltypes.brain-map.org/mouse/thumbnail/ephys_trace?id=\"\n",
    "\n",
    "# We need these objects to view PNG files from the web inside the notebook\n",
    "from IPython.display import Image, display"
   ]
  },
  {
   "cell_type": "code",
   "execution_count": 22,
   "metadata": {
    "collapsed": false
   },
   "outputs": [
    {
     "data": {
      "text/html": [
       "<img src=\"http://celltypes.brain-map.org/mouse/thumbnail/ephys_trace?id=327962063\"/>"
      ],
      "text/plain": [
       "<IPython.core.display.Image object>"
      ]
     },
     "metadata": {},
     "output_type": "display_data"
    },
    {
     "name": "stdout",
     "output_type": "stream",
     "text": [
      "Has reconstruction? True\n"
     ]
    },
    {
     "data": {
      "text/html": [
       "<img src=\"http://celltypes.brain-map.org/mouse/thumbnail/morphology?id=327962063\"/>"
      ],
      "text/plain": [
       "<IPython.core.display.Image object>"
      ]
     },
     "metadata": {},
     "output_type": "display_data"
    }
   ],
   "source": [
    "# Let's get the specimen_id of the first cell in the dataframe.\n",
    "unit_id = 50\n",
    "specimen_id = df.specimen_id[unit_id]\n",
    "\n",
    "# ...and plot its ephys thumbnail\n",
    "url = url_ephys + str(specimen_id)\n",
    "display(Image(url=url))\n",
    "\n",
    "# We also can check whether it has a reconstruction...\n",
    "print \"Has reconstruction?\", df.has_reconstruction[unit_id]\n",
    "\n",
    "# ..and if so, show its morphology thumbnail\n",
    "\n",
    "if df.has_reconstruction[unit_id]:\n",
    "    url = url_morph + str(specimen_id)\n",
    "    display(Image(url=url))"
   ]
  },
  {
   "cell_type": "markdown",
   "metadata": {},
   "source": [
    "<div style=\"border-left: 3px solid #000; padding: 1px; padding-left: 10px; background: #F0FAFF; \">\n",
    "\n",
    "The reconstruction thumbnails show the reconstructed axons in blue and the dendrites in red. Not all neurons have their axons reconstructed, so a lack of blue doesn't usually mean the axon is actually small - it just means the data were not available. The morphology is shown to fill the thumbnail, and the histogram on the right shows where those processes fall in the full cortical depth (top is near the pia)."
   ]
  },
  {
   "cell_type": "markdown",
   "metadata": {},
   "source": [
    "<div style=\"background: #DFF0D8; border-radius: 3px; padding: 10px;\">\n",
    "<p>**Exercise 1.7:**</p>\n",
    "\n",
    "<p>Get the IDs of the Htr3a cells that both (1) have an input resistance below 150 MOhm and (2) have a morphological reconstruction. How many cells meet these criteria? Show the ephys and morphology thumbnails of those cells.\n",
    "</p>\n",
    "\n",
    "<p>When you get the results, look at the cells - which traces look similar to each other? Which are different from others? Is there any correspondence between the morphology and physiology? Can you imagine other features that may separate these cells?\n",
    "</div>"
   ]
  },
  {
   "cell_type": "code",
   "execution_count": 23,
   "metadata": {
    "collapsed": false
   },
   "outputs": [
    {
     "name": "stdout",
     "output_type": "stream",
     "text": [
      "Number of Htr3a non-aspiny cells with reconstructions: 8\n"
     ]
    }
   ],
   "source": [
    "# ANSWER \n",
    "\n",
    "df_sub = df[(df.tg_label=='Htr3a') & (df.has_reconstruction==True) & (df.ri<150)]\n",
    "print \"Number of Htr3a non-aspiny cells with reconstructions:\", len(df_sub)"
   ]
  },
  {
   "cell_type": "code",
   "execution_count": null,
   "metadata": {
    "collapsed": false,
    "scrolled": false
   },
   "outputs": [
    {
     "name": "stdout",
     "output_type": "stream",
     "text": [
      "481136138\n"
     ]
    },
    {
     "data": {
      "text/html": [
       "<img src=\"http://celltypes.brain-map.org/mouse/thumbnail/ephys_trace?id=481136138\"/>"
      ],
      "text/plain": [
       "<IPython.core.display.Image object>"
      ]
     },
     "metadata": {},
     "output_type": "display_data"
    },
    {
     "data": {
      "text/html": [
       "<img src=\"http://celltypes.brain-map.org/mouse/thumbnail/morphology?id=481136138\"/>"
      ],
      "text/plain": [
       "<IPython.core.display.Image object>"
      ]
     },
     "metadata": {},
     "output_type": "display_data"
    },
    {
     "name": "stdout",
     "output_type": "stream",
     "text": [
      "473943881\n"
     ]
    },
    {
     "data": {
      "text/html": [
       "<img src=\"http://celltypes.brain-map.org/mouse/thumbnail/ephys_trace?id=473943881\"/>"
      ],
      "text/plain": [
       "<IPython.core.display.Image object>"
      ]
     },
     "metadata": {},
     "output_type": "display_data"
    },
    {
     "data": {
      "text/html": [
       "<img src=\"http://celltypes.brain-map.org/mouse/thumbnail/morphology?id=473943881\"/>"
      ],
      "text/plain": [
       "<IPython.core.display.Image object>"
      ]
     },
     "metadata": {},
     "output_type": "display_data"
    },
    {
     "name": "stdout",
     "output_type": "stream",
     "text": [
      "478107198\n"
     ]
    },
    {
     "data": {
      "text/html": [
       "<img src=\"http://celltypes.brain-map.org/mouse/thumbnail/ephys_trace?id=478107198\"/>"
      ],
      "text/plain": [
       "<IPython.core.display.Image object>"
      ]
     },
     "metadata": {},
     "output_type": "display_data"
    },
    {
     "data": {
      "text/html": [
       "<img src=\"http://celltypes.brain-map.org/mouse/thumbnail/morphology?id=478107198\"/>"
      ],
      "text/plain": [
       "<IPython.core.display.Image object>"
      ]
     },
     "metadata": {},
     "output_type": "display_data"
    },
    {
     "name": "stdout",
     "output_type": "stream",
     "text": [
      "482644550\n"
     ]
    },
    {
     "data": {
      "text/html": [
       "<img src=\"http://celltypes.brain-map.org/mouse/thumbnail/ephys_trace?id=482644550\"/>"
      ],
      "text/plain": [
       "<IPython.core.display.Image object>"
      ]
     },
     "metadata": {},
     "output_type": "display_data"
    },
    {
     "data": {
      "text/html": [
       "<img src=\"http://celltypes.brain-map.org/mouse/thumbnail/morphology?id=482644550\"/>"
      ],
      "text/plain": [
       "<IPython.core.display.Image object>"
      ]
     },
     "metadata": {},
     "output_type": "display_data"
    },
    {
     "name": "stdout",
     "output_type": "stream",
     "text": [
      "482516216\n"
     ]
    },
    {
     "data": {
      "text/html": [
       "<img src=\"http://celltypes.brain-map.org/mouse/thumbnail/ephys_trace?id=482516216\"/>"
      ],
      "text/plain": [
       "<IPython.core.display.Image object>"
      ]
     },
     "metadata": {},
     "output_type": "display_data"
    },
    {
     "data": {
      "text/html": [
       "<img src=\"http://celltypes.brain-map.org/mouse/thumbnail/morphology?id=482516216\"/>"
      ],
      "text/plain": [
       "<IPython.core.display.Image object>"
      ]
     },
     "metadata": {},
     "output_type": "display_data"
    },
    {
     "name": "stdout",
     "output_type": "stream",
     "text": [
      "469753383\n"
     ]
    },
    {
     "data": {
      "text/html": [
       "<img src=\"http://celltypes.brain-map.org/mouse/thumbnail/ephys_trace?id=469753383\"/>"
      ],
      "text/plain": [
       "<IPython.core.display.Image object>"
      ]
     },
     "metadata": {},
     "output_type": "display_data"
    },
    {
     "data": {
      "text/html": [
       "<img src=\"http://celltypes.brain-map.org/mouse/thumbnail/morphology?id=469753383\"/>"
      ],
      "text/plain": [
       "<IPython.core.display.Image object>"
      ]
     },
     "metadata": {},
     "output_type": "display_data"
    },
    {
     "name": "stdout",
     "output_type": "stream",
     "text": [
      "464188580\n"
     ]
    },
    {
     "data": {
      "text/html": [
       "<img src=\"http://celltypes.brain-map.org/mouse/thumbnail/ephys_trace?id=464188580\"/>"
      ],
      "text/plain": [
       "<IPython.core.display.Image object>"
      ]
     },
     "metadata": {},
     "output_type": "display_data"
    },
    {
     "data": {
      "text/html": [
       "<img src=\"http://celltypes.brain-map.org/mouse/thumbnail/morphology?id=464188580\"/>"
      ],
      "text/plain": [
       "<IPython.core.display.Image object>"
      ]
     },
     "metadata": {},
     "output_type": "display_data"
    },
    {
     "name": "stdout",
     "output_type": "stream",
     "text": [
      "479220013\n"
     ]
    },
    {
     "data": {
      "text/html": [
       "<img src=\"http://celltypes.brain-map.org/mouse/thumbnail/ephys_trace?id=479220013\"/>"
      ],
      "text/plain": [
       "<IPython.core.display.Image object>"
      ]
     },
     "metadata": {},
     "output_type": "display_data"
    },
    {
     "data": {
      "text/html": [
       "<img src=\"http://celltypes.brain-map.org/mouse/thumbnail/morphology?id=479220013\"/>"
      ],
      "text/plain": [
       "<IPython.core.display.Image object>"
      ]
     },
     "metadata": {},
     "output_type": "display_data"
    }
   ],
   "source": [
    "# ANSWER \n",
    "\n",
    "for index, cell in df_sub.iterrows():\n",
    "    print cell.specimen_id\n",
    "    url = url_ephys + str(cell.specimen_id)\n",
    "    display(Image(url=url))\n",
    "    url = url_morph + str(cell.specimen_id)\n",
    "    display(Image(url=url))\n",
    "\n",
    "# Things they may observe - the more superficical, compact cells have similar firing patterns.\n",
    "# Fastest spiking cells are pretty compact but also deeper than the others\n",
    "# The bipolar-looking cell has a transient firing pattern, unlike the others"
   ]
  },
  {
   "cell_type": "markdown",
   "metadata": {},
   "source": [
    "<div style=\"border-left: 3px solid #000; padding: 1px; padding-left: 10px; background: #F0FAFF; \">\n",
    "\n",
    "### Comparing cell populations \n",
    "\n",
    "Let's see if the two peaks in the Htr3a input resistance distribution are consistent with the Vip+ and Ndnf+ subpopulations of Htr3a+ interneurons."
   ]
  },
  {
   "cell_type": "markdown",
   "metadata": {},
   "source": [
    "<div style=\"background: #DFF0D8; border-radius: 3px; padding: 10px;\">\n",
    "<p>**Exercise 1.8:**</p>\n",
    "\n",
    "<p>Compare the input resistance histograms of the Htr3a, Vip, and Ndnf cells. What relationship do you see? Can you think of ways of further investigating or refining this (very preliminary) analysis?\n",
    "</p>\n",
    "</div>"
   ]
  },
  {
   "cell_type": "code",
   "execution_count": null,
   "metadata": {
    "collapsed": false
   },
   "outputs": [],
   "source": [
    "# ANSWER\n",
    "\n",
    "fig, axes = plt.subplots(3, 1, figsize=(6, 8))\n",
    "\n",
    "pops = [\"Htr3a\", \"Vip\", \"Ndnf\"]\n",
    "\n",
    "for p, ax in zip(pops, axes):\n",
    "    df[df.tg_label==p][\"ri\"].plot(kind='hist', ax=ax, bins=np.linspace(0, 500, 25))\n",
    "    ax.set_ylabel(p)\n",
    "    ax.set_ylim(0, 15)\n",
    "    \n",
    "# Vip looks like the higher peak. Ndnf cells are likely lower.\n",
    "# Other ideas - look at other features, check the ephys thumbnails of Vip, Ndnf cells, etc."
   ]
  },
  {
   "cell_type": "markdown",
   "metadata": {},
   "source": [
    "<div style=\"border-left: 3px solid #000; padding: 1px; padding-left: 10px; background: #F0FAFF; \">\n",
    "\n",
    "### Exploring additional precomputed features\n",
    "\n",
    "The Cell Types database includes ~50 precomuted electrophysiological features for each cell. Some of these features are correlated with one another and this can be seen by making pairwise scatter plots."
   ]
  },
  {
   "cell_type": "code",
   "execution_count": null,
   "metadata": {
    "collapsed": false
   },
   "outputs": [],
   "source": [
    "ephys_features_df.columns"
   ]
  },
  {
   "cell_type": "markdown",
   "metadata": {},
   "source": [
    "<div style=\"border-left: 3px solid #000; padding: 1px; padding-left: 10px; background: #F0FAFF; \">\n",
    "\n",
    "Plot two features againts one another"
   ]
  },
  {
   "cell_type": "code",
   "execution_count": null,
   "metadata": {
    "collapsed": false
   },
   "outputs": [],
   "source": [
    "plt.plot(df['threshold_i_ramp'],df['ri'],'o')\n",
    "plt.xlabel('threshold_i_ramp')\n",
    "plt.ylabel('ri')"
   ]
  },
  {
   "cell_type": "markdown",
   "metadata": {},
   "source": [
    "<div style=\"border-left: 3px solid #000; padding: 1px; padding-left: 10px; background: #F0FAFF; \">\n",
    "\n",
    "Use **seaborn** package to easily make a grid of pairwise feature plots"
   ]
  },
  {
   "cell_type": "code",
   "execution_count": null,
   "metadata": {
    "collapsed": false
   },
   "outputs": [],
   "source": [
    "import seaborn as sns"
   ]
  },
  {
   "cell_type": "code",
   "execution_count": null,
   "metadata": {
    "collapsed": false,
    "scrolled": false
   },
   "outputs": [],
   "source": [
    "# List of features to include in pairwise grid\n",
    "features = ['adaptation',\n",
    "            'avg_isi',\n",
    "            'ri',\n",
    "            'vrest',\n",
    "            'threshold_i_ramp',\n",
    "            'slow_trough_t_long_square',\n",
    "            'tg_label']\n",
    "\n",
    "df_tmp = df[features]\n",
    "df_tmp = df_tmp.dropna() # Drop rows that include NaN value in any column\n",
    "sns.pairplot(df_tmp,hue='tg_label')"
   ]
  },
  {
   "cell_type": "markdown",
   "metadata": {},
   "source": [
    "<div style=\"background: #DFF0D8; border-radius: 3px; padding: 10px;\">\n",
    "<p>**Exercise 1.9:**</p>\n",
    "\n",
    "<p>Make a new dataframe that contains cell data for the entire database (hint: merge `df_cells` with `ephys_features_df`). Make a scatter plot of features with 'spiny' and 'aspiny' cells shown in different colors. There are ~50 precomputed features to choose from--as starting point plot pairwise combinations of these features:\n",
    "<ul>\n",
    "<li>upstroke_downstroke_ratio_ramp</li>\n",
    "<li>ri</li>\n",
    "<li>threshold_i_ramp</li>\n",
    "<li>slow_trough_t_long_square</li>\n",
    "<li>log_avg_isi (Derive this new feature by adding a column to the dataframe and storing the computation log(avg_isi))</li></ul>\n",
    "</p>\n",
    "</div>"
   ]
  },
  {
   "cell_type": "code",
   "execution_count": null,
   "metadata": {
    "collapsed": false
   },
   "outputs": [],
   "source": [
    "# ANSWER \n",
    "\n",
    "df2 = pd.merge(df_cells,ephys_features_df,left_on='id',right_on='specimen_id',how='left')\n",
    "df2 = df2[df2.dendrite_type.isin(['spiny','aspiny'])]\n",
    "df2['log_avg_isi'] = np.log(df2.avg_isi)\n",
    "\n",
    "features = ['upstroke_downstroke_ratio_ramp',\n",
    "            'ri',\n",
    "            'log_avg_isi',\n",
    "            'threshold_i_ramp',\n",
    "            'slow_trough_t_long_square',\n",
    "            'dendrite_type']\n",
    "\n",
    "df_tmp = df2[features]\n",
    "df_tmp = df_tmp.dropna()\n",
    "sns.pairplot(df_tmp,hue='dendrite_type')"
   ]
  },
  {
   "cell_type": "markdown",
   "metadata": {},
   "source": [
    "<div style=\"border-left: 3px solid #000; padding: 1px; padding-left: 10px; background: #F0FAFF; \">\n",
    "<h2>2. Analyzing electrophysiology sweeps</h2>\n",
    "\n",
    "<p>\n",
    "Now we'll look at a different class of interneurons - the somatostatin-positive (Sst) cells. As we've seen, there are many features pre-calculated in the Allen Cell Types Database, but it may not have everything we're interested in looking at from the original data. For example, let's look at two Sst cells where we think we see a difference in the shape of the membrane potential response in between action potentials.\n",
    "</p>"
   ]
  },
  {
   "cell_type": "code",
   "execution_count": null,
   "metadata": {
    "collapsed": false
   },
   "outputs": [],
   "source": [
    "example_sst_ids = [475049291, 313862274]\n",
    "for specimen_id in example_sst_ids:\n",
    "    print specimen_id\n",
    "    url = url_ephys + str(specimen_id)\n",
    "    display(Image(url=url))"
   ]
  },
  {
   "cell_type": "markdown",
   "metadata": {},
   "source": [
    "<div style=\"border-left: 3px solid #000; padding: 1px; padding-left: 10px; background: #F0FAFF; \">\n",
    "\n",
    "<p>\n",
    "We may not have a feature that illustrates this difference in the \"sharpness\" of the interspike interval shape. If we want to calculate other electrophysiology features, we'll need to look at where the data are stored - the NWB (Neurodata Without Borders) files. Each recorded cell has its own NWB file.\n",
    "</p>\n",
    "</div>"
   ]
  },
  {
   "cell_type": "code",
   "execution_count": null,
   "metadata": {
    "collapsed": false
   },
   "outputs": [],
   "source": [
    "cells = ctc.get_cells(reporter_status=[\"cre reporter positive\"])"
   ]
  },
  {
   "cell_type": "code",
   "execution_count": null,
   "metadata": {
    "collapsed": true
   },
   "outputs": [],
   "source": [
    "## this saves the NWB file to 'specimen_464212183/ephys.nwb' (or just gives a handle if you already saved it)\n",
    "specimen_id = 464212183\n",
    "data_set = ctc.get_ephys_data(specimen_id)"
   ]
  },
  {
   "cell_type": "markdown",
   "metadata": {},
   "source": [
    "<div style=\"border-left: 3px solid #000; padding: 1px; padding-left: 10px; background: #F0FAFF; \">\n",
    "\n",
    "<p>\n",
    "**Documentation:**\n",
    "[CellTypesCache](http://alleninstitute.github.io/AllenSDK/allensdk.core.html#allensdk.core.cell_types_cache.CellTypesCache),\n",
    "[CellTypesCache.get_ephys_data()](http://alleninstitute.github.io/AllenSDK/allensdk.core.html#allensdk.core.cell_types_cache.CellTypesCache.get_ephys_data)\n",
    "</p>"
   ]
  },
  {
   "cell_type": "markdown",
   "metadata": {},
   "source": [
    "<div style=\"border-left: 3px solid #000; padding: 1px; padding-left: 10px; background: #F0FAFF; \">\n",
    "\n",
    "<p>\n",
    "The electrophysiological data in a Cell Types NWB file is organized by \"sweeps.\" These sweeps represent specific periods during which a single stimulus is applied to the cell and the response is recorded. Different types of stimuli can be applied to the cell, and similar stimuli are grouped by type on the web app. For example, one-second long step current injections are grouped together under the name \"Long Squares.\" We refer to sweeps by their number, which are integers indicating the order in which the sweeps were collected.</p>\n",
    "\n",
    "<p>\n",
    "There are typically periods of time during an experiment between sweeps; this may be due to the experimentalist making some on-line adjustments, or may be intentional to allow the cell to return to some baseline after an intense stimulus. </p>\n",
    "\n",
    "<p>\n",
    "Returning to the example, we now have an object called `data_set` that provides access to the data in the NWB file through built-in methods. We can access sweep-level data like this:</p>\n",
    "</div>"
   ]
  },
  {
   "cell_type": "code",
   "execution_count": null,
   "metadata": {
    "collapsed": true
   },
   "outputs": [],
   "source": [
    "sweep_number = 30\n",
    "sweep_data = data_set.get_sweep(sweep_number)"
   ]
  },
  {
   "cell_type": "markdown",
   "metadata": {},
   "source": [
    "<div style=\"border-left: 3px solid #000; padding: 1px; padding-left: 10px; background: #F0FAFF; \">\n",
    "<p>**Documentation:**\n",
    "[NwbDataSet](http://alleninstitute.github.io/AllenSDK/allensdk.core.html#allensdk.core.nwb_data_set.NwbDataSet), [NwbDataSet.get_sweep()](http://alleninstitute.github.io/AllenSDK/allensdk.core.html#allensdk.core.nwb_data_set.NwbDataSet.get_sweep)\n",
    "</p>\n",
    "</div>"
   ]
  },
  {
   "cell_type": "markdown",
   "metadata": {},
   "source": [
    "<div style=\"background: #DFF0D8; border-radius: 3px; padding: 10px;\">\n",
    "<p>**Exercise 2.1:**</p>\n",
    "\n",
    "<p>`data_set.get_sweep()` returns a dict with several key/value pairs. What are the data types of these values?</p>\n",
    "\n",
    "</div>"
   ]
  },
  {
   "cell_type": "code",
   "execution_count": null,
   "metadata": {
    "collapsed": false
   },
   "outputs": [],
   "source": [
    "# ANSWER\n",
    "\n",
    "for k, v in sweep_data.iteritems():\n",
    "    print k, type(v)"
   ]
  },
  {
   "cell_type": "markdown",
   "metadata": {},
   "source": [
    "<div style=\"border-left: 3px solid #000; padding: 1px; padding-left: 10px; background: #F0FAFF; \">\n",
    "\n",
    "<h3>Getting sweeps from an NWB file</h3>\n",
    "\n",
    "<p>Most of the sweeps in the Cell Types Database are recorded in current-clamp mode, meaning that a current stimulus is injected into the recorded cell, and a voltage response is recorded. The current data is stored in the NWB file in amperes, and the voltage data is in volts. However, it is usually more convenient to work with the data in picoamps and millivolts.</p>\n",
    "</div>"
   ]
  },
  {
   "cell_type": "markdown",
   "metadata": {},
   "source": [
    "<div style=\"background: #DFF0D8; border-radius: 3px; padding: 10px;\">\n",
    "<p>**Exercise 2.2:**</p>\n",
    "\n",
    "<p>Write code to put the stimulus (current) and response (voltage) from the sweep into variables `i` and `v`, respectively. Convert their units to pA and mV (the raw data are expressed in unscaled units).</p>\n",
    "</div>"
   ]
  },
  {
   "cell_type": "code",
   "execution_count": null,
   "metadata": {
    "collapsed": true
   },
   "outputs": [],
   "source": [
    "# ANSWER\n",
    "\n",
    "i = sweep_data[\"stimulus\"] * 1e12\n",
    "v = sweep_data[\"response\"] * 1e3"
   ]
  },
  {
   "cell_type": "markdown",
   "metadata": {},
   "source": [
    "<div style=\"border-left: 3px solid #000; padding: 1px; padding-left: 10px; background: #F0FAFF; \">\n",
    "\n",
    "The time points are not included in the NWB file as a waveform, but we can generate one based on the sampling rate:\n",
    "</div>"
   ]
  },
  {
   "cell_type": "code",
   "execution_count": null,
   "metadata": {
    "collapsed": true
   },
   "outputs": [],
   "source": [
    "sampling_rate = sweep_data[\"sampling_rate\"] # in Hz"
   ]
  },
  {
   "cell_type": "markdown",
   "metadata": {},
   "source": [
    "<div style=\"background: #DFF0D8; border-radius: 3px; padding: 10px;\">\n",
    "<p>**Exercise 2.3:**</p>\n",
    "\n",
    "<p>Create a new array `t` that is the same length as `v` and `i` and contains the correct time points (in seconds) according to the sampling rate.</p>\n",
    "\n",
    "<p>See: [numpy.arange()](http://docs.scipy.org/doc/numpy/reference/generated/numpy.arange.html)</p>\n",
    "</div>"
   ]
  },
  {
   "cell_type": "code",
   "execution_count": null,
   "metadata": {
    "collapsed": true
   },
   "outputs": [],
   "source": [
    "t = np.arange(len(v)) * 1. / sampling_rate"
   ]
  },
  {
   "cell_type": "markdown",
   "metadata": {
    "collapsed": true
   },
   "source": [
    "<div style=\"border-left: 3px solid #000; padding: 1px; padding-left: 10px; background: #F0FAFF; \">\n",
    "\n",
    "Finally, we can plot the data to see what it looks like.\n",
    "</div>"
   ]
  },
  {
   "cell_type": "code",
   "execution_count": null,
   "metadata": {
    "collapsed": false
   },
   "outputs": [],
   "source": [
    "fig, axes = plt.subplots(2, 1, sharex=True)\n",
    "axes[0].plot(t, v, color='black')\n",
    "axes[1].plot(t, i, color='gray')\n",
    "axes[0].set(ylabel=\"mV\")\n",
    "axes[1].set(ylabel=\"pA\", xlabel=\"seconds\")"
   ]
  },
  {
   "cell_type": "markdown",
   "metadata": {},
   "source": [
    "<div style=\"border-left: 3px solid #000; padding: 1px; padding-left: 10px; background: #F0FAFF; \">\n",
    "\n",
    "<h3>Calculating features of the ephys data</h3>\n",
    "\n",
    "<p>\n",
    "Plotting the data is great, but if we want to do some analysis on things like spike times, spike shapes, etc., we want to go through and extract these features from our raw data. This can be accomplished by using the feature extraction tools in the SDK.</p>\n",
    "</div>"
   ]
  },
  {
   "cell_type": "code",
   "execution_count": null,
   "metadata": {
    "collapsed": false
   },
   "outputs": [],
   "source": [
    "from allensdk.ephys.ephys_extractor import EphysSweepFeatureExtractor\n",
    "\n",
    "# This finds and analyzes features of spikes\n",
    "sweep_ext = EphysSweepFeatureExtractor(t=t, v=v, i=i, start=1.02, end=2.02)\n",
    "sweep_ext.process_spikes()\n",
    "\n",
    "# We can pull out some information from the sweep_ext object once that processing is done\n",
    "print \"Avg spike threshold: {:.1f} mV\".format(sweep_ext.spike_feature(\"threshold_v\").mean())\n",
    "print \"Avg spike width: {:.2f} ms\".format(1e3 * np.nanmean(sweep_ext.spike_feature(\"width\")))"
   ]
  },
  {
   "cell_type": "markdown",
   "metadata": {},
   "source": [
    "<div style=\"border-left: 3px solid #000; padding: 1px; padding-left: 10px; background: #F0FAFF; \">\n",
    "**Documentation:**\n",
    "[EphysSweepFeatureExtractor](http://alleninstitute.github.io/AllenSDK/allensdk.ephys.html#allensdk.ephys.ephys_extractor.EphysSweepFeatureExtractor)\n",
    "</div>"
   ]
  },
  {
   "cell_type": "markdown",
   "metadata": {},
   "source": [
    "<div style=\"border-left: 3px solid #000; padding: 1px; padding-left: 10px; background: #F0FAFF; \">\n",
    "\n",
    "The method `spike_feature()` returns a NumPy array of features for each spike. You pass it the name of the feature that you want. Features that can't be calculated for a given spike are set to `NaN`.\n",
    "\n",
    "We can take a look at all the properties calculated for each spike by the extractor:</div>"
   ]
  },
  {
   "cell_type": "code",
   "execution_count": null,
   "metadata": {
    "collapsed": false
   },
   "outputs": [],
   "source": [
    "sweep_ext.spike_feature_keys()"
   ]
  },
  {
   "cell_type": "markdown",
   "metadata": {},
   "source": [
    "<div style=\"border-left: 3px solid #000; padding: 1px; padding-left: 10px; background: #F0FAFF; \">\n",
    "\n",
    "We can look at when the spikes occur by looking at the `threshold_t` property (i.e., time of spike threshold).</div>"
   ]
  },
  {
   "cell_type": "code",
   "execution_count": null,
   "metadata": {
    "collapsed": false
   },
   "outputs": [],
   "source": [
    "spike_times = sweep_ext.spike_feature(\"threshold_t\")\n",
    "\n",
    "print spike_times[:5]  # print just the first 5 spike times"
   ]
  },
  {
   "cell_type": "markdown",
   "metadata": {},
   "source": [
    "<div style=\"border-left: 3px solid #000; padding: 1px; padding-left: 10px; background: #F0FAFF; \">\n",
    "\n",
    "Spike times and numbers of spikes are actually something that have already been calculated and stored elsewhere - if you're looking to get numbers of spikes for a big set of cells and/or sweeps, it's probably faster to get them via the database rather than re-calculating them all.</div>"
   ]
  },
  {
   "cell_type": "code",
   "execution_count": null,
   "metadata": {
    "collapsed": false
   },
   "outputs": [],
   "source": [
    "# Get a dictionary of data about each sweep\n",
    "sweep_info = ctc.get_ephys_sweeps(specimen_id)\n",
    "sweep_info[0]"
   ]
  },
  {
   "cell_type": "code",
   "execution_count": null,
   "metadata": {
    "collapsed": true
   },
   "outputs": [],
   "source": [
    "# Find the sweeps that use the \"Long Square\" protocol\n",
    "ls_sweeps = [s for s in sweep_info\n",
    "             if s[\"stimulus_name\"] == \"Long Square\"]"
   ]
  },
  {
   "cell_type": "code",
   "execution_count": null,
   "metadata": {
    "collapsed": false
   },
   "outputs": [],
   "source": [
    "# Print the number of spikes and stimulus amplitude\n",
    "for sweep in ls_sweeps:\n",
    "    print np.round(sweep[\"stimulus_absolute_amplitude\"]), sweep[\"num_spikes\"]"
   ]
  },
  {
   "cell_type": "markdown",
   "metadata": {},
   "source": [
    "<div style=\"border-left: 3px solid #000; padding: 1px; padding-left: 10px; background: #F0FAFF; \">\n",
    "\n",
    "<p>\n",
    "**Documentation:**\n",
    "[CellTypesCache.get_ephys_sweeps()](http://alleninstitute.github.io/AllenSDK/allensdk.core.html#allensdk.core.cell_types_cache.CellTypesCache.get_ephys_sweeps)\n",
    "</p>\n",
    "</div>"
   ]
  },
  {
   "cell_type": "markdown",
   "metadata": {},
   "source": [
    "<div style=\"border-left: 3px solid #000; padding: 1px; padding-left: 10px; background: #F0FAFF; \">\n",
    "\n",
    "<h3>Getting the interspike interval (ISI) membrane potential shape for Sst cells</h3>\n",
    "\n",
    "<p>Now we have the tools we need to derive ISI membrane potential information from our Sst (Cre line name: Sst-IRES-Cre) cells.</p>\n",
    "\n",
    "<p>Let's start by getting the cell IDs for Sst cells from the complete list of `cells`.</p>\n",
    "\n",
    "</div>"
   ]
  },
  {
   "cell_type": "markdown",
   "metadata": {},
   "source": [
    "<div style=\"background: #DFF0D8; border-radius: 3px; padding: 10px;\">\n",
    "<p>**Exercise 2.4:**</p>\n",
    "\n",
    "<p>Store the IDs of the non-spiny, Sst+ cells in a list called `sst_ids`. How many Sst cells are there?</p>\n",
    "\n",
    "</div>"
   ]
  },
  {
   "cell_type": "code",
   "execution_count": null,
   "metadata": {
    "collapsed": false
   },
   "outputs": [],
   "source": [
    "# ANSWER\n",
    "\n",
    "sst_ids = [c[\"id\"] for c in cells\n",
    "                       if c[\"transgenic_line\"] == \"Sst-IRES-Cre\" and\n",
    "                       c[\"dendrite_type\"] != \"spiny\"]\n",
    "\n",
    "print len(sst_ids)"
   ]
  },
  {
   "cell_type": "markdown",
   "metadata": {},
   "source": [
    "<div style=\"border-left: 3px solid #000; padding: 1px; padding-left: 10px; background: #F0FAFF; \">\n",
    "\n",
    "\n",
    "<p>The shape of the ISI can change depending on how fast the cell is firing, so if we want to be consistent across cells, we should look for sweeps of a similar firing rate. But what level should that be?</p>\n",
    "\n",
    "<p>We can look to the data to give us some idea.</p>\n",
    "\n",
    "</div>"
   ]
  },
  {
   "cell_type": "markdown",
   "metadata": {},
   "source": [
    "<div style=\"border-left: 3px solid #000; padding: 1px; padding-left: 10px; background: #F0FAFF; \">\n",
    "\n",
    "\n",
    "<p>For the first cell in the `sst_ids` list, plot the number of spikes against the stimulus amplitude for the sweeps that:</p>\n",
    "\n",
    "<ul>\n",
    "<li>Are \"Long Square\" type\n",
    "<li>Have a positive stimulus amplitude\n",
    "<li>Have at least one spike\n",
    "</ul>\n",
    "</div>"
   ]
  },
  {
   "cell_type": "code",
   "execution_count": null,
   "metadata": {
    "collapsed": false
   },
   "outputs": [],
   "source": [
    "example_id = sst_ids[20]\n",
    "dataset = ctc.get_ephys_data(example_id)\n",
    "\n",
    "sweep_info = ctc.get_ephys_sweeps(example_id)\n",
    "\n",
    "ls_sweeps = [s for s in sweep_info\n",
    "             if s[\"stimulus_name\"] == \"Long Square\"\n",
    "             and s[\"num_spikes\"] > 0\n",
    "             and s[\"stimulus_absolute_amplitude\"] > 0]\n",
    "\n",
    "amps = [np.round(s[\"stimulus_absolute_amplitude\"]) for s in ls_sweeps]\n",
    "amps -= np.min(amps) # Align data to minimum stimulus that evokes a response\n",
    "n_spikes = [s[\"num_spikes\"] for s in ls_sweeps]\n",
    "\n",
    "plt.plot(amps, n_spikes, 'o')"
   ]
  },
  {
   "cell_type": "markdown",
   "metadata": {},
   "source": [
    "<div style=\"background: #DFF0D8; border-radius: 3px; padding: 10px;\">\n",
    "<p>**Exercise 2.6:**</p>\n",
    "\n",
    "<p>Now, do the same thing for every Sst cell, and plot them all on the same plot. Use transparency (`alpha`) to help with overlaying so much data.\n",
    "</div>"
   ]
  },
  {
   "cell_type": "code",
   "execution_count": null,
   "metadata": {
    "collapsed": false
   },
   "outputs": [],
   "source": [
    "# ANSWER\n",
    "\n",
    "for specimen_id in sst_ids:\n",
    "    dataset = ctc.get_ephys_data(specimen_id)\n",
    "    sweep_info = ctc.get_ephys_sweeps(specimen_id)\n",
    "\n",
    "    ls_sweeps = [s for s in sweep_info\n",
    "                 if s[\"stimulus_name\"] == \"Long Square\"\n",
    "                 and s[\"num_spikes\"] > 0\n",
    "                 and s[\"stimulus_absolute_amplitude\"] > 0]\n",
    "\n",
    "    # We are rounding because the floating point values can be weird\n",
    "    # and we know that the amplitudes are integer-valued\n",
    "    amps = [np.round(s[\"stimulus_absolute_amplitude\"]) for s in ls_sweeps]\n",
    "    \n",
    "    # I don't know why this would be true but it seems like it\n",
    "    # happens for some cell on the hard drive from last year\n",
    "    if len(amps) < 1: \n",
    "        continue\n",
    "\n",
    "    amps -= np.min(amps)\n",
    "\n",
    "    n_spikes = [s[\"num_spikes\"] for s in ls_sweeps]\n",
    "\n",
    "    plt.plot(amps, n_spikes, 'o', c='k', alpha=0.2)\n",
    "    \n",
    "    plt.ylim(-1,100)\n",
    "    plt.xlim(-5,165)\n",
    "    plt.xlabel('delta stimulus amplitude')\n",
    "    plt.ylabel('number of spikes')"
   ]
  },
  {
   "cell_type": "markdown",
   "metadata": {},
   "source": [
    "<div style=\"background: #DFF0D8; border-radius: 3px; padding: 10px;\">\n",
    "<p>**Exercise 2.7:**</p>\n",
    "\n",
    "<p>Create a `dict` called `sweep_matches` and populate it with the sweep_number of the long square sweep that has a firing rate closest to 10 spikes/sec (use the specimen ID as the key).</p>\n",
    "<p>However, don't include any sweeps that have less than 3 spikes (so for each sweep have at least 2 ISI events to average).</p></div>"
   ]
  },
  {
   "cell_type": "code",
   "execution_count": null,
   "metadata": {
    "collapsed": true
   },
   "outputs": [],
   "source": [
    "# Answer\n",
    "\n",
    "target_rate = 10\n",
    "\n",
    "sweep_matches = {}\n",
    "\n",
    "for specimen_id in sst_ids:\n",
    "    sweep_info = ctc.get_ephys_sweeps(specimen_id)\n",
    "\n",
    "    ls_sweeps = [s for s in sweep_info\n",
    "                 if s[\"stimulus_name\"] == \"Long Square\"\n",
    "                 and s[\"num_spikes\"] > 0\n",
    "                 and s[\"stimulus_absolute_amplitude\"] > 0]\n",
    "    \n",
    "    # Again, some problem cell on the hard drive\n",
    "    if len(ls_sweeps) < 1:\n",
    "        continue\n",
    "    \n",
    "    spike_rates = np.array([s[\"num_spikes\"] for s in ls_sweeps])\n",
    "    spike_rate_delta = np.abs(spike_rates - target_rate)\n",
    "    match_index = np.argmin(spike_rate_delta)\n",
    "    if ls_sweeps[match_index][\"num_spikes\"] < 3:\n",
    "        continue\n",
    "    sweep_matches[specimen_id] = ls_sweeps[match_index][\"sweep_number\"]\n"
   ]
  },
  {
   "cell_type": "markdown",
   "metadata": {},
   "source": [
    "<div style=\"border-left: 3px solid #000; padding: 1px; padding-left: 10px; background: #F0FAFF; \">\n",
    "\n",
    "<p>\n",
    "**Documentation:**\n",
    "[numpy.abs()](https://docs.scipy.org/doc/numpy/reference/generated/numpy.absolute.html), [numpy.argmin()](https://docs.scipy.org/doc/numpy/reference/generated/numpy.argmin.html)\n",
    "</p>\n",
    "</div>"
   ]
  },
  {
   "cell_type": "markdown",
   "metadata": {},
   "source": [
    "<div style=\"border-left: 3px solid #000; padding: 1px; padding-left: 10px; background: #F0FAFF; \">\n",
    "\n",
    "\n",
    "<p>We can now use the feature extractor to find the features of the spikes that will let us identify the interspike intervals. We'll define it as extending from the end of a spike (found in the feature called \"`fast_trough_index`\")  and the beginning of the next spike (found in the feature called \"`threshold_index`\".</p>\n",
    "\n",
    "<p>\n",
    "Here's a function that will calculate the average ISI. Look it over carefully and try to figure out what is happening at each step.</p>\n",
    "</div>"
   ]
  },
  {
   "cell_type": "code",
   "execution_count": null,
   "metadata": {
    "collapsed": true
   },
   "outputs": [],
   "source": [
    "from scipy import stats\n",
    "\n",
    "def average_isi_trajectory(dataset, sweep_num, n_points=100):\n",
    "    \"\"\"Average the membrane potential trajectory between spikes\n",
    "    \n",
    "    Parameters\n",
    "    ----------\n",
    "    dataset: NwbDataSet\n",
    "        Data set with the ephys sweeps\n",
    "    sweep: int\n",
    "        Sweep number\n",
    "    n_points: int\n",
    "        Number of points for the resampled trace (default 100)\n",
    "        \n",
    "    Returns\n",
    "    -------\n",
    "    avg_isi: ndarray\n",
    "        Averaged interspike interval membrane potential\n",
    "    \"\"\"\n",
    "    sweep = dataset.get_sweep(sweep_num)\n",
    "    \n",
    "    # Extract the data from the sweep\n",
    "    v = sweep[\"response\"] * 1e3 # to mV\n",
    "    t = np.arange(len(v)) / sweep[\"sampling_rate\"] # in seconds\n",
    "    \n",
    "    # For Long Squares, the stimulus begins at 1.02 s and ends at 2.02 s\n",
    "    ext = EphysSweepFeatureExtractor(v=v, t=t, start=1.02, end=2.02)\n",
    "    \n",
    "    # TODO: there's a bug in the SDK extractor we need to track down\n",
    "    try:\n",
    "        ext.process_spikes()\n",
    "    except:\n",
    "        return None\n",
    "    \n",
    "    # Get the starts and ends of the spikes\n",
    "    threshold_indexes = ext.spike_feature(\"threshold_index\").astype(int)\n",
    "    fast_trough_indexes = ext.spike_feature(\"fast_trough_index\").astype(int)\n",
    "\n",
    "    # We'll store the arrays in a list so we can average them afterwards\n",
    "    isis = [] \n",
    "    \n",
    "    # Get the end of a spike and the start of the next one spike\n",
    "    # Note the offsets in indexing of the fast_trough_indexes and threshold_indexes\n",
    "    # We're using zip() to pair up the appropriate values\n",
    "    for start, end in zip(fast_trough_indexes[:-1], threshold_indexes[1:]):\n",
    "        v_slice = v[start:end]\n",
    "        t_slice = t[start:end]\n",
    "        \n",
    "        # We use scipy.stats.binned_statistic() to resample to n_points\n",
    "        binned, _, _ = stats.binned_statistic(t_slice, v_slice, bins=n_points)\n",
    "        isis.append(binned)\n",
    "    \n",
    "    # We put the different ISIs on top of each other with np.vstack()\n",
    "    # then average down the column with mean(axis=0)\n",
    "    avg_isi = np.vstack(isis).mean(axis=0)\n",
    "    return avg_isi\n"
   ]
  },
  {
   "cell_type": "markdown",
   "metadata": {},
   "source": [
    "<div style=\"border-left: 3px solid #000; padding: 1px; padding-left: 10px; background: #F0FAFF; \">\n",
    "\n",
    "<p>\n",
    "**Documentation:**\n",
    "[zip()](https://docs.python.org/2/library/functions.html#zip), [scipy.stats.binned_statistic()](https://docs.scipy.org/doc/scipy-0.19.0/reference/generated/scipy.stats.binned_statistic.html),\n",
    "[numpy.vstack()](https://docs.scipy.org/doc/numpy/reference/generated/numpy.vstack.html)\n",
    "</p>\n",
    "</div>"
   ]
  },
  {
   "cell_type": "markdown",
   "metadata": {},
   "source": [
    "<div style=\"background: #DFF0D8; border-radius: 3px; padding: 10px;\">\n",
    "<p>**Exercise 2.8:**</p>\n",
    "\n",
    "<p>Use the above function to populate a `dict` called `isi_traces` (keyed on specimen IDs) with the average ISI from the sweeps in `sweep_matches`. Plot them on top of each other (use transparency to help with overplotting).</p></div>"
   ]
  },
  {
   "cell_type": "code",
   "execution_count": null,
   "metadata": {
    "collapsed": false
   },
   "outputs": [],
   "source": [
    "# ANSWER\n",
    "\n",
    "isi_traces = {}\n",
    "for specimen_id, sweep_num in sweep_matches.iteritems():\n",
    "    dataset = ctc.get_ephys_data(specimen_id)\n",
    "    avg_isi = average_isi_trajectory(dataset, sweep_num,n_points=100)\n",
    "    if avg_isi is not None:\n",
    "        isi_traces[specimen_id] = avg_isi\n",
    "    \n",
    "for avg_isi in isi_traces.values():\n",
    "    plt.plot(avg_isi, c=\"k\", alpha=0.1)"
   ]
  },
  {
   "cell_type": "markdown",
   "metadata": {},
   "source": [
    "<div style=\"background: #DFF0D8; border-radius: 3px; padding: 10px;\">\n",
    "<p>**Exercise 2.10:**</p>\n",
    "\n",
    "<p>You may be able to see some differences in the ISI shape, but, again, aligning the data may improve your ability to see patterns. Plot these traces again, but normalize the voltage so that they all start at 0 and end at 1.</p></div>"
   ]
  },
  {
   "cell_type": "code",
   "execution_count": null,
   "metadata": {
    "collapsed": false
   },
   "outputs": [],
   "source": [
    "# ANSWER\n",
    "n_avg = []\n",
    "for avg_isi in isi_traces.values():\n",
    "    norm_avg_isi = (avg_isi - avg_isi[0]) / (avg_isi[-1] - avg_isi[0])\n",
    "    n_avg.append(norm_avg_isi)\n",
    "    plt.plot(norm_avg_isi, c=\"k\", alpha=0.1)\n",
    "    \n",
    "n_avg = np.array(n_avg)\n",
    "\n",
    "plt.ylim(-0.1,1.1)"
   ]
  },
  {
   "cell_type": "markdown",
   "metadata": {},
   "source": [
    "<div style=\"background: #DFF0D8; border-radius: 3px; padding: 10px;\">\n",
    "<p>**Exercise 2.9:**</p>\n",
    "\n",
    "<p>This is the last exercise, and it is intentionally open-ended.</p>\n",
    "\n",
    "<p>Try to think of a feature (i.e. a number or maybe a set of numbers) that would capture the differences you see in the ISI shape. You may need to do something like average a particular interval or take the derivative of the trace.</p>\n",
    "\n",
    "<p>Implement your feature calculation in a function and apply it to the traces. See if it separates the cells as you think it should - you can plot the ephys thumbnails as we did above as one way of checking for that.</p>\n",
    "\n",
    "<p>Future directions you can go could be things like:</p>\n",
    "\n",
    "<ul>\n",
    "<li>Does this ISI shape difference correlate with other things I know about the cell (its depth in cortex? its morphology? other electrophysiological features?)?\n",
    "<li>How much does the feature you created change within a given cell as the stimulus amplitude changes?\n",
    "<li>Are differences more pronounced at lower spike rates? Higher spike rates?\n",
    "</ul>\n",
    "\n",
    "</div>"
   ]
  },
  {
   "cell_type": "code",
   "execution_count": null,
   "metadata": {
    "collapsed": false
   },
   "outputs": [],
   "source": [
    "# ANSWER\n",
    "fig,axes = plt.subplots(1,3,sharey=True)\n",
    "fig.set_size_inches(16,4)\n",
    "for ax in axes:\n",
    "    for avg_isi in n_avg:\n",
    "        ax.plot(np.diff(avg_isi,n=2),'.-', c=\"k\",alpha=0.1)\n",
    "\n",
    "# axes[0].set_ylim(-0.02,0.2)\n",
    "axes[0].set_xlim(-5,102)\n",
    "axes[1].set_xlim(-1,6)\n",
    "axes[2].set_xlim(90,98)"
   ]
  },
  {
   "cell_type": "code",
   "execution_count": null,
   "metadata": {
    "collapsed": false
   },
   "outputs": [],
   "source": [
    "# ANSWER\n",
    "avg_isi_diff = np.diff(n_avg,n=2)\n",
    "plt.plot(avg_isi_diff[:,0],avg_isi_diff[:,-1],'o',\n",
    "         markersize=10,markeredgewidth=1,markeredgecolor='white')\n",
    "# plt.xlim(-0.01,0.2)\n",
    "plt.xlabel('2nd derivative at start of ISI')\n",
    "plt.ylabel('2nd derivative at end of ISI')"
   ]
  },
  {
   "cell_type": "markdown",
   "metadata": {},
   "source": [
    "### PROJECT IDEAS\n",
    "\n",
    "_from last year_:\n",
    "* Examine how ephys / morph features vary across Cre-line, layer, and/or cortical location\n",
    "* Attempt to classify cells using ephys data/features (e.g., use machine learning to predict Cre line)\n",
    "* Calculate “dendrite density clouds” after orienting and averaging morphologies\n",
    "* Look at whether truncation of apical dendrites is linked to differences in any ephys features\n",
    "* Connect Brain Observatory functional properties to ephys intrinsic properties\n",
    "* Perform Sholl analysis on neuronal morphologies\n",
    "* Look for correlations between ephys data and Gene Expression and Taxonomy in V1\n",
    "\n",
    "### TO DO: 2017 Project Ideas"
   ]
  },
  {
   "cell_type": "markdown",
   "metadata": {},
   "source": [
    "### FUNCTION IDEAS\n",
    "\n",
    "* cells for a given cre line\n",
    "* plot a set of cell thumbnails in a notebook via the web\n",
    "* v, i, and t for a given sweep & data set"
   ]
  }
 ],
 "metadata": {
  "kernelspec": {
   "display_name": "Python [default]",
   "language": "python",
   "name": "python2"
  },
  "language_info": {
   "codemirror_mode": {
    "name": "ipython",
    "version": 2
   },
   "file_extension": ".py",
   "mimetype": "text/x-python",
   "name": "python",
   "nbconvert_exporter": "python",
   "pygments_lexer": "ipython2",
   "version": "2.7.13"
  }
 },
 "nbformat": 4,
 "nbformat_minor": 2
}
