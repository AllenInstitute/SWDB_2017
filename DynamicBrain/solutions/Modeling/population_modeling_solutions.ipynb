{
 "cells": [
  {
   "cell_type": "code",
   "execution_count": 1,
   "metadata": {
    "collapsed": true
   },
   "outputs": [],
   "source": [
    "import sys,os, pprint\n",
    "import pandas as pd\n",
    "import numpy as np\n",
    "import matplotlib.image as mpimg\n",
    "import matplotlib.pyplot as plt\n",
    "%matplotlib inline"
   ]
  },
  {
   "cell_type": "markdown",
   "metadata": {},
   "source": [
    "<h1 align=\"center\">Modeling a coupled excitatory-inhibitory (E-I) network with DiPDE/popnet</h1> \n",
    "<h3 align=\"center\">August 24, 2017</h3> \n",
    "\n",
    "In this tutorial, we will demonstrate simulation of an E-I network consisting of homogenous excitatory (E) and inhibitory (I) populations using the DiPDE simulator. In this example, only the excitatory (E) population is being driven by excitatory input from the external (Ext) population. "
   ]
  },
  {
   "cell_type": "markdown",
   "metadata": {},
   "source": [
    "<img src=\"schematics_png/DiPDE_ei_net.png\" alt = Drawing style = \"width: 500px;\"> "
   ]
  },
  {
   "cell_type": "markdown",
   "metadata": {},
   "source": [
    "<div style=\"border-left: 3px solid #000; padding: 1px; padding-left: 10px; background: #F0FAFF; \">\n",
    "\n",
    "# Building the network\n",
    "\n",
    "We will build the network step-by-step as follows:\n",
    "\n",
    "1) Create/parameterize the nodes (populations) in the internal network, namely the E and I populations\n",
    "\n",
    "2) Create/parameterize the external population. \n",
    "\n",
    "3) Create/parameterize the edge (connection) from the external population to the E population.\n",
    "\n",
    "4) Connect the E population to the I population\n",
    "\n",
    "5) Run simulation and observe output\n",
    "\n",
    "6) Exercise: Connect I to E and explore how the outputs change"
   ]
  },
  {
   "cell_type": "code",
   "execution_count": 2,
   "metadata": {
    "collapsed": true
   },
   "outputs": [],
   "source": [
    "#Create a folder called network. \n",
    "#Within this folder, we create a folder'recurrent_network' where the nodes and edges in our example will be saved\n",
    "directory_name = 'network/recurrent_network/'\n",
    "\n",
    "if not os.path.exists(directory_name):\n",
    "    os.makedirs(directory_name)"
   ]
  },
  {
   "cell_type": "markdown",
   "metadata": {},
   "source": [
    "<div style=\"border-left: 3px solid #000; padding: 1px; padding-left: 10px; background: #F0FAFF; \">\n",
    "\n",
    "<p> We will explore the directory structure for saving nodes and edges later. For now, just note that we will be creating node and edge parameter files and storing them in the 'network' folder </div>"
   ]
  },
  {
   "cell_type": "markdown",
   "metadata": {
    "collapsed": true
   },
   "source": [
    "<div style=\"border-left: 3px solid #000; padding: 1px; padding-left: 10px; background: #F0FAFF; \">\n",
    "\n",
    "<h2> 1) Building E and I nodes </h2>\n",
    "\n",
    "Let's start with creating a network object and add a single Excitatory population, followed by an Inhibitory population"
   ]
  },
  {
   "cell_type": "markdown",
   "metadata": {},
   "source": [
    "<img src=\"schematics_png/ei_pop.png\" alt = Drawing style = \"width: 500px;\"> "
   ]
  },
  {
   "cell_type": "code",
   "execution_count": 3,
   "metadata": {
    "collapsed": true
   },
   "outputs": [],
   "source": [
    "#Import the NxNetwork module from modelingsdk. This module allows us to create a network object\n",
    "#to which we can add nodes and edges respectively. \n",
    "from modelingsdk.builder.networks import NxNetwork\n",
    "\n",
    "#Create network object\n",
    "net = NxNetwork('V1')\n",
    "#net.clear()"
   ]
  },
  {
   "cell_type": "code",
   "execution_count": 4,
   "metadata": {
    "collapsed": true
   },
   "outputs": [],
   "source": [
    "# Add 'E' node to 'net'\n",
    "net.add_nodes(node_type_id='0', pop_name='excitatory', params_file='excitatory_pop.json')"
   ]
  },
  {
   "cell_type": "markdown",
   "metadata": {},
   "source": [
    "<div style=\"border-left: 3px solid #000; padding: 1px; padding-left: 10px; background: #F0FAFF; \">\n",
    "\n",
    "<p> The default parameters for the excitatory population are stored in the json file. Let's see what they are. We will see below how the default parameters can be changed </div>"
   ]
  },
  {
   "cell_type": "code",
   "execution_count": 5,
   "metadata": {},
   "outputs": [
    {
     "name": "stdout",
     "output_type": "stream",
     "text": [
      "{u'approx_order': None,\n",
      " u'dv': 0.0001,\n",
      " u'record': True,\n",
      " u'tau_m': 0.0429,\n",
      " u'update_method': u'gmres',\n",
      " u'v_max': 0.02,\n",
      " u'v_min': -0.05}\n"
     ]
    }
   ],
   "source": [
    "import pprint\n",
    "import json\n",
    "\n",
    "#Load the json file\n",
    "with open('components/pop_models/excitatory_pop.json') as exc_data:\n",
    "    exc_prs = json.load(exc_data)\n",
    "\n",
    "#Print the parameters    \n",
    "pprint.pprint(exc_prs)"
   ]
  },
  {
   "cell_type": "markdown",
   "metadata": {},
   "source": [
    "<div style=\"border-left: 3px solid #000; padding: 1px; padding-left: 10px; background: #F0FAFF; \">\n",
    "\n",
    "<h2> What do these parameters correspond to? </h2>\n",
    "\n",
    "approx_order: None,      \n",
    "\n",
    "dv: 0.0001,              #  grid-size for the membrane potential (in volts) \n",
    "\n",
    "record: True,            # \n",
    "\n",
    "tau_m: 0.0429,           #  membrane time-constant for each neuron in the population (in seconds)\n",
    " \n",
    "update_method': u'gmres', # \n",
    " \n",
    "v_max: 0.02,             #  threshold membrane potential (in volts)\n",
    " \n",
    "v_min: -0.05             #  resting membrane potential   (in volts)         "
   ]
  },
  {
   "cell_type": "markdown",
   "metadata": {},
   "source": [
    "<div style=\"background: #DFF0D8; border-radius: 3px; padding: 10px;\">\n",
    "<p> Exercise:\n",
    "Follow the steps above to add an 'I' node (inhibitory population) to the network. You can set the node_type_id to 1 and replace 'excitatory' with 'inhibitory' for the other two fields.</div>  "
   ]
  },
  {
   "cell_type": "code",
   "execution_count": 6,
   "metadata": {
    "collapsed": true
   },
   "outputs": [],
   "source": [
    "# Add 'I' node to 'net'\n",
    "net.add_nodes(node_type_id='1', pop_name='inhibitory', params_file='inhibitory_pop.json')"
   ]
  },
  {
   "cell_type": "markdown",
   "metadata": {},
   "source": [
    "<div style=\"border-left: 3px solid #000; padding: 1px; padding-left: 10px; background: #F0FAFF; \">\n",
    "\n",
    "Now that we have created the nodes and added them to the network, the next step is to save the nodes' information to a .csv file."
   ]
  },
  {
   "cell_type": "code",
   "execution_count": 7,
   "metadata": {
    "collapsed": true
   },
   "outputs": [],
   "source": [
    "#Provide filename that will contain information about the types of nodes:\n",
    "node_models_file = directory_name + 'node_types.csv' #filename to save to\n",
    "\n",
    "#Save node information. The columns to be saved in this file are set by the user. Note that node_type_id is needed here\n",
    "net.save_types(filename=node_models_file,\n",
    "                   columns=['node_type_id', 'pop_name', 'params_file'])"
   ]
  },
  {
   "cell_type": "code",
   "execution_count": 8,
   "metadata": {},
   "outputs": [
    {
     "data": {
      "text/html": [
       "<div>\n",
       "<table border=\"1\" class=\"dataframe\">\n",
       "  <thead>\n",
       "    <tr style=\"text-align: right;\">\n",
       "      <th></th>\n",
       "      <th>pop_name</th>\n",
       "      <th>params_file</th>\n",
       "    </tr>\n",
       "    <tr>\n",
       "      <th>node_type_id</th>\n",
       "      <th></th>\n",
       "      <th></th>\n",
       "    </tr>\n",
       "  </thead>\n",
       "  <tbody>\n",
       "    <tr>\n",
       "      <th>0</th>\n",
       "      <td>excitatory</td>\n",
       "      <td>excitatory_pop.json</td>\n",
       "    </tr>\n",
       "    <tr>\n",
       "      <th>1</th>\n",
       "      <td>inhibitory</td>\n",
       "      <td>inhibitory_pop.json</td>\n",
       "    </tr>\n",
       "  </tbody>\n",
       "</table>\n",
       "</div>"
      ],
      "text/plain": [
       "                pop_name          params_file\n",
       "node_type_id                                 \n",
       "0             excitatory  excitatory_pop.json\n",
       "1             inhibitory  inhibitory_pop.json"
      ]
     },
     "execution_count": 8,
     "metadata": {},
     "output_type": "execute_result"
    }
   ],
   "source": [
    "# Let's display what is contained in the node_types file.\n",
    "node_types_DF = pd.DataFrame.from_csv(node_models_file, sep = ' ')\n",
    "node_types_DF"
   ]
  },
  {
   "cell_type": "markdown",
   "metadata": {},
   "source": [
    "<div style=\"border-left: 3px solid #000; padding: 1px; padding-left: 10px; background: #F0FAFF; \">\n",
    "\n",
    "<h2> 2) Building the Ext input node (as part of a separate 'Ext_input network')\n",
    "\n",
    "Along the same lines as for the E-I network, we will now create an external input network with a single node. "
   ]
  },
  {
   "cell_type": "markdown",
   "metadata": {},
   "source": [
    "<img src=\"schematics_png/ei_ext_pop.png\" alt = Drawing style = \"width: 500px;\"> "
   ]
  },
  {
   "cell_type": "code",
   "execution_count": 9,
   "metadata": {
    "collapsed": true
   },
   "outputs": [],
   "source": [
    "#Create input network object\n",
    "Ext_input = NxNetwork(\"Ext_input\")\n",
    "#Ext_input.clear()\n",
    "\n",
    "#Add 'Ext' node to Ext_input \n",
    "Ext_input.add_nodes(node_type_id ='filter_001', ei='e', pop_name='input_filter', level_of_detail='filter')\n",
    "\n",
    "#Create a separate directory for external inputs and provide filename to save to:\n",
    "input_directory_name = 'network/source_input/'\n",
    "\n",
    "if not os.path.exists(input_directory_name):\n",
    "    os.makedirs(input_directory_name)\n",
    "\n",
    "input_models_file = input_directory_name + 'input_node_types.csv'\n",
    "\n",
    "#Save node information to file. \n",
    "Ext_input.save_types(filename=input_models_file, columns=['node_type_id','level_of_detail','ei', 'pop_name'])"
   ]
  },
  {
   "cell_type": "markdown",
   "metadata": {},
   "source": [
    "<div style=\"background: #DFF0D8; border-radius: 3px; padding: 10px;\">\n",
    "\n",
    "<p> Exercise:\n",
    "Display what is contained in the input_node_types file that you just saved </div>"
   ]
  },
  {
   "cell_type": "code",
   "execution_count": 10,
   "metadata": {},
   "outputs": [
    {
     "data": {
      "text/html": [
       "<div>\n",
       "<table border=\"1\" class=\"dataframe\">\n",
       "  <thead>\n",
       "    <tr style=\"text-align: right;\">\n",
       "      <th></th>\n",
       "      <th>level_of_detail</th>\n",
       "      <th>ei</th>\n",
       "      <th>pop_name</th>\n",
       "    </tr>\n",
       "    <tr>\n",
       "      <th>node_type_id</th>\n",
       "      <th></th>\n",
       "      <th></th>\n",
       "      <th></th>\n",
       "    </tr>\n",
       "  </thead>\n",
       "  <tbody>\n",
       "    <tr>\n",
       "      <th>filter_001</th>\n",
       "      <td>filter</td>\n",
       "      <td>e</td>\n",
       "      <td>input_filter</td>\n",
       "    </tr>\n",
       "  </tbody>\n",
       "</table>\n",
       "</div>"
      ],
      "text/plain": [
       "             level_of_detail ei      pop_name\n",
       "node_type_id                                 \n",
       "filter_001            filter  e  input_filter"
      ]
     },
     "execution_count": 10,
     "metadata": {},
     "output_type": "execute_result"
    }
   ],
   "source": [
    "input_node_types_DF = pd.DataFrame.from_csv(input_models_file, sep = ' ')\n",
    "input_node_types_DF"
   ]
  },
  {
   "cell_type": "markdown",
   "metadata": {},
   "source": [
    "<div style=\"border-left: 3px solid #000; padding: 1px; padding-left: 10px; background: #F0FAFF; \">\n",
    "\n",
    "<h2> 3) Building the edge from Ext to E </h2>\n",
    "Now we will create the edge connecting Ext population to E population"
   ]
  },
  {
   "cell_type": "markdown",
   "metadata": {},
   "source": [
    "<img src=\"schematics_png/ei_ext_pop_conn1.png\" alt = Drawing style = \"width: 500px;\"> "
   ]
  },
  {
   "cell_type": "code",
   "execution_count": 11,
   "metadata": {
    "collapsed": true
   },
   "outputs": [],
   "source": [
    "Ext_input.connect(source = Ext_input.nodes(pop_name = 'input_filter'),\n",
    "            target = net.nodes(pop_name = 'excitatory'),\n",
    "            edge_params={'weight': 0.0025, \n",
    "                         'delay': 0.002, \n",
    "                         'nsyns': 10,\n",
    "                         'params_file': 'InpToExc.json'} \n",
    "                         )"
   ]
  },
  {
   "cell_type": "markdown",
   "metadata": {},
   "source": [
    "<div style=\"border-left: 3px solid #000; padding: 1px; padding-left: 10px; background: #F0FAFF; \">\n",
    "\n",
    "<p> Let us unpack this a bit. To establish a connection, we provide the source (node named'ext_excitatory' in Ext_input) and the target (node named 'excitatory' in net). We also provide the parameters for the edge contained in edge_params. For DiPDE/popnet, each edge is specified by the following:\n",
    "\n",
    "1) 'weight' : synaptic weight in volts\n",
    "\n",
    "2) 'delay' : synaptic delay in seconds\n",
    "\n",
    "3) 'nsyns' : number of synapses from source onto target. \n",
    "\n",
    "4) 'params_file': optional filename to save parameters to. </div>"
   ]
  },
  {
   "cell_type": "markdown",
   "metadata": {},
   "source": [
    "<div style=\"border-left: 3px solid #000; padding: 1px; padding-left: 10px; background: #F0FAFF; \">\n",
    "\n",
    "<h2> Build network... </h2>"
   ]
  },
  {
   "cell_type": "code",
   "execution_count": 12,
   "metadata": {
    "collapsed": true
   },
   "outputs": [],
   "source": [
    "Ext_input.build()"
   ]
  },
  {
   "cell_type": "markdown",
   "metadata": {},
   "source": [
    "<div style=\"border-left: 3px solid #000; padding: 1px; padding-left: 10px; background: #F0FAFF; \">\n",
    "\n",
    "<h2> Save connection to csv file </h2>"
   ]
  },
  {
   "cell_type": "code",
   "execution_count": 13,
   "metadata": {},
   "outputs": [
    {
     "data": {
      "text/html": [
       "<div>\n",
       "<table border=\"1\" class=\"dataframe\">\n",
       "  <thead>\n",
       "    <tr style=\"text-align: right;\">\n",
       "      <th></th>\n",
       "      <th>target_query</th>\n",
       "      <th>source_query</th>\n",
       "      <th>weight</th>\n",
       "      <th>delay</th>\n",
       "      <th>nsyns</th>\n",
       "      <th>params_file</th>\n",
       "    </tr>\n",
       "    <tr>\n",
       "      <th>edge_type_id</th>\n",
       "      <th></th>\n",
       "      <th></th>\n",
       "      <th></th>\n",
       "      <th></th>\n",
       "      <th></th>\n",
       "      <th></th>\n",
       "    </tr>\n",
       "  </thead>\n",
       "  <tbody>\n",
       "    <tr>\n",
       "      <th>0</th>\n",
       "      <td>pop_name=='excitatory'</td>\n",
       "      <td>pop_name=='input_filter'</td>\n",
       "      <td>0.0025</td>\n",
       "      <td>0.002</td>\n",
       "      <td>10</td>\n",
       "      <td>InpToExc.json</td>\n",
       "    </tr>\n",
       "  </tbody>\n",
       "</table>\n",
       "</div>"
      ],
      "text/plain": [
       "                        target_query              source_query  weight  delay  \\\n",
       "edge_type_id                                                                    \n",
       "0             pop_name=='excitatory'  pop_name=='input_filter'  0.0025  0.002   \n",
       "\n",
       "              nsyns    params_file  \n",
       "edge_type_id                        \n",
       "0                10  InpToExc.json  "
      ]
     },
     "execution_count": 13,
     "metadata": {},
     "output_type": "execute_result"
    }
   ],
   "source": [
    "#Specify filename to save to\n",
    "input_edge_types_file   = input_directory_name + 'input_edge_types.csv'\n",
    "\n",
    "#Save edge parameters\n",
    "Ext_input.save_edge_types(filename=input_edge_types_file, opt_columns=['weight', 'delay', 'nsyns', 'params_file'])\n",
    "\n",
    "input_edge_types_DF = pd.DataFrame.from_csv(input_edge_types_file, sep = ' ')\n",
    "input_edge_types_DF"
   ]
  },
  {
   "cell_type": "markdown",
   "metadata": {},
   "source": [
    "<div style=\"border-left: 3px solid #000; padding: 1px; padding-left: 10px; background: #F0FAFF; \">\n",
    "\n",
    "<h2> 4) Build the edge from E to I and then build net </h2>\n",
    "Now let's create the edge connecting E population to I population. Note now that both populations are nodes in net. Remember to save edge after specifying filename.  "
   ]
  },
  {
   "cell_type": "markdown",
   "metadata": {},
   "source": [
    "<img src=\"schematics_png/ei_ext_pop_conn1and2.png\" alt = Drawing style = \"width: 500px;\"> "
   ]
  },
  {
   "cell_type": "code",
   "execution_count": 14,
   "metadata": {},
   "outputs": [
    {
     "data": {
      "text/html": [
       "<div>\n",
       "<table border=\"1\" class=\"dataframe\">\n",
       "  <thead>\n",
       "    <tr style=\"text-align: right;\">\n",
       "      <th></th>\n",
       "      <th>target_query</th>\n",
       "      <th>source_query</th>\n",
       "      <th>weight</th>\n",
       "      <th>delay</th>\n",
       "      <th>nsyns</th>\n",
       "      <th>params_file</th>\n",
       "    </tr>\n",
       "    <tr>\n",
       "      <th>edge_type_id</th>\n",
       "      <th></th>\n",
       "      <th></th>\n",
       "      <th></th>\n",
       "      <th></th>\n",
       "      <th></th>\n",
       "      <th></th>\n",
       "    </tr>\n",
       "  </thead>\n",
       "  <tbody>\n",
       "    <tr>\n",
       "      <th>1</th>\n",
       "      <td>pop_name=='inhibitory'</td>\n",
       "      <td>pop_name=='excitatory'</td>\n",
       "      <td>0.005</td>\n",
       "      <td>0.002</td>\n",
       "      <td>20</td>\n",
       "      <td>ExcToInh.json</td>\n",
       "    </tr>\n",
       "  </tbody>\n",
       "</table>\n",
       "</div>"
      ],
      "text/plain": [
       "                        target_query            source_query  weight  delay  \\\n",
       "edge_type_id                                                                  \n",
       "1             pop_name=='inhibitory'  pop_name=='excitatory'   0.005  0.002   \n",
       "\n",
       "              nsyns    params_file  \n",
       "edge_type_id                        \n",
       "1                20  ExcToInh.json  "
      ]
     },
     "execution_count": 14,
     "metadata": {},
     "output_type": "execute_result"
    }
   ],
   "source": [
    "#connect E to I in net\n",
    "net.connect(source = net.nodes(pop_name = 'excitatory'),\n",
    "            target = net.nodes(pop_name = 'inhibitory'),\n",
    "            edge_params={'weight': 0.005, \n",
    "                         'delay': 0.002, \n",
    "                         'nsyns': 20,\n",
    "                         'params_file': 'ExcToInh.json'} \n",
    "                         )\n",
    "#build net\n",
    "net.build()\n",
    "\n",
    "#Specify filename to save to\n",
    "edge_types_file   = directory_name + 'edge_types.csv'\n",
    "\n",
    "#Save edge parameters\n",
    "net.save_edge_types(filename=edge_types_file, opt_columns=['weight', 'delay', 'nsyns', 'params_file'])\n",
    "\n",
    "edge_types_DF = pd.DataFrame.from_csv(edge_types_file, sep = ' ')\n",
    "edge_types_DF"
   ]
  },
  {
   "cell_type": "markdown",
   "metadata": {},
   "source": [
    "<div style=\"border-left: 3px solid #000; padding: 1px; padding-left: 10px; background: #F0FAFF; \">\n",
    "\n",
    "<h2> 5) Run simulation </h2>"
   ]
  },
  {
   "cell_type": "markdown",
   "metadata": {},
   "source": [
    "<div style=\"border-left: 3px solid #000; padding: 1px; padding-left: 10px; background: #F0FAFF; \">\n",
    "\n",
    "<h2> Config file </h2>\n",
    "At this point, we have created and saved a bunch of files (nodes, edges etc.). All of this needs to be integrated together, which is what is done in a config file. A default config file ('config.json') has already been created for us that contains:\n",
    "\n",
    "1) runtime settings for the simulation in 'run'. We will see below how to change the default settings.\n",
    "\n",
    "2) filenames for the different nodes and edges (we used these names keeping the directory structure specified here)\n",
    "\n",
    "3) filenames for where the output should be stored.\n",
    "\n",
    "Feel free to also look at the config file directly as it will look better than the print function below."
   ]
  },
  {
   "cell_type": "code",
   "execution_count": 15,
   "metadata": {},
   "outputs": [
    {
     "name": "stdout",
     "output_type": "stream",
     "text": [
      "{u'components': {u'models_dir': u'/home/rami/nb/friday_harbor/components/pop_models',\n",
      "                 u'synapses_dir': u'/home/rami/nb/friday_harbor/components/synaptic_models'},\n",
      " u'external': {u'filter': {u'edge_types': u'/home/rami/nb/friday_harbor/network/source_input/input_edge_types.csv',\n",
      "                           u'node_types': u'/home/rami/nb/friday_harbor/network/source_input/input_node_types.csv',\n",
      "                           u'nodes': u'/home/rami/nb/friday_harbor/network/source_input/input_nodes.csv',\n",
      "                           u'spike_trains': u'/home/rami/nb/friday_harbor/network/source_input/poisson_input_spk_train.nwb',\n",
      "                           u'trial': u'trial_1'}},\n",
      " u'internal': {u'edge_types': u'/home/rami/nb/friday_harbor/network/recurrent_network/edge_types.csv',\n",
      "               u'edges': u'/home/rami/nb/friday_harbor/network/recurrent_network/edges.h5',\n",
      "               u'node_types': u'/home/rami/nb/friday_harbor/network/recurrent_network/node_types.csv'},\n",
      " u'manifest': {u'$BASE_DIR': u'${configdir}',\n",
      "               u'$MODELS_DIR': u'$BASE_DIR/components',\n",
      "               u'$NETWORK_DIR': u'$BASE_DIR/network',\n",
      "               u'$OUTPUT_DIR': u'$BASE_DIR/output'},\n",
      " u'output': {u'log_file': u'/home/rami/nb/friday_harbor/output/logging.txt',\n",
      "             u'rates_file': u'/home/rami/nb/friday_harbor/output/spike_rates.txt',\n",
      "             u'show_plots': False},\n",
      " 'path': '/home/rami/nb/friday_harbor/config.json',\n",
      " u'run': {u'block': False,\n",
      "          u'blocksize': 1000.0,\n",
      "          u'connect_external': {u'filter': True},\n",
      "          u'connect_internal': True,\n",
      "          u'dt': 0.0002,\n",
      "          u'duration': 3.0,\n",
      "          u'overwrite_output_dir': True}}\n"
     ]
    }
   ],
   "source": [
    "#Import the utility config module from modelingsdk. This module integrates and puts together\n",
    "#all the nodes and edges that we have saved while building our network\n",
    "\n",
    "import modelingsdk.simulator.utils.config as config\n",
    "\n",
    "configure = config.from_json('config.json')\n",
    "pprint.pprint(configure)"
   ]
  },
  {
   "cell_type": "code",
   "execution_count": 16,
   "metadata": {
    "collapsed": true
   },
   "outputs": [],
   "source": [
    "#Import the Graph module from modelingsdk. This module creates a full-fledged graph, in\n",
    "#accordance with the rules of the underlying DiPDE/popnet simulator, using\n",
    "#all the nodes and edges that we have instantiated as part of our network. \n",
    "\n",
    "from modelingsdk.simulator.popnet.graph import Graph\n",
    "\n",
    "#Create a graph structure using the nodes and edges specified in the config file.\n",
    "graph = Graph(configure)\n",
    "\n",
    "graph.get_population('input_filter',network='filter').firing_rate = 10.0"
   ]
  },
  {
   "cell_type": "markdown",
   "metadata": {},
   "source": [
    "<div style=\"border-left: 3px solid #000; padding: 1px; padding-left: 10px; background: #F0FAFF; \">\n",
    "\n",
    "<h2> Run the simulation </h2>"
   ]
  },
  {
   "cell_type": "code",
   "execution_count": 17,
   "metadata": {},
   "outputs": [
    {
     "name": "stdout",
     "output_type": "stream",
     "text": [
      "External Population input_filter firing at a rate of 10.0 Hz.\n",
      "running simulation...\n",
      "done simulation.\n"
     ]
    }
   ],
   "source": [
    "#Import the Network module from the popnet simulator in modelingsdk. This module creates a\n",
    "#network that is in accordance with the underlying DiPDE simulator. \n",
    "\n",
    "from modelingsdk.simulator.popnet.network import Network\n",
    "\n",
    "full_net = Network(configure,graph)\n",
    "full_net.build()\n",
    "full_net.run()\n",
    "\n",
    "#print ff_net.connections"
   ]
  },
  {
   "cell_type": "markdown",
   "metadata": {},
   "source": [
    "<div style=\"border-left: 3px solid #000; padding: 1px; padding-left: 10px; background: #F0FAFF; \">\n",
    "\n",
    "<h2> Analyze firing rate outputs of the E and I populations </h2>"
   ]
  },
  {
   "cell_type": "code",
   "execution_count": 18,
   "metadata": {},
   "outputs": [
    {
     "data": {
      "image/png": "[encoded data removed]",
      "text/plain": [
       "<matplotlib.figure.Figure at 0x7f6468ef47d0>"
      ]
     },
     "metadata": {},
     "output_type": "display_data"
    }
   ],
   "source": [
    "from modelingsdk.analyzer.visualization.spikes import plot_rates_popnet\n",
    "\n",
    "cells_file = configure['internal']['node_types']\n",
    "rates_file = configure['output']['rates_file']\n",
    "plot_rates_popnet(cells_file,rates_file,model_keys='pop_name')"
   ]
  },
  {
   "cell_type": "markdown",
   "metadata": {},
   "source": [
    "<div style=\"border-left: 3px solid #000; padding: 1px; padding-left: 10px; background: #F0FAFF; \">\n",
    "\n",
    "<h2> Changing default parameters in the config </h2>\n",
    "\n",
    "<p> Let's see some simple examples of changing default parameters in the config file\n",
    "Change duration of simulation from 3 seconds to 0.5 seconds </div>"
   ]
  },
  {
   "cell_type": "code",
   "execution_count": 19,
   "metadata": {
    "collapsed": true
   },
   "outputs": [],
   "source": [
    "configure['run']['duration'] = 0.5"
   ]
  },
  {
   "cell_type": "markdown",
   "metadata": {},
   "source": [
    "<div style=\"border-left: 3px solid #000; padding: 1px; padding-left: 10px; background: #F0FAFF; \">\n",
    "\n",
    "<p> Change firing rate and membrane time constant of input excitatory population (Ext) after checking the default value </div> "
   ]
  },
  {
   "cell_type": "code",
   "execution_count": 20,
   "metadata": {},
   "outputs": [
    {
     "name": "stdout",
     "output_type": "stream",
     "text": [
      "10.0\n",
      "25.0\n",
      "0.0429\n",
      "0.02\n"
     ]
    }
   ],
   "source": [
    "input_pop = graph.get_population('input_filter',network='filter')\n",
    "print input_pop.firing_rate\n",
    "input_pop.firing_rate = 25.0  #(Firing rate in Hz)\n",
    "print input_pop.firing_rate\n",
    "\n",
    "exc_pop = graph.get_population('excitatory')\n",
    "print exc_pop.tau_m\n",
    "exc_pop.tau_m = 0.02\n",
    "print exc_pop.tau_m"
   ]
  },
  {
   "cell_type": "code",
   "execution_count": 21,
   "metadata": {},
   "outputs": [
    {
     "name": "stdout",
     "output_type": "stream",
     "text": [
      "External Population input_filter firing at a rate of 25.0 Hz.\n",
      "running simulation...\n",
      "done simulation.\n"
     ]
    }
   ],
   "source": [
    "#Build network and run simulation using new config parameters \n",
    "\n",
    "full_net_2 = Network(configure,graph)\n",
    "full_net_2.build()\n",
    "full_net_2.run()"
   ]
  },
  {
   "cell_type": "code",
   "execution_count": 22,
   "metadata": {},
   "outputs": [
    {
     "data": {
      "image/png": "[encoded data removed]",
      "text/plain": [
       "<matplotlib.figure.Figure at 0x7f6466368150>"
      ]
     },
     "metadata": {},
     "output_type": "display_data"
    }
   ],
   "source": [
    "#Analyze outputs for new config\n",
    "\n",
    "cells_file = configure['internal']['node_types']\n",
    "rates_file = configure['output']['rates_file']\n",
    "plot_rates_popnet(cells_file,rates_file,model_keys='pop_name')"
   ]
  },
  {
   "cell_type": "markdown",
   "metadata": {},
   "source": [
    "<div style=\"background: #DFF0D8; border-radius: 3px; padding: 10px;\">\n",
    "\n",
    "<h2> Exercise (time permitting): Add an I to E connection, save the edge, build the network and re-run the simulation to see how the outputs change </h2>"
   ]
  },
  {
   "cell_type": "code",
   "execution_count": 23,
   "metadata": {},
   "outputs": [
    {
     "data": {
      "text/html": [
       "<div>\n",
       "<table border=\"1\" class=\"dataframe\">\n",
       "  <thead>\n",
       "    <tr style=\"text-align: right;\">\n",
       "      <th></th>\n",
       "      <th>target_query</th>\n",
       "      <th>source_query</th>\n",
       "      <th>weight</th>\n",
       "      <th>delay</th>\n",
       "      <th>nsyns</th>\n",
       "      <th>params_file</th>\n",
       "    </tr>\n",
       "    <tr>\n",
       "      <th>edge_type_id</th>\n",
       "      <th></th>\n",
       "      <th></th>\n",
       "      <th></th>\n",
       "      <th></th>\n",
       "      <th></th>\n",
       "      <th></th>\n",
       "    </tr>\n",
       "  </thead>\n",
       "  <tbody>\n",
       "    <tr>\n",
       "      <th>1</th>\n",
       "      <td>pop_name=='inhibitory'</td>\n",
       "      <td>pop_name=='excitatory'</td>\n",
       "      <td>0.005</td>\n",
       "      <td>0.002</td>\n",
       "      <td>20</td>\n",
       "      <td>ExcToInh.json</td>\n",
       "    </tr>\n",
       "    <tr>\n",
       "      <th>2</th>\n",
       "      <td>pop_name=='excitatory'</td>\n",
       "      <td>pop_name=='inhibitory'</td>\n",
       "      <td>-0.001</td>\n",
       "      <td>0.002</td>\n",
       "      <td>10</td>\n",
       "      <td>InhToExc.json</td>\n",
       "    </tr>\n",
       "  </tbody>\n",
       "</table>\n",
       "</div>"
      ],
      "text/plain": [
       "                        target_query            source_query  weight  delay  \\\n",
       "edge_type_id                                                                  \n",
       "1             pop_name=='inhibitory'  pop_name=='excitatory'   0.005  0.002   \n",
       "2             pop_name=='excitatory'  pop_name=='inhibitory'  -0.001  0.002   \n",
       "\n",
       "              nsyns    params_file  \n",
       "edge_type_id                        \n",
       "1                20  ExcToInh.json  \n",
       "2                10  InhToExc.json  "
      ]
     },
     "execution_count": 23,
     "metadata": {},
     "output_type": "execute_result"
    }
   ],
   "source": [
    "#connect I to E in net\n",
    "net.connect(source = net.nodes(pop_name = 'inhibitory'),\n",
    "            target = net.nodes(pop_name = 'excitatory'),\n",
    "            edge_params={'weight': -0.001, \n",
    "                         'delay': 0.002, \n",
    "                         'nsyns': 10,\n",
    "                         'params_file': 'InhToExc.json'} \n",
    "                         )\n",
    "#build net\n",
    "net.build()\n",
    "\n",
    "#Specify filename to save to\n",
    "edge_types_file   = directory_name + 'edge_types.csv'\n",
    "\n",
    "#Save edge parameters\n",
    "net.save_edge_types(filename=edge_types_file, opt_columns=['weight', 'delay', 'nsyns', 'params_file'])\n",
    "\n",
    "edge_types_DF = pd.DataFrame.from_csv(edge_types_file, sep = ' ')\n",
    "edge_types_DF"
   ]
  },
  {
   "cell_type": "code",
   "execution_count": 24,
   "metadata": {},
   "outputs": [
    {
     "name": "stdout",
     "output_type": "stream",
     "text": [
      "External Population input_filter firing at a rate of 25.0 Hz.\n",
      "running simulation...\n",
      "done simulation.\n"
     ]
    },
    {
     "data": {
      "image/png": "[encoded data removed]",
      "text/plain": [
       "<matplotlib.figure.Figure at 0x7f6468ef47d0>"
      ]
     },
     "metadata": {},
     "output_type": "display_data"
    }
   ],
   "source": [
    "configure = config.from_json('config.json')\n",
    "graph = Graph(configure)\n",
    "\n",
    "#input_pop = graph.get_population('input_filter',network='filter')\n",
    "graph.get_population('input_filter',network='filter').firing_rate = 25.0\n",
    "graph.get_population('excitatory').tau_m = 0.02\n",
    "#input_pop.firing_rate\n",
    "\n",
    "ei_net = Network(configure,graph)\n",
    "ei_net.build()\n",
    "ei_net.run()\n",
    "\n",
    "rates_file = configure['output']['rates_file']\n",
    "plot_rates_popnet(cells_file,rates_file,model_keys='pop_name')"
   ]
  }
 ],
 "metadata": {
  "anaconda-cloud": {},
  "kernelspec": {
   "display_name": "Python 2",
   "language": "python",
   "name": "python2"
  },
  "language_info": {
   "codemirror_mode": {
    "name": "ipython",
    "version": 2
   },
   "file_extension": ".py",
   "mimetype": "text/x-python",
   "name": "python",
   "nbconvert_exporter": "python",
   "pygments_lexer": "ipython2",
   "version": "2.7.13"
  }
 },
 "nbformat": 4,
 "nbformat_minor": 2
}
