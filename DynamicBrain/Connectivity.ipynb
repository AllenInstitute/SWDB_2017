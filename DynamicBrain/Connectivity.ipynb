{
 "cells": [
  {
   "cell_type": "markdown",
   "metadata": {},
   "source": [
    "<img src=\"../resources/cropped-SummerWorkshop_Header.png\">  \n",
    "\n",
    "<h1 align=\"center\">Connectivity Workshop SWDB 2017 </h1> \n",
    "<h3 align=\"center\">Monday, August 21, 2017</h3>\n",
    "<h3 align=\"center\">Motivating Question: Where do primary visual cortex neurons project?</h3>"
   ]
  },
  {
   "cell_type": "code",
   "execution_count": 1,
   "metadata": {
    "collapsed": true
   },
   "outputs": [],
   "source": [
    "# drive_path is set here\n",
    "\n",
    "drive_path = 'users/jenniferwh/dropbox/notebook/connectivity'"
   ]
  },
  {
   "cell_type": "code",
   "execution_count": 2,
   "metadata": {
    "collapsed": true
   },
   "outputs": [],
   "source": [
    "# imports!\n",
    "\n",
    "# pandas for manipulating / viewing tables\n",
    "import pandas as pd\n",
    "\n",
    "# numpy, which needs no introduction\n",
    "import numpy as np\n",
    "\n",
    "# os for dealing with the file system\n",
    "import os\n",
    "\n",
    "# MouseConnectivityCache for downloading and storing mouse connectivity data\n",
    "from allensdk.core.mouse_connectivity_cache import MouseConnectivityCache\n",
    "\n",
    "# OntologiesApi\n",
    "from allensdk.api.queries.ontologies_api import OntologiesApi\n",
    "\n",
    "# display for nice notebook views\n",
    "from IPython.display import display\n",
    "\n",
    "# easy plotting\n",
    "import matplotlib.pyplot as plt"
   ]
  },
  {
   "cell_type": "code",
   "execution_count": 3,
   "metadata": {
    "collapsed": true
   },
   "outputs": [],
   "source": [
    "# settings!\n",
    "\n",
    "%matplotlib inline"
   ]
  },
  {
   "cell_type": "markdown",
   "metadata": {},
   "source": [
    "<div style=\"border-left: 3px solid #000; padding: 1px; padding-left: 10px; background: #F0FAFF; \">\n",
    "<center><h3>Where is the primary visual area in the mouse?</h3></center>\n",
    "\n",
    "<p>We'll answer this question in two ways:</p>\n",
    "<ul>\n",
    "<li>relatively: We want to know which structure(s) contain the primary visual.</li>\n",
    "<li>absolutely: We want to know where the primary visual area is located in physical space.</li>\n",
    "</ul>\n",
    "\n",
    "</div>"
   ]
  },
  {
   "cell_type": "markdown",
   "metadata": {},
   "source": [
    "<div style=\"border-left: 3px solid #000; padding: 1px; padding-left: 10px; background: #F0FAFF; \"><h4>The caching pattern:</h4>\n",
    "<p>We will be using the ```MouseConnectivityCache``` class to download and store data. This class requires from us:</p>\n",
    "\n",
    "<ul>\n",
    "<li>a manifest file path. This path determines where data will be stored. Once you have instantiated your cache once, you can access downloaded data again by instantiating a new cache with the same manifest path.  We will be using pre-populated data directories.</li>\n",
    "<li>a resolution for the data volumes that we will be downloading. The possible (isometric) resolutions are 10, 25, 50, and 100-microns, with 25 the default.</li>\n",
    "</ul>\n",
    "\n",
    "<p>As usual, you can use the built in ```help``` function to see the complete documentation</p></div>"
   ]
  },
  {
   "cell_type": "code",
   "execution_count": 4,
   "metadata": {
    "collapsed": true
   },
   "outputs": [],
   "source": [
    "# specify your path and isometric resolution\n",
    "manifest_file = os.path.join(drive_path, 'manifest.json')\n",
    "resolution = 25\n",
    "\n",
    "# instantiate the cache object\n",
    "# after this step, the manifest file you specified should exist on your filesystem\n",
    "mcc = MouseConnectivityCache(manifest_file=manifest_file, resolution=resolution)"
   ]
  },
  {
   "cell_type": "markdown",
   "metadata": {},
   "source": [
    "<div style=\"border-left: 3px solid #000; padding: 1px; padding-left: 10px; background: #F0FAFF; \"><h3><center>The structure tree</center></h3>\n",
    "Anatomists at the Allen Institute have divided the adult mouse brain into ~1300 distinct structures. These are arranged in a tree, where coarsely specified structures (e.g. 'Isocortex') are near the root and finely specified structures (e.g \"Primary visual area, layer 4\") make up the leaves.\n",
    "\n",
    "[Here](http://atlas.brain-map.org/atlas?atlas=1) is a handy visualization of the tree (and atlas!).\n",
    "\n",
    "<p>You can download and access the structure tree by calling ```get_structure_tree``` on your ```MouseConnectivityCache``` instance.</p></div>"
   ]
  },
  {
   "cell_type": "code",
   "execution_count": 5,
   "metadata": {
    "collapsed": true
   },
   "outputs": [],
   "source": [
    "# get the structure tree\n",
    "# this step should produce a file called 'structures.json' in the same directory as your manifest file\n",
    "structure_tree = mcc.get_structure_tree()"
   ]
  },
  {
   "cell_type": "code",
   "execution_count": 6,
   "metadata": {},
   "outputs": [
    {
     "data": {
      "text/plain": [
       "[{u'acronym': u'VISp',\n",
       "  u'color_hex_triplet': u'08858C',\n",
       "  u'graph_id': 1,\n",
       "  u'graph_order': 185,\n",
       "  u'id': 385,\n",
       "  u'name': u'Primary visual area',\n",
       "  u'structure_id_path': [997, 8, 567, 688, 695, 315, 669, 385],\n",
       "  u'structure_set_ids': [12,\n",
       "   114512892,\n",
       "   114512891,\n",
       "   112905828,\n",
       "   112905813,\n",
       "   396673091,\n",
       "   167587189,\n",
       "   184527634,\n",
       "   514166994]}]"
      ]
     },
     "execution_count": 6,
     "metadata": {},
     "output_type": "execute_result"
    }
   ],
   "source": [
    "# view the structure record for primary visual cortex\n",
    "visp = structure_tree.get_structures_by_name(['Primary visual area'])\n",
    "\n",
    "# the data structure returned by this method is a list of dictionaries:\n",
    "visp"
   ]
  },
  {
   "cell_type": "code",
   "execution_count": 7,
   "metadata": {},
   "outputs": [
    {
     "data": {
      "text/html": [
       "<div>\n",
       "<style>\n",
       "    .dataframe thead tr:only-child th {\n",
       "        text-align: right;\n",
       "    }\n",
       "\n",
       "    .dataframe thead th {\n",
       "        text-align: left;\n",
       "    }\n",
       "\n",
       "    .dataframe tbody tr th {\n",
       "        vertical-align: top;\n",
       "    }\n",
       "</style>\n",
       "<table border=\"1\" class=\"dataframe\">\n",
       "  <thead>\n",
       "    <tr style=\"text-align: right;\">\n",
       "      <th></th>\n",
       "      <th>acronym</th>\n",
       "      <th>color_hex_triplet</th>\n",
       "      <th>graph_id</th>\n",
       "      <th>graph_order</th>\n",
       "      <th>id</th>\n",
       "      <th>name</th>\n",
       "      <th>structure_id_path</th>\n",
       "      <th>structure_set_ids</th>\n",
       "    </tr>\n",
       "  </thead>\n",
       "  <tbody>\n",
       "    <tr>\n",
       "      <th>0</th>\n",
       "      <td>VISp</td>\n",
       "      <td>08858C</td>\n",
       "      <td>1</td>\n",
       "      <td>185</td>\n",
       "      <td>385</td>\n",
       "      <td>Primary visual area</td>\n",
       "      <td>[997, 8, 567, 688, 695, 315, 669, 385]</td>\n",
       "      <td>[12, 114512892, 114512891, 112905828, 11290581...</td>\n",
       "    </tr>\n",
       "  </tbody>\n",
       "</table>\n",
       "</div>"
      ],
      "text/plain": [
       "  acronym color_hex_triplet  graph_id  graph_order   id                 name  \\\n",
       "0    VISp            08858C         1          185  385  Primary visual area   \n",
       "\n",
       "                        structure_id_path  \\\n",
       "0  [997, 8, 567, 688, 695, 315, 669, 385]   \n",
       "\n",
       "                                   structure_set_ids  \n",
       "0  [12, 114512892, 114512891, 112905828, 11290581...  "
      ]
     },
     "execution_count": 7,
     "metadata": {},
     "output_type": "execute_result"
    }
   ],
   "source": [
    "# we can make a nicer table view using pandas:\n",
    "pd.DataFrame(visp)"
   ]
  },
  {
   "cell_type": "markdown",
   "metadata": {},
   "source": [
    "<div style=\"border-left: 3px solid #000; padding: 1px; padding-left: 10px; background: #F0FAFF; \">\n",
    "See <a href='http://alleninstitute.github.io/AllenSDK/_static/examples/nb/reference_space.html'>here</a> for definitions of these fields. The most relevant ones for us right now are:\n",
    "\n",
    "<ul>\n",
    "<li>id: A unique integer identifier for this structure</li>\n",
    "<li>name: The structure's full name</li>\n",
    "<li>acronym: A shortened version of the structure's name</li>\n",
    "<li>structure_id_path: a list of structures from the root of the tree (left) to the selected structure record.</li>\n",
    "</ul>\n",
    "</div>"
   ]
  },
  {
   "cell_type": "markdown",
   "metadata": {},
   "source": [
    "<div style=\"border-left: 3px solid #000; padding: 1px; padding-left: 10px; background: #F0FAFF; \">\n",
    "<h4>Mapping ids to names</h4>\n",
    "\n",
    "<p>We can identify a structure by:</p>\n",
    "<ul>\n",
    "<li>Its id</li>\n",
    "<li>Its name</li>\n",
    "<li>Its acronym</li>\n",
    "</ul>\n",
    "\n",
    "<p>Frequently, we want to switch between these. For instance, we might want to know the name of VISp's parent (structure 669 from the structure_id_path). The structure tree can be used to generate a map from ids to names:</p>\n",
    "</div>"
   ]
  },
  {
   "cell_type": "code",
   "execution_count": 8,
   "metadata": {},
   "outputs": [
    {
     "data": {
      "text/plain": [
       "u'Visual areas'"
      ]
     },
     "execution_count": 8,
     "metadata": {},
     "output_type": "execute_result"
    }
   ],
   "source": [
    "name_map = structure_tree.get_name_map()\n",
    "parent_id = structure_tree.parent_id([385])[0] # structure tree methods accept and return lists\n",
    "name_map[parent_id]"
   ]
  },
  {
   "cell_type": "code",
   "execution_count": 9,
   "metadata": {},
   "outputs": [
    {
     "data": {
      "text/plain": [
       "385"
      ]
     },
     "execution_count": 9,
     "metadata": {},
     "output_type": "execute_result"
    }
   ],
   "source": [
    "# The structure tree also has a built-in map for going from acronyms to ids:\n",
    "acronym_to_id_map = structure_tree.get_id_acronym_map()\n",
    "acronym_to_id_map['VISp']"
   ]
  },
  {
   "cell_type": "markdown",
   "metadata": {},
   "source": [
    "<div style=\"border-left: 3px solid #000; padding: 1px; padding-left: 10px; background: #F0FFF0; \">\n",
    "<h4> Excercise: mapping acronyms to names</h4>\n",
    "\n",
    "<p>Write a function with the following signature:</p>\n",
    "</div>"
   ]
  },
  {
   "cell_type": "code",
   "execution_count": 10,
   "metadata": {
    "collapsed": true
   },
   "outputs": [],
   "source": [
    "def get_acronym_name_map(structure_tree):\n",
    "    '''Builds a dictionary mapping structure acronyms to names.\n",
    "    \n",
    "    Parameters\n",
    "    ----------\n",
    "    structure_tree : StructureTree\n",
    "        The complete structure tree.\n",
    "        \n",
    "    Returns\n",
    "    -------\n",
    "    acronym_name_map : dict\n",
    "        Keys are acronyms (str); values are names (str).\n",
    "    \n",
    "    '''\n",
    "    acronyms = []\n",
    "    names = []\n",
    "    for strid in structure_tree.get_id_acronym_map():\n",
    "        acronyms.append(strid)\n",
    "        names.append(name_map[acronym_to_id_map[strid]])\n",
    "    acronym_name_map = dict(zip(acronyms, names))\n",
    "    \n",
    "    return acronym_name_map"
   ]
  },
  {
   "cell_type": "code",
   "execution_count": 11,
   "metadata": {
    "collapsed": true
   },
   "outputs": [],
   "source": [
    "acronym_name_map = get_acronym_name_map(structure_tree)"
   ]
  },
  {
   "cell_type": "code",
   "execution_count": 12,
   "metadata": {},
   "outputs": [
    {
     "data": {
      "text/plain": [
       "u'Anterior cingulate area, dorsal part'"
      ]
     },
     "execution_count": 12,
     "metadata": {},
     "output_type": "execute_result"
    }
   ],
   "source": [
    "acronym_name_map['ACAd']"
   ]
  },
  {
   "cell_type": "markdown",
   "metadata": {},
   "source": [
    "<div style=\"border-left: 3px solid #000; padding: 1px; padding-left: 10px; background: #F0FFF0; \">\n",
    "<h4> Excercise: where is VISp in the structure tree?</h4>\n",
    "\n",
    "Where is the primary visual area? One way to answer this question would be to name structures containing VISp. These are:\n",
    "<ol>\n",
    "<li>Visual Areas</li>\n",
    "<li>Isocortex</li>\n",
    "<li>...</li>\n",
    "<li>root</li>\n",
    "</ol>\n",
    "\n",
    "In this excercise we will write a function that determines the nth ancestor of a given structure. Use the following signature:\n",
    "</div>"
   ]
  },
  {
   "cell_type": "code",
   "execution_count": 13,
   "metadata": {},
   "outputs": [
    {
     "data": {
      "text/plain": [
       "{1: u'Tuberomammillary nucleus, ventral part',\n",
       " 2: u'Primary somatosensory area, mouth, layer 6b',\n",
       " 3: u'secondary fissure',\n",
       " 4: u'Inferior colliculus',\n",
       " 10671: u'Median eminence',\n",
       " 6: u'internal capsule',\n",
       " 7: u'Principal sensory nucleus of the trigeminal',\n",
       " 8: u'Basic cell groups and regions',\n",
       " 9: u'Primary somatosensory area, trunk, layer 6a',\n",
       " 10: u'Superior colliculus, motor related, intermediate gray layer',\n",
       " 11: u'posterolateral fissure',\n",
       " 12: u'Interfascicular nucleus raphe',\n",
       " 10715: u'Lobule IV, Purkinje layer',\n",
       " 14: u'internal medullary lamina of the thalamus',\n",
       " 15: u'Parataenial nucleus',\n",
       " 16: u'Layer 6b, isocortex',\n",
       " 17: u'Superior colliculus, motor related, intermediate white layer',\n",
       " 18: u'nodular fissure',\n",
       " 19: u'Induseum griseum',\n",
       " 20: u'Entorhinal area, lateral part, layer 2',\n",
       " 21: u'lateral olfactory tract, general',\n",
       " 22: u'Posterior parietal association areas',\n",
       " 23: u'Anterior amygdalar area',\n",
       " 25: u'simple fissure',\n",
       " 26: u'Superior colliculus, motor related, deep gray layer',\n",
       " 27: u'Intergeniculate leaflet of the lateral geniculate complex',\n",
       " 28: u'Entorhinal area, lateral part, layer 6a',\n",
       " 29: u'lateral spinothalamic tract',\n",
       " 30: u'Periventricular hypothalamic nucleus, anterior part',\n",
       " 31: u'Anterior cingulate area',\n",
       " 33: u'Primary visual area, layer 6a',\n",
       " 34: u'intercrural fissure',\n",
       " 35: u'Oculomotor nucleus',\n",
       " 36: u'Gustatory areas, layer 1',\n",
       " 37: u'longitudinal association bundle',\n",
       " 38: u'Paraventricular hypothalamic nucleus',\n",
       " 39: u'Anterior cingulate area, dorsal part',\n",
       " 10734: u'Uvula (IX), molecular layer',\n",
       " 41: u'posteromedial visual area, layer 2/3',\n",
       " 42: u'Superior colliculus, motor related, deep white layer',\n",
       " 43: u'ansoparamedian fissure',\n",
       " 44: u'Infralimbic area',\n",
       " 45: u'Spinal nucleus of the trigeminal, oral part, rostral dorsomedial part',\n",
       " 46: u'mammillary related',\n",
       " 47: u'Paraventricular hypothalamic nucleus, magnocellular division, anterior magnocellular part',\n",
       " 48: u'Anterior cingulate area, ventral part',\n",
       " 49: u'intraparafloccular fissure',\n",
       " 50: u'Precommissural nucleus',\n",
       " 51: u'Intralaminar nuclei of the dorsal thalamus',\n",
       " 52: u'Entorhinal area, lateral part, layer 3',\n",
       " 53: u'Spinal nucleus of the trigeminal, oral part, middle dorsomedial part, dorsal zone',\n",
       " 54: u'medial forebrain bundle',\n",
       " 55: u'Paraventricular hypothalamic nucleus, parvicellular division, anterior parvicellular part',\n",
       " 56: u'Nucleus accumbens',\n",
       " 57: u'paramedian sulcus',\n",
       " 58: u'Medial terminal nucleus of the accessory optic tract',\n",
       " 59: u'Intermediodorsal nucleus of the thalamus',\n",
       " 60: u'Entorhinal area, lateral part, layer 6b',\n",
       " 61: u'Spinal nucleus of the trigeminal, oral part, middle dorsomedial part, ventral zone',\n",
       " 62: u'medial longitudinal fascicle',\n",
       " 63: u'Paraventricular hypothalamic nucleus, descending division',\n",
       " 64: u'Anterodorsal nucleus',\n",
       " 65: u'parafloccular sulcus',\n",
       " 66: u'Lateral terminal nucleus of the accessory optic tract',\n",
       " 67: u'Interstitial nucleus of Cajal',\n",
       " 68: u'Frontal pole, layer 1',\n",
       " 69: u'Spinal nucleus of the trigeminal, oral part, ventrolateral part',\n",
       " 70: u'midbrain related',\n",
       " 71: u'Paraventricular hypothalamic nucleus, magnocellular division',\n",
       " 72: u'Anterodorsal preoptic nucleus',\n",
       " 73: u'ventricular systems',\n",
       " 74: u'Lateral visual area, layer 6a',\n",
       " 75: u'Dorsal terminal nucleus of the accessory optic tract',\n",
       " 76: u'Interstitial nucleus of the vestibular nerve',\n",
       " 77: u'Spinal nucleus of the trigeminal, oral part, caudal dorsomedial part',\n",
       " 78: u'middle cerebellar peduncle',\n",
       " 79: u'Paraventricular hypothalamic nucleus, magnocellular division, medial magnocellular part',\n",
       " 80: u'Anterior hypothalamic area',\n",
       " 81: u'lateral ventricle',\n",
       " 82: u'Nucleus of the lateral lemniscus, dorsal part',\n",
       " 83: u'Inferior olivary complex',\n",
       " 84: u'Prelimbic area, layer 6a',\n",
       " 85: u'spinocerebellar tract',\n",
       " 86: u'middle thalamic commissure',\n",
       " 87: u'Paraventricular hypothalamic nucleus, parvicellular division, medial parvicellular part, dorsal zone',\n",
       " 88: u'Anterior hypothalamic nucleus',\n",
       " 89: u'rhinocele',\n",
       " 90: u'Nucleus of the lateral lemniscus, horizontal part',\n",
       " 91: u'Interposed nucleus',\n",
       " 92: u'Entorhinal area, lateral part, layer 4',\n",
       " 93: u'motor root of the trigeminal nerve',\n",
       " 94: u'Paraventricular hypothalamic nucleus, parvicellular division',\n",
       " 95: u'Agranular insular area',\n",
       " 96: u'Dorsal cochlear nucleus',\n",
       " 97: u'Temporal association areas, layer 1',\n",
       " 98: u'subependymal zone',\n",
       " 99: u'Nucleus of the lateral lemniscus, ventral part',\n",
       " 100: u'Interpeduncular nucleus',\n",
       " 101: u'Ventral cochlear nucleus',\n",
       " 102: u'nigrostriatal tract',\n",
       " 103: u'Paraventricular hypothalamic nucleus, magnocellular division, posterior magnocellular part',\n",
       " 104: u'Agranular insular area, dorsal part',\n",
       " 105: u'Superior olivary complex, medial part',\n",
       " 106: u'Inferior salivatory nucleus',\n",
       " 107: u'Somatomotor areas, Layer 1',\n",
       " 108: u'choroid plexus',\n",
       " 109: u'nigrothalamic fibers',\n",
       " 110: u'Paraventricular hypothalamic nucleus, parvicellular division, periventricular part',\n",
       " 111: u'Agranular insular area, posterior part',\n",
       " 112: u'Granular lamina of the cochlear nuclei',\n",
       " 113: u'Primary somatosensory area, lower limb, layer 2/3',\n",
       " 114: u'Superior olivary complex, lateral part',\n",
       " 115: u'Trochlear nucleus',\n",
       " 116: u'choroid fissure',\n",
       " 117: u'optic chiasm',\n",
       " 118: u'Periventricular hypothalamic nucleus, intermediate part',\n",
       " 119: u'Agranular insular area, ventral part',\n",
       " 120: u'Agranular insular area, posterior part, layer 1',\n",
       " 121: u'Lateral visual area, layer 6b',\n",
       " 122: u'Superior olivary complex, periolivary region',\n",
       " 123: u'Koelliker-Fuse subnucleus',\n",
       " 124: u'interventricular foramen',\n",
       " 125: u'optic tract',\n",
       " 126: u'Periventricular hypothalamic nucleus, posterior part',\n",
       " 127: u'Anteromedial nucleus',\n",
       " 128: u'Midbrain reticular nucleus',\n",
       " 129: u'third ventricle',\n",
       " 130: u'Superior central nucleus raphe, medial part',\n",
       " 131: u'Lateral amygdalar nucleus',\n",
       " 132: u'Prelimbic area, layer 6b',\n",
       " 133: u'Periventricular hypothalamic nucleus, preoptic part',\n",
       " 134: u'pallidotegmental fascicle',\n",
       " 135: u'Nucleus ambiguus',\n",
       " 136: u'Intermediate reticular nucleus',\n",
       " 137: u'Superior central nucleus raphe, lateral part',\n",
       " 138: u'Lateral group of the dorsal thalamus',\n",
       " 139: u'Entorhinal area, lateral part, layer 5',\n",
       " 140: u'cerebral aqueduct',\n",
       " 141: u'Periventricular region',\n",
       " 142: u'pallidothalamic pathway',\n",
       " 143: u'Nucleus ambiguus, ventral division',\n",
       " 144: u'Olfactory tubercle, layers 1-3',\n",
       " 145: u'fourth ventricle',\n",
       " 146: u'Pontine reticular nucleus',\n",
       " 12995: u'Somatosensory areas, layer 4',\n",
       " 148: u'Gustatory areas, layer 4',\n",
       " 149: u'Paraventricular nucleus of the thalamus',\n",
       " 150: u'periventricular bundle of the hypothalamus',\n",
       " 151: u'Accessory olfactory bulb',\n",
       " 152: u'Piriform area, layers 1-3',\n",
       " 708: u'Anterior hypothalamic nucleus, central part',\n",
       " 154: u'Perihypoglossal nuclei',\n",
       " 155: u'Lateral dorsal nucleus of thalamus',\n",
       " 156: u'Dorsal auditory area, layer 6a',\n",
       " 157: u'Periventricular zone',\n",
       " 158: u'posterior commissure',\n",
       " 159: u'Anterior olfactory nucleus',\n",
       " 160: u'Anterior olfactory nucleus, layer 1',\n",
       " 161: u'Nucleus intercalatus',\n",
       " 162: u'Laterodorsal tegmental nucleus',\n",
       " 163: u'Agranular insular area, posterior part, layer 2/3',\n",
       " 164: u'central canal, spinal cord/medulla',\n",
       " 165: u'Midbrain raphe nuclei',\n",
       " 166: u'premammillary commissure',\n",
       " 167: u'Anterior olfactory nucleus, dorsal part',\n",
       " 168: u'Anterior olfactory nucleus, layer 2',\n",
       " 169: u'Nucleus prepositus',\n",
       " 170: u'Dorsal part of the lateral geniculate complex',\n",
       " 171: u'Prelimbic area, layer 1',\n",
       " 173: u'Retrochiasmatic area',\n",
       " 174: u'preoptic commissure',\n",
       " 175: u'Anterior olfactory nucleus, external part',\n",
       " 177: u'Nucleus of Roller',\n",
       " 178: u'Ventral part of the lateral geniculate complex',\n",
       " 179: u'Anterior cingulate area, layer 6a',\n",
       " 180: u'Gustatory areas, layer 2/3',\n",
       " 181: u'Nucleus of reuniens',\n",
       " 182: u'propriohypothalamic pathways',\n",
       " 183: u'Anterior olfactory nucleus, lateral part',\n",
       " 184: u'Frontal pole, cerebral cortex',\n",
       " 185: u'Parapyramidal nucleus, deep part',\n",
       " 186: u'Lateral habenula',\n",
       " 187: u'Gustatory areas, layer 5',\n",
       " 188: u'Accessory olfactory bulb, glomerular layer',\n",
       " 189: u'Rhomboid nucleus',\n",
       " 190: u'pyramid',\n",
       " 191: u'Anterior olfactory nucleus, medial part',\n",
       " 192: u'Cortical amygdalar area, anterior part, layer 1',\n",
       " 193: u'Parapyramidal nucleus, superficial part',\n",
       " 194: u'Lateral hypothalamic area',\n",
       " 195: u'Prelimbic area, layer 2',\n",
       " 196: u'Accessory olfactory bulb, granular layer',\n",
       " 197: u'Rostral linear nucleus raphe',\n",
       " 198: u'pyramidal decussation',\n",
       " 199: u'Anterior olfactory nucleus, posteroventral part',\n",
       " 200: u'Cortical amygdalar area, anterior part, layer 2',\n",
       " 201: u'Primary somatosensory area, barrel field, layer 2/3',\n",
       " 202: u'Medial vestibular nucleus',\n",
       " 203: u'Linear nucleus of the medulla',\n",
       " 204: u'Accessory olfactory bulb, mitral layer',\n",
       " 205: u'retriculospinal tract, lateral part',\n",
       " 206: u'Nucleus raphe magnus',\n",
       " 207: u'Area postrema',\n",
       " 208: u'Cortical amygdalar area, anterior part, layer 3',\n",
       " 209: u'Lateral vestibular nucleus',\n",
       " 210: u'Lateral mammillary nucleus',\n",
       " 211: u'Anterior cingulate area, dorsal part, layer 2/3',\n",
       " 212: u'Main olfactory bulb, glomerular layer',\n",
       " 213: u'retriculospinal tract, medial part',\n",
       " 214: u'Red nucleus',\n",
       " 215: u'Anterior pretectal nucleus',\n",
       " 216: u'Cortical amygdalar area, posterior part, lateral zone, layer 1',\n",
       " 217: u'Superior vestibular nucleus',\n",
       " 218: u'Lateral posterior nucleus of the thalamus',\n",
       " 219: u'Somatomotor areas, Layer 2/3',\n",
       " 220: u'Main olfactory bulb, granule layer',\n",
       " 221: u'rubroreticular tract',\n",
       " 222: u'Nucleus raphe obscurus',\n",
       " 223: u'Arcuate hypothalamic nucleus',\n",
       " 224: u'Cortical amygdalar area, posterior part, lateral zone, layer 2',\n",
       " 225: u'Spinal vestibular nucleus',\n",
       " 226: u'Lateral preoptic area',\n",
       " 227: u'Anterior cingulate area, layer 6b',\n",
       " 228: u'Main olfactory bulb, inner plexiform layer',\n",
       " 229: u'sensory root of the trigeminal nerve',\n",
       " 230: u'Nucleus raphe pallidus',\n",
       " 231: u'Anterior tegmental nucleus',\n",
       " 232: u'Cortical amygdalar area, posterior part, lateral zone, layer 3',\n",
       " 233: u'Anterolateral visual area, layer 5',\n",
       " 234: u'Temporal association areas, layer 4',\n",
       " 235: u'Lateral reticular nucleus',\n",
       " 236: u'Main olfactory bulb, mitral layer',\n",
       " 237: u'solitary tract',\n",
       " 238: u'Nucleus raphe pontis',\n",
       " 239: u'Anterior group of the dorsal thalamus',\n",
       " 240: u'Cortical amygdalar area, posterior part, medial zone, layer 1',\n",
       " 241: u'Posterior parietal association areas, layer 2/3',\n",
       " 242: u'Lateral septal nucleus',\n",
       " 243: u'Dorsal auditory area, layer 6b',\n",
       " 244: u'Main olfactory bulb, outer plexiform layer',\n",
       " 245: u'spinocervical tract',\n",
       " 246: u'Midbrain reticular nucleus, retrorubral area',\n",
       " 247: u'Auditory areas',\n",
       " 248: u'Cortical amygdalar area, posterior part, medial zone, layer 2',\n",
       " 249: u'Posterior auditory area, layer 6a',\n",
       " 250: u'Lateral septal nucleus, caudal (caudodorsal) part',\n",
       " 251: u'Primary auditory area, layer 2/3',\n",
       " 252: u'Dorsal auditory area, layer 5',\n",
       " 253: u'spinohypothalamic pathway',\n",
       " 254: u'Retrosplenial area',\n",
       " 255: u'Anteroventral nucleus of thalamus',\n",
       " 256: u'Cortical amygdalar area, posterior part, medial zone, layer 3',\n",
       " 257: u'posteromedial visual area, layer 6a',\n",
       " 258: u'Lateral septal nucleus, rostral (rostroventral) part',\n",
       " 259: u'Entorhinal area, medial part, ventral zone, layer 1',\n",
       " 260: u'Nucleus of the lateral olfactory tract, molecular layer',\n",
       " 261: u'spino-olivary pathway',\n",
       " 262: u'Reticular nucleus of the thalamus',\n",
       " 263: u'Anteroventral preoptic nucleus',\n",
       " 264: u'Orbital area, layer 1',\n",
       " 266: u'Lateral septal nucleus, ventral part',\n",
       " 267: u'Dorsal peduncular area, layer 6a',\n",
       " 268: u'Nucleus of the lateral olfactory tract, pyramidal layer',\n",
       " 269: u'Posterolateral visual area, layer 2/3',\n",
       " 270: u'spinoreticular pathway',\n",
       " 271: u'Nucleus sagulum',\n",
       " 272: u'Anteroventral periventricular nucleus',\n",
       " 274: u'Retrosplenial area, dorsal part, layer 6a',\n",
       " 275: u'Lateral septal complex',\n",
       " 276: u'Piriform area, molecular layer',\n",
       " 277: u'spinotectal pathway',\n",
       " 278: u'Striatum-like amygdalar nuclei',\n",
       " 279: u'Retrosplenial area, lateral agranular part, layer 6b',\n",
       " 280: u\"Barrington's nucleus\",\n",
       " 281: u'Anteromedial visual area, layer 1',\n",
       " 283: u'Lateral tegmental nucleus',\n",
       " 284: u'Piriform area, pyramidal layer',\n",
       " 285: u'spinotelenchephalic pathway',\n",
       " 286: u'Suprachiasmatic nucleus',\n",
       " 287: u'Bed nucleus of the anterior commissure',\n",
       " 288: u'Orbital area, ventrolateral part, layer 2/3',\n",
       " 289: u'Temporal association areas, layer 5',\n",
       " 290: u'Hypothalamic lateral zone',\n",
       " 291: u'Piriform area, polymorph layer',\n",
       " 292: u'Bed nucleus of the accessory olfactory tract',\n",
       " 293: u'spinovestibular pathway',\n",
       " 294: u'Superior colliculus, motor related',\n",
       " 295: u'Basolateral amygdalar nucleus',\n",
       " 296: u'Anterior cingulate area, ventral part, layer 2/3',\n",
       " 297: u'Taenia tecta, dorsal part, layers 1-4',\n",
       " 298: u'Magnocellular nucleus',\n",
       " 299: u'Somatomotor areas, Layer 5',\n",
       " 300: u'Ventral part of the lateral geniculate complex, lateral zone',\n",
       " 301: u'stria terminalis',\n",
       " 302: u'Superior colliculus, sensory related',\n",
       " 303: u'Basolateral amygdalar nucleus, anterior part',\n",
       " 304: u'Prelimbic area, layer 2/3',\n",
       " 305: u'Primary visual area, layer 6b',\n",
       " 306: u'Taenia tecta, ventral part, layers 1-3',\n",
       " 307: u'Magnocellular reticular nucleus',\n",
       " 308: u'Posterior parietal association areas, layer 6a',\n",
       " 309: u'striatonigral pathway',\n",
       " 310: u'Septofimbrial nucleus',\n",
       " 311: u'Basolateral amygdalar nucleus, posterior part',\n",
       " 312: u'Entorhinal area, lateral part, layer 4/5',\n",
       " 313: u'Midbrain',\n",
       " 314: u'Agranular insular area, posterior part, layer 6a',\n",
       " 315: u'Isocortex',\n",
       " 316: u'Ventral part of the lateral geniculate complex, medial zone',\n",
       " 317: u'subthalamic fascicle',\n",
       " 318: u'Supragenual nucleus',\n",
       " 319: u'Basomedial amygdalar nucleus',\n",
       " 320: u'Primary motor area, Layer 1',\n",
       " 321: u'Subgeniculate nucleus',\n",
       " 322: u'Primary somatosensory area',\n",
       " 323: u'Midbrain, motor related',\n",
       " 324: u'Entorhinal area, medial part, ventral zone, layer 2',\n",
       " 325: u'Suprageniculate nucleus',\n",
       " 326: u'superior cerebelar peduncles',\n",
       " 327: u'Basomedial amygdalar nucleus, anterior part',\n",
       " 328: u'Agranular insular area, dorsal part, layer 2/3',\n",
       " 329: u'Primary somatosensory area, barrel field',\n",
       " 330: u'Retrosplenial area, dorsal part, layer 6b',\n",
       " 331: u'Mammillary body',\n",
       " 332: u'Accessory supraoptic group',\n",
       " 333: u'Septohippocampal nucleus',\n",
       " 334: u'Basomedial amygdalar nucleus, posterior part',\n",
       " 335: u'Perirhinal area, layer 6a',\n",
       " 336: u'superior colliculus commissure',\n",
       " 337: u'Primary somatosensory area, lower limb',\n",
       " 338: u'Subfornical organ',\n",
       " 339: u'Midbrain, sensory related',\n",
       " 340: u'Posterior parietal association areas, layer 6b',\n",
       " 341: u'supramammillary decussation',\n",
       " 342: u'Substantia innominata',\n",
       " 343: u'Brain stem',\n",
       " 344: u'Agranular insular area, posterior part, layer 5',\n",
       " 345: u'Primary somatosensory area, mouth',\n",
       " 346: u'Primary somatosensory area, layer 2/3',\n",
       " 347: u'Subparaventricular zone',\n",
       " 348: u'Midbrain, behavioral state related',\n",
       " 349: u'supraoptic commissures',\n",
       " 350: u'Subceruleus nucleus',\n",
       " 351: u'Bed nuclei of the stria terminalis',\n",
       " 352: u'Orbital area, layer 5',\n",
       " 353: u'Primary somatosensory area, nose',\n",
       " 354: u'Medulla',\n",
       " 355: u'Agranular insular area, posterior part, layer 6b',\n",
       " 356: u'Preparasubthalamic nucleus',\n",
       " 357: u'tectothalamic pathway',\n",
       " 358: u'Sublaterodorsal nucleus',\n",
       " 359: u'Bed nuclei of the stria terminalis, anterior division',\n",
       " 360: u'Dorsal peduncular area, layer 2/3',\n",
       " 361: u'Primary somatosensory area, trunk',\n",
       " 362: u'Mediodorsal nucleus of thalamus',\n",
       " 363: u'Prelimbic area, layer 5',\n",
       " 364: u'Parasubthalamic nucleus',\n",
       " 365: u'thalamic peduncles',\n",
       " 366: u'Submedial nucleus of the thalamus',\n",
       " 367: u'Bed nuclei of the stria terminalis, posterior division',\n",
       " 368: u'Perirhinal area, layer 6b',\n",
       " 369: u'Primary somatosensory area, upper limb',\n",
       " 370: u'Medulla, motor related',\n",
       " 371: u'Entorhinal area, medial part, ventral zone, layer 3',\n",
       " 372: u'Infracerebellar nucleus',\n",
       " 373: u'trigeminocerebellar tract',\n",
       " 374: u'Substantia nigra, compact part',\n",
       " 375: u\"Ammon's horn\",\n",
       " 376: u'Cortical amygdalar area, posterior part, lateral zone, layers 1-3',\n",
       " 377: u'Posterolateral visual area, layer 6a',\n",
       " 378: u'Supplemental somatosensory area',\n",
       " 379: u'Medulla, behavioral state related',\n",
       " 380: u'cuneate fascicle',\n",
       " 381: u'Substantia nigra, reticular part',\n",
       " 382: u'Field CA1',\n",
       " 383: u'Cortical amygdalar area, posterior part, medial zone, layers 1-3',\n",
       " 384: u'trochlear nerve decussation',\n",
       " 385: u'Primary visual area',\n",
       " 386: u'Medulla, sensory related',\n",
       " 387: u'Entorhinal area, lateral part, layer 5/6',\n",
       " 388: u'gracile fascicle',\n",
       " 389: u'ventral spinothalamic tract',\n",
       " 390: u'Supraoptic nucleus',\n",
       " 391: u'Field CA1, stratum lacunosum-moleculare',\n",
       " 392: u'Nucleus of the lateral olfactory tract, layers 1-3',\n",
       " 393: u'Posterolateral visual area, layer 6b',\n",
       " 394: u'Anteromedial visual area',\n",
       " 395: u'Medullary reticular nucleus',\n",
       " 396: u'internal arcuate fibers',\n",
       " 397: u'ventral tegmental decussation',\n",
       " 398: u'Superior olivary complex',\n",
       " 399: u'Field CA1, stratum oriens',\n",
       " 400: u'Piriform-amygdalar area, layers 1-3',\n",
       " 401: u'Anteromedial visual area, layer 4',\n",
       " 402: u'Anterolateral visual area',\n",
       " 403: u'Medial amygdalar nucleus',\n",
       " 404: u'olivocerebellar tract',\n",
       " 405: u'ventrolateral hypothalamic tract',\n",
       " 406: u'Subparafascicular nucleus',\n",
       " 407: u'Field CA1, pyramidal layer',\n",
       " 408: u'Piriform-amygdalar area, molecular layer',\n",
       " 409: u'Lateral visual area',\n",
       " 410: u'reticulocerebellar tract',\n",
       " 411: u'Medial amygdalar nucleus, anterodorsal part',\n",
       " 412: u'Orbital area, lateral part, layer 2/3',\n",
       " 413: u'vestibular nerve',\n",
       " 414: u'Subparafascicular nucleus, magnocellular part',\n",
       " 415: u'Field CA1, stratum radiatum',\n",
       " 416: u'Piriform-amygdalar area, pyramidal layer',\n",
       " 417: u'Rostrolateral visual area',\n",
       " 418: u'Medial amygdalar nucleus, anteroventral part',\n",
       " 419: u'Entorhinal area, medial part, ventral zone, layer 4',\n",
       " 420: u'precommissural fornix diagonal band',\n",
       " 421: u'Lateral visual area, layer 1',\n",
       " 422: u'Subparafascicular nucleus, parvicellular part',\n",
       " 423: u'Field CA2',\n",
       " 424: u'Piriform-amygdalar area, polymorph layer',\n",
       " 425: u'Posterolateral visual area',\n",
       " 426: u'Medial amygdalar nucleus, posterodorsal part',\n",
       " 427: u'Ectorhinal area/Layer 2/3',\n",
       " 428: u'medial corticohypothalamic tract',\n",
       " 429: u'Spinal nucleus of the trigeminal, caudal part',\n",
       " 430: u'Retrosplenial area, ventral part, layer 2/3',\n",
       " 431: u'Field CA2, stratum lacunosum-moleculare',\n",
       " 432: u'Nucleus circularis',\n",
       " 433: u'Anteromedial visual area, layer 5',\n",
       " 434: u'Retrosplenial area, dorsal part, layer 2/3',\n",
       " 435: u'Medial amygdalar nucleus, posteroventral part',\n",
       " 436: u'columns of the fornix',\n",
       " 437: u'Spinal nucleus of the trigeminal, interpolar part',\n",
       " 438: u'Field CA2, stratum oriens',\n",
       " 439: u'Paraventricular hypothalamic nucleus, descending division, dorsal parvicellular part',\n",
       " 440: u'Orbital area, lateral part, layer 6a',\n",
       " 441: u'Anteromedial visual area, layer 6b',\n",
       " 442: u'Retrosplenial area, dorsal part, layer 1',\n",
       " 443: u'dorsal hippocampal commissure',\n",
       " 444: u'Medial group of the dorsal thalamus',\n",
       " 445: u'Spinal nucleus of the trigeminal, oral part',\n",
       " 446: u'Field CA2, pyramidal layer',\n",
       " 447: u'Paraventricular hypothalamic nucleus, descending division, forniceal part',\n",
       " 448: u'Orbital area, lateral part, layer 1',\n",
       " 449: u'ventral hippocampal commissure',\n",
       " 450: u'Primary somatosensory area, upper limb, layer 1',\n",
       " 451: u'Basolateral amygdalar nucleus, ventral part',\n",
       " 452: u'Median preoptic nucleus',\n",
       " 453: u'Somatosensory areas',\n",
       " 454: u'Field CA2, stratum radiatum',\n",
       " 455: u'Paraventricular hypothalamic nucleus, descending division, lateral parvicellular part',\n",
       " 456: u'Posterior auditory area, layer 6b',\n",
       " 457: u'Visual areas, layer 6a',\n",
       " 458: u'Olfactory tubercle, molecular layer',\n",
       " 459: u'accessory olfactory tract',\n",
       " 460: u'Midbrain trigeminal nucleus',\n",
       " 461: u'Primary somatosensory area, trunk, layer 6b',\n",
       " 462: u'Superior salivatory nucleus',\n",
       " 463: u'Field CA3',\n",
       " 464: u'Paraventricular hypothalamic nucleus, descending division, medial parvicellular part, ventral zone',\n",
       " 465: u'Olfactory tubercle, pyramidal layer',\n",
       " 466: u'alveus',\n",
       " 467: u'Hypothalamic medial zone',\n",
       " 468: u'Entorhinal area, medial part, dorsal zone, layer 2a',\n",
       " 469: u'posteromedial visual area, layer 6b',\n",
       " 470: u'Subthalamic nucleus',\n",
       " 471: u'Field CA3, stratum lacunosum-moleculare',\n",
       " 472: u'Medial amygdalar nucleus, posterodorsal part, sublayer a',\n",
       " 473: u'Olfactory tubercle, polymorph layer',\n",
       " 474: u'angular path',\n",
       " 475: u'Medial geniculate complex',\n",
       " 476: u'Orbital area, layer 6a',\n",
       " 477: u'Striatum',\n",
       " 478: u'Primary somatosensory area, lower limb, layer 6a',\n",
       " 479: u'Field CA3, stratum lucidum',\n",
       " 480: u'Medial amygdalar nucleus, posterodorsal part, sublayer b',\n",
       " 481: u'Islands of Calleja',\n",
       " 482: u'brachium of the inferior colliculus',\n",
       " 483: u'Medial habenula',\n",
       " 484: u'Orbital area, medial part, layer 1',\n",
       " 485: u'Striatum dorsal region',\n",
       " 486: u'Field CA3, stratum oriens',\n",
       " 487: u'Medial amygdalar nucleus, posterodorsal part, sublayer c',\n",
       " 488: u'Orbital area, lateral part, layer 6b',\n",
       " 489: u'Major island of Calleja',\n",
       " 490: u'bulbocerebellar tract',\n",
       " 491: u'Medial mammillary nucleus',\n",
       " 492: u'Orbital area, layer 2/3',\n",
       " 493: u'Striatum ventral region',\n",
       " 494: u'Superior colliculus, motor related, intermediate gray layer, sublayer a',\n",
       " 495: u'Field CA3, pyramidal layer',\n",
       " 496: u'Dorsal peduncular area, layer 1',\n",
       " 497: u'Visual areas, layer 6b',\n",
       " 498: u'Bed nuclei of the stria terminalis, anterior division, anteromedial area',\n",
       " 499: u'cuneocerebellar tract',\n",
       " 500: u'Somatomotor areas',\n",
       " 501: u'posteromedial visual area, layer 4',\n",
       " 502: u'Subiculum',\n",
       " 503: u'Superior colliculus, motor related, intermediate gray layer, sublayer b',\n",
       " 504: u'Field CA3, stratum radiatum',\n",
       " 505: u'Bed nuclei of the stria terminalis, anterior division, dorsomedial nucleus',\n",
       " 506: u'dorsal acoustic stria',\n",
       " 507: u'Main olfactory bulb',\n",
       " 508: u'Entorhinal area, medial part, dorsal zone, layer 2b',\n",
       " 509: u'Subiculum, dorsal part',\n",
       " 510: u'Primary somatosensory area, lower limb, layer 6b',\n",
       " 511: u'Superior colliculus, motor related, intermediate gray layer, sublayer c',\n",
       " 512: u'Cerebellum',\n",
       " 513: u'Bed nuclei of the stria terminalis, anterior division, fusiform nucleus',\n",
       " 514: u'dorsal column',\n",
       " 515: u'Medial preoptic nucleus',\n",
       " 516: u'Orbital area, layer 6b',\n",
       " 517: u'Postpiriform transition area, layers 1-3',\n",
       " 518: u'Subiculum, ventral part',\n",
       " 519: u'Cerebellar nuclei',\n",
       " 520: u'Ventral auditory area, layer 6a',\n",
       " 521: u'Bed nuclei of the stria terminalis, anterior division, magnocellular nucleus',\n",
       " 522: u'dorsal commissure of the spinal cord',\n",
       " 523: u'Medial preoptic area',\n",
       " 524: u'Orbital area, medial part, layer 2',\n",
       " 525: u'Supramammillary nucleus',\n",
       " 526: u'Entorhinal area, medial part, dorsal zone, layer 1',\n",
       " 527: u'Dorsal auditory area, layer 1',\n",
       " 528: u'Cerebellar cortex',\n",
       " 529: u'Bed nuclei of the stria terminalis, anterior division, ventral nucleus',\n",
       " 530: u'dorsal fornix',\n",
       " 531: u'Medial pretectal area',\n",
       " 532: u'Posterior parietal association areas, layer 1',\n",
       " 533: u'posteromedial visual area',\n",
       " 534: u'Supratrigeminal nucleus',\n",
       " 535: u'Dorsal peduncular area, layer 2',\n",
       " 536: u'Central amygdalar nucleus',\n",
       " 537: u'Bed nuclei of the stria terminalis, anterior division, anterolateral area',\n",
       " 538: u'dorsal limb',\n",
       " 539: u'Midbrain reticular nucleus, magnocellular part',\n",
       " 540: u'Perirhinal area, layer 1',\n",
       " 541: u'Temporal association areas',\n",
       " 542: u'Retrosplenial area, ventral part, layer 1',\n",
       " 543: u'Entorhinal area, medial part, dorsal zone, layer 2',\n",
       " 544: u'Central amygdalar nucleus, capsular part',\n",
       " 545: u'Retrosplenial area, dorsal part, layer 4',\n",
       " 546: u'Bed nuclei of the stria terminalis, anterior division, juxtacapsular nucleus',\n",
       " 547: u'dorsal longitudinal fascicle',\n",
       " 548: u'Midbrain reticular nucleus, magnocellular part, general',\n",
       " 549: u'Thalamus',\n",
       " 550: u'Entorhinal area, medial part, dorsal zone, layer 5/6',\n",
       " 551: u'Central amygdalar nucleus, lateral part',\n",
       " 552: u'Pontine reticular nucleus, ventral part',\n",
       " 553: u'dorsal spinocerebellar tract',\n",
       " 554: u'Bed nuclei of the stria terminalis, anterior division, oval nucleus',\n",
       " 555: u'Midbrain reticular nucleus, parvicellular part',\n",
       " 556: u'Infralimbic area, layer 2/3',\n",
       " 557: u'Tuberomammillary nucleus',\n",
       " 558: u'Primary somatosensory area, nose, layer 1',\n",
       " 559: u'Central amygdalar nucleus, medial part',\n",
       " 560: u'Cochlear nucleus, subpedunclular granular region',\n",
       " 561: u'Visual areas, layer 2/3',\n",
       " 562: u'Bed nuclei of the stria terminalis, anterior division, rhomboid nucleus',\n",
       " 563: u'dorsal tegmental tract',\n",
       " 564: u'Medial septal nucleus',\n",
       " 565: u'posteromedial visual area, layer 5',\n",
       " 566: u'Postpiriform transition area',\n",
       " 567: u'Cerebrum',\n",
       " 568: u'Accessory abducens nucleus',\n",
       " 569: u'Bed nuclei of the stria terminalis, posterior division, dorsal nucleus',\n",
       " 570: u'dorsolateral fascicle',\n",
       " 571: u'Midline group of the dorsal thalamus',\n",
       " 572: u'Anterior cingulate area, layer 1',\n",
       " 573: u'Lateral visual area, layer 4',\n",
       " 574: u'Tegmental reticular nucleus',\n",
       " 575: u'Central lateral nucleus of the thalamus',\n",
       " 496345664: u'Dorsal part of the lateral geniculate complex, shell',\n",
       " 577: u'Primary somatosensory area, upper limb, layer 4',\n",
       " 578: u'Bed nuclei of the stria terminalis, posterior division, principal nucleus',\n",
       " 579: u'external capsule',\n",
       " 496345668: u'Dorsal part of the lateral geniculate complex, core',\n",
       " 581: u'Triangular nucleus of septum',\n",
       " 582: u'Orbital area, medial part, layer 2/3',\n",
       " 583: u'Claustrum',\n",
       " 584: u'Cortical amygdalar area, posterior part, lateral zone, layers 1-2',\n",
       " 585: u'Bed nuclei of the stria terminalis, posterior division, interfascicular nucleus',\n",
       " 586: u'fasciculus proprius',\n",
       " 587: u'Nucleus of Darkschewitsch',\n",
       " 588: u'Anterior cingulate area, ventral part, layer 1',\n",
       " 589: u'Taenia tecta',\n",
       " 590: u'Retrosplenial area, ventral part, layer 6a',\n",
       " 591: u'Central linear nucleus raphe',\n",
       " 592: u'Cortical amygdalar area, posterior part, medial zone, layers 1-2',\n",
       " 593: u'Primary visual area, layer 1',\n",
       " 594: u'Bed nuclei of the stria terminalis, posterior division, transverse nucleus',\n",
       " 595: u'fasciculus retroflexus',\n",
       " 596: u'Diagonal band nucleus',\n",
       " 597: u'Taenia tecta, dorsal part',\n",
       " 598: u'Ventral auditory area, layer 6b',\n",
       " 599: u'Central medial nucleus of the thalamus',\n",
       " 600: u'Dorsal auditory area, layer 2/3',\n",
       " 601: u'Anterolateral visual area, layer 6a',\n",
       " 602: u'Bed nuclei of the stria terminalis, posterior division, strial extension',\n",
       " 603: u'fimbria',\n",
       " 604: u'Nucleus incertus',\n",
       " 605: u'Taenia tecta, ventral part',\n",
       " 606: u'Retrosplenial area, ventral part, layer 2',\n",
       " 607: u'Cochlear nuclei',\n",
       " 608: u'Orbital area, ventrolateral part, layer 6a',\n",
       " 609: u'Subparafascicular area',\n",
       " 610: u'Retrosplenial area, dorsal part, layer 5',\n",
       " 611: u'habenular commissure',\n",
       " 612: u'Nucleus of the lateral lemniscus',\n",
       " 613: u'Lateral visual area, layer 5',\n",
       " 614: u'Tuberal nucleus',\n",
       " 615: u'Substantia nigra, lateral part',\n",
       " 616: u'Cuneiform nucleus',\n",
       " 617: u'Mediodorsal nucleus of the thalamus, central part',\n",
       " 618: u'hippocampal commissures',\n",
       " 619: u'Nucleus of the lateral olfactory tract',\n",
       " 620: u'Orbital area, medial part, layer 5',\n",
       " 621: u'Motor nucleus of trigeminal',\n",
       " 622: u'Retrosplenial area, ventral part, layer 6b',\n",
       " 623: u'Cerebral nuclei',\n",
       " 624: u'Interpeduncular fossa',\n",
       " 625: u'Primary somatosensory area, upper limb, layer 5',\n",
       " 626: u'Mediodorsal nucleus of the thalamus, lateral part',\n",
       " 627: u'hypothalamohypophysial tract',\n",
       " 628: u'Nucleus of the optic tract',\n",
       " 629: u'Ventral anterior-lateral complex of the thalamus',\n",
       " 630: u'Orbital area, lateral part, layer 5',\n",
       " 631: u'Cortical amygdalar area',\n",
       " 632: u'Dentate gyrus, granule cell layer',\n",
       " 633: u'inferior colliculus commissure',\n",
       " 634: u'Nucleus of the posterior commissure',\n",
       " 635: u'Posterior parietal association areas, layer 4',\n",
       " 636: u'Mediodorsal nucleus of the thalamus, medial part',\n",
       " 637: u'Ventral group of the dorsal thalamus',\n",
       " 638: u'Gustatory areas, layer 6a',\n",
       " 639: u'Cortical amygdalar area, anterior part',\n",
       " 640: u'Efferent vestibular nucleus',\n",
       " 641: u'intermediate acoustic stria',\n",
       " 642: u'Nucleus of the trapezoid body',\n",
       " 643: u'Posterior auditory area, layer 2/3',\n",
       " 644: u'Somatomotor areas, Layer 6a',\n",
       " 645: u'Vermal regions',\n",
       " 646: u'Dorsal peduncular area, layer 5',\n",
       " 647: u'Cortical amygdalar area, posterior part',\n",
       " 648: u'Primary motor area, Layer 5',\n",
       " 649: u'Anterolateral visual area, layer 6b',\n",
       " 650: u'juxtarestiform body',\n",
       " 651: u'Nucleus of the solitary tract',\n",
       " 652: u'Paraventricular hypothalamic nucleus, magnocellular division, posterior magnocellular part, lateral zone',\n",
       " 653: u'Abducens nucleus',\n",
       " 654: u'Primary somatosensory area, nose, layer 4',\n",
       " 655: u'Cortical amygdalar area, posterior part, lateral zone',\n",
       " 656: u'Secondary motor area, layer 1',\n",
       " 657: u'Primary somatosensory area, mouth, layer 2/3',\n",
       " 658: u'lateral lemniscus',\n",
       " 659: u'Nucleus of the solitary tract, central part',\n",
       " 660: u'Paraventricular hypothalamic nucleus, magnocellular division, posterior magnocellular part, medial zone',\n",
       " 661: u'Facial motor nucleus',\n",
       " 662: u'Gustatory areas, layer 6b',\n",
       " 663: u'Cortical amygdalar area, posterior part, medial zone',\n",
       " 664: u'Entorhinal area, medial part, dorsal zone, layer 3',\n",
       " 665: u'lateral olfactory tract, body',\n",
       " 666: u'Nucleus of the solitary tract, commissural part',\n",
       " 667: u'Frontal pole, layer 2/3',\n",
       " 668: u'Dorsomedial nucleus of the hypothalamus, anterior part',\n",
       " 669: u'Visual areas',\n",
       " 670: u'Primary somatosensory area, trunk, layer 2/3',\n",
       " 671: u'Retrosplenial area, lateral agranular part, layer 1',\n",
       " 672: u'Caudoputamen',\n",
       " 673: u'mammillary peduncle',\n",
       " 674: u'Nucleus of the solitary tract, gelatinous part',\n",
       " 675: u'Agranular insular area, ventral part, layer 6a',\n",
       " 676: u'Dorsomedial nucleus of the hypothalamus, posterior part',\n",
       " 677: u'Visceral area',\n",
       " 678: u'Dorsal auditory area, layer 4',\n",
       " 679: u'Superior central nucleus raphe',\n",
       " 680: u'Orbital area, ventrolateral part, layer 6b',\n",
       " 681: u'mammillotegmental tract',\n",
       " 682: u'Nucleus of the solitary tract, lateral part',\n",
       " 683: u'Posterior parietal association areas, layer 5',\n",
       " 684: u'Dorsomedial nucleus of the hypothalamus, ventral part',\n",
       " 685: u'Ventral medial nucleus of the thalamus',\n",
       " 686: u'Primary somatosensory area, layer 6a',\n",
       " 687: u'Retrosplenial area, ventral part, layer 5',\n",
       " 688: u'Cerebral cortex',\n",
       " 689: u'Ventrolateral preoptic nucleus',\n",
       " 690: u'mammillothalamic tract',\n",
       " 691: u'Nucleus of the solitary tract, medial part',\n",
       " 692: u'Perirhinal area, layer 5',\n",
       " 693: u'Ventromedial hypothalamic nucleus',\n",
       " 694: u'Agranular insular area, ventral part, layer 2/3',\n",
       " 695: u'Cortical plate',\n",
       " 696: u'Posterior auditory area, layer 1',\n",
       " 697: u'medial lemniscus',\n",
       " 698: u'Olfactory areas',\n",
       " 699: u'Agranular insular area, ventral part, layer 6b',\n",
       " 700: u'Anterior hypothalamic nucleus, anterior part',\n",
       " 701: u'Vestibular nuclei',\n",
       " 702: u'Primary somatosensory area, nose, layer 5',\n",
       " 703: u'Cortical subplate',\n",
       " 704: u'Agranular insular area, ventral part, layer 1',\n",
       " 12993: u'Somatosensory areas, layer 1',\n",
       " 12994: u'Somatosensory areas, layer 2/3',\n",
       " 707: u'Infralimbic area, layer 1',\n",
       " 12996: u'Somatosensory areas, layer 5',\n",
       " 12997: u'Somatosensory areas, layer 6a',\n",
       " 710: u'abducens nerve',\n",
       " 711: u'Cuneate nucleus',\n",
       " 712: u'Entorhinal area, medial part, dorsal zone, layer 4',\n",
       " 713: u'perforant path',\n",
       " 714: u'Orbital area',\n",
       " 715: u'Entorhinal area, lateral part, layer 2a',\n",
       " 716: u'Anterior hypothalamic nucleus, dorsal part',\n",
       " 717: u'accessory spinal nerve',\n",
       " 718: u'Ventral posterolateral nucleus of the thalamus',\n",
       " 719: u'Primary somatosensory area, layer 6b',\n",
       " 720: u'Dorsal column nuclei',\n",
       " 721: u'Primary visual area, layer 4',\n",
       " 722: u'periventricular bundle of the thalamus',\n",
       " 723: u'Orbital area, lateral part',\n",
       " 724: u'Anterior hypothalamic nucleus, posterior part',\n",
       " 725: u'Ventral posterolateral nucleus of the thalamus, parvicellular part',\n",
       " 726: u'Dentate gyrus',\n",
       " 727: u'Entorhinal area, medial part, dorsal zone, layer 5',\n",
       " 728: u'arbor vitae',\n",
       " 729: u'Temporal association areas, layer 6a',\n",
       " 730: u'pineal stalk',\n",
       " 731: u'Orbital area, medial part',\n",
       " 732: u'Medial mammillary nucleus, median part',\n",
       " 733: u'Ventral posteromedial nucleus of the thalamus',\n",
       " 734: u'Dentate gyrus crest',\n",
       " 735: u'Primary auditory area, layer 1',\n",
       " 736: u'central tegmental bundle',\n",
       " 737: u'postcommissural fornix',\n",
       " 738: u'Orbital area, ventral part',\n",
       " 739: u'Anterior cingulate area, layer 5',\n",
       " 740: u'Medial preoptic nucleus, central part',\n",
       " 741: u'Ventral posteromedial nucleus of the thalamus, parvicellular part',\n",
       " 742: u'Dentate gyrus crest, molecular layer',\n",
       " 743: u'Entorhinal area, medial part, dorsal zone, layer 6',\n",
       " 744: u'cerebellar commissure',\n",
       " 745: u'precommissural fornix, general',\n",
       " 746: u'Orbital area, ventrolateral part',\n",
       " 747: u'Infralimbic area, layer 2',\n",
       " 748: u'Medial preoptic nucleus, lateral part',\n",
       " 749: u'Ventral tegmental area',\n",
       " 750: u'Posterolateral visual area, layer 1',\n",
       " 751: u'Dentate gyrus crest, polymorph layer',\n",
       " 752: u'cerebellar peduncles',\n",
       " 753: u'principal mammillary tract',\n",
       " 754: u'Olfactory tubercle',\n",
       " 755: u'Ventral auditory area, layer 2/3',\n",
       " 756: u'Medial preoptic nucleus, medial part',\n",
       " 757: u'Ventral tegmental nucleus',\n",
       " 758: u'Dentate gyrus crest, granule cell layer',\n",
       " 759: u'Posterior auditory area, layer 4',\n",
       " 760: u'cerebral nuclei related',\n",
       " 761: u'Ventromedial hypothalamic nucleus, anterior part',\n",
       " 762: u'propriohypothalamic pathways, dorsal',\n",
       " 763: u'Vascular organ of the lamina terminalis',\n",
       " 764: u'Entorhinal area, lateral part, layer 2b',\n",
       " 765: u'Nucleus x',\n",
       " 766: u'Dentate gyrus lateral blade',\n",
       " 767: u'Secondary motor area, layer 5',\n",
       " 768: u'cerebrum related',\n",
       " 769: u'Ventromedial hypothalamic nucleus, central part',\n",
       " 770: u'propriohypothalamic pathways, lateral',\n",
       " 771: u'Pons',\n",
       " 772: u'Anterior cingulate area, ventral part, layer 5',\n",
       " 773: u'Hypoglossal nucleus',\n",
       " 774: u'Retrosplenial area, lateral agranular part, layer 5',\n",
       " 775: u'Dentate gyrus lateral blade, molecular layer',\n",
       " 776: u'corpus callosum',\n",
       " 777: u'Ventromedial hypothalamic nucleus, dorsomedial part',\n",
       " 778: u'Primary visual area, layer 5',\n",
       " 779: u'propriohypothalamic pathways, medial',\n",
       " 780: u'Posterior amygdalar nucleus',\n",
       " 781: u'Nucleus y',\n",
       " 782: u'Dentate gyrus lateral blade, polymorph layer',\n",
       " 783: u'Agranular insular area, dorsal part, layer 6a',\n",
       " 784: u'corticospinal tract',\n",
       " 785: u'Ventromedial hypothalamic nucleus, ventrolateral part',\n",
       " 786: u'Temporal association areas, layer 6b',\n",
       " 787: u'propriohypothalamic pathways, ventral',\n",
       " 788: u'Piriform-amygdalar area',\n",
       " 789: u'Nucleus z',\n",
       " 790: u'Dentate gyrus lateral blade, granule cell layer',\n",
       " 791: u'Posterior auditory area, layer 5',\n",
       " 792: u'dorsal roots',\n",
       " 793: u'Primary somatosensory area, layer 1',\n",
       " 794: u'spinal tract of the trigeminal nerve',\n",
       " 795: u'Periaqueductal gray',\n",
       " 796: u'Dopaminergic A13 group',\n",
       " 797: u'Zona incerta',\n",
       " 798: u'facial nerve',\n",
       " 799: u'Dentate gyrus medial blade',\n",
       " 800: u'Agranular insular area, ventral part, layer 5',\n",
       " 801: u'Visual areas, layer 1',\n",
       " 802: u'stria medullaris',\n",
       " 803: u'Pallidum',\n",
       " 804: u'Fields of Forel',\n",
       " 805: u'posteromedial visual area, layer 1',\n",
       " 806: u'Supplemental somatosensory area, layer 2/3',\n",
       " 807: u'Dentate gyrus medial blade, molecular layer',\n",
       " 808: u'glossopharyngeal nerve',\n",
       " 809: u'Pallidum, caudal region',\n",
       " 810: u'Anterior cingulate area, ventral part, 6a',\n",
       " 811: u'Inferior colliculus, central nucleus',\n",
       " 812: u'superior cerebellar peduncle decussation',\n",
       " 813: u'hypoglossal nerve',\n",
       " 814: u'Dorsal peduncular area',\n",
       " 815: u'Dentate gyrus medial blade, polymorph layer',\n",
       " 816: u'Primary auditory area, layer 4',\n",
       " 817: u'supraoptic commissures, anterior',\n",
       " 818: u'Pallidum, dorsal region',\n",
       " 819: u'Anterior cingulate area, ventral part, 6b',\n",
       " 820: u'Inferior colliculus, dorsal nucleus',\n",
       " 821: u'Primary visual area, layer 2/3',\n",
       " 822: u'Retrohippocampal region',\n",
       " 823: u'Dentate gyrus medial blade, granule cell layer',\n",
       " 824: u'hypothalamus related',\n",
       " 825: u'supraoptic commissures, dorsal',\n",
       " 826: u'Pallidum, medial region',\n",
       " 827: u'Infralimbic area, layer 5',\n",
       " 828: u'Inferior colliculus, external nucleus',\n",
       " 829: u'Subiculum, dorsal part, molecular layer',\n",
       " 830: u'Dorsomedial nucleus of the hypothalamus',\n",
       " 831: u'Agranular insular area, dorsal part, layer 6b',\n",
       " 832: u'oculomotor nerve',\n",
       " 833: u'supraoptic commissures, ventral',\n",
       " 834: u'Superior colliculus, zonal layer',\n",
       " 835: u'Pallidum, ventral region',\n",
       " 836: u'Ectorhinal area/Layer 1',\n",
       " 837: u'Subiculum, dorsal part, stratum radiatum',\n",
       " 838: u'Primary somatosensory area, nose, layer 2/3',\n",
       " 839: u'Dorsal motor nucleus of the vagus nerve',\n",
       " 840: u'olfactory nerve',\n",
       " 841: u'trapezoid body',\n",
       " 842: u'Superior colliculus, superficial gray layer',\n",
       " 843: u'Parasubiculum',\n",
       " 844: u'Primary motor area, Layer 6a',\n",
       " 845: u'Subiculum, dorsal part, pyramidal layer',\n",
       " 846: u'Dentate nucleus',\n",
       " 847: u'Primary auditory area, layer 5',\n",
       " 848: u'optic nerve',\n",
       " 849: u'Visceral area, layer 6b',\n",
       " 850: u'uncinate fascicle',\n",
       " 851: u'Superior colliculus, optic layer',\n",
       " 852: u'Parvicellular reticular nucleus',\n",
       " 853: u'Subiculum, ventral part, molecular layer',\n",
       " 854: u'Primary somatosensory area, upper limb, layer 2/3',\n",
       " 855: u'retriculospinal tract',\n",
       " 856: u'Thalamus, polymodal association cortex related',\n",
       " 857: u'Visceral area, layer 6a',\n",
       " 858: u'ventral commissure of the spinal cord',\n",
       " 859: u'Parasolitary nucleus',\n",
       " 860: u'Parabrachial nucleus, lateral division, central lateral part',\n",
       " 861: u'Subiculum, ventral part, stratum radiatum',\n",
       " 862: u'Supplemental somatosensory area, layer 6a',\n",
       " 863: u'rubrospinal tract',\n",
       " 864: u'Thalamus, sensory-motor cortex related',\n",
       " 865: u'Primary somatosensory area, layer 4',\n",
       " 866: u'ventral spinocerebellar tract',\n",
       " 867: u'Parabrachial nucleus',\n",
       " 868: u'Parabrachial nucleus, lateral division, dorsal lateral part',\n",
       " 869: u'Posterolateral visual area, layer 4',\n",
       " 870: u'Subiculum, ventral part, pyramidal layer',\n",
       " 871: u'spinothalamic tract',\n",
       " 872: u'Dorsal nucleus raphe',\n",
       " 873: u'Supplemental somatosensory area, layer 1',\n",
       " 874: u'Parabigeminal nucleus',\n",
       " 875: u'Parabrachial nucleus, lateral division, external lateral part',\n",
       " 876: u'accessory optic tract',\n",
       " 877: u'tectospinal pathway',\n",
       " 878: u'Primary somatosensory area, mouth, layer 1',\n",
       " 879: u'Retrosplenial area, dorsal part',\n",
       " 880: u'Dorsal tegmental nucleus',\n",
       " 881: u'Parabrachial nucleus, lateral division',\n",
       " 882: u'Primary motor area, Layer 6b',\n",
       " 883: u'Parabrachial nucleus, lateral division, superior lateral part',\n",
       " 884: u'amygdalar capsule',\n",
       " 885: u'terminal nerve',\n",
       " 886: u'Retrosplenial area, ventral part',\n",
       " 887: u'Efferent cochlear group',\n",
       " 888: u'Perirhinal area, layer 2/3',\n",
       " 889: u'Primary somatosensory area, nose, layer 6a',\n",
       " 890: u'Parabrachial nucleus, medial division',\n",
       " 891: u'Parabrachial nucleus, lateral division, ventral lateral part',\n",
       " 892: u'ansa peduncularis',\n",
       " 893: u'Supplemental somatosensory area, layer 6b',\n",
       " 894: u'Retrosplenial area, lateral agranular part',\n",
       " 895: u'Ectorhinal area',\n",
       " 896: u'thalamus related',\n",
       " 897: u'Visceral area, layer 1',\n",
       " 898: u'Pontine central gray',\n",
       " 899: u'Parabrachial nucleus, medial division, external medial part',\n",
       " 900: u'anterior commissure, olfactory limb',\n",
       " 901: u'trigeminal nerve',\n",
       " 902: u'Posterolateral visual area, layer 5',\n",
       " 903: u'External cuneate nucleus',\n",
       " 904: u'Medial septal complex',\n",
       " 905: u'Anterolateral visual area, layer 2/3',\n",
       " 906: u'Retrosplenial area, lateral agranular part, layer 6a',\n",
       " 907: u'Paracentral nucleus',\n",
       " 908: u'anterior commissure, temporal limb',\n",
       " 909: u'Entorhinal area',\n",
       " 910: u'Orbital area, medial part, layer 6a',\n",
       " 911: u'trochlear nerve',\n",
       " 912: u'Lingula (I)',\n",
       " 913: u'Visual areas, layer 4',\n",
       " 914: u'Posterodorsal preoptic nucleus',\n",
       " 915: u'Parabrachial nucleus, medial division, medial medial part',\n",
       " 916: u'brachium of the superior colliculus',\n",
       " 917: u'vagus nerve',\n",
       " 918: u'Entorhinal area, lateral part',\n",
       " 919: u'Anterior cingulate area, dorsal part, layer 6a',\n",
       " 920: u'Central lobule',\n",
       " 182305689: u'Primary somatosensory area, unassigned',\n",
       " 922: u'Perirhinal area',\n",
       " 923: u'Parabrachial nucleus, medial division, ventral medial part',\n",
       " 924: u'cerebal peduncle',\n",
       " 182305693: u'Primary somatosensory area, unassigned, layer 1',\n",
       " 926: u'Entorhinal area, medial part, dorsal zone',\n",
       " 927: u'Anterior cingulate area, dorsal part, layer 6b',\n",
       " 928: u'Culmen',\n",
       " 929: u'Primary somatosensory area, nose, layer 6b',\n",
       " 930: u'Parafascicular nucleus',\n",
       " 931: u'Pontine gray',\n",
       " 932: u'cervicothalamic tract',\n",
       " 182305701: u'Primary somatosensory area, unassigned, layer 4',\n",
       " 934: u'Entorhinal area, medial part, ventral zone',\n",
       " 935: u'Anterior cingulate area, dorsal part, layer 1',\n",
       " 936: u'Declive (VI)',\n",
       " 182305705: u'Primary somatosensory area, unassigned, layer 5',\n",
       " 938: u'Paragigantocellular reticular nucleus',\n",
       " 939: u'Nucleus ambiguus, dorsal division',\n",
       " 940: u'cingulum bundle',\n",
       " 182305709: u'Primary somatosensory area, unassigned, layer 6a',\n",
       " 942: u'Endopiriform nucleus',\n",
       " 943: u'Primary motor area, Layer 2/3',\n",
       " 944: u'Folium-tuber vermis (VII)',\n",
       " 182305713: u'Primary somatosensory area, unassigned, layer 6b',\n",
       " 946: u'Posterior hypothalamic nucleus',\n",
       " 947: u'Somatomotor areas, Layer 6b',\n",
       " 948: u'cochlear nerve',\n",
       " 949: u'vomeronasal nerve',\n",
       " 950: u'Primary somatosensory area, mouth, layer 4',\n",
       " 951: u'Pyramus (VIII)',\n",
       " 952: u'Endopiriform nucleus, dorsal part',\n",
       " 953: u'Pineal body',\n",
       " 954: u'Primary auditory area, layer 6a',\n",
       " 955: u'Lateral reticular nucleus, magnocellular part',\n",
       " 956: u'corpus callosum, anterior forceps',\n",
       " 957: u'Uvula (IX)',\n",
       " 958: u'Epithalamus',\n",
       " 959: u'Ventral auditory area, layer 1',\n",
       " 960: u'cerebellum related fiber tracts',\n",
       " 961: u'Piriform area',\n",
       " 962: u'Secondary motor area, layer 2/3',\n",
       " 963: u'Lateral reticular nucleus, parvicellular part',\n",
       " 964: u'corpus callosum, extreme capsule',\n",
       " 965: u'Retrosplenial area, lateral agranular part, layer 2/3',\n",
       " 966: u'Endopiriform nucleus, ventral part',\n",
       " 967: u'cranial nerves',\n",
       " 968: u'Nodulus (X)',\n",
       " 969: u'Orbital area, ventrolateral part, layer 1',\n",
       " 970: u'Paragigantocellular reticular nucleus, dorsal part',\n",
       " 971: u'corpus callosum, posterior forceps',\n",
       " 972: u'Prelimbic area',\n",
       " 973: u'Lateral visual area, layer 2/3',\n",
       " 974: u'Primary somatosensory area, mouth, layer 5',\n",
       " 975: u'Edinger-Westphal nucleus',\n",
       " 976: u'Lobule II',\n",
       " 977: u'Ectorhinal area/Layer 6a',\n",
       " 978: u'Paragigantocellular reticular nucleus, lateral part',\n",
       " 979: u'corpus callosum, rostrum',\n",
       " 980: u'Dorsal premammillary nucleus',\n",
       " 981: u'Primary somatosensory area, barrel field, layer 1',\n",
       " 982: u'Fasciola cinerea',\n",
       " 983: u'lateral forebrain bundle system',\n",
       " 984: u'Lobule III',\n",
       " 985: u'Primary motor area',\n",
       " 986: u'corpus callosum, splenium',\n",
       " 987: u'Pons, motor related',\n",
       " 988: u'Ectorhinal area/Layer 5',\n",
       " 989: u'Fastigial nucleus',\n",
       " 990: u'Ventral auditory area, layer 4',\n",
       " 991: u'medial forebrain bundle system',\n",
       " 992: u'Lobule IV',\n",
       " 993: u'Secondary motor area',\n",
       " 994: u'corticobulbar tract',\n",
       " 995: u'Paramedian reticular nucleus',\n",
       " 996: u'Agranular insular area, dorsal part, layer 1',\n",
       " 997: u'root',\n",
       " 998: u'Fundus of striatum',\n",
       " 999: u'Entorhinal area, lateral part, layer 2/3',\n",
       " 1000: u'extrapyramidal fiber systems',\n",
       " 1001: u'Lobule V',\n",
       " 1002: u'Primary auditory area',\n",
       " 1003: u'corticopontine tract',\n",
       " 1004: u'Ventral premammillary nucleus',\n",
       " 1005: u'Primary auditory area, layer 6b',\n",
       " 1006: u'Primary somatosensory area, trunk, layer 1',\n",
       " 1007: u'Simple lobule',\n",
       " ...}"
      ]
     },
     "execution_count": 13,
     "metadata": {},
     "output_type": "execute_result"
    }
   ],
   "source": [
    "name_map"
   ]
  },
  {
   "cell_type": "code",
   "execution_count": 14,
   "metadata": {},
   "outputs": [
    {
     "name": "stdout",
     "output_type": "stream",
     "text": [
      "315\n"
     ]
    }
   ],
   "source": [
    "print name_map.keys()[name_map.values().index('Isocortex')] "
   ]
  },
  {
   "cell_type": "code",
   "execution_count": 15,
   "metadata": {
    "collapsed": true
   },
   "outputs": [],
   "source": [
    "def where_in_the_tree(structure_tree, structure_name, steps=1):\n",
    "    '''Names a structure which contains the supplied structure\n",
    "    \n",
    "    Parameters\n",
    "    ----------\n",
    "    structure_tree : StructureTree\n",
    "        The tree in which structures will be looked up.\n",
    "    structure_name : str\n",
    "        The name of the structure whose ancestor we wish to find\n",
    "    steps : int, optional\n",
    "        How far rootward to walk. 1 gives the direct parent.\n",
    "        \n",
    "    Returns\n",
    "    -------\n",
    "    ancestor_name : str\n",
    "        The full name of the requested ancestor structure.\n",
    "    \n",
    "    Examples\n",
    "    --------\n",
    "    >>>where_in_the_tree(structure_tree, 'Primary visual area', 2)\n",
    "    u'Isocortex'\n",
    "    >>>where_in_the_tree(structure_tree, 'Hippocampal formation', 0)\n",
    "    u'Hippocampal formation'\n",
    "    >>>where_in_the_tree(structure_tree, 'Cerebrum', 10000)\n",
    "    None\n",
    "    '''\n",
    "    ancestor_name = structure_name\n",
    "    for n in np.arange(steps):\n",
    "        strid = name_map.keys()[name_map.values().index(ancestor_name)]\n",
    "        parent_id = structure_tree.parent_id([strid])[0]\n",
    "        if parent_id == None:\n",
    "            return ancestor_name\n",
    "        else:\n",
    "            ancestor_name = name_map[parent_id]\n",
    "            n += 1\n",
    "    # your code here\n",
    "    \n",
    "    return ancestor_name"
   ]
  },
  {
   "cell_type": "markdown",
   "metadata": {
    "collapsed": true
   },
   "source": [
    "<div style=\"border-left: 3px solid #000; padding: 1px; padding-left: 10px; background: #F0FAFF; \">\n",
    "<h3><center>Working in 3d space</center></h3>\n",
    "\n",
    "Anatomic variability across mice is a fundamental problem for our connectivity dataset. How can we ask questions about VISp if its location, size, and shape are different on every brain?\n",
    "\n",
    "<p>We resolved this issue by generating an average template volume from 1675 mouse brain image stacks and registering each of our connectivity datasets to this average template. This allows us to work in a shared 3d space, which we call the Common Coordinate Framework\n",
    "\n",
    "<p>You can view the average template volume using your MouseConnectivityCache:</p>\n",
    "\n",
    "</div>"
   ]
  },
  {
   "cell_type": "code",
   "execution_count": 16,
   "metadata": {},
   "outputs": [
    {
     "name": "stdout",
     "output_type": "stream",
     "text": [
      "(528, 320, 456)\n"
     ]
    },
    {
     "data": {
      "image/png": "[encoded data removed]",
      "text/plain": [
       "<matplotlib.figure.Figure at 0x1075acd90>"
      ]
     },
     "metadata": {},
     "output_type": "display_data"
    }
   ],
   "source": [
    "# load up the average template\n",
    "template, header = mcc.get_template_volume()\n",
    "\n",
    "# recall that this cache is at 25 micron isometric resolution\n",
    "plt.imshow(template[200, :, :], interpolation='none', cmap=plt.cm.gray)\n",
    "\n",
    "# how big?\n",
    "print template.shape"
   ]
  },
  {
   "cell_type": "markdown",
   "metadata": {},
   "source": [
    "<div style=\"border-left: 3px solid #000; padding: 1px; padding-left: 10px; background: #F0FAFF; \">\n",
    "<p>The template is oriented:\n",
    "<ul>\n",
    "<li>anterior -> posterior</li>\n",
    "<li>superior -> inferior</li>\n",
    "<li>left -> right</li>\n",
    "</ul>\n",
    "\n",
    "<p>This means that to obtain a sagittal view, we must slice along axis 2:</p>\n",
    "</div>"
   ]
  },
  {
   "cell_type": "code",
   "execution_count": 17,
   "metadata": {},
   "outputs": [
    {
     "data": {
      "text/plain": [
       "<matplotlib.image.AxesImage at 0x1129598d0>"
      ]
     },
     "execution_count": 17,
     "metadata": {},
     "output_type": "execute_result"
    },
    {
     "data": {
      "image/png": "[encoded data removed]",
      "text/plain": [
       "<matplotlib.figure.Figure at 0x1125eaf50>"
      ]
     },
     "metadata": {},
     "output_type": "display_data"
    }
   ],
   "source": [
    "plt.imshow(template[:, :, 125].T, interpolation='none', cmap=plt.cm.gray)"
   ]
  },
  {
   "cell_type": "markdown",
   "metadata": {},
   "source": [
    "<div style=\"border-left: 3px solid #000; padding: 1px; padding-left: 10px; background: #F0FAFF; \">\n",
    "and along axis 1 for a horizontal section:</div>"
   ]
  },
  {
   "cell_type": "code",
   "execution_count": 18,
   "metadata": {},
   "outputs": [
    {
     "data": {
      "text/plain": [
       "<matplotlib.image.AxesImage at 0x112dadf50>"
      ]
     },
     "execution_count": 18,
     "metadata": {},
     "output_type": "execute_result"
    },
    {
     "data": {
      "image/png": "[encoded data removed]",
      "text/plain": [
       "<matplotlib.figure.Figure at 0x112971e50>"
      ]
     },
     "metadata": {},
     "output_type": "display_data"
    }
   ],
   "source": [
    "plt.imshow(template[:, 75, :], interpolation='none', cmap=plt.cm.gray)"
   ]
  },
  {
   "cell_type": "markdown",
   "metadata": {},
   "source": [
    "<div style=\"border-left: 3px solid #000; padding: 1px; padding-left: 10px; background: #F0FAFF; \">\n",
    "<h4>The annotation volume</h4>\n",
    "\n",
    "<p>Each (brain) voxel in the CCF is associated with a structure in the structure tree. This mapping is recorded in the annotation volume, which occupies the same space as the average template. The value of each voxel in the annotation volume is the id of the most specific structure occupying that point in space.</p>\n",
    "</div>"
   ]
  },
  {
   "cell_type": "code",
   "execution_count": 19,
   "metadata": {},
   "outputs": [
    {
     "data": {
      "text/plain": [
       "<matplotlib.image.AxesImage at 0x11298e550>"
      ]
     },
     "execution_count": 19,
     "metadata": {},
     "output_type": "execute_result"
    },
    {
     "data": {
      "image/png": "[encoded data removed]",
      "text/plain": [
       "<matplotlib.figure.Figure at 0x1124c0950>"
      ]
     },
     "metadata": {},
     "output_type": "display_data"
    }
   ],
   "source": [
    "# you can obtain a reference space object from your mouse connectivity cache\n",
    "# this object handles tasks that require both a structure tree and an annotation volume\n",
    "reference_space =  mcc.get_reference_space()\n",
    "\n",
    "# One such task is to apply our predefined structure colors to \n",
    "# a slice from the annotation volume\n",
    "slice_image = reference_space.get_slice_image(1, 1875) # this method wants an axis and a position in microns\n",
    "plt.imshow(slice_image, interpolation='none')"
   ]
  },
  {
   "cell_type": "code",
   "execution_count": 20,
   "metadata": {
    "collapsed": true
   },
   "outputs": [],
   "source": [
    "# you can load up the raw annotation using your MouseConnectivityCache\n",
    "annotation, _ = mcc.get_annotation_volume()"
   ]
  },
  {
   "cell_type": "markdown",
   "metadata": {},
   "source": [
    "<div style=\"border-left: 3px solid #000; padding: 1px; padding-left: 10px; background: #F0FAFF; \">\n",
    "\n",
    "We want to find VISp, whose structure id is 385. How about:\n",
    "</div>"
   ]
  },
  {
   "cell_type": "code",
   "execution_count": 21,
   "metadata": {},
   "outputs": [
    {
     "data": {
      "text/plain": [
       "(array([], dtype=int64), array([], dtype=int64), array([], dtype=int64))"
      ]
     },
     "execution_count": 21,
     "metadata": {},
     "output_type": "execute_result"
    }
   ],
   "source": [
    "np.where(annotation == 385)"
   ]
  },
  {
   "cell_type": "markdown",
   "metadata": {},
   "source": [
    "<div style=\"border-left: 3px solid #000; padding: 1px; padding-left: 10px; background: #F0FAFF; \">\n",
    "Why did nothing show up? Recall that the annotation only labels the finest structure division at each voxel. VISp has several substructures:\n",
    "</div>"
   ]
  },
  {
   "cell_type": "code",
   "execution_count": 22,
   "metadata": {},
   "outputs": [
    {
     "data": {
      "text/html": [
       "<div>\n",
       "<style>\n",
       "    .dataframe thead tr:only-child th {\n",
       "        text-align: right;\n",
       "    }\n",
       "\n",
       "    .dataframe thead th {\n",
       "        text-align: left;\n",
       "    }\n",
       "\n",
       "    .dataframe tbody tr th {\n",
       "        vertical-align: top;\n",
       "    }\n",
       "</style>\n",
       "<table border=\"1\" class=\"dataframe\">\n",
       "  <thead>\n",
       "    <tr style=\"text-align: right;\">\n",
       "      <th></th>\n",
       "      <th>acronym</th>\n",
       "      <th>color_hex_triplet</th>\n",
       "      <th>graph_id</th>\n",
       "      <th>graph_order</th>\n",
       "      <th>id</th>\n",
       "      <th>name</th>\n",
       "      <th>structure_id_path</th>\n",
       "      <th>structure_set_ids</th>\n",
       "    </tr>\n",
       "  </thead>\n",
       "  <tbody>\n",
       "    <tr>\n",
       "      <th>0</th>\n",
       "      <td>VISp6a</td>\n",
       "      <td>08858C</td>\n",
       "      <td>1</td>\n",
       "      <td>190</td>\n",
       "      <td>33</td>\n",
       "      <td>Primary visual area, layer 6a</td>\n",
       "      <td>[997, 8, 567, 688, 695, 315, 669, 385, 33]</td>\n",
       "      <td>[12, 396673091, 184527634]</td>\n",
       "    </tr>\n",
       "    <tr>\n",
       "      <th>1</th>\n",
       "      <td>VISp6b</td>\n",
       "      <td>08858C</td>\n",
       "      <td>1</td>\n",
       "      <td>191</td>\n",
       "      <td>305</td>\n",
       "      <td>Primary visual area, layer 6b</td>\n",
       "      <td>[997, 8, 567, 688, 695, 315, 669, 385, 305]</td>\n",
       "      <td>[396673091, 12, 184527634]</td>\n",
       "    </tr>\n",
       "    <tr>\n",
       "      <th>2</th>\n",
       "      <td>VISp1</td>\n",
       "      <td>08858C</td>\n",
       "      <td>1</td>\n",
       "      <td>186</td>\n",
       "      <td>593</td>\n",
       "      <td>Primary visual area, layer 1</td>\n",
       "      <td>[997, 8, 567, 688, 695, 315, 669, 385, 593]</td>\n",
       "      <td>[12, 396673091, 184527634]</td>\n",
       "    </tr>\n",
       "    <tr>\n",
       "      <th>3</th>\n",
       "      <td>VISp4</td>\n",
       "      <td>08858C</td>\n",
       "      <td>1</td>\n",
       "      <td>188</td>\n",
       "      <td>721</td>\n",
       "      <td>Primary visual area, layer 4</td>\n",
       "      <td>[997, 8, 567, 688, 695, 315, 669, 385, 721]</td>\n",
       "      <td>[12, 396673091, 184527634]</td>\n",
       "    </tr>\n",
       "    <tr>\n",
       "      <th>4</th>\n",
       "      <td>VISp5</td>\n",
       "      <td>08858C</td>\n",
       "      <td>1</td>\n",
       "      <td>189</td>\n",
       "      <td>778</td>\n",
       "      <td>Primary visual area, layer 5</td>\n",
       "      <td>[997, 8, 567, 688, 695, 315, 669, 385, 778]</td>\n",
       "      <td>[12, 396673091, 184527634]</td>\n",
       "    </tr>\n",
       "    <tr>\n",
       "      <th>5</th>\n",
       "      <td>VISp2/3</td>\n",
       "      <td>08858C</td>\n",
       "      <td>1</td>\n",
       "      <td>187</td>\n",
       "      <td>821</td>\n",
       "      <td>Primary visual area, layer 2/3</td>\n",
       "      <td>[997, 8, 567, 688, 695, 315, 669, 385, 821]</td>\n",
       "      <td>[12, 396673091, 184527634]</td>\n",
       "    </tr>\n",
       "  </tbody>\n",
       "</table>\n",
       "</div>"
      ],
      "text/plain": [
       "   acronym color_hex_triplet  graph_id  graph_order   id  \\\n",
       "0   VISp6a            08858C         1          190   33   \n",
       "1   VISp6b            08858C         1          191  305   \n",
       "2    VISp1            08858C         1          186  593   \n",
       "3    VISp4            08858C         1          188  721   \n",
       "4    VISp5            08858C         1          189  778   \n",
       "5  VISp2/3            08858C         1          187  821   \n",
       "\n",
       "                             name  \\\n",
       "0   Primary visual area, layer 6a   \n",
       "1   Primary visual area, layer 6b   \n",
       "2    Primary visual area, layer 1   \n",
       "3    Primary visual area, layer 4   \n",
       "4    Primary visual area, layer 5   \n",
       "5  Primary visual area, layer 2/3   \n",
       "\n",
       "                             structure_id_path           structure_set_ids  \n",
       "0   [997, 8, 567, 688, 695, 315, 669, 385, 33]  [12, 396673091, 184527634]  \n",
       "1  [997, 8, 567, 688, 695, 315, 669, 385, 305]  [396673091, 12, 184527634]  \n",
       "2  [997, 8, 567, 688, 695, 315, 669, 385, 593]  [12, 396673091, 184527634]  \n",
       "3  [997, 8, 567, 688, 695, 315, 669, 385, 721]  [12, 396673091, 184527634]  \n",
       "4  [997, 8, 567, 688, 695, 315, 669, 385, 778]  [12, 396673091, 184527634]  \n",
       "5  [997, 8, 567, 688, 695, 315, 669, 385, 821]  [12, 396673091, 184527634]  "
      ]
     },
     "metadata": {},
     "output_type": "display_data"
    }
   ],
   "source": [
    "visp_children = structure_tree.children([385])[0]\n",
    "display(pd.DataFrame(visp_children))"
   ]
  },
  {
   "cell_type": "code",
   "execution_count": 23,
   "metadata": {},
   "outputs": [
    {
     "data": {
      "text/plain": [
       "(array([308, 308, 308, ..., 410, 410, 410]),\n",
       " array([28, 28, 28, ..., 78, 78, 78]),\n",
       " array([123, 124, 125, ..., 116, 340, 341]))"
      ]
     },
     "execution_count": 23,
     "metadata": {},
     "output_type": "execute_result"
    }
   ],
   "source": [
    "# VISp, like other cortical structures, is subdivided into layers. \n",
    "# Voxels are directly assigned to the layer structures instead of to VISp\n",
    "np.where(annotation==821) # 821 <==> VISp layer 2/3"
   ]
  },
  {
   "cell_type": "markdown",
   "metadata": {},
   "source": [
    "<div style=\"border-left: 3px solid #000; padding: 1px; padding-left: 10px; background: #F0FAFF; \">\n",
    "A couple of caveats regarding the annotation:\n",
    "\n",
    "<ol>\n",
    "<li>It is possible for a structure and its substructures to all be directly annotated. An example would be hypothalamus, which has nuclei labeled where and only where they are distinctly identifiable.</li>\n",
    "<li>Not all structures in the structure tree are annotated or have annotated substructures.</li>\n",
    "</ol>\n",
    "</div>"
   ]
  },
  {
   "cell_type": "markdown",
   "metadata": {},
   "source": [
    "<div style=\"border-left: 3px solid #000; padding: 1px; padding-left: 10px; background: #F0FAFF; \">\n",
    "<h4>Structure masks</h4>\n",
    "\n",
    "<p>The annotation volume and structure tree contain a lot of information in a compact form. It can be simpler to work with more explicit representations of individual structures. We often use binary indicator masks for specific structures. These are:</p>\n",
    "<ul>\n",
    "<li>volumes in the common coordinate framework</li>\n",
    "<li>1 where the annotation is labeled with a structure or its descendants, otherwise 0</li>\n",
    "</ul>\n",
    "</div>"
   ]
  },
  {
   "cell_type": "code",
   "execution_count": 24,
   "metadata": {},
   "outputs": [
    {
     "data": {
      "text/plain": [
       "<matplotlib.image.AxesImage at 0x11297d610>"
      ]
     },
     "execution_count": 24,
     "metadata": {},
     "output_type": "execute_result"
    },
    {
     "data": {
      "image/png": "[encoded data removed]",
      "text/plain": [
       "<matplotlib.figure.Figure at 0x1136eac90>"
      ]
     },
     "metadata": {},
     "output_type": "display_data"
    }
   ],
   "source": [
    "# view a structure mask for VISp\n",
    "visp_mask, _ = mcc.get_structure_mask(385)\n",
    "plt.imshow(visp_mask[:, :, 125].T, interpolation='none', cmap=plt.cm.gray)\n",
    "plt.imshow(template[:, :, 125].T, interpolation='none', cmap=plt.cm.gray, alpha=0.4)"
   ]
  },
  {
   "cell_type": "code",
   "execution_count": 25,
   "metadata": {},
   "outputs": [
    {
     "data": {
      "text/plain": [
       "(array([307, 307, 307, ..., 414, 414, 414]),\n",
       " array([23, 23, 24, ..., 78, 78, 78]),\n",
       " array([121, 335, 119, ..., 338, 339, 340]))"
      ]
     },
     "execution_count": 25,
     "metadata": {},
     "output_type": "execute_result"
    }
   ],
   "source": [
    "# we can now easily locate VISp-labeled voxels in space:\n",
    "np.where(visp_mask)"
   ]
  },
  {
   "cell_type": "markdown",
   "metadata": {},
   "source": [
    "<div style=\"border-left: 3px solid #000; padding: 1px; padding-left: 10px; background: #F0FAFF; \">\n",
    "It is easy to mask out data. The following syntax will do:\n",
    "</div>"
   ]
  },
  {
   "cell_type": "code",
   "execution_count": 26,
   "metadata": {},
   "outputs": [
    {
     "data": {
      "text/plain": [
       "<matplotlib.image.AxesImage at 0x113ad0ad0>"
      ]
     },
     "execution_count": 26,
     "metadata": {},
     "output_type": "execute_result"
    },
    {
     "data": {
      "image/png": "[encoded data removed]",
      "text/plain": [
       "<matplotlib.figure.Figure at 0x1125c6ad0>"
      ]
     },
     "metadata": {},
     "output_type": "display_data"
    }
   ],
   "source": [
    "visp_template = template.copy()\n",
    "\n",
    "# we use 0 here for the masked value because pyplot.imshow doesn't play nice with nan.\n",
    "# This is not necessarily the right choice for your application!\n",
    "visp_template[visp_mask == 0] = 0\n",
    "plt.imshow(visp_template[:, :, 125].T, interpolation='none', cmap=plt.cm.gray)"
   ]
  },
  {
   "cell_type": "code",
   "execution_count": 27,
   "metadata": {},
   "outputs": [
    {
     "data": {
      "text/plain": [
       "175.91918583829698"
      ]
     },
     "execution_count": 27,
     "metadata": {},
     "output_type": "execute_result"
    }
   ],
   "source": [
    "# We can now ask questions about the template while restricting our inquiry to VISp\n",
    "# for instance, to find the mean voxelwise template intensity within visp:\n",
    "visp_template.sum() / np.count_nonzero(visp_mask)"
   ]
  },
  {
   "cell_type": "markdown",
   "metadata": {},
   "source": [
    "<div style=\"border-left: 3px solid #000; padding: 1px; padding-left: 10px; background: #F0FFF0; \">\n",
    "<h4> Excercise: Regional template statistics</h4>\n",
    "\n",
    "<p>Write a function that computes percentiles of average template intensities in selected structures. Use it to compare the median intensity in white and gray matter.\n",
    "\n",
    "\n",
    "hint: check out [numpy's percentile function](https://docs.scipy.org/doc/numpy-dev/reference/generated/numpy.percentile.html)</p>\n",
    "</div>"
   ]
  },
  {
   "cell_type": "code",
   "execution_count": 28,
   "metadata": {},
   "outputs": [],
   "source": [
    "def get_template_intensity_percentiles(mouse_connectivity_cache, structure_ids, n=50):\n",
    "    '''Computes the nth percentile(s) of the average template volume's intensity within a particular subset of structures.\n",
    "    \n",
    "    Parameters\n",
    "    ----------\n",
    "    mouse_connectivity_cache : MouseConnectivityCache\n",
    "    structure_ids : array-like of int\n",
    "    n : array-like of float, optional\n",
    "    \n",
    "    Returns\n",
    "    -------\n",
    "    percentiles : array-like of float\n",
    "        The nth percentiles. Uses the lower value when a percentile falls between two data.\n",
    "    \n",
    "    '''\n",
    "    # load up the average template\n",
    "    template, header = mcc.get_template_volume()\n",
    "    mask = mouse_connectivity_cache.get_reference_space().make_structure_mask(structure_ids)\n",
    "    \n",
    "    return np.percentile(template[mask > 0].flat, n, interpolation='lower')"
   ]
  },
  {
   "cell_type": "code",
   "execution_count": 29,
   "metadata": {},
   "outputs": [
    {
     "data": {
      "text/plain": [
       "152"
      ]
     },
     "execution_count": 29,
     "metadata": {},
     "output_type": "execute_result"
    }
   ],
   "source": [
    "get_template_intensity_percentiles(mcc, [8])"
   ]
  },
  {
   "cell_type": "code",
   "execution_count": null,
   "metadata": {
    "collapsed": true
   },
   "outputs": [],
   "source": []
  },
  {
   "cell_type": "markdown",
   "metadata": {},
   "source": [
    "<div style=\"border-left: 3px solid #000; padding: 1px; padding-left: 10px; background: #F0FAFF; \">\n",
    "<center><h3>Which experiments have injections into VISp?</h3></center>\n",
    "\n",
    "<p>Now that we have located primary visual cortex in the ontology tree and in physical space, we are ready to look at some connectivity experiments.</p>\n",
    "<p>On http://connectivity.brain-map.org you can do a <i>source search</i> to list experiments by the region into which viral tracer was injected. It is possible to do a similar search programmatically using the SDK.</p>\n",
    "</div>"
   ]
  },
  {
   "cell_type": "code",
   "execution_count": 30,
   "metadata": {},
   "outputs": [
    {
     "name": "stdout",
     "output_type": "stream",
     "text": [
      "203\n"
     ]
    }
   ],
   "source": [
    "# get a table of VISp experiments. This is a list of dictionaries.\n",
    "visp_experiments = mcc.get_experiments(injection_structure_ids=[385])\n",
    "\n",
    "# get a count\n",
    "print len(visp_experiments)"
   ]
  },
  {
   "cell_type": "code",
   "execution_count": 31,
   "metadata": {},
   "outputs": [
    {
     "data": {
      "text/plain": [
       "{u'gender': u'M',\n",
       " u'id': 482640524,\n",
       " u'injection-coordinates': [8770, 830, 4000],\n",
       " u'injection-structures': [{u'abbreviation': u'VISp',\n",
       "   u'color': u'08858C',\n",
       "   u'id': 385,\n",
       "   u'name': u'Primary visual area'},\n",
       "  {u'abbreviation': u'VISpm',\n",
       "   u'color': u'08858C',\n",
       "   u'id': 533,\n",
       "   u'name': u'posteromedial visual area'},\n",
       "  {u'abbreviation': u'RSPd',\n",
       "   u'color': u'1AA698',\n",
       "   u'id': 879,\n",
       "   u'name': u'Retrosplenial area, dorsal part'},\n",
       "  {u'abbreviation': u'RSPagl',\n",
       "   u'color': u'1AA698',\n",
       "   u'id': 894,\n",
       "   u'name': u'Retrosplenial area, lateral agranular part'}],\n",
       " u'product-id': 36,\n",
       " u'strain': u'',\n",
       " u'structure-abbrev': u'VISp',\n",
       " u'structure-color': u'08858C',\n",
       " u'structure-id': 385,\n",
       " u'structure-name': u'Primary visual area',\n",
       " u'transgenic-line': u'Scnn1a-Tg3-Cre'}"
      ]
     },
     "execution_count": 31,
     "metadata": {},
     "output_type": "execute_result"
    }
   ],
   "source": [
    "# look at one of them\n",
    "visp_experiments[150]"
   ]
  },
  {
   "cell_type": "markdown",
   "metadata": {},
   "source": [
    "<div style=\"border-left: 3px solid #000; padding: 1px; padding-left: 10px; background: #F0FAFF; \">\n",
    "Some particularly important fields here:\n",
    "<ul>\n",
    "<li>id : Like structures, each experiment has a unique id.</li>\n",
    "<li>injection-structures : This is a list of structures that overlapped the injection site. VISp comes first, indicating that it overlapped most heavily. We call VISp the \"primary injection site\" for this experiment.</li>\n",
    "<li>transgenic-line : Is this a wildtype mouse, or is fluorescence genetically restricted to a subset of neurons? This mouse is of the Scnn1a-Tg3 line. If it were wildtype, this field would be an empty string.</li>\n",
    "</ul>\n",
    "</div>"
   ]
  },
  {
   "cell_type": "markdown",
   "metadata": {},
   "source": [
    "<div style=\"border-left: 3px solid #000; padding: 1px; padding-left: 10px; background: #f0f0ff; \">\n",
    "<h4> Website/SDK Exercise: Locate an experiment on the website using the experiment id</h4>\n",
    "\n",
    "<p>Find the experiment above on http://connectivity.brain-map.org and verify that the primary injection structures and transgnic line information matches what you see here.</p>\n",
    "</div>"
   ]
  },
  {
   "cell_type": "markdown",
   "metadata": {},
   "source": [
    "<div style=\"border-left: 3px solid #000; padding: 1px; padding-left: 10px; background: #f0f0ff; \"><h4> Website/SDK Exercise: Find the number of VISp injection experiments that have been performed.</h4>\n",
    "<p>Verify that you get the same answer using a website search and using the SDK</p>\n",
    "</div>"
   ]
  },
  {
   "cell_type": "code",
   "execution_count": 32,
   "metadata": {},
   "outputs": [
    {
     "data": {
      "text/plain": [
       "203"
      ]
     },
     "execution_count": 32,
     "metadata": {},
     "output_type": "execute_result"
    }
   ],
   "source": [
    "len(visp_experiments)"
   ]
  },
  {
   "cell_type": "markdown",
   "metadata": {},
   "source": [
    "<div style=\"border-left: 3px solid #000; padding: 1px; padding-left: 10px; background: #F0FFF0; \">\n",
    "<h4> Excercise: Transgenic line counts</h4>\n",
    "\n",
    "<p>Many of our projection experiments are carried out in transgenic mice. Infected neurons in these mice fluoresce only if they also express a specific gene. Determine how many VISp experiments were carried out in each transgenic line.</p>\n",
    "\n",
    "<p>note: we use an empty string for wildtype</p>\n",
    "</div>"
   ]
  },
  {
   "cell_type": "code",
   "execution_count": 48,
   "metadata": {},
   "outputs": [],
   "source": [
    "line_counts = {}\n",
    "for exp in visp_experiments:\n",
    "    tr = exp['transgenic-line']\n",
    "    if tr == \"\":\n",
    "        tr = 'wildtype'\n",
    "    if tr not in line_counts:\n",
    "        line_counts[tr] = 1\n",
    "    else:\n",
    "        line_counts[tr] += 1"
   ]
  },
  {
   "cell_type": "code",
   "execution_count": 49,
   "metadata": {},
   "outputs": [
    {
     "data": {
      "text/plain": [
       "{u'A930038C07Rik-Tg1-Cre': 18,\n",
       " u'Ai75(RCL-nT)': 13,\n",
       " u'Calb2-IRES-Cre': 1,\n",
       " u'Chrna2-Cre_OE25': 5,\n",
       " u'Cort-T2A-Cre': 1,\n",
       " u'Crh-IRES-Cre (BL)': 1,\n",
       " u'Ctgf-2A-dgCre': 1,\n",
       " u'Cux2-IRES-Cre': 20,\n",
       " u'Drd3-Cre_KI196': 1,\n",
       " u'Efr3a-Cre_NO108': 4,\n",
       " u'Emx1-IRES-Cre': 18,\n",
       " u'Erbb4-2A-CreERT2': 1,\n",
       " u'Etv1-CreERT2': 1,\n",
       " u'Gad2-IRES-Cre': 1,\n",
       " u'Gng7-Cre_KH71': 1,\n",
       " u'Gpr26-Cre_KO250': 2,\n",
       " u'Htr3a-Cre_NO152': 1,\n",
       " u'Nos1-CreERT2': 3,\n",
       " u'Nr5a1-Cre': 7,\n",
       " u'Ntsr1-Cre_GN220': 15,\n",
       " u'Oxtr-Cre_ON66': 1,\n",
       " u'Plxnd1-Cre_OG1': 1,\n",
       " u'Pvalb-IRES-Cre': 1,\n",
       " u'Rbp4-Cre_KL100': 15,\n",
       " u'Rorb-IRES2-Cre': 3,\n",
       " u'Scnn1a-Tg3-Cre': 10,\n",
       " u'Sepw1-Cre_NP39': 2,\n",
       " u'Sst-IRES-Cre': 1,\n",
       " u'Syt6-Cre_KI148': 5,\n",
       " u'Tlx3-Cre_PL56': 15,\n",
       " u'Trib2-2A-CreERT2': 2,\n",
       " u'Vip-IRES-Cre': 1,\n",
       " 'wildtype': 31}"
      ]
     },
     "execution_count": 49,
     "metadata": {},
     "output_type": "execute_result"
    }
   ],
   "source": [
    "line_counts"
   ]
  },
  {
   "cell_type": "markdown",
   "metadata": {},
   "source": [
    "<div style=\"border-left: 3px solid #000; padding: 1px; padding-left: 10px; background: #f0f0ff; \"><h4> Website/SDK Exercise: Find the number of VISp injection experiments that have been performed.</h4>\n",
    "<p>Cross-check <b>one</b> of these transgenic line experiment counts with what you find on the Allen Institute website.</p>\n",
    "</div>"
   ]
  },
  {
   "cell_type": "markdown",
   "metadata": {},
   "source": [
    "<div style=\"border-left: 3px solid #000; padding: 1px; padding-left: 10px; background: #F0FAFF; \">\n",
    "<center><h3>Gridded projection data</h3></center>\n",
    "\n",
    "<p>Since each connectivity experiment is registered to the CCF, we can load connectivity data in the same way as we do the average template or annotation volume.</p>\n",
    "\n",
    "Here we will load an experiment's projection density volume. These data:\n",
    "<ul>\n",
    "<li>are floats in [0, 1]</li>\n",
    "<li>represent the fraction of each voxel that is occupied by signal (as detected in the segmentation stage)</li>\n",
    "<li>are independent of the injection site (so it makes sense to discuss \"projection in the injection site\")</li>\n",
    "</ul>\n",
    "</div>"
   ]
  },
  {
   "cell_type": "code",
   "execution_count": 50,
   "metadata": {
    "collapsed": true
   },
   "outputs": [],
   "source": [
    "prdens, _ = mcc.get_projection_density(159550125)"
   ]
  },
  {
   "cell_type": "code",
   "execution_count": 51,
   "metadata": {
    "collapsed": true
   },
   "outputs": [],
   "source": [
    "def axis_proj(data, template, axis, bg_q=90, bg_alpha=0.5):\n",
    "    # let's make some pictures\n",
    "    \n",
    "    data_max = np.amax(data, axis=axis)\n",
    "    template_bg = np.percentile(template, axis=axis, q=bg_q)\n",
    "    \n",
    "    plt.imshow(data_max, interpolation='none', cmap=plt.cm.afmhot)\n",
    "    plt.imshow(template_bg, interpolation='none', cmap=plt.cm.gray, alpha=0.5)"
   ]
  },
  {
   "cell_type": "code",
   "execution_count": 52,
   "metadata": {},
   "outputs": [
    {
     "data": {
      "image/png": "[encoded data removed]",
      "text/plain": [
       "<matplotlib.figure.Figure at 0x112df2850>"
      ]
     },
     "metadata": {},
     "output_type": "display_data"
    }
   ],
   "source": [
    "# make a max projection along the anterior-posterior axis for visualization\n",
    "axis_proj(prdens, template, 0)"
   ]
  },
  {
   "cell_type": "code",
   "execution_count": 53,
   "metadata": {},
   "outputs": [
    {
     "data": {
      "image/png": "[encoded data removed]",
      "text/plain": [
       "<matplotlib.figure.Figure at 0x1139cdfd0>"
      ]
     },
     "metadata": {},
     "output_type": "display_data"
    }
   ],
   "source": [
    "# now filter the signal to thalamus\n",
    "thalamus_mask, _ = mcc.get_structure_mask(549)\n",
    "\n",
    "prdens_th = prdens.copy()\n",
    "prdens_th[thalamus_mask == 0] = 0\n",
    "axis_proj(prdens_th, template, 0)"
   ]
  },
  {
   "cell_type": "markdown",
   "metadata": {},
   "source": [
    "<div style=\"border-left: 3px solid #000; padding: 1px; padding-left: 10px; background: #F0FAFF; \">\n",
    "\n",
    "Another useful data volume is the injection fraction. This shows the fraction of each voxel that lies within this experiment's manually annotated injection site\n",
    "</div>"
   ]
  },
  {
   "cell_type": "code",
   "execution_count": 54,
   "metadata": {
    "collapsed": true
   },
   "outputs": [],
   "source": [
    "ijfr, _ = mcc.get_injection_fraction(159550125)"
   ]
  },
  {
   "cell_type": "code",
   "execution_count": 55,
   "metadata": {},
   "outputs": [
    {
     "data": {
      "image/png": "[encoded data removed]",
      "text/plain": [
       "<matplotlib.figure.Figure at 0x1147dc290>"
      ]
     },
     "metadata": {},
     "output_type": "display_data"
    }
   ],
   "source": [
    "axis_proj(ijfr, template, 0)"
   ]
  },
  {
   "cell_type": "markdown",
   "metadata": {},
   "source": [
    "<div style=\"border-left: 3px solid #000; padding: 1px; padding-left: 10px; background: #F0FFF0; \">\n",
    "<h4> Excercise: Structure-level density</h4>\n",
    "\n",
    "Write a function that determines the density of signal within a structure (i.e. the fraction of pixels in all the voxels in that structure that were detected as signal). \n",
    "\n",
    "In this experiment, what is the density in VISp? What about thalamus?\n",
    "</div>"
   ]
  },
  {
   "cell_type": "code",
   "execution_count": 63,
   "metadata": {},
   "outputs": [
    {
     "name": "stdout",
     "output_type": "stream",
     "text": [
      "\n"
     ]
    }
   ],
   "source": [
    "def fraction_of_structure(mouse_connectivity_cache, structure_id, experiment_id):\n",
    "    '''Computes the fraction of pixels in a specified structure that were detected as signal.\n",
    "\n",
    "    Parameters\n",
    "    ----------\n",
    "    mouse_connectivity_cache : MouseConnectivityCache\n",
    "    structure_id : int\n",
    "    experiment_id : int\n",
    "\n",
    "    Returns\n",
    "    -------\n",
    "    fraction : float\n",
    "\n",
    "    '''\n",
    "    \n",
    "    str_mask, _ = mouse_connectivity_cache.get_structure_mask(structure_id)\n",
    "    prdens, _ = mouse_connectivity_cache.get_projection_density(experiment_id)\n",
    "    prdens[str_mask == 0] = 0\n",
    "    \n",
    "    return prdens.sum()/str_mask.sum()\n",
    "    \n",
    "    return fraction"
   ]
  },
  {
   "cell_type": "code",
   "execution_count": 64,
   "metadata": {},
   "outputs": [
    {
     "name": "stdout",
     "output_type": "stream",
     "text": [
      "thalamus 0.0243761871437\n",
      "VISp 0.075735709711\n"
     ]
    }
   ],
   "source": [
    "print 'thalamus', fraction_of_structure(mcc, 549, 159550125)\n",
    "print 'VISp', fraction_of_structure(mcc, 385, 159550125)"
   ]
  },
  {
   "cell_type": "markdown",
   "metadata": {},
   "source": [
    "<div style=\"border-left: 3px solid #000; padding: 1px; padding-left: 10px; background: #F0FAFF; \">\n",
    "<center><h3>Which structures recieve the most projections from VISp?</h3></center>\n",
    "\n",
    "<p>In order to answer this question you will need a set of structurewise projection summaries. One way to obtain these summary values would be to apply functions like the one you made in the previous excercise across a wider range of structures and experiments. This would be quite time-consuming, so we have precomputed such values for all experiments and structures.</p>\n",
    "\n",
    "<p>We call these structurewise summary records \"unionizes.\" Each unionize summarizes projection data over a unique (though potentially overlapping) spatial domain. Here are some unionize records:</p>\n",
    "</div>"
   ]
  },
  {
   "cell_type": "code",
   "execution_count": 65,
   "metadata": {},
   "outputs": [
    {
     "data": {
      "text/html": [
       "<div>\n",
       "<style>\n",
       "    .dataframe thead tr:only-child th {\n",
       "        text-align: right;\n",
       "    }\n",
       "\n",
       "    .dataframe thead th {\n",
       "        text-align: left;\n",
       "    }\n",
       "\n",
       "    .dataframe tbody tr th {\n",
       "        vertical-align: top;\n",
       "    }\n",
       "</style>\n",
       "<table border=\"1\" class=\"dataframe\">\n",
       "  <thead>\n",
       "    <tr style=\"text-align: right;\">\n",
       "      <th></th>\n",
       "      <th>hemisphere_id</th>\n",
       "      <th>id</th>\n",
       "      <th>is_injection</th>\n",
       "      <th>max_voxel_density</th>\n",
       "      <th>max_voxel_x</th>\n",
       "      <th>max_voxel_y</th>\n",
       "      <th>max_voxel_z</th>\n",
       "      <th>normalized_projection_volume</th>\n",
       "      <th>projection_density</th>\n",
       "      <th>projection_energy</th>\n",
       "      <th>projection_intensity</th>\n",
       "      <th>projection_volume</th>\n",
       "      <th>experiment_id</th>\n",
       "      <th>structure_id</th>\n",
       "      <th>sum_pixel_intensity</th>\n",
       "      <th>sum_pixels</th>\n",
       "      <th>sum_projection_pixel_intensity</th>\n",
       "      <th>sum_projection_pixels</th>\n",
       "      <th>volume</th>\n",
       "    </tr>\n",
       "  </thead>\n",
       "  <tbody>\n",
       "    <tr>\n",
       "      <th>0</th>\n",
       "      <td>1</td>\n",
       "      <td>532823925</td>\n",
       "      <td>False</td>\n",
       "      <td>0.000000</td>\n",
       "      <td>0</td>\n",
       "      <td>0</td>\n",
       "      <td>0</td>\n",
       "      <td>0.000000</td>\n",
       "      <td>0.000000</td>\n",
       "      <td>0.000000</td>\n",
       "      <td>0.000</td>\n",
       "      <td>0.000000</td>\n",
       "      <td>159550125</td>\n",
       "      <td>526157196</td>\n",
       "      <td>7.415590e+09</td>\n",
       "      <td>4.711680e+07</td>\n",
       "      <td>0.0</td>\n",
       "      <td>0.0</td>\n",
       "      <td>0.057718</td>\n",
       "    </tr>\n",
       "    <tr>\n",
       "      <th>1</th>\n",
       "      <td>1</td>\n",
       "      <td>532823569</td>\n",
       "      <td>False</td>\n",
       "      <td>0.251098</td>\n",
       "      <td>5500</td>\n",
       "      <td>7150</td>\n",
       "      <td>3300</td>\n",
       "      <td>0.000349</td>\n",
       "      <td>0.000176</td>\n",
       "      <td>0.042345</td>\n",
       "      <td>240.618</td>\n",
       "      <td>0.000056</td>\n",
       "      <td>159550125</td>\n",
       "      <td>639</td>\n",
       "      <td>4.165810e+10</td>\n",
       "      <td>2.580530e+08</td>\n",
       "      <td>10927100.0</td>\n",
       "      <td>45412.8</td>\n",
       "      <td>0.316115</td>\n",
       "    </tr>\n",
       "    <tr>\n",
       "      <th>2</th>\n",
       "      <td>1</td>\n",
       "      <td>532823815</td>\n",
       "      <td>False</td>\n",
       "      <td>0.144525</td>\n",
       "      <td>610</td>\n",
       "      <td>5800</td>\n",
       "      <td>5070</td>\n",
       "      <td>0.001465</td>\n",
       "      <td>0.000108</td>\n",
       "      <td>0.023410</td>\n",
       "      <td>216.215</td>\n",
       "      <td>0.000233</td>\n",
       "      <td>159550125</td>\n",
       "      <td>1016</td>\n",
       "      <td>1.202290e+11</td>\n",
       "      <td>1.760170e+09</td>\n",
       "      <td>41206500.0</td>\n",
       "      <td>190581.0</td>\n",
       "      <td>2.156210</td>\n",
       "    </tr>\n",
       "    <tr>\n",
       "      <th>3</th>\n",
       "      <td>1</td>\n",
       "      <td>532823422</td>\n",
       "      <td>False</td>\n",
       "      <td>0.000000</td>\n",
       "      <td>0</td>\n",
       "      <td>0</td>\n",
       "      <td>0</td>\n",
       "      <td>0.000000</td>\n",
       "      <td>0.000000</td>\n",
       "      <td>0.000000</td>\n",
       "      <td>0.000</td>\n",
       "      <td>0.000000</td>\n",
       "      <td>159550125</td>\n",
       "      <td>377</td>\n",
       "      <td>5.533910e+09</td>\n",
       "      <td>3.101040e+07</td>\n",
       "      <td>0.0</td>\n",
       "      <td>0.0</td>\n",
       "      <td>0.037988</td>\n",
       "    </tr>\n",
       "    <tr>\n",
       "      <th>4</th>\n",
       "      <td>3</td>\n",
       "      <td>532825286</td>\n",
       "      <td>False</td>\n",
       "      <td>0.000000</td>\n",
       "      <td>0</td>\n",
       "      <td>0</td>\n",
       "      <td>0</td>\n",
       "      <td>0.000000</td>\n",
       "      <td>0.000000</td>\n",
       "      <td>0.000000</td>\n",
       "      <td>0.000</td>\n",
       "      <td>0.000000</td>\n",
       "      <td>159550125</td>\n",
       "      <td>1010</td>\n",
       "      <td>3.633940e+10</td>\n",
       "      <td>1.636920e+08</td>\n",
       "      <td>0.0</td>\n",
       "      <td>0.0</td>\n",
       "      <td>0.200523</td>\n",
       "    </tr>\n",
       "  </tbody>\n",
       "</table>\n",
       "</div>"
      ],
      "text/plain": [
       "   hemisphere_id         id  is_injection  max_voxel_density  max_voxel_x  \\\n",
       "0              1  532823925         False           0.000000            0   \n",
       "1              1  532823569         False           0.251098         5500   \n",
       "2              1  532823815         False           0.144525          610   \n",
       "3              1  532823422         False           0.000000            0   \n",
       "4              3  532825286         False           0.000000            0   \n",
       "\n",
       "   max_voxel_y  max_voxel_z  normalized_projection_volume  projection_density  \\\n",
       "0            0            0                      0.000000            0.000000   \n",
       "1         7150         3300                      0.000349            0.000176   \n",
       "2         5800         5070                      0.001465            0.000108   \n",
       "3            0            0                      0.000000            0.000000   \n",
       "4            0            0                      0.000000            0.000000   \n",
       "\n",
       "   projection_energy  projection_intensity  projection_volume  experiment_id  \\\n",
       "0           0.000000                 0.000           0.000000      159550125   \n",
       "1           0.042345               240.618           0.000056      159550125   \n",
       "2           0.023410               216.215           0.000233      159550125   \n",
       "3           0.000000                 0.000           0.000000      159550125   \n",
       "4           0.000000                 0.000           0.000000      159550125   \n",
       "\n",
       "   structure_id  sum_pixel_intensity    sum_pixels  \\\n",
       "0     526157196         7.415590e+09  4.711680e+07   \n",
       "1           639         4.165810e+10  2.580530e+08   \n",
       "2          1016         1.202290e+11  1.760170e+09   \n",
       "3           377         5.533910e+09  3.101040e+07   \n",
       "4          1010         3.633940e+10  1.636920e+08   \n",
       "\n",
       "   sum_projection_pixel_intensity  sum_projection_pixels    volume  \n",
       "0                             0.0                    0.0  0.057718  \n",
       "1                      10927100.0                45412.8  0.316115  \n",
       "2                      41206500.0               190581.0  2.156210  \n",
       "3                             0.0                    0.0  0.037988  \n",
       "4                             0.0                    0.0  0.200523  "
      ]
     },
     "execution_count": 65,
     "metadata": {},
     "output_type": "execute_result"
    }
   ],
   "source": [
    "sample_experiment = 159550125\n",
    "\n",
    "unionizes = mcc.get_structure_unionizes(experiment_ids=[sample_experiment])\n",
    "unionizes.head()"
   ]
  },
  {
   "cell_type": "markdown",
   "metadata": {},
   "source": [
    "<div style=\"border-left: 3px solid #000; padding: 1px; padding-left: 10px; background: #F0FAFF; \">\n",
    "Each row in this table is a different unionize record. Some of the columns tell you what spatial domain the unionize record summarizes over:\n",
    "<ul>\n",
    "<li>structure_id : Which structure does the unionize summarize over?</li>\n",
    "<li>hemisphere_id* : Does the unionize summarize over the left hemisphere, the right, or both?</li>\n",
    "<li>is_injection : Does the unionize correspond the the part of this structure which is within the injection site?</li>\n",
    "</ul>\n",
    "<p>The \"experiment_id\" column identifies the experiment from which this unionize's data was drawn. This is not to be confused (!) with the \"id\" column, which is a unique identifier for this specific unionize record.</p>\n",
    "\n",
    "<p>All of the other fields are summaries of data. You can find a reference for these [here](http://alleninstitute.github.io/AllenSDK/unionizes.html).</p>\n",
    "\n",
    "<p>&#42; the hemisphere ids are: 1 => left, 2 => right, 3 => both</p>\n",
    "</div>"
   ]
  },
  {
   "cell_type": "markdown",
   "metadata": {},
   "source": [
    "<div style=\"border-left: 3px solid #000; padding: 1px; padding-left: 10px; background: #F0FFF0; \">\n",
    "<h4> Excercise: Unionizes from VISp experiments</h4>\n",
    "\n",
    "<p>Get all of the unionizes for all VISp experiments into wild type mice. How many are there?</p>\n",
    "</div>"
   ]
  },
  {
   "cell_type": "code",
   "execution_count": 74,
   "metadata": {},
   "outputs": [],
   "source": [
    "wt_visp_experiment_ids = [strid['id'] for strid in visp_experiments if strid['transgenic-line'] == \"\"]\n",
    "unionizes = mcc.get_structure_unionizes(experiment_ids = wt_visp_experiment_ids)"
   ]
  },
  {
   "cell_type": "markdown",
   "metadata": {},
   "source": [
    "<div style=\"border-left: 3px solid #000; padding: 1px; padding-left: 10px; background: #F0FAFF; \">\n",
    "<h4>A nonoverlapping set of structures</h4>\n",
    "\n",
    "<p>A question like \"which structures recieve the most projections from VISp\" don't make much sense across the whole tree - some structures contain others and will therefore end up higher on the list.</p>\n",
    "\n",
    "<p>We've created a nonoverlapping list of 293 biologically relevant structures, which we call the \"summary structures.\" You can download a list of summary structures using the ontologies api:</p>\n",
    "</div>"
   ]
  },
  {
   "cell_type": "code",
   "execution_count": 76,
   "metadata": {
    "collapsed": true
   },
   "outputs": [],
   "source": [
    "# get the summary structure set\n",
    "# this is a set of ~293 nonoverlapping structures selected for \n",
    "# biological relevance\n",
    "oapi = OntologiesApi()\n",
    "summary_structures = oapi.get_structures(structure_set_names=\"'Mouse Connectivity - Summary'\")\n",
    "summary_structure_ids = [item['id'] for item in summary_structures]"
   ]
  },
  {
   "cell_type": "markdown",
   "metadata": {},
   "source": [
    "<div style=\"border-left: 3px solid #000; padding: 1px; padding-left: 10px; background: #F0FFF0; \">\n",
    "<h4> Excercise: Filter VISp unionizes to the summary structure set</h4>\n",
    "\n",
    "<p>Generate a filtered set of unionizes that only includes those where the structure is a summary structure.</p>\n",
    "\n",
    "<p>Hint: pandas.Series has an isin method</p>\n",
    "</div>"
   ]
  },
  {
   "cell_type": "code",
   "execution_count": 79,
   "metadata": {},
   "outputs": [],
   "source": [
    "wt_visp_summary_projection_unionizes = unionizes[unionizes['structure_id'].isin(summary_structure_ids)]"
   ]
  },
  {
   "cell_type": "markdown",
   "metadata": {},
   "source": [
    "<div style=\"border-left: 3px solid #000; padding: 1px; padding-left: 10px; background: #F0FFF0; \">\n",
    "<h4> Excercise: Seperate injection and noninjection unionizes</h4>\n",
    "\n",
    "<p>Signal from within the injection site has a very different interpretation from that without. In the former case, the signal comes from infected cell bodies and their local processes, while in the latter it is from their medium- to long-range projections. We can use the is_injection field to seperate our unionizes into an injection and a noninjection set.</p>\n",
    "</div>"
   ]
  },
  {
   "cell_type": "code",
   "execution_count": 80,
   "metadata": {
    "collapsed": true
   },
   "outputs": [],
   "source": [
    "wt_visp_noninjection_unionizes = unionizes[unionizes['is_injection'] == False]"
   ]
  },
  {
   "cell_type": "markdown",
   "metadata": {},
   "source": [
    "<div style=\"border-left: 3px solid #000; padding: 1px; padding-left: 10px; background: #F0FAFF; \">\n",
    "<h4>What are the projection targets of VISp?</h4>\n",
    "\n",
    "<p>Now that we have a dataframe containing the unionize data outside the injection site for all our experiments in wild type mice, we can use some pandas functions to look at our results. Pandas makes it easy to:</p>\n",
    "<ol>\n",
    "<li>Find the mean projection strength by structure across experiments using [pandas.DataFrame.groupby](https://pandas.pydata.org/pandas-docs/stable/generated/pandas.DataFrame.groupby.html) combined with [pandas.DataFrame.mean](https://pandas.pydata.org/pandas-docs/stable/generated/pandas.DataFrame.mean.html)</li>\n",
    "<li>Find the regions that receive the strongest projections using [pandas.DataFrame.sort_values](https://pandas.pydata.org/pandas-docs/stable/generated/pandas.DataFrame.sort_values.html)</li>\n",
    "<li>Graph the data</li>\n",
    "</ol>\n",
    "</div>"
   ]
  },
  {
   "cell_type": "code",
   "execution_count": 81,
   "metadata": {
    "collapsed": true
   },
   "outputs": [],
   "source": [
    "wt_visp_experiment_ids = [exp['id'] for exp in visp_experiments if exp['transgenic-line'] == '']\n",
    "wt_visp_unionizes = mcc.get_structure_unionizes(wt_visp_experiment_ids)"
   ]
  },
  {
   "cell_type": "code",
   "execution_count": 82,
   "metadata": {},
   "outputs": [
    {
     "name": "stdout",
     "output_type": "stream",
     "text": [
      "(27249, 19)\n"
     ]
    }
   ],
   "source": [
    "# When we have multiple conditions on a pandas dataframe, they can be chained together in a single slice\n",
    "\n",
    "wt_visp_summary_projection_unionizes = (\n",
    "    wt_visp_unionizes[(wt_visp_unionizes['is_injection'] == False) & \n",
    "                      (wt_visp_unionizes['structure_id'].isin(summary_structure_ids))\n",
    "                     ])\n",
    "\n",
    "print wt_visp_summary_projection_unionizes.shape"
   ]
  },
  {
   "cell_type": "code",
   "execution_count": 83,
   "metadata": {},
   "outputs": [
    {
     "name": "stdout",
     "output_type": "stream",
     "text": [
      "293\n"
     ]
    }
   ],
   "source": [
    "wt_mean_proj_density = (\n",
    "    wt_visp_summary_projection_unionizes.groupby('structure_id', as_index = False)[\n",
    "    'projection_density'].mean())\n",
    "print(len(wt_mean_proj_density))"
   ]
  },
  {
   "cell_type": "code",
   "execution_count": 90,
   "metadata": {
    "scrolled": true
   },
   "outputs": [
    {
     "name": "stdout",
     "output_type": "stream",
     "text": [
      "127                                  Lateral visual area\n",
      "47         Dorsal part of the lateral geniculate complex\n",
      "50        Ventral part of the lateral geniculate complex\n",
      "121                                  Primary visual area\n",
      "132                           Posterolateral visual area\n",
      "7      Intergeniculate leaflet of the lateral genicul...\n",
      "291                              Laterointermediate area\n",
      "172                           Nucleus of the optic tract\n",
      "96                                 Subgeniculate nucleus\n",
      "125                            Anterolateral visual area\n",
      "292                                      Postrhinal area\n",
      "66             Lateral posterior nucleus of the thalamus\n",
      "129                            Rostrolateral visual area\n",
      "149                            posteromedial visual area\n",
      "43                    Lateral dorsal nucleus of thalamus\n",
      "187                            Olivary pretectal nucleus\n",
      "123                             Anteromedial visual area\n",
      "64                            Anterior pretectal nucleus\n",
      "91                  Superior colliculus, sensory related\n",
      "221           Retrosplenial area, lateral agranular part\n",
      "Name: name, dtype: object\n"
     ]
    }
   ],
   "source": [
    "# Print the names of the top 20 targets of VISp using name_map and the pandas sort_values function\n",
    "\n",
    "top20_density = wt_mean_proj_density.sort_values(by = 'projection_density', ascending = False)[:20]\n",
    "top20_density['name'] = [name_map[stid] for stid in top20_density['structure_id']]\n",
    "print(top20_density['name'])"
   ]
  },
  {
   "cell_type": "markdown",
   "metadata": {},
   "source": [
    "<div style=\"border-left: 3px solid #000; padding: 1px; padding-left: 10px; background: #F0FFF0; \"><h4> Excercise: Comparing projection density and projection volume</h4>\n",
    "\n",
    "<p>Find the top 20 targets of VISp by normalized projection volume. </p>\n",
    "<ul>\n",
    "<li>Are these regions different from the top 20 targets by density?</li>\n",
    "<li>Which targets are different?</li>\n",
    "<li>Which gives us the correct answer for the top 20 projection targets of primary visual cortex?</li>\n",
    "</ul>\n",
    "</div>"
   ]
  },
  {
   "cell_type": "code",
   "execution_count": 93,
   "metadata": {
    "scrolled": true
   },
   "outputs": [
    {
     "data": {
      "text/html": [
       "<div>\n",
       "<style>\n",
       "    .dataframe thead tr:only-child th {\n",
       "        text-align: right;\n",
       "    }\n",
       "\n",
       "    .dataframe thead th {\n",
       "        text-align: left;\n",
       "    }\n",
       "\n",
       "    .dataframe tbody tr th {\n",
       "        vertical-align: top;\n",
       "    }\n",
       "</style>\n",
       "<table border=\"1\" class=\"dataframe\">\n",
       "  <thead>\n",
       "    <tr style=\"text-align: right;\">\n",
       "      <th></th>\n",
       "      <th>structure_id</th>\n",
       "      <th>projection_density</th>\n",
       "      <th>name</th>\n",
       "      <th>normalized_projection_volume</th>\n",
       "      <th>_merge</th>\n",
       "    </tr>\n",
       "  </thead>\n",
       "  <tbody>\n",
       "    <tr>\n",
       "      <th>0</th>\n",
       "      <td>409</td>\n",
       "      <td>0.191344</td>\n",
       "      <td>Lateral visual area</td>\n",
       "      <td>0.350819</td>\n",
       "      <td>both</td>\n",
       "    </tr>\n",
       "    <tr>\n",
       "      <th>1</th>\n",
       "      <td>170</td>\n",
       "      <td>0.148600</td>\n",
       "      <td>Dorsal part of the lateral geniculate complex</td>\n",
       "      <td>0.195738</td>\n",
       "      <td>both</td>\n",
       "    </tr>\n",
       "    <tr>\n",
       "      <th>2</th>\n",
       "      <td>178</td>\n",
       "      <td>0.146684</td>\n",
       "      <td>Ventral part of the lateral geniculate complex</td>\n",
       "      <td>0.114503</td>\n",
       "      <td>both</td>\n",
       "    </tr>\n",
       "    <tr>\n",
       "      <th>3</th>\n",
       "      <td>385</td>\n",
       "      <td>0.139262</td>\n",
       "      <td>Primary visual area</td>\n",
       "      <td>1.733340</td>\n",
       "      <td>both</td>\n",
       "    </tr>\n",
       "    <tr>\n",
       "      <th>4</th>\n",
       "      <td>425</td>\n",
       "      <td>0.137598</td>\n",
       "      <td>Posterolateral visual area</td>\n",
       "      <td>0.152810</td>\n",
       "      <td>both</td>\n",
       "    </tr>\n",
       "    <tr>\n",
       "      <th>5</th>\n",
       "      <td>27</td>\n",
       "      <td>0.126054</td>\n",
       "      <td>Intergeniculate leaflet of the lateral genicul...</td>\n",
       "      <td>NaN</td>\n",
       "      <td>left_only</td>\n",
       "    </tr>\n",
       "    <tr>\n",
       "      <th>6</th>\n",
       "      <td>312782574</td>\n",
       "      <td>0.119636</td>\n",
       "      <td>Laterointermediate area</td>\n",
       "      <td>0.097983</td>\n",
       "      <td>both</td>\n",
       "    </tr>\n",
       "    <tr>\n",
       "      <th>7</th>\n",
       "      <td>628</td>\n",
       "      <td>0.116963</td>\n",
       "      <td>Nucleus of the optic tract</td>\n",
       "      <td>NaN</td>\n",
       "      <td>left_only</td>\n",
       "    </tr>\n",
       "    <tr>\n",
       "      <th>8</th>\n",
       "      <td>321</td>\n",
       "      <td>0.111340</td>\n",
       "      <td>Subgeniculate nucleus</td>\n",
       "      <td>NaN</td>\n",
       "      <td>left_only</td>\n",
       "    </tr>\n",
       "    <tr>\n",
       "      <th>9</th>\n",
       "      <td>402</td>\n",
       "      <td>0.105115</td>\n",
       "      <td>Anterolateral visual area</td>\n",
       "      <td>0.139512</td>\n",
       "      <td>both</td>\n",
       "    </tr>\n",
       "    <tr>\n",
       "      <th>10</th>\n",
       "      <td>312782628</td>\n",
       "      <td>0.102850</td>\n",
       "      <td>Postrhinal area</td>\n",
       "      <td>0.189241</td>\n",
       "      <td>both</td>\n",
       "    </tr>\n",
       "    <tr>\n",
       "      <th>11</th>\n",
       "      <td>218</td>\n",
       "      <td>0.090721</td>\n",
       "      <td>Lateral posterior nucleus of the thalamus</td>\n",
       "      <td>0.202895</td>\n",
       "      <td>both</td>\n",
       "    </tr>\n",
       "    <tr>\n",
       "      <th>12</th>\n",
       "      <td>417</td>\n",
       "      <td>0.085072</td>\n",
       "      <td>Rostrolateral visual area</td>\n",
       "      <td>0.158235</td>\n",
       "      <td>both</td>\n",
       "    </tr>\n",
       "    <tr>\n",
       "      <th>13</th>\n",
       "      <td>533</td>\n",
       "      <td>0.081374</td>\n",
       "      <td>posteromedial visual area</td>\n",
       "      <td>0.151075</td>\n",
       "      <td>both</td>\n",
       "    </tr>\n",
       "    <tr>\n",
       "      <th>14</th>\n",
       "      <td>155</td>\n",
       "      <td>0.073837</td>\n",
       "      <td>Lateral dorsal nucleus of thalamus</td>\n",
       "      <td>0.149385</td>\n",
       "      <td>both</td>\n",
       "    </tr>\n",
       "    <tr>\n",
       "      <th>15</th>\n",
       "      <td>706</td>\n",
       "      <td>0.067272</td>\n",
       "      <td>Olivary pretectal nucleus</td>\n",
       "      <td>NaN</td>\n",
       "      <td>left_only</td>\n",
       "    </tr>\n",
       "    <tr>\n",
       "      <th>16</th>\n",
       "      <td>394</td>\n",
       "      <td>0.050385</td>\n",
       "      <td>Anteromedial visual area</td>\n",
       "      <td>0.071585</td>\n",
       "      <td>both</td>\n",
       "    </tr>\n",
       "    <tr>\n",
       "      <th>17</th>\n",
       "      <td>215</td>\n",
       "      <td>0.048005</td>\n",
       "      <td>Anterior pretectal nucleus</td>\n",
       "      <td>0.114612</td>\n",
       "      <td>both</td>\n",
       "    </tr>\n",
       "    <tr>\n",
       "      <th>18</th>\n",
       "      <td>302</td>\n",
       "      <td>0.042728</td>\n",
       "      <td>Superior colliculus, sensory related</td>\n",
       "      <td>0.185900</td>\n",
       "      <td>both</td>\n",
       "    </tr>\n",
       "    <tr>\n",
       "      <th>19</th>\n",
       "      <td>894</td>\n",
       "      <td>0.038398</td>\n",
       "      <td>Retrosplenial area, lateral agranular part</td>\n",
       "      <td>0.174854</td>\n",
       "      <td>both</td>\n",
       "    </tr>\n",
       "    <tr>\n",
       "      <th>20</th>\n",
       "      <td>1009</td>\n",
       "      <td>NaN</td>\n",
       "      <td>fiber tracts</td>\n",
       "      <td>0.861519</td>\n",
       "      <td>right_only</td>\n",
       "    </tr>\n",
       "    <tr>\n",
       "      <th>21</th>\n",
       "      <td>672</td>\n",
       "      <td>NaN</td>\n",
       "      <td>Caudoputamen</td>\n",
       "      <td>0.368870</td>\n",
       "      <td>right_only</td>\n",
       "    </tr>\n",
       "    <tr>\n",
       "      <th>22</th>\n",
       "      <td>879</td>\n",
       "      <td>NaN</td>\n",
       "      <td>Retrosplenial area, dorsal part</td>\n",
       "      <td>0.205764</td>\n",
       "      <td>right_only</td>\n",
       "    </tr>\n",
       "    <tr>\n",
       "      <th>23</th>\n",
       "      <td>294</td>\n",
       "      <td>NaN</td>\n",
       "      <td>Superior colliculus, motor related</td>\n",
       "      <td>0.192007</td>\n",
       "      <td>right_only</td>\n",
       "    </tr>\n",
       "  </tbody>\n",
       "</table>\n",
       "</div>"
      ],
      "text/plain": [
       "    structure_id  projection_density  \\\n",
       "0            409            0.191344   \n",
       "1            170            0.148600   \n",
       "2            178            0.146684   \n",
       "3            385            0.139262   \n",
       "4            425            0.137598   \n",
       "5             27            0.126054   \n",
       "6      312782574            0.119636   \n",
       "7            628            0.116963   \n",
       "8            321            0.111340   \n",
       "9            402            0.105115   \n",
       "10     312782628            0.102850   \n",
       "11           218            0.090721   \n",
       "12           417            0.085072   \n",
       "13           533            0.081374   \n",
       "14           155            0.073837   \n",
       "15           706            0.067272   \n",
       "16           394            0.050385   \n",
       "17           215            0.048005   \n",
       "18           302            0.042728   \n",
       "19           894            0.038398   \n",
       "20          1009                 NaN   \n",
       "21           672                 NaN   \n",
       "22           879                 NaN   \n",
       "23           294                 NaN   \n",
       "\n",
       "                                                 name  \\\n",
       "0                                 Lateral visual area   \n",
       "1       Dorsal part of the lateral geniculate complex   \n",
       "2      Ventral part of the lateral geniculate complex   \n",
       "3                                 Primary visual area   \n",
       "4                          Posterolateral visual area   \n",
       "5   Intergeniculate leaflet of the lateral genicul...   \n",
       "6                             Laterointermediate area   \n",
       "7                          Nucleus of the optic tract   \n",
       "8                               Subgeniculate nucleus   \n",
       "9                           Anterolateral visual area   \n",
       "10                                    Postrhinal area   \n",
       "11          Lateral posterior nucleus of the thalamus   \n",
       "12                          Rostrolateral visual area   \n",
       "13                          posteromedial visual area   \n",
       "14                 Lateral dorsal nucleus of thalamus   \n",
       "15                          Olivary pretectal nucleus   \n",
       "16                           Anteromedial visual area   \n",
       "17                         Anterior pretectal nucleus   \n",
       "18               Superior colliculus, sensory related   \n",
       "19         Retrosplenial area, lateral agranular part   \n",
       "20                                       fiber tracts   \n",
       "21                                       Caudoputamen   \n",
       "22                    Retrosplenial area, dorsal part   \n",
       "23                 Superior colliculus, motor related   \n",
       "\n",
       "    normalized_projection_volume      _merge  \n",
       "0                       0.350819        both  \n",
       "1                       0.195738        both  \n",
       "2                       0.114503        both  \n",
       "3                       1.733340        both  \n",
       "4                       0.152810        both  \n",
       "5                            NaN   left_only  \n",
       "6                       0.097983        both  \n",
       "7                            NaN   left_only  \n",
       "8                            NaN   left_only  \n",
       "9                       0.139512        both  \n",
       "10                      0.189241        both  \n",
       "11                      0.202895        both  \n",
       "12                      0.158235        both  \n",
       "13                      0.151075        both  \n",
       "14                      0.149385        both  \n",
       "15                           NaN   left_only  \n",
       "16                      0.071585        both  \n",
       "17                      0.114612        both  \n",
       "18                      0.185900        both  \n",
       "19                      0.174854        both  \n",
       "20                      0.861519  right_only  \n",
       "21                      0.368870  right_only  \n",
       "22                      0.205764  right_only  \n",
       "23                      0.192007  right_only  "
      ]
     },
     "execution_count": 93,
     "metadata": {},
     "output_type": "execute_result"
    }
   ],
   "source": [
    "wt_mean_proj_volume = (\n",
    "    wt_visp_summary_projection_unionizes.groupby('structure_id', as_index = False)[\n",
    "    'normalized_projection_volume'].mean())\n",
    "top20_volume = wt_mean_proj_volume.sort_values(by = 'normalized_projection_volume', ascending = False)[:20]\n",
    "top20_volume['name'] = [name_map[stid] for stid in top20_volume['structure_id']]\n",
    "diff = top20_density.merge(top20_volume, on = ['structure_id', 'name'], indicator = True, how = 'outer') \n",
    "diff"
   ]
  },
  {
   "cell_type": "markdown",
   "metadata": {},
   "source": [
    "<div style=\"border-left: 3px solid #000; padding: 1px; padding-left: 10px; background: #F0FAFF; \">These lists are a little hard to compare, so let's make some simple bar plots to help visualize the difference</div>"
   ]
  },
  {
   "cell_type": "code",
   "execution_count": 94,
   "metadata": {
    "collapsed": true
   },
   "outputs": [],
   "source": [
    "# A possible solution for finding normalized projection volume\n",
    "wt_mean_proj_volume = (\n",
    "    wt_visp_summary_projection_unionizes.groupby('structure_id', as_index = False)[\n",
    "    'normalized_projection_volume'].mean())\n",
    "top20_volume = (\n",
    "    wt_mean_proj_volume.sort_values(by = 'normalized_projection_volume', ascending = False)[:20])\n",
    "top20_volume['name'] = [name_map[stid] for stid in top20_volume['structure_id']]\n",
    "\n",
    "diff = top20_density.merge(top20_volume, indicator = True, how='outer')"
   ]
  },
  {
   "cell_type": "code",
   "execution_count": 95,
   "metadata": {
    "collapsed": true
   },
   "outputs": [],
   "source": [
    "# The \"diff\" dataframe contains NaN values where the top 20 structures differed between the two measures, \n",
    "# so we will need to go back to our large dataframes to get the missing values before plotting\n",
    "\n",
    "pltdat = wt_mean_proj_density.merge(wt_mean_proj_volume, on = 'structure_id')\n",
    "pltdat = pltdat[pltdat['structure_id'].isin(diff['structure_id'])]\n",
    "pltdat = diff[['structure_id', 'name', '_merge']].merge(pltdat, on = ['structure_id'], \n",
    "                                                        how = 'outer')"
   ]
  },
  {
   "cell_type": "code",
   "execution_count": 96,
   "metadata": {},
   "outputs": [
    {
     "data": {
      "text/plain": [
       "<matplotlib.text.Text at 0x113c09510>"
      ]
     },
     "execution_count": 96,
     "metadata": {},
     "output_type": "execute_result"
    },
    {
     "data": {
      "image/png": "[encoded data removed]",
      "text/plain": [
       "<matplotlib.figure.Figure at 0x114772790>"
      ]
     },
     "metadata": {},
     "output_type": "display_data"
    }
   ],
   "source": [
    "fig, ax = plt.subplots(2, 1, sharex = True, figsize = (15, 8))\n",
    "pltdat.plot.bar('name', 'projection_density', ax = ax[0])\n",
    "pltdat.plot.bar('name', 'normalized_projection_volume', ax = ax[1], color = 'r')\n",
    "ax[0].set_ylabel('projection density')\n",
    "ax[1].set_ylabel('normalized projection volume')"
   ]
  },
  {
   "cell_type": "markdown",
   "metadata": {},
   "source": [
    "<div style=\"border-left: 3px solid #000; padding: 1px; padding-left: 10px; background: #F0FAFF; \"><h4>Why do we get different answers with projection density and normalized projection volume?</h4>\n",
    "<ul>\n",
    "<li>projection_volume is the volume of projecting signal in mm3 (detected pixels)</li>\n",
    "<li><u>normalized_projection_volume</u> is the projection_volume / volume of injection site</li>\n",
    "<li><u>projection_density</u> is the sum of all detected pixels / volume of structure</li>\n",
    "<li>projection_energy: sum of detected pixel intensity / volume of structure (in general, do not use this)</li>\n",
    "</ul>\n",
    "\n",
    "<p>Please see http://help.brain-map.org/display/mouseconnectivity/API#API-ProjectionDataGridding for more information.</p>\n",
    "\n",
    "<p>When deciding which measurement to use, think about whether your question is source-centric or target-centric and about how structure sizes might affect your results</p>\n",
    "</div>"
   ]
  },
  {
   "cell_type": "markdown",
   "metadata": {},
   "source": [
    "<div style=\"border-left: 3px solid #000; padding: 1px; padding-left: 10px; background: #F0FFF0; \">\n",
    "<h4> Excercise: Summarizing across experiments</h4>\n",
    "\n",
    "Write a function that computes a summary statistic across all experiments within a particular spatial domain. Pick a non-VISp structure and evaluate the normalized projection volume (volume of projection signal / volume of injection signal) in that structure across all VISp experiments in wild type mice.\n",
    "\n",
    "hint: passing a function as an argument seems weird, but you can actually just call the resulting object. For instance, in the below signature calling fn(x) is equivalent to calling np.mean(x)\n",
    "</div>"
   ]
  },
  {
   "cell_type": "markdown",
   "metadata": {},
   "source": [
    "```python\n",
    "def signal_summary(unionizes, structure_id, hemisphere_id, is_injection, signal_key, fn=np.mean):\n",
    "    '''Applies a function to all unionizes describing a specified spatial domain.\n",
    "    \n",
    "    Parameters\n",
    "    ----------\n",
    "    unionizes : pd.DataFrame\n",
    "    structure_id : int\n",
    "        filter unionizes by structure\n",
    "    hemisphere_id : int\n",
    "        filter unionizes by hemisphere\n",
    "    is_injection : bool\n",
    "        filter unionizes by injection status\n",
    "    signal_key : str\n",
    "        select this column from the data\n",
    "    fn : function, optional\n",
    "        apply this function to the values of the resulting pandas series. Defaults to np.mean.\n",
    "    \n",
    "    Returns\n",
    "    -------\n",
    "    summary : numeric\n",
    "        output of fn on filtered unionizes\n",
    "    \n",
    "    '''\n",
    " \n",
    "    # code here\n",
    "    \n",
    "    return summary\n",
    "\n",
    "```"
   ]
  },
  {
   "cell_type": "markdown",
   "metadata": {},
   "source": [
    "<div style=\"border-left: 3px solid #000; padding: 1px; padding-left: 10px; background: #F0FFF0; \">\n",
    "<h4> Excercise: projection pattern comparisons</h4>\n",
    "\n",
    "<p>Use the grid and/or unionize data to run a comparison of projection patterns between experiments varying along axes of your choice. Some options:</p>\n",
    "<ul>\n",
    "<li>cre line</li>\n",
    "<li>injection hemisphere</li>\n",
    "<li>primary injection structure</li>\n",
    "<li>secondary injection structures, given a common primary injection structure</li>\n",
    "</ul>\n",
    "<p>As outputs you might look at:</p>\n",
    "<ul>\n",
    "<li>which structures are projected to</li>\n",
    "<li>are projections equally strong across hemispheres?</li>\n",
    "<li>do projections preferentially end up in subregions of the target structures? Can these subregions be identified as substructures in the tree, or only geographically?</li>\n",
    "<li>Which regions are the most or least variably projected to by projections from a particular source?</li>\n",
    "</ul>\n",
    "</div>"
   ]
  },
  {
   "cell_type": "code",
   "execution_count": null,
   "metadata": {
    "collapsed": true
   },
   "outputs": [],
   "source": []
  },
  {
   "cell_type": "markdown",
   "metadata": {},
   "source": [
    "<div style=\"border-left: 3px solid #000; padding: 1px; padding-left: 10px; background: #F0FAFF; \">\n",
    "<h3><center>Additional excercises</center></h3>\n",
    "</div>"
   ]
  },
  {
   "cell_type": "markdown",
   "metadata": {
    "collapsed": true
   },
   "source": [
    "<div style=\"border-left: 3px solid #000; padding: 1px; padding-left: 10px; background: #F0FFF0; \">\n",
    "<h4> Excercise 1: most recent common ancestor</h4>\n",
    "\n",
    "<p>The goal of this excercise is to write a function with the following signature:</p>\n",
    "</div>"
   ]
  },
  {
   "cell_type": "markdown",
   "metadata": {},
   "source": [
    "```python\n",
    "def get_most_recent_common_ancestor(structure_tree, structure_ids):\n",
    "    '''Finds the most leafward structure that is an ancestor (inclusive) of a set of supplied structures.\n",
    "    \n",
    "    Parameters\n",
    "    ----------\n",
    "    structure_tree : StructureTree\n",
    "        The complete structure tree.\n",
    "    structure_ids : list of int\n",
    "        One or more structure identifiers \n",
    "    \n",
    "    Returns\n",
    "    -------\n",
    "    common_ancestor_id : int\n",
    "        Structure id of the most specific ancestor of all supplied structures.\n",
    "    \n",
    "    Examples\n",
    "    --------\n",
    "    >>> get_most_recent_common_ancestor(structure_tree, [385, 425])\n",
    "    669\n",
    "    >>> get_most_recent_common_ancestor(structure_tree, [315])\n",
    "    315\n",
    "    >>> get_most_recent_common_ancestor(structure_tree, [])\n",
    "    None\n",
    "    \n",
    "    '''\n",
    "\n",
    "    # your code here\n",
    "\n",
    "    return common_ancestor_id\n",
    "```\n",
    "<p><i>Hint: see StructureTree.ancestor_ids. How are the ids returned by this function ordered?</i></p>"
   ]
  },
  {
   "cell_type": "markdown",
   "metadata": {},
   "source": [
    "<div style=\"border-left: 3px solid #000; padding: 1px; padding-left: 10px; background: #F0FFF0; \"><h4> Excercise 2: Variability between experiments</h4>\n",
    "\n",
    "<p>Find the standard deviation and/or SEM for the projection densitiy and normalized projection volume in the top 20 sources plotted above. Add error bars to the plot.</p>\n",
    "</div>"
   ]
  },
  {
   "cell_type": "code",
   "execution_count": null,
   "metadata": {
    "collapsed": true
   },
   "outputs": [],
   "source": []
  },
  {
   "cell_type": "markdown",
   "metadata": {},
   "source": [
    "<div style=\"border-left: 3px solid #000; padding: 1px; padding-left: 10px; background: #F0FFF0; \"><h4> Excercise 3: Correlation between experiments</h4>\n",
    "<p>Get the projection density volumes for two experiments and compute the correlation coefficient between the two.</p>\n",
    "</div>"
   ]
  },
  {
   "cell_type": "code",
   "execution_count": null,
   "metadata": {
    "collapsed": true
   },
   "outputs": [],
   "source": []
  },
  {
   "cell_type": "markdown",
   "metadata": {},
   "source": [
    "<div style=\"border-left: 3px solid #000; padding: 1px; padding-left: 10px; background: #F0FFF0; \"><h4>Exercise 4: Comparing wild type projection data with cre-defined projection data.</h4>\n",
    "<p>Pick a region that has injection experiments in both wild type and cre mice. Compare the projections from the cre injection to the wild type projections using the visualization tool of your choice (bar plot, box plot, axis projection, matrix, etc...).</p>\n",
    "<ul>\n",
    "<li>Bonus 1: How far apart in space are the cre and wild type injections? Would you consider them to be well-matched?</li>\n",
    "<li>Bonus 2: Are there any cre lines which have more projection targets than their corresponding wild type experiments? If so, is this true only in some regions or is it a general phenomenon?</li>\n",
    "</ul>\n",
    "</div>"
   ]
  },
  {
   "cell_type": "code",
   "execution_count": null,
   "metadata": {
    "collapsed": true
   },
   "outputs": [],
   "source": []
  },
  {
   "cell_type": "markdown",
   "metadata": {},
   "source": [
    "<div style=\"border-left: 3px solid #000; padding: 1px; padding-left: 10px; background: #F0FFF0; \"><h4>Exercise 5: Relationship between structure size and projection density</h4>\n",
    "\n",
    "<p>Because projection density is normalized by the volume of target structures, smaller structures that receive fewer projections overall may show a greater disparity between normalized_projection_volume and projection_density. Is this true for the targets of VISp? What is the relationship between structure size and projection density?</p>\n",
    "</div>"
   ]
  },
  {
   "cell_type": "code",
   "execution_count": null,
   "metadata": {
    "collapsed": true
   },
   "outputs": [],
   "source": []
  },
  {
   "cell_type": "markdown",
   "metadata": {},
   "source": [
    "<div style=\"border-left: 3px solid #000; padding: 1px; padding-left: 10px; background: #F0FFF0; \"><h4>Exercise 6: Structure based correlation search</h4>\n",
    "<ul>\n",
    "<li>Pick several experiments delivered into MOp.</li>\n",
    "<li>Get the projection density values for all structures at the \"Summary\" level</li>\n",
    "<li>Build an experiment-experiment correlation matrix based on those values.</li>\n",
    "</ul>\n",
    "</div>"
   ]
  },
  {
   "cell_type": "code",
   "execution_count": null,
   "metadata": {
    "collapsed": true
   },
   "outputs": [],
   "source": []
  },
  {
   "cell_type": "markdown",
   "metadata": {},
   "source": [
    "<div style=\"border-left: 3px solid #000; padding: 1px; padding-left: 10px; background: #F0FFF0; \"><h4>Exercise 7: Reciprocal connections</h4>\n",
    "\n",
    "<p>Of the top 20 projection targets of VISp (or your favorite region), which ones show reciprocal connections (project back to VISp)? Is the strength of the feedback projections proportional to the strength of the feedforward projections?</p>\n",
    "</div>"
   ]
  },
  {
   "cell_type": "code",
   "execution_count": null,
   "metadata": {
    "collapsed": true
   },
   "outputs": [],
   "source": []
  },
  {
   "cell_type": "markdown",
   "metadata": {},
   "source": [
    "<div style=\"border-left: 3px solid #000; padding: 1px; padding-left: 10px; background: #F0FFF0; \"><h4> Excercise 8: Generating a Projection Matrix</h4>\n",
    "\n",
    "<p>The Mouse Connectivity Cache has a built-in function for generating a projection matrix (example below). Use the functions in structure_tree to generate matrices at different levels of detail. Make a projection matrix for:</p>\n",
    "<ul>\n",
    "<li>Contralateral projections from VISp</li>\n",
    "<li>The 293 summary structures</li>\n",
    "<li>Structures in the thalamus</li>\n",
    "<li>All descendants of VISp</li>\n",
    "</ul>\n",
    "</div>"
   ]
  },
  {
   "cell_type": "code",
   "execution_count": null,
   "metadata": {
    "collapsed": true
   },
   "outputs": [],
   "source": [
    "ctx_children = [struct['id'] for struct in structure_tree.children([acronym_to_id_map['Isocortex']])[0]]\n",
    "\n",
    "pm = mcc.get_projection_matrix(experiment_ids = wt_visp_experiment_ids, \n",
    "                               projection_structure_ids = ctx_children,\n",
    "                               hemisphere_ids= [2], # right hemisphere, ipsilateral\n",
    "                               parameter = 'projection_density')\n",
    "\n",
    "row_labels = pm['rows'] # these are just experiment ids\n",
    "column_labels = [ c['label'] for c in pm['columns'] ] \n",
    "matrix = pm['matrix']\n",
    "\n",
    "fig, ax = plt.subplots(figsize=(12,12))\n",
    "heatmap = ax.pcolor(matrix, cmap=plt.cm.afmhot)\n",
    "\n",
    "# put the major ticks at the middle of each cell\n",
    "ax.set_xticks(np.arange(matrix.shape[1])+0.5, minor=False)\n",
    "ax.set_yticks(np.arange(matrix.shape[0])+0.5, minor=False)\n",
    "\n",
    "ax.set_xlim([0, matrix.shape[1]])\n",
    "ax.set_ylim([0, matrix.shape[0]])          \n",
    "\n",
    "# want a more natural, table-like display\n",
    "ax.invert_yaxis()\n",
    "ax.xaxis.tick_top()\n",
    "\n",
    "ax.set_xticklabels(column_labels, minor=False)\n",
    "ax.set_yticklabels(row_labels, minor=False)\n",
    "plt.show()"
   ]
  },
  {
   "cell_type": "code",
   "execution_count": 1,
   "metadata": {
    "collapsed": true
   },
   "outputs": [],
   "source": [
    "# Your projection matrix"
   ]
  },
  {
   "cell_type": "markdown",
   "metadata": {},
   "source": [
    "<div style=\"border-left: 3px solid #000; padding: 1px; padding-left: 10px; background: #F0FAFF; \">\n",
    "<h3><center>Ideas for shareable functions</center></h3>\n",
    "</div>"
   ]
  },
  {
   "cell_type": "markdown",
   "metadata": {},
   "source": [
    "<div style=\"border-left: 3px solid #000; padding: 1px; padding-left: 10px; background: #F0FAFF; \">\n",
    "<ol>\n",
    "<li>Find the top n targets for an input source region</li>\n",
    "<li>Find the top n sources that project to an input target region (or sources with projections stronger than a specified threshold)</li>\n",
    "<li>Find the top n differences between two or more experiments</li>\n",
    "<li>Quantify projection density by layer from a specified source to one or more target regions</li>\n",
    "<li>Find all experiments within a specified distance of an anchor experiment</li>\n",
    "</ol>\n",
    "</div>"
   ]
  },
  {
   "cell_type": "markdown",
   "metadata": {},
   "source": [
    "<div style=\"border-left: 3px solid #000; padding: 1px; padding-left: 10px; background: #F0FAFF; \">\n",
    "<h3><center>Project Ideas</center></h3>\n",
    "</div>"
   ]
  },
  {
   "cell_type": "markdown",
   "metadata": {},
   "source": [
    "<div style=\"border-left: 3px solid #000; padding: 1px; padding-left: 10px; background: #F0FAFF; \">\n",
    "<h4>Projection Patterns</h4>\n",
    "<ul>\n",
    "<li>What are the pathways through the brain from sensory input to motor output?</li>\n",
    "<li>What are the paths through the brain for incoming sensory information of different modalities? Where do they converge?</li>\n",
    "<li>Hierarchical streams of cortical processing (for example in the visual cortex) is a successful model in the primate (Felleman and Van Essen). Is there evidence for a similar organization in the mouse (in the connectivity data set)?</li>\n",
    "</ul>\n",
    "\n",
    "<h4>Cell Types</h4>\n",
    "<ul>\n",
    "<li>Which layers and cre lines have contralateral projections? Does the density of contralateral projections vary by region? How do the targeted contralateral regions differ from targeted ipsilateral regions?</li>\n",
    "<li>What do different cell types contribute to the network topology?</li>\n",
    "</ul>\n",
    "\n",
    "<h4>Topology</h4>\n",
    "<ul>\n",
    "<li>Many brain structures have known cortical projection topography including thalamus, superior colliculus, striatum, and primary motor cortex. Does an informatically-driven structure atlas look different when using projection-as-source data to define regions, as opposed to projection-as target (i.e. is there a difference in topology for incoming and outgoing projections in some regions)?</li>\n",
    "<li>What structural motifs are present in the connectivity data set? How do they differ across regions?</li>\n",
    "<li>What are the functional correlates to the structural connectivity? How do they relate to models of information processing?</li>\n",
    "<li>Starting at a given point in the brain, what are the loop back routes and motifs to traverse the network and return to the same spot?</li>\n",
    "<li>If you lose one particular cell type or cre line (say, due to a particular neurodegenerative disease), what happens to the routes and motifs in the rest of the network?</li>\n",
    "</ul>\n",
    "\n",
    "<h4>Methodology</h4>\n",
    "<ul>\n",
    "<li>In some cases, replicate experiments have very similar projection patterns while in other cases the difference between experiments is quite high. There are many experimental factors that contribute to this variability including the precise locations of injections, differences in injection size and depth, etc. Are there ways to quantify and/or control for these experimental variables in order to get a sense for the biological variability between animals? Which factors produce the largest differences between experiments (and are therefore most important to control when comparing across experiments)?</li>\n",
    "<li>Most of the viral tracing experiments in the Allen Mouse Brain Connectivity Atlas use cytosolic GFP as a fluorescent indicator. This tracer produces fluorescent signal in axonal fibers as well as in synapses, so the quantified values are contaminated to some extent by fibers of passage. We have performed ~100 tracing experiments using a synaptophysin-eGFP virus (filter for Syp-EGFP under \"Tracer Type\"), which is a chimeric protein that is trafficked to synapses and has lower fluorescence in axons. How does the quantified projection data from this synaptic tracer differ from the traditional GFP tracer? Are some regions more contaminated by fibers of passage than others? Remember that the sources of variability listed above still apply here.</li>\n",
    "</ul>\n",
    "</div>"
   ]
  }
 ],
 "metadata": {
  "kernelspec": {
   "display_name": "Python [default]",
   "language": "python",
   "name": "python2"
  },
  "language_info": {
   "codemirror_mode": {
    "name": "ipython",
    "version": 2
   },
   "file_extension": ".py",
   "mimetype": "text/x-python",
   "name": "python",
   "nbconvert_exporter": "python",
   "pygments_lexer": "ipython2",
   "version": "2.7.13"
  }
 },
 "nbformat": 4,
 "nbformat_minor": 2
}
