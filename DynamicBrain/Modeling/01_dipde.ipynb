{
 "cells": [
  {
   "cell_type": "code",
   "execution_count": 1,
   "metadata": {
    "collapsed": true
   },
   "outputs": [],
   "source": [
    "import sys,os, pprint\n",
    "import pandas as pd\n",
    "import numpy as np\n",
    "import matplotlib.image as mpimg\n",
    "import matplotlib.pyplot as plt\n",
    "%matplotlib inline"
   ]
  },
  {
   "cell_type": "code",
   "execution_count": 2,
   "metadata": {
    "collapsed": true
   },
   "outputs": [],
   "source": [
    "#Temporary plotting function that needs to be updated in modelingsdk\n",
    "\n",
    "import csv\n",
    "import matplotlib.pyplot as plt\n",
    "\n",
    "def plot_rates_popnet(cell_models_file, rates_file, model_keys=None, save_as=None, show_plot=True):\n",
    "    \"\"\"Initial method for plotting popnet output\n",
    "\n",
    "    :param cell_models_file:\n",
    "    :param rates_file:\n",
    "    :param model_keys:\n",
    "    :param save_as:\n",
    "    :param show_plot:\n",
    "    :return:\n",
    "    \"\"\"\n",
    "\n",
    "    pops_df = pd.read_csv(cell_models_file, sep=' ')\n",
    "    lookup_col = model_keys if model_keys is not None else 'node_type_id'\n",
    "    pop_keys = {str(r['node_type_id']): r[lookup_col] for _, r in pops_df.iterrows()}\n",
    "\n",
    "    # organize the rates file by population\n",
    "    rates = {pop_name: ([], []) for pop_name in pop_keys.keys()}\n",
    "    with open(rates_file, 'r') as f:\n",
    "        reader = csv.reader(f, delimiter=' ')\n",
    "        for row in reader:\n",
    "            if row[0] in rates:\n",
    "                rates[row[0]][0].append(row[1])\n",
    "                rates[row[0]][1].append(row[2])\n",
    "\n",
    "    # plot the rates\n",
    "    plt.figure()\n",
    "    for pop_name, r in rates.iteritems():\n",
    "        label = pop_keys[pop_name]\n",
    "        times = r[0]\n",
    "        rates = r[1]\n",
    "        if len(times) == 0:\n",
    "            continue\n",
    "\n",
    "        plt.plot(times, rates, label=label)\n",
    "\n",
    "    plt.legend(fontsize='x-small')\n",
    "    plt.xlabel('time (s)')\n",
    "    plt.ylabel('firing rates (Hz)')\n",
    "\n",
    "    if save_as is not None:\n",
    "        plt.savefig(save_as)\n",
    "\n",
    "    if show_plot:\n",
    "        plt.show()"
   ]
  },
  {
   "cell_type": "markdown",
   "metadata": {},
   "source": [
    "# Modeling a coupled excitatory-inhibitory (E-I) network with DiPDE/popnet \n",
    "\n",
    "In this tutorial, we will demonstrate simulation of an E-I network consisting of homogenous excitatory (E) and inhibitory (I) populations using the DiPDE simulator. In this example, only the excitatory (E) population is being driven by excitatory input from the external (Ext) population. "
   ]
  },
  {
   "cell_type": "code",
   "execution_count": 3,
   "metadata": {},
   "outputs": [
    {
     "data": {
      "text/plain": [
       "(-0.5, 1220.5, 982.5, -0.5)"
      ]
     },
     "execution_count": 3,
     "metadata": {},
     "output_type": "execute_result"
    },
    {
     "data": {
      "image/png": "[encoded data removed]",
      "text/plain": [
       "<matplotlib.figure.Figure at 0x7f38f825b250>"
      ]
     },
     "metadata": {},
     "output_type": "display_data"
    }
   ],
   "source": [
    "#The figure below shows the schematic of the network that we will simulate. \n",
    "img=mpimg.imread('schematics_png/DiPDE_ei_net.png')\n",
    "plt.figure(figsize = (5, 4))\n",
    "plt.imshow(img)\n",
    "plt.axis('off')"
   ]
  },
  {
   "cell_type": "markdown",
   "metadata": {},
   "source": [
    "# Building the network\n",
    "\n",
    "We will build the network step-by-step as follows:\n",
    "\n",
    "1) Create/parameterize the nodes (populations) in the internal network, namely the E and I populations\n",
    "\n",
    "2) Create/parameterize the external population. \n",
    "\n",
    "3) Create/parameterize the edge (connection) from the external population to the E population.\n",
    "\n",
    "4) Connect the E population to the I population\n",
    "\n",
    "5) Run simulation and observe output\n",
    "\n",
    "6) Exercise: Connect I to E and explore how the outputs change"
   ]
  },
  {
   "cell_type": "code",
   "execution_count": 4,
   "metadata": {
    "collapsed": true
   },
   "outputs": [],
   "source": [
    "#Create a folder called network. \n",
    "#Within this folder, we create a folder'recurrent_network' where the nodes and edges in our example will be saved\n",
    "directory_name = 'network/recurrent_network/'\n",
    "\n",
    "if not os.path.exists(directory_name):\n",
    "    os.makedirs(directory_name)"
   ]
  },
  {
   "cell_type": "markdown",
   "metadata": {},
   "source": [
    "We will explore the directory structure for saving nodes and edges later. For now, just note that we will be creating\n",
    "node and edge parameter files and storing them in the 'network' folder  "
   ]
  },
  {
   "cell_type": "markdown",
   "metadata": {
    "collapsed": true
   },
   "source": [
    "## 1) Building E and I nodes\n",
    "Let's start with creating a network object and add a single Excitatory population"
   ]
  },
  {
   "cell_type": "code",
   "execution_count": 5,
   "metadata": {
    "collapsed": true
   },
   "outputs": [],
   "source": [
    "#Import appropriate DiPDE modules\n",
    "\n",
    "from modelingsdk.builder.networks import NxNetwork\n",
    "import modelingsdk.simulator.utils.config as config\n",
    "from modelingsdk.simulator.popnet.graph import Graph\n",
    "from modelingsdk.simulator.popnet.network import Network\n",
    "\n",
    "#Create network object\n",
    "net = NxNetwork('V1')\n",
    "#net.clear()"
   ]
  },
  {
   "cell_type": "code",
   "execution_count": 6,
   "metadata": {},
   "outputs": [],
   "source": [
    "# Add 'E' node to 'net'\n",
    "net.add_nodes(node_type_id='0', pop_name='excitatory', params_file='excitatory_pop.json')"
   ]
  },
  {
   "cell_type": "markdown",
   "metadata": {},
   "source": [
    "The default parameters for the excitatory population are stored in the json file. Let's see what they are. We will see below how the default parameters can be changed"
   ]
  },
  {
   "cell_type": "code",
   "execution_count": null,
   "metadata": {},
   "outputs": [],
   "source": [
    "import pprint\n",
    "import json\n",
    "\n",
    "#Load the json file\n",
    "with open('components/pop_models/excitatory_pop.json') as exc_data:\n",
    "    exc_prs = json.load(exc_data)\n",
    "\n",
    "#Print the parameters    \n",
    "pprint.pprint(exc_prs)"
   ]
  },
  {
   "cell_type": "markdown",
   "metadata": {},
   "source": [
    "### What do these parameters correspond to?\n",
    "\n",
    "{u'approx_order': None,      # \n",
    " u'dv': 0.0001,              #  grid-size for the membrane potential (in volts) \n",
    " u'record': True,            # \n",
    " u'tau_m': 0.0429,           #  membrane time-constant for each neuron in the population (in seconds)\n",
    " u'update_method': u'gmres', # \n",
    " u'v_max': 0.02,             #  threshold membrane potential (in volts)\n",
    " u'v_min': -0.05             #  resting membrane potential   (in volts)\n",
    "}         "
   ]
  },
  {
   "cell_type": "markdown",
   "metadata": {},
   "source": [
    "### Exercise\n",
    "Follow the steps above to add an 'I' node (inhibitory population) to the network. You can set the node_type_id to 1 and replace 'excitatory' with 'inhibitory' for the other two fields.   "
   ]
  },
  {
   "cell_type": "code",
   "execution_count": 7,
   "metadata": {
    "collapsed": true
   },
   "outputs": [],
   "source": [
    "# Add 'I' node to 'net'\n",
    "net.add_nodes(node_type_id='1', pop_name='inhibitory', params_file='inhibitory_pop.json')"
   ]
  },
  {
   "cell_type": "markdown",
   "metadata": {},
   "source": [
    "Now that we have created the nodes and added them to the network, the next step is to save the nodes' information to a .csv file."
   ]
  },
  {
   "cell_type": "code",
   "execution_count": 8,
   "metadata": {
    "collapsed": true
   },
   "outputs": [],
   "source": [
    "#Provide filename that will contain information about the types of nodes:\n",
    "node_models_file = directory_name + 'node_types.csv' #filename to save to\n",
    "\n",
    "#Save node information. The columns to be saved in this file are set by the user. Note that node_type_id is needed here\n",
    "net.save_types(filename=node_models_file,\n",
    "                   columns=['node_type_id', 'pop_name', 'params_file'])"
   ]
  },
  {
   "cell_type": "code",
   "execution_count": 9,
   "metadata": {},
   "outputs": [
    {
     "data": {
      "text/html": [
       "<div>\n",
       "<table border=\"1\" class=\"dataframe\">\n",
       "  <thead>\n",
       "    <tr style=\"text-align: right;\">\n",
       "      <th></th>\n",
       "      <th>pop_name</th>\n",
       "      <th>params_file</th>\n",
       "    </tr>\n",
       "    <tr>\n",
       "      <th>node_type_id</th>\n",
       "      <th></th>\n",
       "      <th></th>\n",
       "    </tr>\n",
       "  </thead>\n",
       "  <tbody>\n",
       "    <tr>\n",
       "      <th>0</th>\n",
       "      <td>excitatory</td>\n",
       "      <td>excitatory_pop.json</td>\n",
       "    </tr>\n",
       "    <tr>\n",
       "      <th>1</th>\n",
       "      <td>inhibitory</td>\n",
       "      <td>inhibitory_pop.json</td>\n",
       "    </tr>\n",
       "  </tbody>\n",
       "</table>\n",
       "</div>"
      ],
      "text/plain": [
       "                pop_name          params_file\n",
       "node_type_id                                 \n",
       "0             excitatory  excitatory_pop.json\n",
       "1             inhibitory  inhibitory_pop.json"
      ]
     },
     "execution_count": 9,
     "metadata": {},
     "output_type": "execute_result"
    }
   ],
   "source": [
    "# Let's display what is contained in the node_types file.\n",
    "node_types_DF = pd.DataFrame.from_csv(node_models_file, sep = ' ')\n",
    "node_types_DF"
   ]
  },
  {
   "cell_type": "markdown",
   "metadata": {},
   "source": [
    "# 2) Building the Ext input node (as part of a separate 'input network')\n",
    "\n",
    "Along the same lines as for the E-I network, we will now create an external input network with a single node. "
   ]
  },
  {
   "cell_type": "code",
   "execution_count": 10,
   "metadata": {},
   "outputs": [],
   "source": [
    "#Create input network object\n",
    "inputNetwork = NxNetwork(\"inputNetwork\")\n",
    "#inputNetwork.clear()\n",
    "\n",
    "#Add 'Ext' node to inputNetwork \n",
    "inputNetwork.add_nodes(node_type_id ='filter_001', ei='e', pop_name='input_filter', level_of_detail='filter')\n",
    "\n",
    "#Create a separate directory for external inputs and provide filename to save to:\n",
    "input_directory_name = 'network/source_input/'\n",
    "\n",
    "if not os.path.exists(input_directory_name):\n",
    "    os.makedirs(input_directory_name)\n",
    "\n",
    "input_models_file = input_directory_name + 'input_node_types.csv'\n",
    "\n",
    "#Save node information to file. \n",
    "inputNetwork.save_types(filename=input_models_file, columns=['node_type_id','level_of_detail','ei', 'pop_name'])"
   ]
  },
  {
   "cell_type": "markdown",
   "metadata": {},
   "source": [
    "### Exercise\n",
    "Display what is contained in the input_node_types file that you just saved"
   ]
  },
  {
   "cell_type": "code",
   "execution_count": 11,
   "metadata": {},
   "outputs": [
    {
     "data": {
      "text/html": [
       "<div>\n",
       "<table border=\"1\" class=\"dataframe\">\n",
       "  <thead>\n",
       "    <tr style=\"text-align: right;\">\n",
       "      <th></th>\n",
       "      <th>level_of_detail</th>\n",
       "      <th>ei</th>\n",
       "      <th>pop_name</th>\n",
       "    </tr>\n",
       "    <tr>\n",
       "      <th>node_type_id</th>\n",
       "      <th></th>\n",
       "      <th></th>\n",
       "      <th></th>\n",
       "    </tr>\n",
       "  </thead>\n",
       "  <tbody>\n",
       "    <tr>\n",
       "      <th>filter_001</th>\n",
       "      <td>filter</td>\n",
       "      <td>e</td>\n",
       "      <td>input_filter</td>\n",
       "    </tr>\n",
       "  </tbody>\n",
       "</table>\n",
       "</div>"
      ],
      "text/plain": [
       "             level_of_detail ei      pop_name\n",
       "node_type_id                                 \n",
       "filter_001            filter  e  input_filter"
      ]
     },
     "execution_count": 11,
     "metadata": {},
     "output_type": "execute_result"
    }
   ],
   "source": [
    "input_node_types_DF = pd.DataFrame.from_csv(input_models_file, sep = ' ')\n",
    "input_node_types_DF"
   ]
  },
  {
   "cell_type": "markdown",
   "metadata": {},
   "source": [
    "# 3) Building the edge from Ext to E\n",
    "Now we will create the edge connecting Ext population to E population"
   ]
  },
  {
   "cell_type": "code",
   "execution_count": 12,
   "metadata": {
    "collapsed": true
   },
   "outputs": [],
   "source": [
    "inputNetwork.connect(source = inputNetwork.nodes(),#(pop_name = 'ext_excitatory'),\n",
    "            target = net.nodes(pop_name = 'excitatory'),\n",
    "            edge_params={'weight': 0.0025, \n",
    "                         'delay': 0.002, \n",
    "                         'nsyns': 10,\n",
    "                         'params_file': 'InpToExc.json'} \n",
    "                         )"
   ]
  },
  {
   "cell_type": "markdown",
   "metadata": {},
   "source": [
    "Let us unpack this a bit. To establish a connection, we provide the source (node named'ext_excitatory' in inputNetwork) and the target (node named 'excitatory' in net). We also provide the parameters for the edge contained in edge_params. For DiPDE/popnet, each edge is specified by the following:\n",
    "\n",
    "1) 'weight' : synaptic weight in volts\n",
    "\n",
    "2) 'delay' : synaptic delay in seconds\n",
    "\n",
    "3) 'nsyns' : number of synapses from source onto target. \n",
    "\n",
    "4) 'params_file': optional filename to save parameters to."
   ]
  },
  {
   "cell_type": "markdown",
   "metadata": {},
   "source": [
    "# Build network.."
   ]
  },
  {
   "cell_type": "code",
   "execution_count": 13,
   "metadata": {
    "collapsed": true
   },
   "outputs": [],
   "source": [
    "inputNetwork.build()"
   ]
  },
  {
   "cell_type": "markdown",
   "metadata": {},
   "source": [
    "## Save connection to csv file"
   ]
  },
  {
   "cell_type": "code",
   "execution_count": 14,
   "metadata": {},
   "outputs": [
    {
     "data": {
      "text/html": [
       "<div>\n",
       "<table border=\"1\" class=\"dataframe\">\n",
       "  <thead>\n",
       "    <tr style=\"text-align: right;\">\n",
       "      <th></th>\n",
       "      <th>target_query</th>\n",
       "      <th>source_query</th>\n",
       "      <th>weight</th>\n",
       "      <th>delay</th>\n",
       "      <th>nsyns</th>\n",
       "      <th>params_file</th>\n",
       "    </tr>\n",
       "    <tr>\n",
       "      <th>edge_type_id</th>\n",
       "      <th></th>\n",
       "      <th></th>\n",
       "      <th></th>\n",
       "      <th></th>\n",
       "      <th></th>\n",
       "      <th></th>\n",
       "    </tr>\n",
       "  </thead>\n",
       "  <tbody>\n",
       "    <tr>\n",
       "      <th>0</th>\n",
       "      <td>pop_name=='excitatory'</td>\n",
       "      <td>*</td>\n",
       "      <td>0.0025</td>\n",
       "      <td>0.002</td>\n",
       "      <td>10</td>\n",
       "      <td>InpToExc.json</td>\n",
       "    </tr>\n",
       "  </tbody>\n",
       "</table>\n",
       "</div>"
      ],
      "text/plain": [
       "                        target_query source_query  weight  delay  nsyns  \\\n",
       "edge_type_id                                                              \n",
       "0             pop_name=='excitatory'            *  0.0025  0.002     10   \n",
       "\n",
       "                params_file  \n",
       "edge_type_id                 \n",
       "0             InpToExc.json  "
      ]
     },
     "execution_count": 14,
     "metadata": {},
     "output_type": "execute_result"
    }
   ],
   "source": [
    "#Specify filename to save to\n",
    "input_edge_types_file   = input_directory_name + 'input_edge_types.csv'\n",
    "\n",
    "#Save edge parameters\n",
    "inputNetwork.save_edge_types(filename=input_edge_types_file, opt_columns=['weight', 'delay', 'nsyns', 'params_file'])\n",
    "\n",
    "input_edge_types_DF = pd.DataFrame.from_csv(input_edge_types_file, sep = ' ')\n",
    "input_edge_types_DF"
   ]
  },
  {
   "cell_type": "markdown",
   "metadata": {},
   "source": [
    "# 4) Build the edge from E to I and then build net\n",
    "Now let's create the edge connecting E population to I population. Note now that both populations are nodes in net. Remember to save edge after specifying filename.  "
   ]
  },
  {
   "cell_type": "code",
   "execution_count": 15,
   "metadata": {},
   "outputs": [
    {
     "data": {
      "text/html": [
       "<div>\n",
       "<table border=\"1\" class=\"dataframe\">\n",
       "  <thead>\n",
       "    <tr style=\"text-align: right;\">\n",
       "      <th></th>\n",
       "      <th>target_query</th>\n",
       "      <th>source_query</th>\n",
       "      <th>weight</th>\n",
       "      <th>delay</th>\n",
       "      <th>nsyns</th>\n",
       "      <th>params_file</th>\n",
       "    </tr>\n",
       "    <tr>\n",
       "      <th>edge_type_id</th>\n",
       "      <th></th>\n",
       "      <th></th>\n",
       "      <th></th>\n",
       "      <th></th>\n",
       "      <th></th>\n",
       "      <th></th>\n",
       "    </tr>\n",
       "  </thead>\n",
       "  <tbody>\n",
       "    <tr>\n",
       "      <th>1</th>\n",
       "      <td>pop_name=='inhibitory'</td>\n",
       "      <td>pop_name=='excitatory'</td>\n",
       "      <td>0.005</td>\n",
       "      <td>0.002</td>\n",
       "      <td>20</td>\n",
       "      <td>ExcToInh.json</td>\n",
       "    </tr>\n",
       "  </tbody>\n",
       "</table>\n",
       "</div>"
      ],
      "text/plain": [
       "                        target_query            source_query  weight  delay  \\\n",
       "edge_type_id                                                                  \n",
       "1             pop_name=='inhibitory'  pop_name=='excitatory'   0.005  0.002   \n",
       "\n",
       "              nsyns    params_file  \n",
       "edge_type_id                        \n",
       "1                20  ExcToInh.json  "
      ]
     },
     "execution_count": 15,
     "metadata": {},
     "output_type": "execute_result"
    }
   ],
   "source": [
    "#connect E to I in net\n",
    "net.connect(source = net.nodes(pop_name = 'excitatory'),\n",
    "            target = net.nodes(pop_name = 'inhibitory'),\n",
    "            edge_params={'weight': 0.005, \n",
    "                         'delay': 0.002, \n",
    "                         'nsyns': 20,\n",
    "                         'params_file': 'ExcToInh.json'} \n",
    "                         )\n",
    "#build net\n",
    "net.build()\n",
    "\n",
    "#Specify filename to save to\n",
    "edge_types_file   = directory_name + 'edge_types.csv'\n",
    "\n",
    "#Save edge parameters\n",
    "net.save_edge_types(filename=edge_types_file, opt_columns=['weight', 'delay', 'nsyns', 'params_file'])\n",
    "\n",
    "edge_types_DF = pd.DataFrame.from_csv(edge_types_file, sep = ' ')\n",
    "edge_types_DF"
   ]
  },
  {
   "cell_type": "markdown",
   "metadata": {},
   "source": [
    "# 5) Run simulation"
   ]
  },
  {
   "cell_type": "markdown",
   "metadata": {},
   "source": [
    "## Config file\n",
    "At this point, we have created and saved a bunch of files (nodes, edges etc.). All of this needs to be integrated together, which is what is done in a config file. A default config file ('config.json') has already been created for us that contains:\n",
    "\n",
    "1) runtime settings for the simulation in 'run'. We will see below how to change the default settings.\n",
    "\n",
    "2) filenames for the different nodes and edges (we used these names keeping the directory structure specified here)\n",
    "\n",
    "3) filenames for where the output should be stored.\n",
    "\n",
    "Feel free to also look at the config file directly as it will look better than the print function below."
   ]
  },
  {
   "cell_type": "code",
   "execution_count": 16,
   "metadata": {},
   "outputs": [],
   "source": [
    "configure = config.from_json('config.json')\n",
    "#pprint.pprint(configure)"
   ]
  },
  {
   "cell_type": "code",
   "execution_count": 17,
   "metadata": {
    "collapsed": true
   },
   "outputs": [],
   "source": [
    "#Create a graph structure using the nodes and edges specified in the config file.\n",
    "graph = Graph(configure)"
   ]
  },
  {
   "cell_type": "markdown",
   "metadata": {},
   "source": [
    "### Let's see some simple examples of changing default parameters in the config file\n",
    "Change duration of simulation from 3 seconds to 0.5 seconds"
   ]
  },
  {
   "cell_type": "code",
   "execution_count": 18,
   "metadata": {},
   "outputs": [],
   "source": [
    "configure['run']['duration'] = 0.5"
   ]
  },
  {
   "cell_type": "markdown",
   "metadata": {},
   "source": [
    "Change firing rate of input excitatory population (Ext) after checking the default value "
   ]
  },
  {
   "cell_type": "code",
   "execution_count": 19,
   "metadata": {},
   "outputs": [
    {
     "name": "stdout",
     "output_type": "stream",
     "text": [
      "-1\n",
      "25.0\n",
      "0.0429\n",
      "0.02\n"
     ]
    }
   ],
   "source": [
    "input_pop = graph.get_population('input_filter',network='filter')\n",
    "print input_pop.firing_rate\n",
    "input_pop.firing_rate = 25.0  #(Firing rate in Hz)\n",
    "print input_pop.firing_rate\n",
    "\n",
    "exc_pop = graph.get_population('excitatory')\n",
    "print exc_pop.tau_m\n",
    "exc_pop.tau_m = 0.02\n",
    "print exc_pop.tau_m"
   ]
  },
  {
   "cell_type": "markdown",
   "metadata": {},
   "source": [
    "### Run the simulation"
   ]
  },
  {
   "cell_type": "code",
   "execution_count": 20,
   "metadata": {},
   "outputs": [
    {
     "name": "stdout",
     "output_type": "stream",
     "text": [
      "External Population input_filter firing at a rate of 25.0 Hz.\n",
      "running simulation...\n",
      "done simulation.\n"
     ]
    }
   ],
   "source": [
    "full_net = Network(configure,graph)\n",
    "full_net.build()\n",
    "full_net.run()\n",
    "\n",
    "#print ff_net.connections"
   ]
  },
  {
   "cell_type": "markdown",
   "metadata": {},
   "source": [
    "### Analyze firing rate outputs of the E and I populations"
   ]
  },
  {
   "cell_type": "code",
   "execution_count": 21,
   "metadata": {},
   "outputs": [
    {
     "data": {
      "image/png": "[encoded data removed]",
      "text/plain": [
       "<matplotlib.figure.Figure at 0x7f38cb20bc50>"
      ]
     },
     "metadata": {},
     "output_type": "display_data"
    }
   ],
   "source": [
    "cells_file = configure['internal']['node_types']\n",
    "rates_file = configure['output']['rates_file']\n",
    "plot_rates_popnet(cells_file,rates_file,model_keys='pop_name')"
   ]
  },
  {
   "cell_type": "markdown",
   "metadata": {},
   "source": [
    "## Exercise (time permitting): Add an I to E connection, save the edge, build the network and re-run the simulation to see how the outputs change "
   ]
  },
  {
   "cell_type": "code",
   "execution_count": 22,
   "metadata": {},
   "outputs": [
    {
     "data": {
      "text/html": [
       "<div>\n",
       "<table border=\"1\" class=\"dataframe\">\n",
       "  <thead>\n",
       "    <tr style=\"text-align: right;\">\n",
       "      <th></th>\n",
       "      <th>target_query</th>\n",
       "      <th>source_query</th>\n",
       "      <th>weight</th>\n",
       "      <th>delay</th>\n",
       "      <th>nsyns</th>\n",
       "      <th>params_file</th>\n",
       "    </tr>\n",
       "    <tr>\n",
       "      <th>edge_type_id</th>\n",
       "      <th></th>\n",
       "      <th></th>\n",
       "      <th></th>\n",
       "      <th></th>\n",
       "      <th></th>\n",
       "      <th></th>\n",
       "    </tr>\n",
       "  </thead>\n",
       "  <tbody>\n",
       "    <tr>\n",
       "      <th>1</th>\n",
       "      <td>pop_name=='inhibitory'</td>\n",
       "      <td>pop_name=='excitatory'</td>\n",
       "      <td>0.005</td>\n",
       "      <td>0.002</td>\n",
       "      <td>20</td>\n",
       "      <td>ExcToInh.json</td>\n",
       "    </tr>\n",
       "    <tr>\n",
       "      <th>2</th>\n",
       "      <td>pop_name=='excitatory'</td>\n",
       "      <td>pop_name=='inhibitory'</td>\n",
       "      <td>-0.001</td>\n",
       "      <td>0.002</td>\n",
       "      <td>10</td>\n",
       "      <td>InhToExc.json</td>\n",
       "    </tr>\n",
       "  </tbody>\n",
       "</table>\n",
       "</div>"
      ],
      "text/plain": [
       "                        target_query            source_query  weight  delay  \\\n",
       "edge_type_id                                                                  \n",
       "1             pop_name=='inhibitory'  pop_name=='excitatory'   0.005  0.002   \n",
       "2             pop_name=='excitatory'  pop_name=='inhibitory'  -0.001  0.002   \n",
       "\n",
       "              nsyns    params_file  \n",
       "edge_type_id                        \n",
       "1                20  ExcToInh.json  \n",
       "2                10  InhToExc.json  "
      ]
     },
     "execution_count": 22,
     "metadata": {},
     "output_type": "execute_result"
    }
   ],
   "source": [
    "#connect I to E in net\n",
    "net.connect(source = net.nodes(pop_name = 'inhibitory'),\n",
    "            target = net.nodes(pop_name = 'excitatory'),\n",
    "            edge_params={'weight': -0.001, \n",
    "                         'delay': 0.002, \n",
    "                         'nsyns': 10,\n",
    "                         'params_file': 'InhToExc.json'} \n",
    "                         )\n",
    "#build net\n",
    "net.build()\n",
    "\n",
    "#Specify filename to save to\n",
    "edge_types_file   = directory_name + 'edge_types.csv'\n",
    "\n",
    "#Save edge parameters\n",
    "net.save_edge_types(filename=edge_types_file, opt_columns=['weight', 'delay', 'nsyns', 'params_file'])\n",
    "\n",
    "edge_types_DF = pd.DataFrame.from_csv(edge_types_file, sep = ' ')\n",
    "edge_types_DF"
   ]
  },
  {
   "cell_type": "code",
   "execution_count": 24,
   "metadata": {},
   "outputs": [
    {
     "name": "stdout",
     "output_type": "stream",
     "text": [
      "External Population input_filter firing at a rate of 25.0 Hz.\n",
      "running simulation...\n",
      "done simulation.\n"
     ]
    },
    {
     "data": {
      "image/png": "[encoded data removed]",
      "text/plain": [
       "<matplotlib.figure.Figure at 0x7f38d00f1690>"
      ]
     },
     "metadata": {},
     "output_type": "display_data"
    }
   ],
   "source": [
    "configure = config.from_json('config.json')\n",
    "graph = Graph(configure)\n",
    "\n",
    "#input_pop = graph.get_population('input_filter',network='filter')\n",
    "graph.get_population('input_filter',network='filter').firing_rate = 25.0\n",
    "graph.get_population('excitatory').tau_m = 0.02\n",
    "#input_pop.firing_rate\n",
    "\n",
    "ei_net = Network(configure,graph)\n",
    "ei_net.build()\n",
    "ei_net.run()\n",
    "\n",
    "rates_file = configure['output']['rates_file']\n",
    "plot_rates_popnet(cells_file,rates_file,model_keys='pop_name')"
   ]
  }
 ],
 "metadata": {
  "kernelspec": {
   "display_name": "Python 2",
   "language": "python",
   "name": "python2"
  },
  "language_info": {
   "codemirror_mode": {
    "name": "ipython",
    "version": 2
   },
   "file_extension": ".py",
   "mimetype": "text/x-python",
   "name": "python",
   "nbconvert_exporter": "python",
   "pygments_lexer": "ipython2",
   "version": "2.7.13"
  }
 },
 "nbformat": 4,
 "nbformat_minor": 2
}
