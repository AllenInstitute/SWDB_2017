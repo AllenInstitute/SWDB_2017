{
 "cells": [
  {
   "cell_type": "markdown",
   "metadata": {},
   "source": [
    "<img src=\"../PythonBootcamp/support_files/cropped-SummerWorkshop_Header.png\">  \n",
    "\n",
    "<h1 align=\"center\">Data Set I: Cell Types </h1> \n",
    "<h3 align=\"center\">Monday, August 22, 2016</h3> "
   ]
  },
  {
   "cell_type": "markdown",
   "metadata": {},
   "source": [
    "<div style=\"border-left: 3px solid #000; padding: 1px; padding-left: 10px; background: #F0FAFF; \">\n",
    "<h2>Drive path</h2>\n",
    "\n",
    "<p>First things first - let's make sure your drive path is set up appropriately. You will want to un-comment only one of these options depending on which operating system you are running. You also may have to tweak the option for your specific set-up (e.g. change the drive letter for Windows).\n",
    "</p>\n",
    "</div>"
   ]
  },
  {
   "cell_type": "code",
   "execution_count": 1,
   "metadata": {
    "collapsed": true
   },
   "outputs": [],
   "source": [
    "# please make sure your drive_path is set, so that the notebook can find the data files on the hard drive\n",
    "\n",
    "# OS X\n",
    "# drive_path = '/Volumes/Brain2016'\n",
    "\n",
    "# Windows (a good guess)\n",
    "# drive_path = 'e:/'\n",
    "\n",
    "# Linux (will vary; the following is possibly what Ubuntu will do)\n",
    "# drive_path = '/media/Brain2016/'\n",
    "\n",
    "drive_path = '/mnt/fhl/'\n",
    "\n",
    "drive_path = '/Users/michaelbu/Code/CellTypes/'"
   ]
  },
  {
   "cell_type": "markdown",
   "metadata": {},
   "source": [
    "<div style=\"border-left: 3px solid #000; padding: 1px; padding-left: 10px; background: #F0FAFF; \">\n",
    "<h2>Cell Types Database</h2>\n",
    "\n",
    "<p>\n",
    "The Cell Types database contains data derived from single-cell experiments in the mouse visual cortex and lateral geniculate nucleus (LGN). This includes in vitro electrophysiological recordings from cortical slice experiments, morphological reconstructions based on single-neuron fills, and single-cell transcriptomic data from the LGN.</p>\n",
    "\n",
    "<p>\n",
    "The database can be accessed [on the web](https://celltypes.brain-map.org). This is useful for browsing and familiarizing yourself with the data, but for more in-depth analyses, it is often more efficient to access the data programmatically. The [AllenSDK](https://alleninstitute.github.io/AllenSDK/) provides Python-based tools to support that approach, and this notebook will introduce you to them.</p>\n",
    "\n",
    "<p>\n",
    "If you have not installed the `allensdk` python module yet, do so from a command prompt:</p>\n",
    "\n",
    "<p>\n",
    "   `> pip install allensdk` </p>\n",
    "    \n",
    "</div>"
   ]
  },
  {
   "cell_type": "markdown",
   "metadata": {},
   "source": [
    "<div style=\"border-left: 3px solid #000; padding: 1px; padding-left: 10px; background: #F0FAFF; \">\n",
    "<h2>1. Using pre-computed features: Htr3a-expressing interneurons</h2>\n",
    "\n",
    "<p>\n",
    "Let's say we're interested in looking at interneuron diversity in the mouse visual cortex. We know that interneurons can be divided into three major types based on the expression of specific molecular markers - some interneurons express parvalbumin (Pvalb), others express somatostatin (Sst), and most of the rest express the ionotropic serotonin receptor 5HT3a (Htr3a).\n",
    "</p>\n",
    "\n",
    "<p>\n",
    "We'll start by looking at the Htr3a-expressing interneurons, which have two major subpopulations - those that express vasointestinal peptide (Vip), and those that don't. Many of the non-Vip cells express neuron derived neurotrophic factor (Ndnf). In the Cell Types Database, we have cells that are labeled by transgenic lines driven by Htr3a-Cre, as well as cells with reporter expression driven by Vip-Cre and Ndnf-Cre. We can look at the properties of those cells to see if there are characteristic differences among these populations. \n",
    "</p>\n",
    "<p>\n",
    "We'll start by looking at pre-computed features of these cells. To access them, we'll use SDK components that interact with the database via its API.</p>\n",
    "</div>"
   ]
  },
  {
   "cell_type": "code",
   "execution_count": 2,
   "metadata": {
    "collapsed": true
   },
   "outputs": [],
   "source": [
    "import os\n",
    "import numpy as np\n",
    "from allensdk.core.cell_types_cache import CellTypesCache\n",
    "\n",
    "## A CellTypesCache is used to copy and cache data from the cell types database.\n",
    "## If you create the CellTypesCache instance with no arguments, then data is downloaded\n",
    "## from the online repository:\n",
    "# ctc = CellTypesCache()\n",
    "\n",
    "## Because we have limited internet bandwidth, the data you need is already provided on\n",
    "## your external hard drive. To ensure this local data is used instead of the online\n",
    "## repository, create the CellTypesCache instance using the `manifest_file` argument:\n",
    "ctc = CellTypesCache(manifest_file=os.path.join(drive_path, 'cell_types', 'manifest.json'))\n",
    "\n",
    "# here I'm using the web to get newer cells than what's on my 2016 HD\n",
    "# ctc = CellTypesCache(cache=True) "
   ]
  },
  {
   "cell_type": "markdown",
   "metadata": {},
   "source": [
    "<div style=\"border-left: 3px solid #000; padding: 1px; padding-left: 10px; background: #F0FAFF; \">\n",
    "\n",
    "<p>\n",
    "**Documentation:**\n",
    "[CellTypesCache](http://alleninstitute.github.io/AllenSDK/allensdk.core.html#allensdk.core.cell_types_cache.CellTypesCache),\n",
    "[CellTypesCache.get_ephys_features()](http://alleninstitute.github.io/AllenSDK/allensdk.core.html#allensdk.core.cell_types_cache.CellTypesCache.get_ephys_features)\n",
    "[CellTypesCache.get_cells()](http://alleninstitute.github.io/AllenSDK/allensdk.core.html#allensdk.core.cell_types_cache.CellTypesCache.get_cells)</p>\n",
    "<p>\n",
    "*Note: you can find these by using the search tool on the main [AllenSDK page](http://alleninstitute.github.io/AllenSDK/)*\n",
    "</p>\n",
    "</div>"
   ]
  },
  {
   "cell_type": "markdown",
   "metadata": {},
   "source": [
    "<div style=\"background: #DFF0D8; border-radius: 3px; padding: 10px;\">\n",
    "<p>**Exercise 1.1:**</p>\n",
    "\n",
    "<p>Use Python code to inspect which data type is returned by `ctc.get_ephys_features()`. (You can verify your answer with the API documentation)</p>\n",
    "\n",
    "</div>"
   ]
  },
  {
   "cell_type": "code",
   "execution_count": 3,
   "metadata": {
    "collapsed": false
   },
   "outputs": [
    {
     "data": {
      "text/plain": [
       "list"
      ]
     },
     "execution_count": 3,
     "metadata": {},
     "output_type": "execute_result"
    }
   ],
   "source": [
    "# ANSWER\n",
    "\n",
    "type(ctc.get_ephys_features())"
   ]
  },
  {
   "cell_type": "markdown",
   "metadata": {},
   "source": [
    "<div style=\"background: #DFF0D8; border-radius: 3px; padding: 10px;\">\n",
    "<p>**Exercise 1.2:**</p>\n",
    "\n",
    "<p>Use the function `ctc.get_cells()` to get all the cre reporter positive cells (we only want the cells actually labeled by the transgenic lines we're investigating). Store them in a variable named `cells`.</p>\n",
    "\n",
    "</div>"
   ]
  },
  {
   "cell_type": "code",
   "execution_count": 4,
   "metadata": {
    "collapsed": true
   },
   "outputs": [],
   "source": [
    "# ANSWER\n",
    "\n",
    "cells = ctc.get_cells(reporter_status=[\"cre reporter positive\"])"
   ]
  },
  {
   "cell_type": "markdown",
   "metadata": {},
   "source": [
    "<div style=\"border-left: 3px solid #000; padding: 1px; padding-left: 10px; background: #F0FAFF; \">\n",
    "\n",
    "### Selecting specific populations\n",
    "\n",
    "Now we'd like to just select the cells for particular transgenic lines (i.e., Htr3a, Vip, and Ndnf). The full names of those driver lines are:\n",
    "* Htr3a-Cre_NO152\n",
    "* Vip-IRES-Cre\n",
    "* Ndnf-IRES2-dgCre\n",
    "\n",
    "If we look at an entry in our `cells` list, we can see that there are several fields that are of use to us for this task."
   ]
  },
  {
   "cell_type": "code",
   "execution_count": 5,
   "metadata": {
    "collapsed": false
   },
   "outputs": [
    {
     "name": "stdout",
     "output_type": "stream",
     "text": [
      "Specimen ID: 514824979\n",
      "Transgenic line: Htr3a-Cre_NO152\n",
      "Dendrite type: aspiny\n"
     ]
    }
   ],
   "source": [
    "example_cell = cells[0]\n",
    "\n",
    "# The specimen ID - this is a handle to refer to a specific cell in the database\n",
    "print \"Specimen ID:\", example_cell[\"id\"]\n",
    "\n",
    "# The transgenic line - the driver of the mouse from which the cell was recorded\n",
    "print \"Transgenic line:\", example_cell[\"transgenic_line\"]\n",
    "\n",
    "# The dendrite type - this is whether or not a given cell has dendritic spines (generally a \n",
    "# feature of excitatory neurons)\n",
    "print \"Dendrite type:\", example_cell[\"dendrite_type\"]"
   ]
  },
  {
   "cell_type": "code",
   "execution_count": 17,
   "metadata": {
    "collapsed": false
   },
   "outputs": [
    {
     "data": {
      "text/plain": [
       "{u'apical': u'NA',\n",
       " u'cell_prep_sample_id': None,\n",
       " u'cell_reporter': {u'id': 491913822, u'name': u'cre reporter positive'},\n",
       " u'cell_reporter_id': 491913822,\n",
       " u'cell_soma_locations': [{u'id': 535977022,\n",
       "   u'normalized_depth': 0.592588250716659,\n",
       "   u'reference_space_id': 9,\n",
       "   u'specimen_id': 514824979,\n",
       "   u'x': 9208.14292114,\n",
       "   u'y': 1349.94404618,\n",
       "   u'z': 3048.63914803}],\n",
       " u'data': None,\n",
       " u'data_sets': [{u'blue_channel': None,\n",
       "   u'delegate': False,\n",
       "   u'expression': False,\n",
       "   u'failed': False,\n",
       "   u'failed_facet': 734881840,\n",
       "   u'green_channel': None,\n",
       "   u'id': 518298467,\n",
       "   u'name': u'T301-Ax.160426_01_B02_514824979',\n",
       "   u'plane_of_section_id': 11,\n",
       "   u'qc_date': None,\n",
       "   u'red_channel': None,\n",
       "   u'reference_space_id': None,\n",
       "   u'rnaseq_design_id': None,\n",
       "   u'section_thickness': 0.28,\n",
       "   u'specimen_id': 514824979,\n",
       "   u'sphinx_id': 166895,\n",
       "   u'storage_directory': u'/external/mousecelltypes/prod757/image_series_518298467/',\n",
       "   u'weight': 5300}],\n",
       " u'dendrite_type': u'aspiny',\n",
       " u'donor': {u'age_id': 20,\n",
       "  u'chemotherapy': None,\n",
       "  u'condition_description': None,\n",
       "  u'data': None,\n",
       "  u'date_of_birth': u'2016-03-03T00:00:00Z',\n",
       "  u'donor_condition_description_facet': None,\n",
       "  u'donor_race_only_facet': None,\n",
       "  u'donor_sex_facet': 1306038106,\n",
       "  u'donor_strain_facet': None,\n",
       "  u'donor_strain_only_facet': None,\n",
       "  u'egfr_amplification': None,\n",
       "  u'extent_of_resection': None,\n",
       "  u'external_donor_name': u'241983',\n",
       "  u'full_genotype': None,\n",
       "  u'handedness': None,\n",
       "  u'id': 514081111,\n",
       "  u'initial_kps': None,\n",
       "  u'mgmt_ihc': None,\n",
       "  u'mgmt_methylation': None,\n",
       "  u'molecular_subtype': None,\n",
       "  u'multifocal': None,\n",
       "  u'name': u'Htr3a-Cre_NO152;Ai14-241983',\n",
       "  u'organism_id': 2,\n",
       "  u'pmi': None,\n",
       "  u'primary_tissue_source': None,\n",
       "  u'pten_deletion': None,\n",
       "  u'race_only': None,\n",
       "  u'radiation_therapy': None,\n",
       "  u'recurrence_by_six_months': None,\n",
       "  u'sex': u'F',\n",
       "  u'sex_full_name': u'Female',\n",
       "  u'sleep_state': None,\n",
       "  u'smoker': None,\n",
       "  u'strain': None,\n",
       "  u'strain_only': u'',\n",
       "  u'survival_days': None,\n",
       "  u'tags': u'Htr3a-Cre_NO152;Ai14-241983 ',\n",
       "  u'theiler_stage': None,\n",
       "  u'time_to_progression_or_recurrence': None,\n",
       "  u'transgenic_lines': [{u'ar_association_key_name': u'514081111',\n",
       "    u'description': u'tdTomato fluorescent protein is expressed in cytoplasm',\n",
       "    u'id': 177836291,\n",
       "    u'name': u'Ai14(RCL-tdT)',\n",
       "    u'originating_lab': u'Allen Institute for Brain Science',\n",
       "    u'stock_number': u'007914',\n",
       "    u'sub_image_annotation_id': 21592,\n",
       "    u'transgenic_line_source_name': u'JAX',\n",
       "    u'transgenic_line_type_code': u'R',\n",
       "    u'transgenic_line_type_name': u'reporter',\n",
       "    u'url_prefix': u'http://jaxmice.jax.org/strain/',\n",
       "    u'url_suffix': u'.html'},\n",
       "   {u'ar_association_key_name': u'514081111',\n",
       "    u'description': u'Reporter expression is detected in a subset of cortical interneurons. Enrichment is also detected in restricted populations within olfactory areas, pallidum, hypothalamus, pons, medulla, and cerebellum.',\n",
       "    u'id': 298341195,\n",
       "    u'name': u'Htr3a-Cre_NO152',\n",
       "    u'originating_lab': u'Nathaniel Heintz and Charles Gerfen',\n",
       "    u'stock_number': u'036680',\n",
       "    u'sub_image_annotation_id': 308565632,\n",
       "    u'transgenic_line_source_name': u'MMRRC',\n",
       "    u'transgenic_line_type_code': u'D',\n",
       "    u'transgenic_line_type_name': u'driver',\n",
       "    u'url_prefix': u'http://www.mmrrc.org/catalog/getSDS.jsp?mmrrc_id=',\n",
       "    u'url_suffix': None}],\n",
       "  u'transgenic_mouse_id': None,\n",
       "  u'tumor_status': None,\n",
       "  u'weight_grams': None},\n",
       " u'donor_id': 514081111,\n",
       " u'ephys_features': [{u'adaptation': -0.0165641499268557,\n",
       "   u'avg_isi': 51.1505263157895,\n",
       "   u'electrode_0_pa': 51.2224984650089,\n",
       "   u'f_i_curve_slope': 0.184340659340659,\n",
       "   u'fast_trough_t_long_square': 1.3248,\n",
       "   u'fast_trough_t_ramp': 2.78916,\n",
       "   u'fast_trough_t_short_square': 1.02543,\n",
       "   u'fast_trough_v_long_square': -50.7500038146973,\n",
       "   u'fast_trough_v_ramp': -49.9843769073486,\n",
       "   u'fast_trough_v_short_square': -60.2812538146973,\n",
       "   u'has_burst': False,\n",
       "   u'has_delay': False,\n",
       "   u'has_pause': False,\n",
       "   u'id': 514832068,\n",
       "   u'input_resistance_mohm': 332.315904,\n",
       "   u'latency': 0.01136,\n",
       "   u'peak_t_long_square': 1.32274,\n",
       "   u'peak_t_ramp': 2.78721,\n",
       "   u'peak_t_short_square': 1.02344,\n",
       "   u'peak_v_long_square': 16.78125,\n",
       "   u'peak_v_ramp': 23.7343759536743,\n",
       "   u'peak_v_short_square': 29.9843759536743,\n",
       "   u'rheobase_sweep_id': 514826501,\n",
       "   u'rheobase_sweep_number': 42,\n",
       "   u'ri': 170.312494039536,\n",
       "   u'sag': 0.0800907835364342,\n",
       "   u'seal_gohm': 1.093077632,\n",
       "   u'slow_trough_t_long_square': None,\n",
       "   u'slow_trough_t_ramp': None,\n",
       "   u'slow_trough_t_short_square': 1.48335,\n",
       "   u'slow_trough_v_long_square': None,\n",
       "   u'slow_trough_v_ramp': None,\n",
       "   u'slow_trough_v_short_square': -74.296875,\n",
       "   u'specimen_id': 514824979,\n",
       "   u'tau': 11.1733582835686,\n",
       "   u'threshold_i_long_square': 70.0,\n",
       "   u'threshold_i_ramp': 44.1875,\n",
       "   u'threshold_i_short_square': 320.0,\n",
       "   u'threshold_t_long_square': 1.32218,\n",
       "   u'threshold_t_ramp': 2.78669,\n",
       "   u'threshold_t_short_square': 1.0231,\n",
       "   u'threshold_v_long_square': -39.3437538146973,\n",
       "   u'threshold_v_ramp': -38.890625,\n",
       "   u'threshold_v_short_square': -46.1875038146973,\n",
       "   u'thumbnail_sweep_id': 514826479,\n",
       "   u'trough_t_long_square': 1.3259,\n",
       "   u'trough_t_ramp': 2.79076,\n",
       "   u'trough_t_short_square': 1.48335,\n",
       "   u'trough_v_long_square': -51.0937538146973,\n",
       "   u'trough_v_ramp': -50.4375019073486,\n",
       "   u'trough_v_short_square': -74.296875,\n",
       "   u'upstroke_downstroke_ratio_long_square': 2.55515219512826,\n",
       "   u'upstroke_downstroke_ratio_ramp': 2.62564958885569,\n",
       "   u'upstroke_downstroke_ratio_short_square': 2.98052193701258,\n",
       "   u'vm_for_sag': -99.46875,\n",
       "   u'vrest': -73.2969207763672}],\n",
       " u'ephys_result_id': 514824898,\n",
       " u'external_specimen_name': None,\n",
       " u'failed_facet': 734881840,\n",
       " 'has_morphology': True,\n",
       " 'has_reconstruction': True,\n",
       " u'hemisphere': u'right',\n",
       " u'id': 514824979,\n",
       " u'is_cell_specimen': True,\n",
       " u'is_ish': False,\n",
       " u'name': u'Htr3a-Cre_NO152;Ai14-241983.05.02.01',\n",
       " u'neuron_reconstructions': [{u'average_bifurcation_angle_local': 78.2323139900764,\n",
       "   u'average_bifurcation_angle_remote': None,\n",
       "   u'average_contraction': 0.906646727470755,\n",
       "   u'average_diameter': 0.480064667492746,\n",
       "   u'average_fragmentation': 56.5,\n",
       "   u'average_parent_daughter_ratio': 0.794045686862049,\n",
       "   u'hausdorff_dimension': None,\n",
       "   u'id': 543140999,\n",
       "   u'max_branch_order': 7.0,\n",
       "   u'max_euclidean_distance': 582.522171613416,\n",
       "   u'max_path_distance': 611.196606560578,\n",
       "   u'number_bifurcations': 23,\n",
       "   u'number_branches': 48,\n",
       "   u'number_nodes': 2656,\n",
       "   u'number_stems': 2,\n",
       "   u'number_tips': 25,\n",
       "   u'overall_depth': 72.7432,\n",
       "   u'overall_height': 766.911082277,\n",
       "   u'overall_width': 246.144204337076,\n",
       "   u'scale_factor_x': 0.1144,\n",
       "   u'scale_factor_y': 0.1144,\n",
       "   u'scale_factor_z': 0.28,\n",
       "   u'soma_surface': 385.185533188772,\n",
       "   u'specimen_id': 514824979,\n",
       "   u'tags': u'3D Neuron Reconstruction morphology',\n",
       "   u'total_length': 3099.58927138117,\n",
       "   u'total_surface': 4678.06881896914,\n",
       "   u'total_volume': 663.903405761518}],\n",
       " u'parent_id': 514768650,\n",
       " u'parent_x_coord': 0,\n",
       " u'parent_y_coord': 0,\n",
       " u'parent_z_coord': 1,\n",
       " 'reporter_status': u'cre reporter positive',\n",
       " u'rna_integrity_number': None,\n",
       " u'specimen_id_path': u'/514081113/514766662/514768650/514824979/',\n",
       " u'specimen_tags': [{u'ar_association_key_name': u'514824979',\n",
       "   u'description': None,\n",
       "   u'id': 470927759,\n",
       "   u'name': u'apical - NA'},\n",
       "  {u'ar_association_key_name': u'514824979',\n",
       "   u'description': None,\n",
       "   u'id': 470928345,\n",
       "   u'name': u'dendrite type - aspiny'}],\n",
       " u'sphinx_id': 228129,\n",
       " u'structure': {u'acronym': u'VISp5',\n",
       "  u'atlas_id': 1087,\n",
       "  u'color_hex_triplet': u'08858C',\n",
       "  u'depth': 8,\n",
       "  u'failed': False,\n",
       "  u'failed_facet': 734881840,\n",
       "  u'graph_id': 1,\n",
       "  u'graph_order': 189,\n",
       "  u'hemisphere_id': 3,\n",
       "  u'id': 778,\n",
       "  u'name': u'Primary visual area, layer 5',\n",
       "  u'neuro_name_structure_id': None,\n",
       "  u'neuro_name_structure_id_path': None,\n",
       "  u'ontology_id': 1,\n",
       "  u'parent_structure_id': 385,\n",
       "  u'safe_name': u'Primary visual area layer 5',\n",
       "  u'sphinx_id': 190,\n",
       "  u'st_level': None,\n",
       "  u'structure_id_path': u'/997/8/567/688/695/315/669/385/778/',\n",
       "  u'structure_name_facet': 1453946728,\n",
       "  u'weight': 8690},\n",
       " u'structure_id': 778,\n",
       " u'tissue_ph': None,\n",
       " 'transgenic_line': u'Htr3a-Cre_NO152',\n",
       " u'treatment_id': 518790194,\n",
       " u'weight': 9000}"
      ]
     },
     "execution_count": 17,
     "metadata": {},
     "output_type": "execute_result"
    }
   ],
   "source": [
    "example_cell"
   ]
  },
  {
   "cell_type": "markdown",
   "metadata": {},
   "source": [
    "<div style=\"background: #DFF0D8; border-radius: 3px; padding: 10px;\">\n",
    "<p>**Exercise 1.3:**</p>\n",
    "\n",
    "<p>From the `cells` list, select only the cells that are from the Htr3a line and are not spiny. Store their specimen IDs in a new list called `htr3a_ids`. How many of these cells are there?</p>\n",
    "\n",
    "</div>"
   ]
  },
  {
   "cell_type": "code",
   "execution_count": 6,
   "metadata": {
    "collapsed": false
   },
   "outputs": [
    {
     "name": "stdout",
     "output_type": "stream",
     "text": [
      "87\n"
     ]
    }
   ],
   "source": [
    "# ANSWER\n",
    "\n",
    "htr3a_ids = [c[\"id\"] for c in cells\n",
    "             if c[\"transgenic_line\"] == \"Htr3a-Cre_NO152\" and\n",
    "             c[\"dendrite_type\"] != \"spiny\"]\n",
    "\n",
    "print len(htr3a_ids)"
   ]
  },
  {
   "cell_type": "markdown",
   "metadata": {},
   "source": [
    "<div style=\"background: #DFF0D8; border-radius: 3px; padding: 10px;\">\n",
    "<p>**Exercise 1.4:**</p>\n",
    "\n",
    "<p>Do the same thing for the Vip and Ndnf lines. Can you do it without just copy and pasting code? What data structure might be useful for storing these results?</p>\n",
    "</div>"
   ]
  },
  {
   "cell_type": "code",
   "execution_count": 7,
   "metadata": {
    "collapsed": true
   },
   "outputs": [],
   "source": [
    "# ANSWER\n",
    "\n",
    "lines = {\n",
    "    \"htr3a\": \"Htr3a-Cre_NO152\",\n",
    "    \"vip\": \"Vip-IRES-Cre\",\n",
    "    \"ndnf\": \"Ndnf-IRES2-dgCre\",\n",
    "}\n",
    "\n",
    "cell_ids = {}\n",
    "for label, fullname in lines.iteritems():\n",
    "    cell_ids[label] = [c[\"id\"] for c in cells\n",
    "                       if c[\"transgenic_line\"] == fullname and\n",
    "                       c[\"dendrite_type\"] != \"spiny\"]"
   ]
  },
  {
   "cell_type": "markdown",
   "metadata": {},
   "source": [
    "<div style=\"border-left: 3px solid #000; padding: 1px; padding-left: 10px; background: #F0FAFF; \">\n",
    "\n",
    "Now that we have IDs for cells of interest, we'll get the features using the function `get_ephys_features()`."
   ]
  },
  {
   "cell_type": "code",
   "execution_count": 8,
   "metadata": {
    "collapsed": true
   },
   "outputs": [],
   "source": [
    "ephys_features = ctc.get_ephys_features()"
   ]
  },
  {
   "cell_type": "markdown",
   "metadata": {},
   "source": [
    "<div style=\"background: #DFF0D8; border-radius: 3px; padding: 10px;\">\n",
    "<p>**Exercise 1.5:**</p>\n",
    "\n",
    "<p>Turn this `ephys_features` list into a pandas `DataFrame` and set the `specimen_id` column as its index.</p>\n",
    "</div>"
   ]
  },
  {
   "cell_type": "code",
   "execution_count": 9,
   "metadata": {
    "collapsed": true
   },
   "outputs": [],
   "source": [
    "# ANSWER\n",
    "\n",
    "import pandas as pd\n",
    "from pandas import DataFrame, Series\n",
    "\n",
    "ephys_df = DataFrame(ephys_features).set_index(\"specimen_id\")"
   ]
  },
  {
   "cell_type": "markdown",
   "metadata": {},
   "source": [
    "<div style=\"background: #DFF0D8; border-radius: 3px; padding: 10px;\">\n",
    "<p>**Exercise 1.6:**</p>\n",
    "\n",
    "<p>The dataframe you have now contains all the cells. Split apart this dataframe using the IDs you collected earlier. Create separate dataframes for Htr3a cells, Vip cells, and Ndnf cells (you can store them in a dictionary of dataframes if you like).</p>\n",
    "</div>"
   ]
  },
  {
   "cell_type": "code",
   "execution_count": 10,
   "metadata": {
    "collapsed": true
   },
   "outputs": [],
   "source": [
    "# ANSWER\n",
    "\n",
    "df_subsets = {}\n",
    "for label, ids in cell_ids.iteritems():\n",
    "    df_subsets[label] = ephys_df.loc[np.array(ids), :]"
   ]
  },
  {
   "cell_type": "markdown",
   "metadata": {},
   "source": [
    "<div style=\"border-left: 3px solid #000; padding: 1px; padding-left: 10px; background: #F0FAFF; \">\n",
    "\n",
    "### Examining an electrophysiological feature\n",
    "\n",
    "Let's start by looking at something simple, like the input resistance (found in column `ri`). This reflects how much a cell will change its membrane potential for a given amount of current of current coming into the cell - cells with higher input resistances will experience a greater change in the membrane potential.\n",
    "\n",
    "Since we have the features in a `DataFrame`, we can use the pandas plotting function to visualize the data in a histogram."
   ]
  },
  {
   "cell_type": "code",
   "execution_count": 11,
   "metadata": {
    "collapsed": false
   },
   "outputs": [
    {
     "data": {
      "text/plain": [
       "<matplotlib.axes._subplots.AxesSubplot at 0x104655190>"
      ]
     },
     "execution_count": 11,
     "metadata": {},
     "output_type": "execute_result"
    },
    {
     "data": {
      "image/png": "[encoded data removed]",
      "text/plain": [
       "<matplotlib.figure.Figure at 0x102e2a050>"
      ]
     },
     "metadata": {},
     "output_type": "display_data"
    }
   ],
   "source": [
    "import matplotlib.pyplot as plt\n",
    "%matplotlib inline\n",
    "\n",
    "# This assumes your data are stored in a dictionary of DataFrames called `df_subsets`\n",
    "# and that the Htr3a cells are accessed with the key `htr3a`. You may need to edit this line\n",
    "# see something, depending on what you did above\n",
    "df_subsets[\"htr3a\"][\"ri\"].plot(kind=\"hist\", bins=np.linspace(0, 500, 25))"
   ]
  },
  {
   "cell_type": "markdown",
   "metadata": {},
   "source": [
    "<div style=\"border-left: 3px solid #000; padding: 1px; padding-left: 10px; background: #F0FAFF; \">\n",
    "\n",
    "<p>\n",
    "**Documentation:**\n",
    "[pandas.Series.plot()](https://pandas.pydata.org/pandas-docs/stable/generated/pandas.Series.plot.html)\n",
    "</p>\n",
    "</div>"
   ]
  },
  {
   "cell_type": "markdown",
   "metadata": {},
   "source": [
    "<div style=\"border-left: 3px solid #000; padding: 1px; padding-left: 10px; background: #F0FAFF; \">\n",
    "\n",
    "### Viewing individual cells\n",
    "\n",
    "The distribution looks multimodal - there is a peak around 100 MOhms and another around 250 MOhms.\n",
    "\n",
    "Let's split up those two peaks and look at views of some individual cells. On the website, we can summarize some of the electrophysiological and morphological properties of the cells with small thumbnail representations. These thumbnails are accessible via the website, as long as you have the cell's specimen ID.\n",
    "\n",
    "Not all cells have a morphological reconstruction; those that don't can't have a thumbnail. So we will need to only look at cells that have a reconstruction for this task."
   ]
  },
  {
   "cell_type": "code",
   "execution_count": 12,
   "metadata": {
    "collapsed": false
   },
   "outputs": [
    {
     "data": {
      "text/html": [
       "<img src=\"http://celltypes.brain-map.org/mouse/thumbnail/ephys_trace?id=514824979\"/>"
      ],
      "text/plain": [
       "<IPython.core.display.Image object>"
      ]
     },
     "metadata": {},
     "output_type": "display_data"
    },
    {
     "name": "stdout",
     "output_type": "stream",
     "text": [
      "Has reconstruction? True\n"
     ]
    },
    {
     "data": {
      "text/html": [
       "<img src=\"http://celltypes.brain-map.org/mouse/thumbnail/morphology?id=514824979\"/>"
      ],
      "text/plain": [
       "<IPython.core.display.Image object>"
      ]
     },
     "metadata": {},
     "output_type": "display_data"
    }
   ],
   "source": [
    "# These are the URLs for getting the thumbnails - we need to provide a specimen ID\n",
    "url_morph = \"http://celltypes.brain-map.org/mouse/thumbnail/morphology?id=\"\n",
    "url_ephys = \"http://celltypes.brain-map.org/mouse/thumbnail/ephys_trace?id=\"\n",
    "\n",
    "# We need these objects to view PNG files from the web inside the notebook\n",
    "from IPython.display import Image, display\n",
    "\n",
    "# Let's get our previous example cell's ID...\n",
    "specimen_id = example_cell[\"id\"]\n",
    "\n",
    "# ...and plot its ephys thumbnail\n",
    "\n",
    "url = url_ephys + str(specimen_id)\n",
    "display(Image(url=url))\n",
    "\n",
    "# We also can check whether it has a reconstruction...\n",
    "print \"Has reconstruction?\", example_cell[\"has_reconstruction\"]\n",
    "\n",
    "# ..and if so, show its morphology thumbnail\n",
    "\n",
    "if example_cell[\"has_reconstruction\"]:\n",
    "    url = url_morph + str(specimen_id)\n",
    "    display(Image(url=url))"
   ]
  },
  {
   "cell_type": "markdown",
   "metadata": {},
   "source": [
    "<div style=\"border-left: 3px solid #000; padding: 1px; padding-left: 10px; background: #F0FAFF; \">\n",
    "\n",
    "The reconstruction thumbnails show the reconstructed axons in blue and the dendrites in red. Not all neurons have their axons reconstructed, so a lack of blue doesn't usually mean the axon is actually small - it just means the data were not available. The morphology is shown to fill the thumbnail, and the histogram on the right shows where those processes fall in the full cortical depth (top is near the pia)."
   ]
  },
  {
   "cell_type": "markdown",
   "metadata": {},
   "source": [
    "<div style=\"background: #DFF0D8; border-radius: 3px; padding: 10px;\">\n",
    "<p>**Exercise 1.7:**</p>\n",
    "\n",
    "<p>Get the IDs of the Htr3a cells that both (1) have an input resistance below 150 MOhm and (2) have a morphological reconstruction. Show the ephys and morph thumbnails of those cells.\n",
    "</p>\n",
    "<p>\n",
    "This is a bit more complicated of an exercise with several steps - work one step at a time and make sure you're getting results that make sense before proceeding to the next one.\n",
    "</p>\n",
    "<p>When you get the results, look at the cells - which traces look similar to each other? Which are different from others? Is there any correspondence between the morphology and physiology? Can you imagine other features that may separate these cells?\n",
    "</div>"
   ]
  },
  {
   "cell_type": "code",
   "execution_count": 13,
   "metadata": {
    "collapsed": false
   },
   "outputs": [
    {
     "name": "stdout",
     "output_type": "stream",
     "text": [
      "481136138\n"
     ]
    },
    {
     "data": {
      "text/html": [
       "<img src=\"http://celltypes.brain-map.org/mouse/thumbnail/ephys_trace?id=481136138\"/>"
      ],
      "text/plain": [
       "<IPython.core.display.Image object>"
      ]
     },
     "metadata": {},
     "output_type": "display_data"
    },
    {
     "data": {
      "text/html": [
       "<img src=\"http://celltypes.brain-map.org/mouse/thumbnail/morphology?id=481136138\"/>"
      ],
      "text/plain": [
       "<IPython.core.display.Image object>"
      ]
     },
     "metadata": {},
     "output_type": "display_data"
    },
    {
     "name": "stdout",
     "output_type": "stream",
     "text": [
      "473943881\n"
     ]
    },
    {
     "data": {
      "text/html": [
       "<img src=\"http://celltypes.brain-map.org/mouse/thumbnail/ephys_trace?id=473943881\"/>"
      ],
      "text/plain": [
       "<IPython.core.display.Image object>"
      ]
     },
     "metadata": {},
     "output_type": "display_data"
    },
    {
     "data": {
      "text/html": [
       "<img src=\"http://celltypes.brain-map.org/mouse/thumbnail/morphology?id=473943881\"/>"
      ],
      "text/plain": [
       "<IPython.core.display.Image object>"
      ]
     },
     "metadata": {},
     "output_type": "display_data"
    },
    {
     "name": "stdout",
     "output_type": "stream",
     "text": [
      "478107198\n"
     ]
    },
    {
     "data": {
      "text/html": [
       "<img src=\"http://celltypes.brain-map.org/mouse/thumbnail/ephys_trace?id=478107198\"/>"
      ],
      "text/plain": [
       "<IPython.core.display.Image object>"
      ]
     },
     "metadata": {},
     "output_type": "display_data"
    },
    {
     "data": {
      "text/html": [
       "<img src=\"http://celltypes.brain-map.org/mouse/thumbnail/morphology?id=478107198\"/>"
      ],
      "text/plain": [
       "<IPython.core.display.Image object>"
      ]
     },
     "metadata": {},
     "output_type": "display_data"
    },
    {
     "name": "stdout",
     "output_type": "stream",
     "text": [
      "482644550\n"
     ]
    },
    {
     "data": {
      "text/html": [
       "<img src=\"http://celltypes.brain-map.org/mouse/thumbnail/ephys_trace?id=482644550\"/>"
      ],
      "text/plain": [
       "<IPython.core.display.Image object>"
      ]
     },
     "metadata": {},
     "output_type": "display_data"
    },
    {
     "data": {
      "text/html": [
       "<img src=\"http://celltypes.brain-map.org/mouse/thumbnail/morphology?id=482644550\"/>"
      ],
      "text/plain": [
       "<IPython.core.display.Image object>"
      ]
     },
     "metadata": {},
     "output_type": "display_data"
    },
    {
     "name": "stdout",
     "output_type": "stream",
     "text": [
      "482516216\n"
     ]
    },
    {
     "data": {
      "text/html": [
       "<img src=\"http://celltypes.brain-map.org/mouse/thumbnail/ephys_trace?id=482516216\"/>"
      ],
      "text/plain": [
       "<IPython.core.display.Image object>"
      ]
     },
     "metadata": {},
     "output_type": "display_data"
    },
    {
     "data": {
      "text/html": [
       "<img src=\"http://celltypes.brain-map.org/mouse/thumbnail/morphology?id=482516216\"/>"
      ],
      "text/plain": [
       "<IPython.core.display.Image object>"
      ]
     },
     "metadata": {},
     "output_type": "display_data"
    },
    {
     "name": "stdout",
     "output_type": "stream",
     "text": [
      "469753383\n"
     ]
    },
    {
     "data": {
      "text/html": [
       "<img src=\"http://celltypes.brain-map.org/mouse/thumbnail/ephys_trace?id=469753383\"/>"
      ],
      "text/plain": [
       "<IPython.core.display.Image object>"
      ]
     },
     "metadata": {},
     "output_type": "display_data"
    },
    {
     "data": {
      "text/html": [
       "<img src=\"http://celltypes.brain-map.org/mouse/thumbnail/morphology?id=469753383\"/>"
      ],
      "text/plain": [
       "<IPython.core.display.Image object>"
      ]
     },
     "metadata": {},
     "output_type": "display_data"
    },
    {
     "name": "stdout",
     "output_type": "stream",
     "text": [
      "464188580\n"
     ]
    },
    {
     "data": {
      "text/html": [
       "<img src=\"http://celltypes.brain-map.org/mouse/thumbnail/ephys_trace?id=464188580\"/>"
      ],
      "text/plain": [
       "<IPython.core.display.Image object>"
      ]
     },
     "metadata": {},
     "output_type": "display_data"
    },
    {
     "data": {
      "text/html": [
       "<img src=\"http://celltypes.brain-map.org/mouse/thumbnail/morphology?id=464188580\"/>"
      ],
      "text/plain": [
       "<IPython.core.display.Image object>"
      ]
     },
     "metadata": {},
     "output_type": "display_data"
    },
    {
     "name": "stdout",
     "output_type": "stream",
     "text": [
      "479220013\n"
     ]
    },
    {
     "data": {
      "text/html": [
       "<img src=\"http://celltypes.brain-map.org/mouse/thumbnail/ephys_trace?id=479220013\"/>"
      ],
      "text/plain": [
       "<IPython.core.display.Image object>"
      ]
     },
     "metadata": {},
     "output_type": "display_data"
    },
    {
     "data": {
      "text/html": [
       "<img src=\"http://celltypes.brain-map.org/mouse/thumbnail/morphology?id=479220013\"/>"
      ],
      "text/plain": [
       "<IPython.core.display.Image object>"
      ]
     },
     "metadata": {},
     "output_type": "display_data"
    }
   ],
   "source": [
    "# ANSWER \n",
    "\n",
    "# Which Htr3a cells have an input resistance below 150 MOhm?\n",
    "\n",
    "htr3a_below_mask = df_subsets[\"htr3a\"][\"ri\"] < 150\n",
    "htr3a_below_ids = df_subsets[\"htr3a\"].index[htr3a_below_mask]\n",
    "\n",
    "htr3a_below_with_recon = [c[\"id\"] for c in cells\n",
    "                          if c[\"id\"] in htr3a_below_ids and c[\"has_reconstruction\"]]\n",
    "\n",
    "for specimen_id in htr3a_below_with_recon:\n",
    "    print specimen_id\n",
    "    url = url_ephys + str(specimen_id)\n",
    "    display(Image(url=url))\n",
    "    url = url_morph + str(specimen_id)\n",
    "    display(Image(url=url))\n",
    "\n",
    "# Things they may observe - the more superficical, compact cells have similar firing patterns.\n",
    "# Fastest spiking cells are pretty compact but also deeper than the others\n",
    "# The bipolar-looking cell has a transient firing pattern, unlike the others\n",
    "\n"
   ]
  },
  {
   "cell_type": "markdown",
   "metadata": {},
   "source": [
    "<div style=\"border-left: 3px solid #000; padding: 1px; padding-left: 10px; background: #F0FAFF; \">\n",
    "\n",
    "### Comparing populations\n",
    "\n",
    "As the last thing we'll do with this set of cells, let's see if the two peaks we have seen are consistent with the Vip+ and Ndnf+ sub-populations of Htr3a+ interneurons. Again, let's look at the input resistance (though remember we've just shown there is some diversity within those populations)."
   ]
  },
  {
   "cell_type": "markdown",
   "metadata": {},
   "source": [
    "<div style=\"background: #DFF0D8; border-radius: 3px; padding: 10px;\">\n",
    "<p>**Exercise 1.8:**</p>\n",
    "\n",
    "<p>Compare the input resistance histograms of the Htr3a, Vip, and Ndnf cells. What relationship do you see? Can you think of ways of further investigating or refining this (very preliminary) analysis?\n",
    "</p>\n",
    "</div>"
   ]
  },
  {
   "cell_type": "code",
   "execution_count": 14,
   "metadata": {
    "collapsed": false
   },
   "outputs": [
    {
     "data": {
      "image/png": "[encoded data removed]",
      "text/plain": [
       "<matplotlib.figure.Figure at 0x10d341310>"
      ]
     },
     "metadata": {},
     "output_type": "display_data"
    }
   ],
   "source": [
    "# ANSWER\n",
    "\n",
    "fig, axes = plt.subplots(3, 1, figsize=(6, 8))\n",
    "\n",
    "pops = [\"htr3a\", \"vip\", \"ndnf\"]\n",
    "\n",
    "for p, ax in zip(pops, axes):\n",
    "    df_subsets[p][\"ri\"].plot(kind='hist', ax=ax, bins=np.linspace(0, 500, 25))\n",
    "    ax.set_ylabel(p)\n",
    "    ax.set_ylim(0, 15)\n",
    "    \n",
    "# Vip looks like the higher peak. Ndnf cells are likely lower.\n",
    "# Other ideas - look at other features, check the ephys thumbnails of Vip, Ndnf cells, etc."
   ]
  },
  {
   "cell_type": "markdown",
   "metadata": {},
   "source": [
    "<div style=\"border-left: 3px solid #000; padding: 1px; padding-left: 10px; background: #F0FAFF; \">\n",
    "<h2>2. Analyzing electrophysiology sweeps</h2>\n",
    "\n",
    "<p>\n",
    "Now we'll look at a different class of interneurons - the somatostatin-positive (Sst) cells. As we've seen, there are many features pre-calculated in the Allen Cell Types Database, but it may not have everything we're interested in looking at from the original data. For example, let's look at two Sst cells where we think we see a difference in the shape of the membrane potential response in between action potentials.\n",
    "</p>"
   ]
  },
  {
   "cell_type": "code",
   "execution_count": 15,
   "metadata": {
    "collapsed": false
   },
   "outputs": [
    {
     "name": "stdout",
     "output_type": "stream",
     "text": [
      "475049291\n"
     ]
    },
    {
     "data": {
      "text/html": [
       "<img src=\"http://celltypes.brain-map.org/mouse/thumbnail/ephys_trace?id=475049291\"/>"
      ],
      "text/plain": [
       "<IPython.core.display.Image object>"
      ]
     },
     "metadata": {},
     "output_type": "display_data"
    },
    {
     "name": "stdout",
     "output_type": "stream",
     "text": [
      "313862274\n"
     ]
    },
    {
     "data": {
      "text/html": [
       "<img src=\"http://celltypes.brain-map.org/mouse/thumbnail/ephys_trace?id=313862274\"/>"
      ],
      "text/plain": [
       "<IPython.core.display.Image object>"
      ]
     },
     "metadata": {},
     "output_type": "display_data"
    }
   ],
   "source": [
    "example_sst_ids = [475049291, 313862274]\n",
    "for specimen_id in example_sst_ids:\n",
    "    print specimen_id\n",
    "    url = url_ephys + str(specimen_id)\n",
    "    display(Image(url=url))"
   ]
  },
  {
   "cell_type": "markdown",
   "metadata": {},
   "source": [
    "<div style=\"border-left: 3px solid #000; padding: 1px; padding-left: 10px; background: #F0FAFF; \">\n",
    "\n",
    "<p>\n",
    "We may not have a feature that illustrates this difference in the \"sharpness\" of the interspike interval shape. If we want to calculate other electrophysiology features, we'll need to look at where the data are stored - the NWB (Neurodata Without Borders) files. Each recorded cell has its own NWB file.\n",
    "</p>\n",
    "</div>"
   ]
  },
  {
   "cell_type": "code",
   "execution_count": 16,
   "metadata": {
    "collapsed": false
   },
   "outputs": [
    {
     "ename": "OSError",
     "evalue": "[Errno 13] Permission denied: '/mnt'",
     "output_type": "error",
     "traceback": [
      "\u001b[0;31m---------------------------------------------------------------------------\u001b[0m",
      "\u001b[0;31mOSError\u001b[0m                                   Traceback (most recent call last)",
      "\u001b[0;32m<ipython-input-16-64e41b350bf7>\u001b[0m in \u001b[0;36m<module>\u001b[0;34m()\u001b[0m\n\u001b[1;32m      1\u001b[0m \u001b[0;31m# Switching to accessing the external hard drive since it has Nwb files - just for preparation\u001b[0m\u001b[0;34m\u001b[0m\u001b[0;34m\u001b[0m\u001b[0m\n\u001b[0;32m----> 2\u001b[0;31m \u001b[0mctc\u001b[0m \u001b[0;34m=\u001b[0m \u001b[0mCellTypesCache\u001b[0m\u001b[0;34m(\u001b[0m\u001b[0mmanifest_file\u001b[0m\u001b[0;34m=\u001b[0m\u001b[0;34m\"/mnt/fhl/CellTypes/manifest.json\"\u001b[0m\u001b[0;34m)\u001b[0m\u001b[0;34m\u001b[0m\u001b[0m\n\u001b[0m\u001b[1;32m      3\u001b[0m \u001b[0mcells\u001b[0m \u001b[0;34m=\u001b[0m \u001b[0mctc\u001b[0m\u001b[0;34m.\u001b[0m\u001b[0mget_cells\u001b[0m\u001b[0;34m(\u001b[0m\u001b[0mreporter_status\u001b[0m\u001b[0;34m=\u001b[0m\u001b[0;34m[\u001b[0m\u001b[0;34m\"cre reporter positive\"\u001b[0m\u001b[0;34m]\u001b[0m\u001b[0;34m)\u001b[0m\u001b[0;34m\u001b[0m\u001b[0m\n",
      "\u001b[0;32m/Users/michaelbu/anaconda/lib/python2.7/site-packages/allensdk/core/cell_types_cache.pyc\u001b[0m in \u001b[0;36m__init__\u001b[0;34m(self, cache, manifest_file, base_uri)\u001b[0m\n\u001b[1;32m     68\u001b[0m     \u001b[0;32mdef\u001b[0m \u001b[0m__init__\u001b[0m\u001b[0;34m(\u001b[0m\u001b[0mself\u001b[0m\u001b[0;34m,\u001b[0m \u001b[0mcache\u001b[0m\u001b[0;34m=\u001b[0m\u001b[0mTrue\u001b[0m\u001b[0;34m,\u001b[0m \u001b[0mmanifest_file\u001b[0m\u001b[0;34m=\u001b[0m\u001b[0;34m'cell_types_manifest.json'\u001b[0m\u001b[0;34m,\u001b[0m \u001b[0mbase_uri\u001b[0m\u001b[0;34m=\u001b[0m\u001b[0mNone\u001b[0m\u001b[0;34m)\u001b[0m\u001b[0;34m:\u001b[0m\u001b[0;34m\u001b[0m\u001b[0m\n\u001b[1;32m     69\u001b[0m         super(CellTypesCache, self).__init__(\n\u001b[0;32m---> 70\u001b[0;31m             manifest=manifest_file, cache=cache, version=self.MANIFEST_VERSION)\n\u001b[0m\u001b[1;32m     71\u001b[0m         \u001b[0mself\u001b[0m\u001b[0;34m.\u001b[0m\u001b[0mapi\u001b[0m \u001b[0;34m=\u001b[0m \u001b[0mCellTypesApi\u001b[0m\u001b[0;34m(\u001b[0m\u001b[0mbase_uri\u001b[0m\u001b[0;34m=\u001b[0m\u001b[0mbase_uri\u001b[0m\u001b[0;34m)\u001b[0m\u001b[0;34m\u001b[0m\u001b[0m\n\u001b[1;32m     72\u001b[0m \u001b[0;34m\u001b[0m\u001b[0m\n",
      "\u001b[0;32m/Users/michaelbu/anaconda/lib/python2.7/site-packages/allensdk/api/cache.pyc\u001b[0m in \u001b[0;36m__init__\u001b[0;34m(self, manifest, cache, version)\u001b[0m\n\u001b[1;32m     45\u001b[0m                  version=None):\n\u001b[1;32m     46\u001b[0m         \u001b[0mself\u001b[0m\u001b[0;34m.\u001b[0m\u001b[0mcache\u001b[0m \u001b[0;34m=\u001b[0m \u001b[0mcache\u001b[0m\u001b[0;34m\u001b[0m\u001b[0m\n\u001b[0;32m---> 47\u001b[0;31m         \u001b[0mself\u001b[0m\u001b[0;34m.\u001b[0m\u001b[0mload_manifest\u001b[0m\u001b[0;34m(\u001b[0m\u001b[0mmanifest\u001b[0m\u001b[0;34m,\u001b[0m \u001b[0mversion\u001b[0m\u001b[0;34m)\u001b[0m\u001b[0;34m\u001b[0m\u001b[0m\n\u001b[0m\u001b[1;32m     48\u001b[0m \u001b[0;34m\u001b[0m\u001b[0m\n\u001b[1;32m     49\u001b[0m     \u001b[0;32mdef\u001b[0m \u001b[0mget_cache_path\u001b[0m\u001b[0;34m(\u001b[0m\u001b[0mself\u001b[0m\u001b[0;34m,\u001b[0m \u001b[0mfile_name\u001b[0m\u001b[0;34m,\u001b[0m \u001b[0mmanifest_key\u001b[0m\u001b[0;34m,\u001b[0m \u001b[0;34m*\u001b[0m\u001b[0margs\u001b[0m\u001b[0;34m)\u001b[0m\u001b[0;34m:\u001b[0m\u001b[0;34m\u001b[0m\u001b[0m\n",
      "\u001b[0;32m/Users/michaelbu/anaconda/lib/python2.7/site-packages/allensdk/api/cache.pyc\u001b[0m in \u001b[0;36mload_manifest\u001b[0;34m(self, file_name, version)\u001b[0m\n\u001b[1;32m     87\u001b[0m                 \u001b[0mdirname\u001b[0m \u001b[0;34m=\u001b[0m \u001b[0mos\u001b[0m\u001b[0;34m.\u001b[0m\u001b[0mpath\u001b[0m\u001b[0;34m.\u001b[0m\u001b[0mdirname\u001b[0m\u001b[0;34m(\u001b[0m\u001b[0mfile_name\u001b[0m\u001b[0;34m)\u001b[0m\u001b[0;34m\u001b[0m\u001b[0m\n\u001b[1;32m     88\u001b[0m                 \u001b[0;32mif\u001b[0m \u001b[0mdirname\u001b[0m\u001b[0;34m:\u001b[0m\u001b[0;34m\u001b[0m\u001b[0m\n\u001b[0;32m---> 89\u001b[0;31m                     \u001b[0mManifest\u001b[0m\u001b[0;34m.\u001b[0m\u001b[0msafe_mkdir\u001b[0m\u001b[0;34m(\u001b[0m\u001b[0mdirname\u001b[0m\u001b[0;34m)\u001b[0m\u001b[0;34m\u001b[0m\u001b[0m\n\u001b[0m\u001b[1;32m     90\u001b[0m \u001b[0;34m\u001b[0m\u001b[0m\n\u001b[1;32m     91\u001b[0m                 \u001b[0mself\u001b[0m\u001b[0;34m.\u001b[0m\u001b[0mbuild_manifest\u001b[0m\u001b[0;34m(\u001b[0m\u001b[0mfile_name\u001b[0m\u001b[0;34m)\u001b[0m\u001b[0;34m\u001b[0m\u001b[0m\n",
      "\u001b[0;32m/Users/michaelbu/anaconda/lib/python2.7/site-packages/allensdk/config/manifest.pyc\u001b[0m in \u001b[0;36msafe_mkdir\u001b[0;34m(cls, directory)\u001b[0m\n\u001b[1;32m    286\u001b[0m \u001b[0;34m\u001b[0m\u001b[0m\n\u001b[1;32m    287\u001b[0m         \u001b[0;32mtry\u001b[0m\u001b[0;34m:\u001b[0m\u001b[0;34m\u001b[0m\u001b[0m\n\u001b[0;32m--> 288\u001b[0;31m             \u001b[0mos\u001b[0m\u001b[0;34m.\u001b[0m\u001b[0mmakedirs\u001b[0m\u001b[0;34m(\u001b[0m\u001b[0mdirectory\u001b[0m\u001b[0;34m)\u001b[0m\u001b[0;34m\u001b[0m\u001b[0m\n\u001b[0m\u001b[1;32m    289\u001b[0m         \u001b[0;32mexcept\u001b[0m \u001b[0mOSError\u001b[0m \u001b[0;32mas\u001b[0m \u001b[0me\u001b[0m\u001b[0;34m:\u001b[0m\u001b[0;34m\u001b[0m\u001b[0m\n\u001b[1;32m    290\u001b[0m             \u001b[0;32mif\u001b[0m \u001b[0me\u001b[0m\u001b[0;34m.\u001b[0m\u001b[0merrno\u001b[0m \u001b[0;34m==\u001b[0m \u001b[0merrno\u001b[0m\u001b[0;34m.\u001b[0m\u001b[0mEEXIST\u001b[0m\u001b[0;34m:\u001b[0m\u001b[0;34m\u001b[0m\u001b[0m\n",
      "\u001b[0;32m/Users/michaelbu/anaconda/lib/python2.7/os.pyc\u001b[0m in \u001b[0;36mmakedirs\u001b[0;34m(name, mode)\u001b[0m\n\u001b[1;32m    148\u001b[0m     \u001b[0;32mif\u001b[0m \u001b[0mhead\u001b[0m \u001b[0;32mand\u001b[0m \u001b[0mtail\u001b[0m \u001b[0;32mand\u001b[0m \u001b[0;32mnot\u001b[0m \u001b[0mpath\u001b[0m\u001b[0;34m.\u001b[0m\u001b[0mexists\u001b[0m\u001b[0;34m(\u001b[0m\u001b[0mhead\u001b[0m\u001b[0;34m)\u001b[0m\u001b[0;34m:\u001b[0m\u001b[0;34m\u001b[0m\u001b[0m\n\u001b[1;32m    149\u001b[0m         \u001b[0;32mtry\u001b[0m\u001b[0;34m:\u001b[0m\u001b[0;34m\u001b[0m\u001b[0m\n\u001b[0;32m--> 150\u001b[0;31m             \u001b[0mmakedirs\u001b[0m\u001b[0;34m(\u001b[0m\u001b[0mhead\u001b[0m\u001b[0;34m,\u001b[0m \u001b[0mmode\u001b[0m\u001b[0;34m)\u001b[0m\u001b[0;34m\u001b[0m\u001b[0m\n\u001b[0m\u001b[1;32m    151\u001b[0m         \u001b[0;32mexcept\u001b[0m \u001b[0mOSError\u001b[0m\u001b[0;34m,\u001b[0m \u001b[0me\u001b[0m\u001b[0;34m:\u001b[0m\u001b[0;34m\u001b[0m\u001b[0m\n\u001b[1;32m    152\u001b[0m             \u001b[0;31m# be happy if someone already created the path\u001b[0m\u001b[0;34m\u001b[0m\u001b[0;34m\u001b[0m\u001b[0m\n",
      "\u001b[0;32m/Users/michaelbu/anaconda/lib/python2.7/os.pyc\u001b[0m in \u001b[0;36mmakedirs\u001b[0;34m(name, mode)\u001b[0m\n\u001b[1;32m    148\u001b[0m     \u001b[0;32mif\u001b[0m \u001b[0mhead\u001b[0m \u001b[0;32mand\u001b[0m \u001b[0mtail\u001b[0m \u001b[0;32mand\u001b[0m \u001b[0;32mnot\u001b[0m \u001b[0mpath\u001b[0m\u001b[0;34m.\u001b[0m\u001b[0mexists\u001b[0m\u001b[0;34m(\u001b[0m\u001b[0mhead\u001b[0m\u001b[0;34m)\u001b[0m\u001b[0;34m:\u001b[0m\u001b[0;34m\u001b[0m\u001b[0m\n\u001b[1;32m    149\u001b[0m         \u001b[0;32mtry\u001b[0m\u001b[0;34m:\u001b[0m\u001b[0;34m\u001b[0m\u001b[0m\n\u001b[0;32m--> 150\u001b[0;31m             \u001b[0mmakedirs\u001b[0m\u001b[0;34m(\u001b[0m\u001b[0mhead\u001b[0m\u001b[0;34m,\u001b[0m \u001b[0mmode\u001b[0m\u001b[0;34m)\u001b[0m\u001b[0;34m\u001b[0m\u001b[0m\n\u001b[0m\u001b[1;32m    151\u001b[0m         \u001b[0;32mexcept\u001b[0m \u001b[0mOSError\u001b[0m\u001b[0;34m,\u001b[0m \u001b[0me\u001b[0m\u001b[0;34m:\u001b[0m\u001b[0;34m\u001b[0m\u001b[0m\n\u001b[1;32m    152\u001b[0m             \u001b[0;31m# be happy if someone already created the path\u001b[0m\u001b[0;34m\u001b[0m\u001b[0;34m\u001b[0m\u001b[0m\n",
      "\u001b[0;32m/Users/michaelbu/anaconda/lib/python2.7/os.pyc\u001b[0m in \u001b[0;36mmakedirs\u001b[0;34m(name, mode)\u001b[0m\n\u001b[1;32m    155\u001b[0m         \u001b[0;32mif\u001b[0m \u001b[0mtail\u001b[0m \u001b[0;34m==\u001b[0m \u001b[0mcurdir\u001b[0m\u001b[0;34m:\u001b[0m           \u001b[0;31m# xxx/newdir/. exists if xxx/newdir exists\u001b[0m\u001b[0;34m\u001b[0m\u001b[0m\n\u001b[1;32m    156\u001b[0m             \u001b[0;32mreturn\u001b[0m\u001b[0;34m\u001b[0m\u001b[0m\n\u001b[0;32m--> 157\u001b[0;31m     \u001b[0mmkdir\u001b[0m\u001b[0;34m(\u001b[0m\u001b[0mname\u001b[0m\u001b[0;34m,\u001b[0m \u001b[0mmode\u001b[0m\u001b[0;34m)\u001b[0m\u001b[0;34m\u001b[0m\u001b[0m\n\u001b[0m\u001b[1;32m    158\u001b[0m \u001b[0;34m\u001b[0m\u001b[0m\n\u001b[1;32m    159\u001b[0m \u001b[0;32mdef\u001b[0m \u001b[0mremovedirs\u001b[0m\u001b[0;34m(\u001b[0m\u001b[0mname\u001b[0m\u001b[0;34m)\u001b[0m\u001b[0;34m:\u001b[0m\u001b[0;34m\u001b[0m\u001b[0m\n",
      "\u001b[0;31mOSError\u001b[0m: [Errno 13] Permission denied: '/mnt'"
     ]
    }
   ],
   "source": [
    "# Switching to accessing the external hard drive since it has Nwb files - just for preparation\n",
    "\n",
    "ctc = CellTypesCache(manifest_file=CellTypes/manifest.json\")\n",
    "cells = ctc.get_cells(reporter_status=[\"cre reporter positive\"])"
   ]
  },
  {
   "cell_type": "code",
   "execution_count": 71,
   "metadata": {
    "collapsed": true
   },
   "outputs": [],
   "source": [
    "## this saves the NWB file to 'specimen_464212183/ephys.nwb' (or just gives a handle if you already saved it)\n",
    "specimen_id = 464212183\n",
    "data_set = ctc.get_ephys_data(specimen_id)"
   ]
  },
  {
   "cell_type": "markdown",
   "metadata": {},
   "source": [
    "<div style=\"border-left: 3px solid #000; padding: 1px; padding-left: 10px; background: #F0FAFF; \">\n",
    "\n",
    "<p>\n",
    "**Documentation:**\n",
    "[CellTypesCache](http://alleninstitute.github.io/AllenSDK/allensdk.core.html#allensdk.core.cell_types_cache.CellTypesCache),\n",
    "[CellTypesCache.get_ephys_data()](http://alleninstitute.github.io/AllenSDK/allensdk.core.html#allensdk.core.cell_types_cache.CellTypesCache.get_ephys_data)\n",
    "</p>"
   ]
  },
  {
   "cell_type": "markdown",
   "metadata": {},
   "source": [
    "<div style=\"border-left: 3px solid #000; padding: 1px; padding-left: 10px; background: #F0FAFF; \">\n",
    "\n",
    "<p>\n",
    "The electrophysiological data in a Cell Types NWB file is organized by \"sweeps.\" These sweeps represent specific periods during which a single stimulus is applied to the cell and the response is recorded. Different types of stimuli can be applied to the cell, and similar stimuli are grouped by type on the web app. For example, one-second long step current injections are grouped together under the name \"Long Squares.\" We refer to sweeps by their number, which are integers indicating the order in which the sweeps were collected.</p>\n",
    "\n",
    "<p>\n",
    "There are typically periods of time during an experiment between sweeps; this may be due to the experimentalist making some on-line adjustments, or may be intentional to allow the cell to return to some baseline after an intense stimulus. </p>\n",
    "\n",
    "<p>\n",
    "Returning to the example, we now have an object called `data_set` that provides access to the data in the NWB file through built-in methods. We can access sweep-level data like this:</p>\n",
    "</div>"
   ]
  },
  {
   "cell_type": "code",
   "execution_count": 55,
   "metadata": {
    "collapsed": true
   },
   "outputs": [],
   "source": [
    "sweep_number = 30\n",
    "sweep_data = data_set.get_sweep(sweep_number)"
   ]
  },
  {
   "cell_type": "markdown",
   "metadata": {},
   "source": [
    "<div style=\"border-left: 3px solid #000; padding: 1px; padding-left: 10px; background: #F0FAFF; \">\n",
    "<p>**Documentation:**\n",
    "[NwbDataSet](http://alleninstitute.github.io/AllenSDK/allensdk.core.html#allensdk.core.nwb_data_set.NwbDataSet), [NwbDataSet.get_sweep()](http://alleninstitute.github.io/AllenSDK/allensdk.core.html#allensdk.core.nwb_data_set.NwbDataSet.get_sweep)\n",
    "</p>\n",
    "</div>"
   ]
  },
  {
   "cell_type": "markdown",
   "metadata": {},
   "source": [
    "<div style=\"background: #DFF0D8; border-radius: 3px; padding: 10px;\">\n",
    "<p>**Exercise 2.1:**</p>\n",
    "\n",
    "<p>`data_set.get_sweep()` returns a dict with several key/value pairs. What are the data types of these values?</p>\n",
    "\n",
    "</div>"
   ]
  },
  {
   "cell_type": "code",
   "execution_count": 57,
   "metadata": {
    "collapsed": false
   },
   "outputs": [
    {
     "name": "stdout",
     "output_type": "stream",
     "text": [
      "stimulus <type 'numpy.ndarray'>\n",
      "stimulus_unit <type 'str'>\n",
      "sampling_rate <type 'numpy.float64'>\n",
      "response <type 'numpy.ndarray'>\n",
      "index_range <type 'tuple'>\n"
     ]
    }
   ],
   "source": [
    "# ANSWER\n",
    "\n",
    "for k, v in sweep_data.iteritems():\n",
    "    print k, type(v)"
   ]
  },
  {
   "cell_type": "markdown",
   "metadata": {},
   "source": [
    "<div style=\"border-left: 3px solid #000; padding: 1px; padding-left: 10px; background: #F0FAFF; \">\n",
    "\n",
    "<h3>Getting sweeps from an NWB file</h3>\n",
    "\n",
    "<p>Most of the sweeps in the Cell Types Database are recorded in current-clamp mode, meaning that a current stimulus is injected into the recorded cell, and a voltage response is recorded. The current data is stored in the NWB file in amperes, and the voltage data is in volts. However, it is usually more convenient to work with the data in picoamps and millivolts.</p>\n",
    "</div>"
   ]
  },
  {
   "cell_type": "markdown",
   "metadata": {},
   "source": [
    "<div style=\"background: #DFF0D8; border-radius: 3px; padding: 10px;\">\n",
    "<p>**Exercise 2.2:**</p>\n",
    "\n",
    "<p>Write code to put the stimulus (current) and response (voltage) from the sweep into variables `i` and `v`, respectively. Convert their units to pA and mV (the raw data are expressed in unscaled A/V units).</p>\n",
    "</div>"
   ]
  },
  {
   "cell_type": "code",
   "execution_count": 59,
   "metadata": {
    "collapsed": true
   },
   "outputs": [],
   "source": [
    "# ANSWER\n",
    "\n",
    "i = sweep_data[\"stimulus\"] * 1e12\n",
    "v = sweep_data[\"response\"] * 1e3"
   ]
  },
  {
   "cell_type": "markdown",
   "metadata": {},
   "source": [
    "<div style=\"border-left: 3px solid #000; padding: 1px; padding-left: 10px; background: #F0FAFF; \">\n",
    "\n",
    "The time points are not included in the NWB file as a waveform, but we can generate one based on the sampling rate:\n",
    "</div>"
   ]
  },
  {
   "cell_type": "code",
   "execution_count": 62,
   "metadata": {
    "collapsed": true
   },
   "outputs": [],
   "source": [
    "sampling_rate = sweep_data[\"sampling_rate\"] # in Hz"
   ]
  },
  {
   "cell_type": "markdown",
   "metadata": {},
   "source": [
    "<div style=\"background: #DFF0D8; border-radius: 3px; padding: 10px;\">\n",
    "<p>**Exercise 2.3:**</p>\n",
    "\n",
    "<p>Create a new array `t` that is the same length as `v` and `i` and contains the correct time points (in seconds) according to the sampling rate.</p>\n",
    "\n",
    "<p>See: [numpy.arange()](http://docs.scipy.org/doc/numpy/reference/generated/numpy.arange.html)</p>\n",
    "</div>"
   ]
  },
  {
   "cell_type": "code",
   "execution_count": 63,
   "metadata": {
    "collapsed": true
   },
   "outputs": [],
   "source": [
    "t = np.arange(len(v)) * 1. / sampling_rate"
   ]
  },
  {
   "cell_type": "markdown",
   "metadata": {
    "collapsed": true
   },
   "source": [
    "<div style=\"border-left: 3px solid #000; padding: 1px; padding-left: 10px; background: #F0FAFF; \">\n",
    "\n",
    "Finally, we can plot the data to see what it looks like.\n",
    "</div>"
   ]
  },
  {
   "cell_type": "code",
   "execution_count": 65,
   "metadata": {
    "collapsed": false
   },
   "outputs": [
    {
     "data": {
      "text/plain": [
       "[<matplotlib.text.Text at 0x7fbaca564dd0>,\n",
       " <matplotlib.text.Text at 0x7fbaca55a9d0>]"
      ]
     },
     "execution_count": 65,
     "metadata": {},
     "output_type": "execute_result"
    },
    {
     "data": {
      "image/png": "[encoded data removed]",
      "text/plain": [
       "<matplotlib.figure.Figure at 0x7fbad9d34d50>"
      ]
     },
     "metadata": {},
     "output_type": "display_data"
    }
   ],
   "source": [
    "fig, axes = plt.subplots(2, 1, sharex=True)\n",
    "axes[0].plot(t, v, color='black')\n",
    "axes[1].plot(t, i, color='gray')\n",
    "axes[0].set(ylabel=\"mV\")\n",
    "axes[1].set(ylabel=\"pA\", xlabel=\"seconds\")"
   ]
  },
  {
   "cell_type": "markdown",
   "metadata": {},
   "source": [
    "<div style=\"border-left: 3px solid #000; padding: 1px; padding-left: 10px; background: #F0FAFF; \">\n",
    "\n",
    "<h3>Calculating features of the ephys data</h3>\n",
    "\n",
    "<p>\n",
    "Plotting the data is great, but if we want to do some analysis on things like spike times, spike shapes, etc., we want to go through and extract these features from our raw data. This can be accomplished by using the feature extraction tools in the SDK.</p>\n",
    "</div>"
   ]
  },
  {
   "cell_type": "code",
   "execution_count": 66,
   "metadata": {
    "collapsed": false
   },
   "outputs": [
    {
     "name": "stdout",
     "output_type": "stream",
     "text": [
      "Avg spike threshold: -37.8 mV\n",
      "Avg spike width: 0.88 ms\n"
     ]
    }
   ],
   "source": [
    "from allensdk.ephys.ephys_extractor import EphysSweepFeatureExtractor\n",
    "\n",
    "# This finds and analyzes features of spikes\n",
    "sweep_ext = EphysSweepFeatureExtractor(t=t, v=v, i=i, start=1.02, end=2.02)\n",
    "sweep_ext.process_spikes()\n",
    "\n",
    "# We can pull out some information from the sweep_ext object once that processing is done\n",
    "print \"Avg spike threshold: {:.1f} mV\".format(sweep_ext.spike_feature(\"threshold_v\").mean())\n",
    "print \"Avg spike width: {:.2f} ms\".format(1e3 * np.nanmean(sweep_ext.spike_feature(\"width\")))"
   ]
  },
  {
   "cell_type": "markdown",
   "metadata": {},
   "source": [
    "<div style=\"border-left: 3px solid #000; padding: 1px; padding-left: 10px; background: #F0FAFF; \">\n",
    "**Documentation:**\n",
    "[EphysSweepFeatureExtractor](http://alleninstitute.github.io/AllenSDK/allensdk.ephys.html#allensdk.ephys.ephys_extractor.EphysSweepFeatureExtractor)\n",
    "</div>"
   ]
  },
  {
   "cell_type": "markdown",
   "metadata": {},
   "source": [
    "<div style=\"border-left: 3px solid #000; padding: 1px; padding-left: 10px; background: #F0FAFF; \">\n",
    "\n",
    "The method `spike_feature()` returns a NumPy array of features for each spike. You pass it the name of the feature that you want. Features that can't be calculated for a given spike are set to `NaN`.\n",
    "\n",
    "We can take a look at all the properties calculated for each spike by the extractor:</div>"
   ]
  },
  {
   "cell_type": "code",
   "execution_count": 67,
   "metadata": {
    "collapsed": false
   },
   "outputs": [
    {
     "data": {
      "text/plain": [
       "['threshold_index',\n",
       " 'threshold_t',\n",
       " 'threshold_v',\n",
       " 'threshold_i',\n",
       " 'peak_index',\n",
       " 'peak_t',\n",
       " 'peak_v',\n",
       " 'peak_i',\n",
       " 'trough_index',\n",
       " 'trough_t',\n",
       " 'trough_v',\n",
       " 'trough_i',\n",
       " 'downstroke_index',\n",
       " 'downstroke',\n",
       " 'downstroke_t',\n",
       " 'downstroke_v',\n",
       " 'upstroke_index',\n",
       " 'upstroke',\n",
       " 'upstroke_t',\n",
       " 'upstroke_v',\n",
       " 'isi_type',\n",
       " 'fast_trough_index',\n",
       " 'fast_trough_t',\n",
       " 'fast_trough_v',\n",
       " 'fast_trough_i',\n",
       " 'slow_trough_index',\n",
       " 'slow_trough_t',\n",
       " 'slow_trough_v',\n",
       " 'slow_trough_i',\n",
       " 'adp_index',\n",
       " 'adp_t',\n",
       " 'adp_v',\n",
       " 'adp_i',\n",
       " 'width',\n",
       " 'upstroke_downstroke_ratio']"
      ]
     },
     "execution_count": 67,
     "metadata": {},
     "output_type": "execute_result"
    }
   ],
   "source": [
    "sweep_ext.spike_feature_keys()"
   ]
  },
  {
   "cell_type": "markdown",
   "metadata": {},
   "source": [
    "<div style=\"border-left: 3px solid #000; padding: 1px; padding-left: 10px; background: #F0FAFF; \">\n",
    "\n",
    "We can look at when the spikes occur by looking at the `threshold_t` property (i.e., time of spike threshold).</div>"
   ]
  },
  {
   "cell_type": "code",
   "execution_count": 69,
   "metadata": {
    "collapsed": false
   },
   "outputs": [
    {
     "name": "stdout",
     "output_type": "stream",
     "text": [
      "[ 1.05078   1.09248   1.13249   1.179015  1.221835]\n"
     ]
    }
   ],
   "source": [
    "spike_times = sweep_ext.spike_feature(\"threshold_t\")\n",
    "\n",
    "print spike_times[:5]  # print just the first 5 spike times"
   ]
  },
  {
   "cell_type": "markdown",
   "metadata": {},
   "source": [
    "<div style=\"border-left: 3px solid #000; padding: 1px; padding-left: 10px; background: #F0FAFF; \">\n",
    "\n",
    "Spike times and numbers of spikes are actually something that have already been calculated and stored elsewhere - if you're looking to get numbers of spikes for a big set of cells and/or sweeps, it's probably faster to get them via the database rather than re-calculating them all.</div>"
   ]
  },
  {
   "cell_type": "code",
   "execution_count": 77,
   "metadata": {
    "collapsed": false
   },
   "outputs": [
    {
     "name": "stdout",
     "output_type": "stream",
     "text": [
      "-110.0 None\n",
      "-90.0 None\n",
      "-70.0 None\n",
      "-50.0 None\n",
      "-30.0 None\n",
      "-10.0 None\n",
      "10.0 None\n",
      "30.0 None\n",
      "50.0 None\n",
      "70.0 None\n",
      "90.0 9\n",
      "110.0 19\n",
      "130.0 27\n",
      "150.0 34\n",
      "170.0 42\n",
      "190.0 48\n",
      "210.0 55\n",
      "230.0 61\n",
      "80.0 2\n",
      "70.0 1\n",
      "60.0 None\n"
     ]
    }
   ],
   "source": [
    "# Get a list of data about each sweep\n",
    "sweep_info = ctc.get_ephys_sweeps(specimen_id)\n",
    "\n",
    "# Find the sweeps that use the \"Long Square\" protocol\n",
    "ls_sweeps = [s for s in sweep_info\n",
    "             if s[\"stimulus_name\"] == \"Long Square\"]\n",
    "\n",
    "# Print the number of spikes and stimulus amplitude\n",
    "for sweep in ls_sweeps:\n",
    "    print np.round(sweep[\"stimulus_absolute_amplitude\"]), sweep[\"num_spikes\"]"
   ]
  },
  {
   "cell_type": "markdown",
   "metadata": {},
   "source": [
    "<div style=\"border-left: 3px solid #000; padding: 1px; padding-left: 10px; background: #F0FAFF; \">\n",
    "\n",
    "<p>\n",
    "**Documentation:**\n",
    "[CellTypesCache.get_ephys_sweeps()](http://alleninstitute.github.io/AllenSDK/allensdk.core.html#allensdk.core.cell_types_cache.CellTypesCache.get_ephys_sweeps)\n",
    "</p>\n",
    "</div>"
   ]
  },
  {
   "cell_type": "markdown",
   "metadata": {},
   "source": [
    "<div style=\"border-left: 3px solid #000; padding: 1px; padding-left: 10px; background: #F0FAFF; \">\n",
    "\n",
    "<h3>Getting the interspike interal (ISI) shape</h3>\n",
    "\n",
    "<p>Now we have the tools we need to get out the ISI shape information from our Sst (Cre line name: Sst-IRES-Cre) cells.</p>\n",
    "\n",
    "<p>Let's start by getting the cell IDs like we did before.</p>\n",
    "\n",
    "</div>"
   ]
  },
  {
   "cell_type": "markdown",
   "metadata": {},
   "source": [
    "<div style=\"background: #DFF0D8; border-radius: 3px; padding: 10px;\">\n",
    "<p>**Exercise 2.4:**</p>\n",
    "\n",
    "<p>Store the IDs of the non-spiny, Sst+ cells in a list called `sst_ids`.</p>\n",
    "\n",
    "</div>"
   ]
  },
  {
   "cell_type": "code",
   "execution_count": 78,
   "metadata": {
    "collapsed": true
   },
   "outputs": [],
   "source": [
    "# ANSWER\n",
    "\n",
    "sst_ids = [c[\"id\"] for c in cells\n",
    "                       if c[\"transgenic_line\"] == \"Sst-IRES-Cre\" and\n",
    "                       c[\"dendrite_type\"] != \"spiny\"]"
   ]
  },
  {
   "cell_type": "markdown",
   "metadata": {},
   "source": [
    "<div style=\"border-left: 3px solid #000; padding: 1px; padding-left: 10px; background: #F0FAFF; \">\n",
    "\n",
    "\n",
    "<p>The shape of the ISI can change depending on how fast the cell is firing, so if we want to be consistent across cells, we should look for sweeps of a similar firing rate. But what level should that be?</p>\n",
    "\n",
    "<p>We can look to the data to give us some idea.</p>\n",
    "\n",
    "</div>"
   ]
  },
  {
   "cell_type": "markdown",
   "metadata": {},
   "source": [
    "<div style=\"background: #DFF0D8; border-radius: 3px; padding: 10px;\">\n",
    "<p>**Exercise 2.5:**</p>\n",
    "\n",
    "<p>For the first cell in the `sst_ids` list, plot the number of spikes against the stimulus amplitude for the sweeps that:</p>\n",
    "\n",
    "<ul>\n",
    "<li>Are \"Long Square\" type\n",
    "<li>Have a positive stimulus amplitude\n",
    "<li>Have at least one spike\n",
    "</ul>\n",
    "</div>"
   ]
  },
  {
   "cell_type": "code",
   "execution_count": 87,
   "metadata": {
    "collapsed": false
   },
   "outputs": [
    {
     "data": {
      "text/plain": [
       "[<matplotlib.lines.Line2D at 0x7fbaca28e950>]"
      ]
     },
     "execution_count": 87,
     "metadata": {},
     "output_type": "execute_result"
    },
    {
     "data": {
      "image/png": "[encoded data removed]",
      "text/plain": [
       "<matplotlib.figure.Figure at 0x7fbac9ea9790>"
      ]
     },
     "metadata": {},
     "output_type": "display_data"
    }
   ],
   "source": [
    "# ANSWER\n",
    "\n",
    "example_id = sst_ids[0]\n",
    "\n",
    "sweep_info = ctc.get_ephys_sweeps(example_id)\n",
    "\n",
    "ls_sweeps = [s for s in sweep_info\n",
    "             if s[\"stimulus_name\"] == \"Long Square\"\n",
    "             and s[\"num_spikes\"] > 0\n",
    "             and s[\"stimulus_absolute_amplitude\"] > 0]\n",
    "\n",
    "amps = [np.round(s[\"stimulus_absolute_amplitude\"]) for s in ls_sweeps]\n",
    "n_spikes = [s[\"num_spikes\"] for s in ls_sweeps]\n",
    "\n",
    "plt.plot(amps, n_spikes, 'o')"
   ]
  },
  {
   "cell_type": "markdown",
   "metadata": {},
   "source": [
    "<div style=\"background: #DFF0D8; border-radius: 3px; padding: 10px;\">\n",
    "<p>**Exercise 2.6:**</p>\n",
    "\n",
    "<p>Now, do the same thing for every Sst cell, and plot them all on the same plot. Use transparency (`alpha`) to help with overlaying so much data.\n",
    "</div>"
   ]
  },
  {
   "cell_type": "code",
   "execution_count": 94,
   "metadata": {
    "collapsed": false
   },
   "outputs": [
    {
     "data": {
      "image/png": "[encoded data removed]",
      "text/plain": [
       "<matplotlib.figure.Figure at 0x7fbad057cdd0>"
      ]
     },
     "metadata": {},
     "output_type": "display_data"
    }
   ],
   "source": [
    "# ANSWER\n",
    "\n",
    "for specimen_id in sst_ids:\n",
    "    sweep_info = ctc.get_ephys_sweeps(specimen_id)\n",
    "\n",
    "    ls_sweeps = [s for s in sweep_info\n",
    "                 if s[\"stimulus_name\"] == \"Long Square\"\n",
    "                 and s[\"num_spikes\"] > 0\n",
    "                 and s[\"stimulus_absolute_amplitude\"] > 0]\n",
    "\n",
    "    # We are rounding because the floating point values can be weird\n",
    "    # and we know that the amplitudes are integer-valued\n",
    "    amps = [np.round(s[\"stimulus_absolute_amplitude\"]) for s in ls_sweeps]\n",
    "\n",
    "    n_spikes = [s[\"num_spikes\"] for s in ls_sweeps]\n",
    "\n",
    "    plt.plot(amps, n_spikes, 'o', c='k', alpha=0.1)"
   ]
  },
  {
   "cell_type": "markdown",
   "metadata": {},
   "source": [
    "<div style=\"border-left: 3px solid #000; padding: 1px; padding-left: 10px; background: #F0FAFF; \">\n",
    "\n",
    "\n",
    "<p>The plot you just made might be hard to interpret. One reason for that is that cells will start firing at different stimulus amplitudes, and even slight differences may lead to more visual confusion. Let's re-plot the data but align them on the minimum stimulus that evoked a spike.</p>\n",
    "\n",
    "</div>"
   ]
  },
  {
   "cell_type": "markdown",
   "metadata": {},
   "source": [
    "<div style=\"background: #DFF0D8; border-radius: 3px; padding: 10px;\">\n",
    "<p>**Exercise 2.7:**</p>\n",
    "\n",
    "<p>Make a plot similar to Exercise 2.8 above, but now subtract the minimum stimulus amplitude used to evoke a spike from the absolute stimulus amplitude to better align the data on the x-axis.\n",
    "</div>"
   ]
  },
  {
   "cell_type": "code",
   "execution_count": 95,
   "metadata": {
    "collapsed": false
   },
   "outputs": [
    {
     "data": {
      "image/png": "[encoded data removed]",
      "text/plain": [
       "<matplotlib.figure.Figure at 0x7fbac9c04e10>"
      ]
     },
     "metadata": {},
     "output_type": "display_data"
    }
   ],
   "source": [
    "# ANSWER\n",
    "\n",
    "example_id = sst_ids[0]\n",
    "\n",
    "for specimen_id in sst_ids:\n",
    "    sweep_info = ctc.get_ephys_sweeps(specimen_id)\n",
    "\n",
    "    ls_sweeps = [s for s in sweep_info\n",
    "                 if s[\"stimulus_name\"] == \"Long Square\"\n",
    "                 and s[\"num_spikes\"] > 0\n",
    "                 and s[\"stimulus_absolute_amplitude\"] > 0]\n",
    "\n",
    "    # We are rounding because the floating point values can be weird\n",
    "    # and we know that the amplitudes are integer-valued\n",
    "    amps = [np.round(s[\"stimulus_absolute_amplitude\"]) for s in ls_sweeps]\n",
    "    amps = np.array(amps)\n",
    "    \n",
    "    # I don't know why this would be true but it seems like it\n",
    "    # happens for some cell on the hard drive from last year\n",
    "    if len(amps) < 1: \n",
    "        continue\n",
    "\n",
    "    amps -= amps.min()\n",
    "    \n",
    "    n_spikes = [s[\"num_spikes\"] for s in ls_sweeps]\n",
    "\n",
    "    plt.plot(amps, n_spikes, 'o', c='k', alpha=0.1)"
   ]
  },
  {
   "cell_type": "markdown",
   "metadata": {},
   "source": [
    "<div style=\"border-left: 3px solid #000; padding: 1px; padding-left: 10px; background: #F0FAFF; \">\n",
    "\n",
    "\n",
    "<p>Now we can see the trend a bit better. If you look at the main trend of the more robustly-firing cells, you can see that they often fire around 50 or 60 spikes/sec at the higher amplitudes. So let's look at the ISI shape around halfway toward that rate - around 30 spikes/sec.</p>\n",
    "\n",
    "</div>"
   ]
  },
  {
   "cell_type": "markdown",
   "metadata": {},
   "source": [
    "<div style=\"background: #DFF0D8; border-radius: 3px; padding: 10px;\">\n",
    "<p>**Exercise 2.8:**</p>\n",
    "\n",
    "<p>Create a `dict` called `sweep_matches` and populate it with the number of the long square sweep has a firing rate closest to 30 spikes/sec (use the specimen ID as the key).</p>\n",
    "<p>However, don't include any sweeps that have less than 2 spikes (since we cannot calculate an ISI for those).</p></div>"
   ]
  },
  {
   "cell_type": "code",
   "execution_count": 99,
   "metadata": {
    "collapsed": true
   },
   "outputs": [],
   "source": [
    "# Answer\n",
    "\n",
    "target_rate = 30\n",
    "\n",
    "sweep_matches = {}\n",
    "\n",
    "for specimen_id in sst_ids:\n",
    "    sweep_info = ctc.get_ephys_sweeps(specimen_id)\n",
    "\n",
    "    ls_sweeps = [s for s in sweep_info\n",
    "                 if s[\"stimulus_name\"] == \"Long Square\"\n",
    "                 and s[\"num_spikes\"] > 0\n",
    "                 and s[\"stimulus_absolute_amplitude\"] > 0]\n",
    "    \n",
    "    # Again, some problem cell on the hard drive\n",
    "    if len(ls_sweeps) < 1:\n",
    "        continue\n",
    "    \n",
    "    spike_rates = np.array([s[\"num_spikes\"] for s in ls_sweeps])\n",
    "    spike_rate_delta = np.abs(spike_rates - target_rate)\n",
    "    match_index = np.argmin(spike_rate_delta)\n",
    "    if ls_sweeps[match_index][\"num_spikes\"] < 2:\n",
    "        continue\n",
    "    sweep_matches[specimen_id] = ls_sweeps[match_index][\"sweep_number\"]\n"
   ]
  },
  {
   "cell_type": "markdown",
   "metadata": {},
   "source": [
    "<div style=\"border-left: 3px solid #000; padding: 1px; padding-left: 10px; background: #F0FAFF; \">\n",
    "\n",
    "<p>\n",
    "**Documentation:**\n",
    "[numpy.abs()](https://docs.scipy.org/doc/numpy/reference/generated/numpy.absolute.html), [numpy.argmin()](https://docs.scipy.org/doc/numpy/reference/generated/numpy.argmin.html)\n",
    "</p>\n",
    "</div>"
   ]
  },
  {
   "cell_type": "markdown",
   "metadata": {},
   "source": [
    "<div style=\"border-left: 3px solid #000; padding: 1px; padding-left: 10px; background: #F0FAFF; \">\n",
    "\n",
    "\n",
    "<p>We can now use the feature extractor to find the features of the spikes that will let us identify the interspike intervals. We'll define it as extending from the end of a spike (found in the feature called \"`fast_trough_index`\")  and the beginning of the next spike (found in teh feature called \"`threshold_index`\".</p>\n",
    "\n",
    "<p>\n",
    "Here's a function that will calculate the average ISI. Look it over carefully and try to figure out what is happening at each step.</p>\n",
    "</div>"
   ]
  },
  {
   "cell_type": "code",
   "execution_count": 110,
   "metadata": {
    "collapsed": true
   },
   "outputs": [],
   "source": [
    "from scipy import stats\n",
    "\n",
    "def average_isi_trajectory(dataset, sweep_num, n_points=100):\n",
    "    \"\"\"Average the membrane potential trajectory between spikes\n",
    "    \n",
    "    Parameters\n",
    "    ----------\n",
    "    dataset: NwbDataSet\n",
    "        Data set with the ephys sweeps\n",
    "    sweep: int\n",
    "        Sweep number\n",
    "    n_points: int\n",
    "        Number of points for the resampled trace (default 100)\n",
    "        \n",
    "    Returns\n",
    "    -------\n",
    "    avg_isi: ndarray\n",
    "        Averaged interspike interval membrane potential\n",
    "    \"\"\"\n",
    "    sweep = dataset.get_sweep(sweep_num)\n",
    "    \n",
    "    # Extract the data from the sweep\n",
    "    v = sweep[\"response\"] * 1e3 # to mV\n",
    "    t = np.arange(len(v)) / sweep[\"sampling_rate\"] # in seconds\n",
    "    \n",
    "    # For Long Squares, the stimulus begins at 1.02 s and ends at 2.02 s\n",
    "    ext = EphysSweepFeatureExtractor(v=v, t=t, start=1.02, end=2.02)\n",
    "    \n",
    "    # TODO: there's a bug in the SDK extractor we need to track down\n",
    "    try:\n",
    "        ext.process_spikes()\n",
    "    except:\n",
    "        return None\n",
    "    \n",
    "    # Get the starts and ends of the spikes\n",
    "    threshold_indexes = ext.spike_feature(\"threshold_index\").astype(int)\n",
    "    fast_trough_indexes = ext.spike_feature(\"fast_trough_index\").astype(int)\n",
    "\n",
    "    # We'll store the arrays in a list so we can average them afterwards\n",
    "    isis = [] \n",
    "    \n",
    "    # Get the end of a spike and the start of the next one spike\n",
    "    # Note the offsets in indexing of the fast_trough_indexes and threshold_indexes\n",
    "    # We're using zip() to pair up the appropriate values\n",
    "    for start, end in zip(fast_trough_indexes[:-1], threshold_indexes[1:]):\n",
    "        v_slice = v[start:end]\n",
    "        t_slice = t[start:end]\n",
    "        \n",
    "        # We use scipy.stats.binned_statistic() to resample to n_points\n",
    "        binned, _, _ = stats.binned_statistic(t_slice, v_slice, bins=n_points)\n",
    "        isis.append(binned)\n",
    "    \n",
    "    # We put the different ISIs on top of each other with np.vstack()\n",
    "    # then average down the column with mean(axis=0)\n",
    "    avg_isi = np.vstack(isis).mean(axis=0)\n",
    "    return avg_isi\n"
   ]
  },
  {
   "cell_type": "markdown",
   "metadata": {},
   "source": [
    "<div style=\"border-left: 3px solid #000; padding: 1px; padding-left: 10px; background: #F0FAFF; \">\n",
    "\n",
    "<p>\n",
    "**Documentation:**\n",
    "[zip()](https://docs.python.org/2/library/functions.html#zip), [scipy.stats.binned_statistic()](https://docs.scipy.org/doc/scipy-0.19.0/reference/generated/scipy.stats.binned_statistic.html),\n",
    "[numpy.vstack()](https://docs.scipy.org/doc/numpy/reference/generated/numpy.vstack.html)\n",
    "</p>\n",
    "</div>"
   ]
  },
  {
   "cell_type": "markdown",
   "metadata": {},
   "source": [
    "<div style=\"background: #DFF0D8; border-radius: 3px; padding: 10px;\">\n",
    "<p>**Exercise 2.9:**</p>\n",
    "\n",
    "<p>Use the above function to populate a `dict` called `isi_traces` (keyed on specimen IDs) with the average ISI from the sweeps in `sweep_matches`. Plot them on top of each other (use transparency to help with overplotting).</p></div>"
   ]
  },
  {
   "cell_type": "code",
   "execution_count": 111,
   "metadata": {
    "collapsed": false
   },
   "outputs": [
    {
     "data": {
      "image/png": "[encoded data removed]",
      "text/plain": [
       "<matplotlib.figure.Figure at 0x7fbacb3c0850>"
      ]
     },
     "metadata": {},
     "output_type": "display_data"
    }
   ],
   "source": [
    "# ANSWER\n",
    "\n",
    "isi_traces = {}\n",
    "for specimen_id, sweep_num in sweep_matches.iteritems():\n",
    "    dataset = ctc.get_ephys_data(specimen_id)\n",
    "    avg_isi = average_isi_trajectory(dataset, sweep_num)\n",
    "    if avg_isi is not None:\n",
    "        isi_traces[specimen_id] = avg_isi\n",
    "    \n",
    "for avg_isi in isi_traces.values():\n",
    "    plt.plot(avg_isi, c=\"k\", alpha=0.1)"
   ]
  },
  {
   "cell_type": "markdown",
   "metadata": {},
   "source": [
    "<div style=\"background: #DFF0D8; border-radius: 3px; padding: 10px;\">\n",
    "<p>**Exercise 2.10:**</p>\n",
    "\n",
    "<p>You may be able to see some differences in the ISI shape, but, again, aligning the data may improve your ability to see patterns. Plot these traces again, but normalize the voltage so that they all start at 0 and end at 1.</p></div>"
   ]
  },
  {
   "cell_type": "code",
   "execution_count": 112,
   "metadata": {
    "collapsed": false
   },
   "outputs": [
    {
     "data": {
      "image/png": "[encoded data removed]",
      "text/plain": [
       "<matplotlib.figure.Figure at 0x7fbad0668610>"
      ]
     },
     "metadata": {},
     "output_type": "display_data"
    }
   ],
   "source": [
    "# ANSWER\n",
    "\n",
    "for avg_isi in isi_traces.values():\n",
    "    norm_avg_isi = (avg_isi - avg_isi[0]) / (avg_isi[-1] - avg_isi[0])\n",
    "    plt.plot(norm_avg_isi, c=\"k\", alpha=0.1)"
   ]
  },
  {
   "cell_type": "markdown",
   "metadata": {},
   "source": [
    "<div style=\"background: #DFF0D8; border-radius: 3px; padding: 10px;\">\n",
    "<p>**Exercise 2.11:**</p>\n",
    "\n",
    "<p>This is the last exercise, and it is intentionally open-ended.</p>\n",
    "\n",
    "<p>Try to think of a feature (i.e. a number or maybe a set of numbers) that would capture the differences you see in the ISI shape. You may need to do something like average a particular interval or take the derivative of the trace.</p>\n",
    "\n",
    "<p>Implement your feature calculation in a function and apply it to the traces. See if it separates the cells as you think it should - you can plot the ephys thumbnails as we did above as one way of checking for that.</p>\n",
    "\n",
    "<p>Future directions you can go could be things like:</p>\n",
    "\n",
    "<ul>\n",
    "<li>Does this ISI shape difference correlate with other things I know about the cell (its depth in cortex? its morphology? other electrophysiological features?)?\n",
    "<li>How much does the feature you created change within a given cell as the stimulus amplitude changes?\n",
    "<li>Are differences more pronounced at lower spike rates? Higher spike rates?\n",
    "</ul>\n",
    "\n",
    "</div>"
   ]
  },
  {
   "cell_type": "code",
   "execution_count": null,
   "metadata": {
    "collapsed": true
   },
   "outputs": [],
   "source": []
  },
  {
   "cell_type": "markdown",
   "metadata": {},
   "source": [
    "### PROJECT IDEAS\n",
    "\n",
    "_from last year_:\n",
    "* Examine how ephys / morph features vary across Cre-line, layer, and/or cortical location\n",
    "* Attempt to classify cells using ephys data/features (e.g., use machine learning to predict Cre line)\n",
    "* Calculate “dendrite density clouds” after orienting and averaging morphologies\n",
    "* Look at whether truncation of apical dendrites is linked to differences in any ephys features\n",
    "* Connect Brain Observatory functional properties to ephys intrinsic properties\n",
    "* Perform Sholl analysis on neuronal morphologies\n",
    "* Look for correlations between ephys data and Gene Expression and Taxonomy in V1"
   ]
  },
  {
   "cell_type": "markdown",
   "metadata": {},
   "source": [
    "### FUNCTION IDEAS\n",
    "\n",
    "* cells for a given cre line\n",
    "* plot a set of cell thumbnails in a notebook via the web\n",
    "* v, i, and t for a given sweep & data set"
   ]
  },
  {
   "cell_type": "code",
   "execution_count": null,
   "metadata": {
    "collapsed": true
   },
   "outputs": [],
   "source": []
  }
 ],
 "metadata": {
  "kernelspec": {
   "display_name": "Python 2",
   "language": "python",
   "name": "python2"
  },
  "language_info": {
   "codemirror_mode": {
    "name": "ipython",
    "version": 2
   },
   "file_extension": ".py",
   "mimetype": "text/x-python",
   "name": "python",
   "nbconvert_exporter": "python",
   "pygments_lexer": "ipython2",
   "version": "2.7.13"
  }
 },
 "nbformat": 4,
 "nbformat_minor": 2
}
