{
 "cells": [
  {
   "cell_type": "markdown",
   "metadata": {},
   "source": [
    "<img src=\"support_files/cropped-SummerWorkshop_Header.png\">  \n",
    "\n",
    "<h1 align=\"center\">Python Bootcamp</h1> \n",
    "<h3 align=\"center\">August 20-21, 2016</h3> "
   ]
  },
  {
   "cell_type": "markdown",
   "metadata": {},
   "source": [
    "<div style=\"border-left: 3px solid #000; padding: 1px; padding-left: 10px; background: #F0FAFF; \">\n",
    "<center><h1>Numpy</h1></center>\n",
    "\n",
    "<p>Numpy is a Python library that provides efficient implementations of a large number of functions commonly used in scientific programming.  \n",
    "\n",
    "<p>Consider trying to add two lists together in Python:\n",
    "</div>"
   ]
  },
  {
   "cell_type": "code",
   "execution_count": null,
   "metadata": {
    "collapsed": false
   },
   "outputs": [],
   "source": [
    "A = [1.0, 3, \"hello, \"]\n",
    "B = [3.4, 3.2, \"world\"]\n",
    "\n",
    "print([ a+B[i] for i,a in enumerate(A)])     # why can't we type A+B?"
   ]
  },
  {
   "cell_type": "markdown",
   "metadata": {},
   "source": [
    "<div style=\"border-left: 3px solid #000; padding: 1px; padding-left: 10px; background: #F0FAFF; \">\n",
    "<p> In order to add these two lists, Python has to first figure out which type of object is in each place in each list (note that there are *three* different types above).  It then has to figure out which method is appropriate for adding the two lists together.  In one case, above, it also must cast the type to another type so that the two can be added.\n",
    "All of that takes computation time and in some cases space.  In addition, the objects themselves, being Python objects, are relatively complex.  Lists are designed to allow *flexibility*, not *efficiency*.\n",
    "\n",
    "<p>Numpy is built around the numpy `array` object.  This object solves each of these problems. \n",
    "\n",
    "<ol>\n",
    "<li>  Numpy objects are collections of a fixed, specific type. \n",
    "<li>  The types used in (most) numpy arrays are extremely simple types that the hardware itself uses and so do not come with the normal overhead of Python\n",
    "</ol>\n",
    "\n",
    "<p> In addition, the numpy array helps us to manipulate large data sets in important and convenient ways, by allowing us to index portions of the data in a manner appropriate to that data.\n",
    "\n",
    "</div>"
   ]
  },
  {
   "cell_type": "code",
   "execution_count": null,
   "metadata": {
    "collapsed": true
   },
   "outputs": [],
   "source": [
    "import numpy as np\n",
    "from __future__ import print_function #clean up the print functions"
   ]
  },
  {
   "cell_type": "markdown",
   "metadata": {},
   "source": [
    "<div style=\"border-left: 3px solid #000; padding: 1px; padding-left: 10px; background: #F0FAFF; \">\n",
    "<p>A simple way to generate a numpy array is by casting a list.\n",
    "\n",
    "</div>"
   ]
  },
  {
   "cell_type": "code",
   "execution_count": null,
   "metadata": {
    "collapsed": false
   },
   "outputs": [],
   "source": [
    "# python list of integers\n",
    "nums = [ 1, 2, 3, 4, 5 ]\n",
    "\n",
    "# numpy array of integers\n",
    "arr1 = np.array( nums )\n",
    "\n",
    "print(\"arr1:\",arr1)"
   ]
  },
  {
   "cell_type": "markdown",
   "metadata": {},
   "source": [
    "<div style=\"border-left: 3px solid #000; padding: 1px; padding-left: 8px; background: #F0FAFF; \">\n",
    "<p> From the output, you can't tell that anything is different.  The important features of numpy arrays are under the hood.\n",
    "\n",
    "<left><h2>numpy array operators</h2></left>\n",
    "\n",
    "\n",
    "\n",
    "\n",
    "\n",
    "\n",
    "<p> Scalar addition:  This adds a constant to each element of the array.\n",
    "</div>"
   ]
  },
  {
   "cell_type": "code",
   "execution_count": null,
   "metadata": {
    "collapsed": false
   },
   "outputs": [],
   "source": [
    "arr2 = arr1 + 2\n",
    "\n",
    "print(\"arr2:\", arr2)"
   ]
  },
  {
   "cell_type": "markdown",
   "metadata": {},
   "source": [
    "<div style=\"border-left: 3px solid #000; padding: 1px; padding-left: 10px; background: #F0FAFF; \">\n",
    "\n",
    "<p>In contrast to lists, most common operations for numpy arrays act in an elementwise fashion.\n",
    "<p>Arrays of the same size can be added together in an elementwise manner.\n",
    "\n",
    "Elementwise addition:\n",
    "</div>"
   ]
  },
  {
   "cell_type": "code",
   "execution_count": null,
   "metadata": {
    "collapsed": false
   },
   "outputs": [],
   "source": [
    "arr3 = arr1 + arr2\n",
    "\n",
    "print(\"arr3:\", arr3)"
   ]
  },
  {
   "cell_type": "markdown",
   "metadata": {},
   "source": [
    "<div style=\"border-left: 3px solid #000; padding: 1px; padding-left: 10px; background: #F0FAFF; \">\n",
    "<p>Elementwise multiplication:\n",
    "\n",
    "</div>"
   ]
  },
  {
   "cell_type": "code",
   "execution_count": null,
   "metadata": {
    "collapsed": false
   },
   "outputs": [],
   "source": [
    "arr4 = arr1 * arr2\n",
    "\n",
    "print(\"arr4:\", arr4)"
   ]
  },
  {
   "cell_type": "markdown",
   "metadata": {},
   "source": [
    "<div style=\"background: #DFF0D8; border-radius: 3px; padding: 10px;\">\n",
    "<p>**Exercise 4.1:**  Create two arrays with floating point values instead of integers.\n",
    "</div>"
   ]
  },
  {
   "cell_type": "code",
   "execution_count": null,
   "metadata": {
    "collapsed": false
   },
   "outputs": [],
   "source": []
  },
  {
   "cell_type": "markdown",
   "metadata": {},
   "source": [
    "<div style=\"background: #DFF0D8; border-radius: 3px; padding: 10px;\">\n",
    "<p>**Exercise 4.2:**Create an array that represents the elementwise difference between two arrays.\n",
    "</div>"
   ]
  },
  {
   "cell_type": "code",
   "execution_count": null,
   "metadata": {
    "collapsed": false
   },
   "outputs": [],
   "source": []
  },
  {
   "cell_type": "markdown",
   "metadata": {},
   "source": [
    "<div style=\"background: #DFF0D8; border-radius: 3px; padding: 10px;\">\n",
    "<p>**Exercise 4.3:**  Divide one array by a second array in an elementwise fashion and save the result as a new array.  What happens if the second array contains a zero?\n",
    "</div>"
   ]
  },
  {
   "cell_type": "code",
   "execution_count": null,
   "metadata": {
    "collapsed": false
   },
   "outputs": [],
   "source": []
  },
  {
   "cell_type": "markdown",
   "metadata": {},
   "source": [
    "<div style=\"background: #DFF0D8; border-radius: 3px; padding: 10px;\">\n",
    "<p>**Exercise 4.4:**Make the two arrays different sizes - how does that affect the operations above?\n",
    "</div>"
   ]
  },
  {
   "cell_type": "code",
   "execution_count": null,
   "metadata": {
    "collapsed": false
   },
   "outputs": [],
   "source": []
  },
  {
   "cell_type": "markdown",
   "metadata": {},
   "source": [
    "<div style=\"border-left: 3px solid #000; padding: 1px; padding-left: 8px; background: #F0FAFF; \">\n",
    "<left><h1>numpy array creation functions</h1></left>\n",
    "\n",
    "<p>Use ```arange``` to create a sequence of values between two limits with defined step sizes\n",
    "\n",
    "<p>Note that the end value is *excluded*\n",
    "\n",
    "</div>"
   ]
  },
  {
   "cell_type": "code",
   "execution_count": null,
   "metadata": {
    "collapsed": false
   },
   "outputs": [],
   "source": [
    "arr5 = np.arange(start=0, stop=10, step=1)\n",
    "\n",
    "print(\"arr5:\", arr5)"
   ]
  },
  {
   "cell_type": "code",
   "execution_count": null,
   "metadata": {
    "collapsed": false
   },
   "outputs": [],
   "source": [
    "#use a larger step size\n",
    "arr6 = np.arange(0, 10, 2)\n",
    "\n",
    "print(\"arr6:\", arr6)"
   ]
  },
  {
   "cell_type": "markdown",
   "metadata": {},
   "source": [
    "<div style=\"border-left: 3px solid #000; padding: 1px; padding-left: 10px; background: #F0FAFF; \">\n",
    "<p>Use ```linspace``` to create a sequence of values between two limits with a defined number of steps\n",
    "\n",
    "<p>Note that the end value is *included*\n",
    "\n",
    "</div>"
   ]
  },
  {
   "cell_type": "code",
   "execution_count": null,
   "metadata": {
    "collapsed": false
   },
   "outputs": [],
   "source": [
    "arr7 = np.linspace(start=0.0, stop=1.0, num=5)\n",
    "\n",
    "print(\"arr7:\", arr7)"
   ]
  },
  {
   "cell_type": "markdown",
   "metadata": {},
   "source": [
    "<div style=\"border-left: 3px solid #000; padding: 1px; padding-left: 10px; background: #F0FAFF; \">\n",
    "<p>The arrays we have looked at so far have been 1-dimensional.  Quite often we work with data which is most meaningfully arranged in multiple-dimensions, e.g. images are arrays of data that are naturally described in terms of width and height, or a set of recordings from multiple neurons.\n",
    "\n",
    "Multi-dimensional arrays can be created by using \"lists of lists\".\n",
    "</div>"
   ]
  },
  {
   "cell_type": "code",
   "execution_count": null,
   "metadata": {
    "collapsed": false
   },
   "outputs": [],
   "source": [
    "A = [[1,2],[3,4]]\n",
    "\n",
    "array_A = np.array(A)\n",
    "print(array_A)"
   ]
  },
  {
   "cell_type": "code",
   "execution_count": null,
   "metadata": {
    "collapsed": false
   },
   "outputs": [],
   "source": [
    "B = [[[1,2],[3,4],[5,6]],[[3,4],[5,6],[7,8]]]\n",
    "\n",
    "array_B = np.array(B)\n",
    "print(array_B)"
   ]
  },
  {
   "cell_type": "markdown",
   "metadata": {},
   "source": [
    "<div style=\"border-left: 3px solid #000; padding: 1px; padding-left: 10px; background: #F0FAFF; \">\n",
    "<p>numpy arrays have an attribute called \"shape\" that indicates how \"long\" the array is in each dimension.\n",
    "</div>"
   ]
  },
  {
   "cell_type": "code",
   "execution_count": null,
   "metadata": {
    "collapsed": false
   },
   "outputs": [],
   "source": [
    "print(array_A.shape)\n",
    "print(array_B.shape)"
   ]
  },
  {
   "cell_type": "markdown",
   "metadata": {},
   "source": [
    "<div style=\"border-left: 3px solid #000; padding: 1px; padding-left: 10px; background: #F0FAFF; \">\n",
    "<p>For real use cases, lists of lists is quite clumsy.\n",
    "\n",
    "<p>One can use the functions ```zeros``` and ```ones``` to create an array of zeros or ones of a defined shape that are initially filled with zeros or ones, respectively.\n",
    "\n",
    "</div>"
   ]
  },
  {
   "cell_type": "code",
   "execution_count": null,
   "metadata": {
    "collapsed": false
   },
   "outputs": [],
   "source": [
    "# zeros, ones\n",
    "zero_array = np.zeros((4,4))\n",
    "\n",
    "print(\"zero_array:\\n\", zero_array) #\\n is a newline character"
   ]
  },
  {
   "cell_type": "code",
   "execution_count": null,
   "metadata": {
    "collapsed": false
   },
   "outputs": [],
   "source": [
    "one_array = np.ones((3,4,2))\n",
    "\n",
    "print(\"one_array:\\n\", one_array)"
   ]
  },
  {
   "cell_type": "markdown",
   "metadata": {},
   "source": [
    "<div style=\"border-left: 3px solid #000; padding: 1px; padding-left: 10px; background: #F0FAFF; \">\n",
    "<p>Use ```zeros_like``` and ```ones_like``` to create an array of zeros or ones that matches the shape of an existing array\n",
    "\n",
    "</div>"
   ]
  },
  {
   "cell_type": "code",
   "execution_count": null,
   "metadata": {
    "collapsed": false
   },
   "outputs": [],
   "source": [
    "another_one_array = np.ones_like(zero_array)\n",
    "\n",
    "print(\"another_one_array:\\n\", another_one_array)"
   ]
  },
  {
   "cell_type": "markdown",
   "metadata": {},
   "source": [
    "<div style=\"border-left: 3px solid #000; padding: 1px; padding-left: 10px; background: #F0FAFF; \">\n",
    "<p>The `size` of an array is the total number of elements.  It will be the product of the elements of the `shape`.\n",
    "</div>"
   ]
  },
  {
   "cell_type": "code",
   "execution_count": null,
   "metadata": {
    "collapsed": false
   },
   "outputs": [],
   "source": [
    "A = np.array([[1,2,3],[4,5,6]])\n",
    "print(A.size)"
   ]
  },
  {
   "cell_type": "markdown",
   "metadata": {},
   "source": [
    "<div style=\"border-left: 3px solid #000; padding: 1px; padding-left: 10px; background: #F0FAFF; \">\n",
    "<p>Use ```eye``` to create an array who elements are those of the identity matrix.\n",
    "</div>"
   ]
  },
  {
   "cell_type": "code",
   "execution_count": null,
   "metadata": {
    "collapsed": false
   },
   "outputs": [],
   "source": [
    "arr10 = np.eye(3)\n",
    "print(\"arr10:\\n\", arr10)"
   ]
  },
  {
   "cell_type": "markdown",
   "metadata": {},
   "source": [
    "<div style=\"border-left: 3px solid #000; padding: 1px; padding-left: 10px; background: #F0FAFF; \">\n",
    "<p>The ```random``` module contains functions for creating arrays with randomly distributed values. For instance, ```np.random.rand()``` gives uniformly distributed values between 0 and 1.\n",
    "</div>"
   ]
  },
  {
   "cell_type": "code",
   "execution_count": null,
   "metadata": {
    "collapsed": false
   },
   "outputs": [],
   "source": [
    "# random values in [0,1]\n",
    "arr11 = np.random.rand(4,3)\n",
    "print(\"arr11:\\n\", arr11)"
   ]
  },
  {
   "cell_type": "markdown",
   "metadata": {},
   "source": [
    "<div style=\"background: #DFF0D8; border-radius: 3px; padding: 10px;\">\n",
    "<p>**Exercise 4.5:**  Create a 100x60 array of normally distributed values.  (Hint:  look at the functions available in np.random.)\n",
    "</div>"
   ]
  },
  {
   "cell_type": "code",
   "execution_count": null,
   "metadata": {
    "collapsed": true
   },
   "outputs": [],
   "source": []
  },
  {
   "cell_type": "markdown",
   "metadata": {},
   "source": [
    "<div style=\"background: #DFF0D8; border-radius: 3px; padding: 10px;\">\n",
    "<p>**Exercise 4.6:**  Perform elementwise operations on the array generated above such that the mean is 5 and the standard deviation is 2.\n",
    "</div>"
   ]
  },
  {
   "cell_type": "code",
   "execution_count": null,
   "metadata": {
    "collapsed": true
   },
   "outputs": [],
   "source": []
  },
  {
   "cell_type": "markdown",
   "metadata": {},
   "source": [
    "<div style=\"background: #DFF0D8; border-radius: 3px; padding: 10px;\">\n",
    "<p>**Exercise 4.7:**  `array`s have the methods ```mean``` and ```std```.  Use these methods to check your answer from the previous exercise.  These methods also have a keyword argument `axis` that allows one to compute the mean only along specific axes.  Try computing the `mean` and `std` over the first axis.  (The numpy module has functions called `mean` and `std`.  We recommend using the array methods.)\n",
    "</div>"
   ]
  },
  {
   "cell_type": "code",
   "execution_count": null,
   "metadata": {
    "collapsed": false
   },
   "outputs": [],
   "source": []
  },
  {
   "cell_type": "markdown",
   "metadata": {},
   "source": [
    "<div style=\"border-left: 3px solid #000; padding: 1px; padding-left: 8px; background: #F0FAFF; \">\n",
    "<left><h1>numpy data types</h1></left>\n",
    "\n",
    "<p>As mentioned above, numpy gains efficiency by using consistent, simple data types for every element of the array.  Your machine probably defaults to `np.float64`, which is an 8-byte double precision floating point number.  Other common data types are `np.int8` for 8-bit integers and `np.uint8` for 8-bit unsigned integers. \n",
    "\n",
    "<p>See here for a full list of available data types: http://docs.scipy.org/doc/numpy/user/basics.types.html\n",
    "\n",
    "<p>The data type of an `array` is given by the `dtype` attribute.  Numpy will make assumptions about your desired dtype based on the values passed in to define the array.  Alternatively, you can use the `dtype` keyword argument to specify the dtype upon creation.\n",
    "\n",
    "</div>"
   ]
  },
  {
   "cell_type": "code",
   "execution_count": null,
   "metadata": {
    "collapsed": false
   },
   "outputs": [],
   "source": [
    "# numpy will guess data types for you\n",
    "arr12 = np.array([0.0, 1.0, 2.0])\n",
    "print(arr12.dtype, arr12)\n",
    "\n",
    "# or you can specify them \n",
    "arr13 = np.array([0.0, 1.0, 2.0], dtype=np.uint8)\n",
    "print(arr13.dtype, arr13)\n",
    "\n",
    "arr14 = np.array([0,1,2])\n",
    "print(arr14.dtype, arr14)"
   ]
  },
  {
   "cell_type": "markdown",
   "metadata": {},
   "source": [
    "<div style=\"border-left: 3px solid #000; padding: 1px; padding-left: 8px; background: #F0FAFF; \">\n",
    "<left><h1>Changing shape</h1></left>\n",
    "\n",
    "<p>Reshape:  return a *new* array with a different shape.  The total `size` of the array must be compatible.  A common and convenient reshape operation is the transpose, which can be accessed with `.T`.\n",
    "\n",
    "Resize:  change the shape of an array *in place*.  This does *not* return a new array.\n",
    "</div>"
   ]
  },
  {
   "cell_type": "code",
   "execution_count": null,
   "metadata": {
    "collapsed": false
   },
   "outputs": [],
   "source": [
    "# reshape\n",
    "arr17 = np.arange(0,10,1)\n",
    "print(arr17)\n",
    "\n",
    "arr18 = arr17.reshape((2,5))            \n",
    "print(\"\\nreshaped:\\n\", arr18)\n",
    "\n",
    "arr19 = arr18.T \n",
    "print(\"\\ntransposed:\\n\", arr19)\n",
    "\n",
    "print(arr17.shape)\n",
    "arr17.resize((2,5))\n",
    "print(arr17.shape)"
   ]
  },
  {
   "cell_type": "markdown",
   "metadata": {},
   "source": [
    "<div style=\"border-left: 3px solid #000; padding: 1px; padding-left: 8px; background: #F0FAFF; \">\n",
    "<p>  In numpy, matrix multiplication is accomplished with the \"dot\" method, and not with the \"*\" operator\n",
    "</div>"
   ]
  },
  {
   "cell_type": "code",
   "execution_count": null,
   "metadata": {
    "collapsed": false
   },
   "outputs": [],
   "source": [
    "# dot product\n",
    "I = np.eye(3,3)\n",
    "Z = np.ones((3,3))\n",
    "print(np.dot(I,Z),\"\\n\")\n",
    "print(I*Z)"
   ]
  },
  {
   "cell_type": "markdown",
   "metadata": {},
   "source": [
    "<div style=\"border-left: 3px solid #000; padding: 1px; padding-left: 8px; background: #F0FAFF; \">\n",
    "<p>  Some array operations do not require that the shapes of the arrays be the same; if the rightmost dimensions of the the array agree, then any remaining dimensions will be \"broadcast\" across.  The documentation can help you if you are confused: http://docs.scipy.org/doc/numpy/user/basics.broadcasting.html\n",
    "</div>"
   ]
  },
  {
   "cell_type": "code",
   "execution_count": null,
   "metadata": {
    "collapsed": false
   },
   "outputs": [],
   "source": [
    "# This works:\n",
    "A = np.ones((3,4,4))\n",
    "B =   np.ones((4,4))\n",
    "print((A+B).shape)\n",
    "\n",
    "# This doesn't:\n",
    "A = np.ones((3,4,4))\n",
    "B =   np.ones((4,3))\n",
    "print((A+B).shape)\n"
   ]
  },
  {
   "cell_type": "markdown",
   "metadata": {},
   "source": [
    "<div style=\"background: #DFF0D8; border-radius: 3px; padding: 10px;\">\n",
    "<p>**Exercise 4.8:**  Create a small array of random numbers.  Use a method of the array to compute the sum of those numbers.  \n",
    "</div>"
   ]
  },
  {
   "cell_type": "code",
   "execution_count": null,
   "metadata": {
    "collapsed": false
   },
   "outputs": [],
   "source": []
  },
  {
   "cell_type": "markdown",
   "metadata": {},
   "source": [
    "<div style=\"background: #DFF0D8; border-radius: 3px; padding: 10px;\">\n",
    "<p>**Exercise 4.9:**  Create a small array of random numbers.  Replace one element in that array with ```np.nan``` (which stands for 'not a number').  Compute the sum of this array.\n",
    "</div>"
   ]
  },
  {
   "cell_type": "code",
   "execution_count": null,
   "metadata": {
    "collapsed": false
   },
   "outputs": [],
   "source": []
  },
  {
   "cell_type": "markdown",
   "metadata": {},
   "source": [
    "<div style=\"background: #DFF0D8; border-radius: 3px; padding: 10px;\">\n",
    "<p>**Exercise 4.10:**  Check out the list of mathematical operations here: http://docs.scipy.org/doc/numpy/reference/routines.math.html. Find a function that will allow you to sum over various dimensions while ignoring the ```np.nan```.\n",
    "</div>"
   ]
  },
  {
   "cell_type": "code",
   "execution_count": null,
   "metadata": {
    "collapsed": false
   },
   "outputs": [],
   "source": []
  },
  {
   "cell_type": "markdown",
   "metadata": {},
   "source": [
    "<div style=\"border-left: 3px solid #000; padding: 1px; padding-left: 8px; background: #F0FAFF; \">\n",
    "<left><h1>array indexing</h1></left>\n",
    "\n",
    "<p>Indexing can be used to identify and extract specific values from an array.  Remember that **Python indexes from 0!**\n",
    "\n",
    "</div>"
   ]
  },
  {
   "cell_type": "code",
   "execution_count": null,
   "metadata": {
    "collapsed": false
   },
   "outputs": [],
   "source": [
    "arr20 = np.arange(0,10,1).reshape((2,5))\n",
    "print(\"arr20:\\n\", arr20)\n",
    "\n",
    "# remember, indexing is from zero!\n",
    "print(\"\\nvalue at location[0,2]\\n\", arr20[0,2])"
   ]
  },
  {
   "cell_type": "markdown",
   "metadata": {},
   "source": [
    "<div style=\"border-left: 3px solid #000; padding: 1px; padding-left: 8px; background: #F0FAFF; \">\n",
    "<p>  Similarly to lists, you can also use slicing to retrieve portions of an array.  Unlike lists, slicing an array gives you a new view into the array, it does *not* produce a copy.\n",
    "\n",
    "<p>  You can also access elements of an array with \"index arrays\".  These can be arbitrary arrays that contain indices for each dimension of the array.  Each index array must be the same shape, and the returned array will have that shape.\n",
    "</div>"
   ]
  },
  {
   "cell_type": "code",
   "execution_count": null,
   "metadata": {
    "collapsed": false
   },
   "outputs": [],
   "source": [
    "# grab an entire row or column\n",
    "print(\"arr20:\\n\", arr20)\n",
    "print(\"\\nrow 1:\\n\", arr20[1,:])\n",
    "print(\"\\ncol 2:\\n\", arr20[:,2])\n",
    "print(\"\\n\")\n",
    "# index arrays with a 1-dimensional array\n",
    "arr21 = np.arange(10)\n",
    "index_array = np.array([[3,4,5],[7,9,8]])\n",
    "print(arr21[index_array])\n",
    "\n",
    "# index arrays with a 2-dimensional array\n",
    "print(\"\\n(row0 col2), (row0, col4) and (row1, col3):\\n\", arr20[(0, 0, 1),(2, 4, 3)])"
   ]
  },
  {
   "cell_type": "markdown",
   "metadata": {},
   "source": [
    "<div style=\"border-left: 3px solid #000; padding: 1px; padding-left: 8px; background: #F0FAFF; \">\n",
    "\n",
    "<h2>Boolean indexing</h2>\n",
    "\n",
    "<p>Boolean comparisons with scalars will test the arrays elementwise against the scalar.  You can use this to generate an array indicating for which elements in an array that a condition is met.\n",
    "\n",
    "<p>Furthermore, a boolean array can be used to index into another array of the same shape.  The return value will be a 1-dimensional array with the elements indicated as `True`.\n",
    "\n",
    "</div>"
   ]
  },
  {
   "cell_type": "code",
   "execution_count": null,
   "metadata": {
    "collapsed": false
   },
   "outputs": [],
   "source": [
    "print(\"arr20:\\n\", arr20)\n",
    "\n",
    "print(\"\\nboolean array for values greater than 3:\\n\", arr20>3)\n",
    "\n",
    "print(\"\\napply the boolean array to the orignal array to return values > 3:\\n\", arr20[arr20>3])"
   ]
  },
  {
   "cell_type": "markdown",
   "metadata": {},
   "source": [
    "<div style=\"border-left: 3px solid #000; padding: 1px; padding-left: 8px; background: #F0FAFF; \">\n",
    "\n",
    "<p>The numpy ```where``` function will return the indices where a given condition is true.\n",
    "<p>Numpy has a set of logical functions that allow for comparisons between different arrays elementwise.  The function for `and` is  ```logical_and```.  This can be used to next comparisons.\n",
    "\n",
    "</div>"
   ]
  },
  {
   "cell_type": "code",
   "execution_count": null,
   "metadata": {
    "collapsed": false
   },
   "outputs": [],
   "source": [
    "print(\"arr20:\\n\", arr20)\n",
    "\n",
    "print(\"\\nindex array for values greater than 3 AND less than or equal to 5:\\n\", \n",
    "      np.where(np.logical_and(arr20>3,arr20<=5)))\n",
    "\n",
    "print(\"\\napply the index array to the orignal array to return values > 3 and <=5:\\n\", \n",
    "      arr20[np.where(np.logical_and(arr20>3,arr20<=5))])"
   ]
  },
  {
   "cell_type": "markdown",
   "metadata": {},
   "source": [
    "<div style=\"background: #DFF0D8; border-radius: 3px; padding: 10px;\">\n",
    "<p>**Exercise 4.11:**\n",
    "\n",
    "<p>Return all of the values of arr20 that are less than 2 or greater than 7\n",
    "\n",
    "</div>"
   ]
  },
  {
   "cell_type": "code",
   "execution_count": null,
   "metadata": {
    "collapsed": false
   },
   "outputs": [],
   "source": []
  },
  {
   "cell_type": "markdown",
   "metadata": {},
   "source": [
    "<div style=\"border-left: 3px solid #000; padding: 1px; padding-left: 8px; background: #F0FAFF; \">\n",
    "\n",
    "<p>array masking\n",
    "\n",
    "</div>"
   ]
  },
  {
   "cell_type": "code",
   "execution_count": null,
   "metadata": {
    "collapsed": false
   },
   "outputs": [],
   "source": [
    "arr21 = np.arange(0,10,1).reshape((2,5))\n",
    "print(\"\\noriginal array:\\n\", arr21)\n",
    "\n",
    "# generate a logical mask of your array\n",
    "mask = arr21 > 4\n",
    "print(\"\\nmask:\\n\", mask)\n",
    "\n",
    "# now use it to modify the elements that match\n",
    "arr21[mask] += 100\n",
    "print(\"\\nmasked array:\\n\", arr21)"
   ]
  },
  {
   "cell_type": "markdown",
   "metadata": {
    "collapsed": false
   },
   "source": [
    "<div style=\"border-left: 3px solid #000; padding: 1px; padding-left: 8px; background: #F0FAFF; \">\n",
    "\n",
    "<h2>MATLAB gotchas</h2>\n",
    "\n",
    "<p>Transitioning from MATLAB to python/numpy can be fun, but tricky. Here is a list of things to keep in mind:\n",
    "\n",
    "<LI> Matlab indices start at \"1\"; python/numpy start at \"0\"\n",
    "<LI> `For` loops, like MATLAB, are very slow in python, you should vectorize when possible.\n",
    "<LI> In python, matrix multiplication is done with \"dot\", not \"*\"\n",
    "<LI> Integer division is not automatically typecast to float for you.\n",
    "\n",
    "<p> Check out http://mathesaurus.sourceforge.net/matlab-numpy.html for code examples help ease the transition\n",
    "\n",
    "</div>"
   ]
  },
  {
   "cell_type": "markdown",
   "metadata": {},
   "source": [
    "<div style=\"background: #DFF0D8; border-radius: 3px; padding: 10px;\">\n",
    "<left><h1>Exercises</h1></left>\n",
    "\n",
    "</div>"
   ]
  },
  {
   "cell_type": "markdown",
   "metadata": {},
   "source": [
    "<div style=\"background: #DFF0D8; border-radius: 3px; padding: 10px;\">\n",
    "<p>**Exercise 4.12:**\n",
    "\n",
    "<p>Create a 1-d numpy array of the first 10,000,000 integers, and call it x. Compute x+x^2+x^3 two ways 1) By using \"vectorized computations\" on a single line, and once by using a for loop.  Which takes longer? \n",
    "\n",
    "</div>"
   ]
  },
  {
   "cell_type": "code",
   "execution_count": null,
   "metadata": {
    "collapsed": false
   },
   "outputs": [],
   "source": []
  },
  {
   "cell_type": "markdown",
   "metadata": {},
   "source": [
    "<div style=\"background: #DFF0D8; border-radius: 3px; padding: 10px;\">\n",
    "<p>**Exercise 4.13:**\n",
    "\n",
    "<p>Create a 1-d numpy array (call it ```ts``` for timestamps), with increasing integers from 3 to 300 (including 3 but not 300) with increment of 3, and print the array\n",
    "\n",
    "</div>"
   ]
  },
  {
   "cell_type": "code",
   "execution_count": null,
   "metadata": {
    "collapsed": false
   },
   "outputs": [],
   "source": []
  },
  {
   "cell_type": "markdown",
   "metadata": {},
   "source": [
    "<div style=\"background: #DFF0D8; border-radius: 3px; padding: 10px;\">\n",
    "<p>**Exercise 4.14:**\n",
    "\n",
    "<p>change the dtype of ```ts``` into 32-bit floating point and print ```ts```\n",
    "\n",
    "</div>"
   ]
  },
  {
   "cell_type": "code",
   "execution_count": null,
   "metadata": {
    "collapsed": false
   },
   "outputs": [],
   "source": []
  },
  {
   "cell_type": "markdown",
   "metadata": {},
   "source": [
    "<div style=\"background: #DFF0D8; border-radius: 3px; padding: 10px;\">\n",
    "<p>**Exercise 4.15:**\n",
    "\n",
    "<p>add 0.5 to every element in ts which is larger than 200 and print ts\n",
    "\n",
    "</div>"
   ]
  },
  {
   "cell_type": "code",
   "execution_count": null,
   "metadata": {
    "collapsed": false
   },
   "outputs": [],
   "source": []
  },
  {
   "cell_type": "markdown",
   "metadata": {},
   "source": [
    "<div style=\"background: #DFF0D8; border-radius: 3px; padding: 10px;\">\n",
    "<p>**Exercise 4.16:**\n",
    "\n",
    "<p>calculate the mean difference between adjacent elements and print it\n",
    "<p>hint: http://docs.scipy.org/doc/numpy/reference/generated/numpy.diff.html\n",
    "\n",
    "</div>"
   ]
  },
  {
   "cell_type": "code",
   "execution_count": null,
   "metadata": {
    "collapsed": false
   },
   "outputs": [],
   "source": []
  },
  {
   "cell_type": "markdown",
   "metadata": {},
   "source": [
    "<div style=\"background: #DFF0D8; border-radius: 3px; padding: 10px;\">\n",
    "<p>**Exercise 4.17:**\n",
    "\n",
    "<p>find the index of the element closest to the number 212.3, and print that index and print the element\n",
    "\n",
    "</div>"
   ]
  },
  {
   "cell_type": "code",
   "execution_count": null,
   "metadata": {
    "collapsed": false
   },
   "outputs": [],
   "source": []
  }
 ],
 "metadata": {
  "kernelspec": {
   "display_name": "Python 2",
   "language": "python",
   "name": "python2"
  },
  "language_info": {
   "codemirror_mode": {
    "name": "ipython",
    "version": 2
   },
   "file_extension": ".py",
   "mimetype": "text/x-python",
   "name": "python",
   "nbconvert_exporter": "python",
   "pygments_lexer": "ipython2",
   "version": "2.7.11"
  },
  "widgets": {
   "state": {},
   "version": "1.1.2"
  }
 },
 "nbformat": 4,
 "nbformat_minor": 0
}
