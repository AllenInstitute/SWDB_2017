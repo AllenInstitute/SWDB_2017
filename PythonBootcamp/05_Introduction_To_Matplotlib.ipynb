{
 "cells": [
  {
   "cell_type": "markdown",
   "metadata": {},
   "source": [
    "<img src=\"support_files/cropped-SummerWorkshop_Header.png\">  \n",
    "\n",
    "<h1 align=\"center\">Python Bootcamp</h1> \n",
    "<h3 align=\"center\">August 20-21, 2016</h3> "
   ]
  },
  {
   "cell_type": "markdown",
   "metadata": {
    "collapsed": true
   },
   "source": [
    "<div style=\"border-left: 3px solid #000; padding: 1px; padding-left: 10px; background: #F0FAFF; \">\n",
    "<center><h1>Introduction to Matplotlib</h1></center>\n",
    "\n",
    "<p>\n",
    "**`matplotlib`** is a plotting library for Python.\n",
    "<p>\n",
    "**Pros:**\n",
    "<ul> \n",
    "<li>Huge amount of functionality/options.\n",
    "<li>Works with numpy arrays and python lists.\n",
    "<li>Comes with many prepackaged Python distros (anaconda, WinPython, etc.).\n",
    "<li>Easily saves plots to image (.png, .bmp, etc.) and vector (.svg, .pdf, etc.) formats.\n",
    "<li>Has an excellent set of examples (with code) at http://matplotlib.org/gallery.\n",
    "<li>Shares many syntactic conventions with Matlab.\n",
    "</ul>\n",
    "\n",
    "<p>\n",
    "**Cons:**\n",
    "<ul>\n",
    "<li>Slow for rapidly updating plots.\n",
    "<li>3D plotting support is not great.\n",
    "<li>Documentation is not always useful.\n",
    "<li>Essentially has two interfaces.  One is intended to be close to Matlab, the other is object oriented.  You will find examples that assume one or the other, but rarely the one you are after.\n",
    "<li>Shares many syntactic conventions with Matlab.\n",
    "</ul>\n",
    "</div>"
   ]
  },
  {
   "cell_type": "code",
   "execution_count": null,
   "metadata": {
    "collapsed": true
   },
   "outputs": [],
   "source": [
    "# Import numpy and pyplot \n",
    "import matplotlib.pyplot as plt\n",
    "import numpy as np\n",
    "from __future__ import print_function"
   ]
  },
  {
   "cell_type": "markdown",
   "metadata": {},
   "source": [
    "<div style=\"border-left: 3px solid #000; padding: 1px; padding-left: 10px; background: #F0FAFF; \">\n",
    "<left><h1>Enable Inline Plotting</h1></left>\n",
    "<p>One of the great features of the Jupyter Notebook is the ability to have your code, outputs, and graphics in a single document. But plots do not render in the notebook by default. To turn on inline plot rendering, we have to use a so-called ```Magic Command```, which is a special Jupyter command preceded by a %.\n",
    "\n",
    "<p>Two commonly used Matplotlib magic commands are:\n",
    "<ul>\n",
    "<li>```%matplotlib notebook``` - creates interactive plots. This is what we're going to use today. Interactive features depend on the kernel running in the background, which means they disappear without the kernel. This feature is somewhat new, so still has occasional bugs.\n",
    "<li>```%matplotlib inline``` - creates static (non-interactive) plots. This still remains the most common way to generate plots.\n",
    "</ul>\n",
    "<p>It's important to note that the above commands are specific to Jupyter. In other environments, you'll need to add a line of code to explicitly display your plots, or save them to disk.  This will be discussed further when we cover other environments. \n",
    "\n",
    "</div>"
   ]
  },
  {
   "cell_type": "code",
   "execution_count": null,
   "metadata": {
    "collapsed": false
   },
   "outputs": [],
   "source": [
    "%matplotlib notebook\n",
    "# %matplotlib inline\n",
    "# Feel free to replace the command above and see how the behavior of the notebook changes"
   ]
  },
  {
   "cell_type": "markdown",
   "metadata": {},
   "source": [
    "<div style=\"border-left: 3px solid #000; padding: 1px; padding-left: 10px; background: #F0FAFF; \">\n",
    "<h2>Example 1. Simple plot</h2>\n",
    "\n",
    "<p> start by making some sample data\n",
    "</div>\n",
    "\n"
   ]
  },
  {
   "cell_type": "code",
   "execution_count": null,
   "metadata": {
    "collapsed": false
   },
   "outputs": [],
   "source": [
    "x = np.arange(0, 10, 0.01) #make evenly spaced points between 0 and 10 at intervals of 0.01\n",
    "y = np.sin(2*np.pi*x)*np.exp(-0.5*x) #some function x\n",
    "print(\"first five elements of x:\",x[:5])\n",
    "print(\"first five elements of y:\",y[:5])"
   ]
  },
  {
   "cell_type": "markdown",
   "metadata": {},
   "source": [
    "<div style=\"border-left: 3px solid #000; padding: 1px; padding-left: 10px; background: #F0FAFF; \">\n",
    "\n",
    "<p> Create a figure and axis, the plot our data on the axis\n",
    "</div>"
   ]
  },
  {
   "cell_type": "code",
   "execution_count": null,
   "metadata": {
    "collapsed": false
   },
   "outputs": [],
   "source": [
    "fig,ax = plt.subplots() #subplots will make a single axis inside a new figure by default\n",
    "ax.plot(x, y, color='red', linewidth=2) \n",
    "\n",
    "# The figure can be saved by uncommenting the line below\n",
    "# All major image formats (as well as PDFs) are accepted formats.\n",
    "# fig.savefig('/testfig.png')"
   ]
  },
  {
   "cell_type": "markdown",
   "metadata": {},
   "source": [
    "<div style=\"border-left: 3px solid #000; padding: 1px; padding-left: 10px; background: #F0FAFF; \">\n",
    "<h2>Example 2. Subplots</h2> \n",
    "\n",
    "<p>A given figure can have more than one axis. The ```subplot``` command, which we used above, generates a single axis by default. But we can specify the number of axes that we want.\n",
    "\n",
    "</div>"
   ]
  },
  {
   "cell_type": "code",
   "execution_count": null,
   "metadata": {
    "collapsed": false
   },
   "outputs": [],
   "source": [
    "#make a time array\n",
    "t = np.arange(0, 10, 0.1)\n",
    "\n",
    "# Create figure and axes objects. Make them share the x-axis\n",
    "fig, axes = plt.subplots(nrows=2, ncols=1, sharex=True)\n",
    "\n",
    "# Here, `axes` is a numpy array with two axes subplot objects\n",
    "print('axes type: ' + str(type(axes)))\n",
    "print('axes shape:', np.shape(axes))\n",
    "print('axes object:\\n' + str(axes))\n",
    "\n",
    "# Plot on each subplot by indexing into 'ax'\n",
    "axes[0].plot(t, np.sin(t), label='sin')\n",
    "axes[1].plot(t, np.cos(t), label='cos', color='red')\n",
    "\n",
    "# We can loop over the `axes` array to set properties in every subplot (no matter how many)\n",
    "for ax in axes:\n",
    "    ax.legend(loc='best')\n",
    "    ax.set_ylabel('Amplitude',fontsize=14)\n",
    "    \n",
    "# We can also access individual axes to set the properties\n",
    "axes[1].set_xlabel('Time',fontsize=14,weight='bold',style='italic')\n",
    "\n",
    "# We can also edit attributes of the entire figure, such as the title\n",
    "fig.suptitle('This is the figure title',fontsize=18);"
   ]
  },
  {
   "cell_type": "markdown",
   "metadata": {},
   "source": [
    "<div style=\"border-left: 3px solid #000; padding: 1px; padding-left: 10px; background: #F0FAFF; \">\n",
    "\n",
    "Note that the x-axes are tied together in interactive mode due to the 'sharex = True' flag. Try setting that to False and regenerating\n",
    "\n",
    "</div>"
   ]
  },
  {
   "cell_type": "markdown",
   "metadata": {},
   "source": [
    "<div style=\"background: #DFF0D8; border-radius: 3px; padding: 10px;\">\n",
    "<p>**Exercise 5.1:**\n",
    "\n",
    "<ol>\n",
    "<li>Remake the above plot with 4 subplots (2 rows, 2 columns; hint: you'll now have to index into axes like **`axes[0, 0]`**).\n",
    "<li>Create a loop over all the axes objects (hint: use **`axes.flatten()`**) so that the **`legend`** and **`set_ylabel`** functions are called for all subplots.\n",
    "<li>Use the loop from #2 to add a title to only the top row of plots using the **`set_title`** function.\n",
    "<li>Look at the documentation for the fig.tight_layout() command to optimize figure layout \n",
    "  * Note that this doesn't play nice with the figure suptitle. try using the 'plt.subplots_adjust(top=0.92)' command to control the whitespace at the top of the plot.\n",
    "</ol>\n",
    "  \n",
    "</div>"
   ]
  },
  {
   "cell_type": "code",
   "execution_count": null,
   "metadata": {
    "collapsed": false
   },
   "outputs": [],
   "source": []
  },
  {
   "cell_type": "markdown",
   "metadata": {},
   "source": [
    "<div style=\"border-left: 3px solid #000; padding: 1px; padding-left: 10px; background: #F0FAFF; \">\n",
    "<h2>Example 3. Plotting histograms </h2> \n",
    "<p> Use the ```hist``` command.\n",
    "</div>"
   ]
  },
  {
   "cell_type": "code",
   "execution_count": null,
   "metadata": {
    "collapsed": false
   },
   "outputs": [],
   "source": [
    "# Create gaussian distributed data with mu=10, sigma=3\n",
    "x = 10 + 3 * np.random.randn(1000)\n",
    "\n",
    "# Create figure and axes object\n",
    "fig, ax = plt.subplots(1,1,figsize=(10,6))\n",
    "\n",
    "# Create histogram\n",
    "bins=25\n",
    "ax.hist(x, bins=bins, label='Counts')\n",
    "\n",
    "# Set other properties\n",
    "ax.set_ylabel('# Unicorns Earned', fontsize=14)\n",
    "ax.set_xlabel('Karma Points', fontsize=14)\n",
    "ax.legend(loc='upper right')\n"
   ]
  },
  {
   "cell_type": "markdown",
   "metadata": {},
   "source": [
    "<div style=\"background: #DFF0D8; border-radius: 3px; padding: 10px;\">\n",
    "<p>**Exercise 5.2:**\n",
    "\n",
    "<p>Bin edges can be explicitly defined. \n",
    "<p> For example, you can use linspace to define bin edges:\n",
    "<p>&nbsp;&nbsp;&nbsp;&nbsp;```bins = np.linspace(5,25,num=50,endpoint=True)```\n",
    "\n",
    "<p>Remake the histogram above but explicitly define the bin edges rather than the bin size.\n",
    "\n",
    "</div>"
   ]
  },
  {
   "cell_type": "code",
   "execution_count": null,
   "metadata": {
    "collapsed": false
   },
   "outputs": [],
   "source": []
  },
  {
   "cell_type": "markdown",
   "metadata": {
    "collapsed": true
   },
   "source": [
    "<div style=\"border-left: 3px solid #000; padding: 1px; padding-left: 10px; background: #F0FAFF; \">\n",
    "<h2>Example 4 - Plotting Images</h2>\n",
    "<p> The ```imshow``` and ```matshow``` functions are useful for displaying matrices\n",
    "<p> Let's first grab an image that was saved on your hard drive using Matplotlib's ```image.mpimg``` function. This will turn the bitmapped image file into a Numpy array with dimensions ```HEIGHT x WIDTH x COLORS```\n",
    "</div>"
   ]
  },
  {
   "cell_type": "code",
   "execution_count": null,
   "metadata": {
    "collapsed": false
   },
   "outputs": [],
   "source": [
    "import matplotlib.image as mpimg\n",
    "\n",
    "img=mpimg.imread('support_files/stinkbug.png')\n",
    "\n",
    "print('the shape of img is: '+str(np.shape(img)))"
   ]
  },
  {
   "cell_type": "markdown",
   "metadata": {},
   "source": [
    "<div style=\"border-left: 3px solid #000; padding: 1px; padding-left: 10px; background: #F0FAFF; \">\n",
    "\n",
    "<p> Now create a new figure and axis, then use ```imshow``` to display the data\n",
    "</div>"
   ]
  },
  {
   "cell_type": "code",
   "execution_count": null,
   "metadata": {
    "collapsed": false
   },
   "outputs": [],
   "source": [
    "fig,ax=plt.subplots()\n",
    "imgplot = ax.imshow(img)"
   ]
  },
  {
   "cell_type": "markdown",
   "metadata": {},
   "source": [
    "<div style=\"border-left: 3px solid #000; padding: 1px; padding-left: 10px; background: #F0FAFF; \">\n",
    "<p> Note that, despite this having data in three color channels, it renders as a grayscale image. Why is that?\n",
    "<p> Let's look at all three color values for a given point on the image:\n",
    "</div>"
   ]
  },
  {
   "cell_type": "code",
   "execution_count": null,
   "metadata": {
    "collapsed": false
   },
   "outputs": [],
   "source": [
    "img[200,200,:]"
   ]
  },
  {
   "cell_type": "markdown",
   "metadata": {},
   "source": [
    "<div style=\"background: #DFF0D8; border-radius: 3px; padding: 10px;\">\n",
    "<p>**Exercise 5.3:**\n",
    "\n",
    "<p>Plot a single color channel\n",
    "\n",
    "<ol>\n",
    "<li>Use Numpy slicing commands that you learned in the previous module to extract all pixels for one of the three color channels\n",
    "<li>Repeat the imshow command for that single color channel\n",
    "<li>Note that, in the absence of color data, Matplotlib applies the 'jet' colormap by default. Try adding the following keyword argument to your imshow command:\n",
    "<p>&nbsp;&nbsp;&nbsp;&nbsp;```cmap = 'gray'```\n",
    "</ol>\n",
    "\n",
    "</div>"
   ]
  },
  {
   "cell_type": "code",
   "execution_count": null,
   "metadata": {
    "collapsed": false
   },
   "outputs": [],
   "source": []
  },
  {
   "cell_type": "markdown",
   "metadata": {},
   "source": [
    "<div style=\"border-left: 3px solid #000; padding: 1px; padding-left: 10px; background: #F0FAFF; \">\n",
    "<p> Now let's use the same functions to display some mathemically defined data\n",
    "</div>"
   ]
  },
  {
   "cell_type": "code",
   "execution_count": null,
   "metadata": {
    "collapsed": false
   },
   "outputs": [],
   "source": [
    "# Create some datapoints\n",
    "x = np.linspace(0,10,num=500)\n",
    "y = np.linspace(0,1,num=500)\n",
    "\n",
    "#create a meshgrid (evenly spaced 2d array on each axis)\n",
    "XX, YY = np.meshgrid(x, y)\n",
    "\n",
    "## make ZZ a function of XX and YY\n",
    "ZZ = np.sin(0.2*np.pi*XX**2) * YY\n",
    "\n",
    "# Create figure and axes object\n",
    "fig, ax = plt.subplots()\n",
    "\n",
    "# Plot colormap and add colorbar scale \n",
    "image_plot = ax.imshow(ZZ,cmap='coolwarm', extent=[0,10,1,0],aspect=\"auto\") \n",
    "# image_plot = ax.matshow(ZZ,cmap='coolwarm',origin=\"lower\") \n",
    "\n",
    "#make a colorbar\n",
    "cbar = plt.colorbar(image_plot)\n",
    "#set the colorbar's label properties, including an example of using LaTex code\n",
    "cbar.set_label('$\\sin(0.2 \\pi x^2)*y$',fontsize=20,rotation=90)\n",
    "\n",
    "ax.set_xlabel('x',fontsize=16)\n",
    "ax.set_ylabel('y',fontsize=16)\n",
    "\n",
    "print('the shape of z is: '+str(np.shape(ZZ)))"
   ]
  },
  {
   "cell_type": "markdown",
   "metadata": {},
   "source": [
    "<div style=\"background: #DFF0D8; border-radius: 3px; padding: 10px;\">\n",
    "<p>**Exercise 5.4:**\n",
    "<ol>\n",
    "<li>Try experimenting with some different colormaps. Here's a full list: http://matplotlib.org/examples/color/colormaps_reference.html\n",
    "<li>Try reducing the number of points on the x and y axes by changing the 'num' argument in the linspace command. What happens for low values (<= 100 points)?\n",
    "<li>Note that the imshow command turns on interpolation by default to reduce pixelation in images. When displaying quantitive data, this is generally not desireable. Here's a full list of interpolation methods: http://matplotlib.org/examples/images_contours_and_fields/interpolation_methods.html. Try setting interpolation to 'none'\n",
    "<li>Look up the documentation for 'matshow'. Try using it instead of 'imshow'.\n",
    "<li>Notice the ```extent``` and ```aspect``` keywords in the ```imshow``` function. Try removing or editing them to see what happens\n",
    "<li>Note that, in both imshow and matshow, the origin is in the upper left hand corner. Try using the following argument:\n",
    "<p>&nbsp;&nbsp;&nbsp;&nbsp;```origin=\"lower\"``` (but notice how this interacts with the ```extent``` keyword)\n",
    "\n",
    "</ol>\n",
    "</div>"
   ]
  },
  {
   "cell_type": "code",
   "execution_count": null,
   "metadata": {
    "collapsed": true
   },
   "outputs": [],
   "source": []
  },
  {
   "cell_type": "markdown",
   "metadata": {},
   "source": [
    "<div style=\"border-left: 3px solid #000; padding: 1px; padding-left: 10px; background: #F0FAFF; \">\n",
    "<h2> Example 5 -  Error bars </h2>\n",
    "<p>The ```errorbar``` function can be used to generate line plots with errorbars\n",
    "</div>"
   ]
  },
  {
   "cell_type": "code",
   "execution_count": null,
   "metadata": {
    "collapsed": false
   },
   "outputs": [],
   "source": [
    "# Create some data\n",
    "x = np.arange(0., 1., 0.1)\n",
    "y = x + 1\n",
    "y_error = y ** 2\n",
    "\n",
    "# Create figure and axes object\n",
    "fig, ax = plt.subplots()\n",
    "\n",
    "# Create errorbar plot using `y_error` and color errorbars red\n",
    "ax.errorbar(x, y, yerr=y_error, ecolor='red')\n",
    "ax.set_xlim([-.1, 1.])"
   ]
  },
  {
   "cell_type": "markdown",
   "metadata": {},
   "source": [
    "<div style=\"border-left: 3px solid #000; padding: 1px; padding-left: 10px; background: #F0FAFF; \">\n",
    "\n",
    "<h2> Example 6 -  Scatter Plots </h2>\n",
    "<p> The ```scatterplot``` function allows you to generate scatter plots with dots of different sizes, colors, transparencies, etc.\n",
    "\n",
    "</div>"
   ]
  },
  {
   "cell_type": "code",
   "execution_count": null,
   "metadata": {
    "collapsed": false
   },
   "outputs": [],
   "source": [
    "#make first dataset\n",
    "n1 = 500\n",
    "x1 = 5+1.5*np.random.randn(n1)\n",
    "y1 = 1+0.2*np.random.randn(n1)\n",
    "size1 = 100*np.random.rand(n1)\n",
    "\n",
    "#make second dataset\n",
    "n2 = 750\n",
    "x2 = 2+0.5*np.random.randn(n2)\n",
    "y2 = 0.25+0.5*np.random.randn(n2)\n",
    "size2 = 100*np.random.rand(n2)\n",
    "\n",
    "#make figure,axes handles\n",
    "fig,ax=plt.subplots()\n",
    "\n",
    "#plot scatter plots\n",
    "ax.scatter(x1,y1,s=size1,color='red',alpha=0.25)\n",
    "ax.scatter(x2,y2,s=size2,color='blue',alpha=0.25)\n",
    "\n",
    "#set axis limits\n",
    "ax.set_xlim(0,10)\n",
    "ax.set_ylim(-2,2)"
   ]
  },
  {
   "cell_type": "markdown",
   "metadata": {},
   "source": [
    "<div style=\"border-left: 3px solid #000; padding: 1px; padding-left: 10px; background: #F0FAFF; \">\n",
    "\n",
    "<h2>Example 7 - Gridspec </h2>\n",
    "\n",
    "<p>Gridspec is useful when you have uneven subplots. It can get tricky for more complex plots, so first try to use **`ax.subplots()`** (like in the previous examples) if possible.  \n",
    "\n",
    "<p>The documentation for gridspec is here: http://matplotlib.org/users/gridspec.html\n",
    "</div>\n"
   ]
  },
  {
   "cell_type": "code",
   "execution_count": null,
   "metadata": {
    "collapsed": false
   },
   "outputs": [],
   "source": [
    "import matplotlib.gridspec as gridspec\n",
    "\n",
    "t = np.arange(0., 5., 0.01)\n",
    "\n",
    "fig=plt.figure()\n",
    "# Create grispec object and define each subplot\n",
    "gs = gridspec.GridSpec(2, 2)\n",
    "ax0 = plt.subplot(gs[0, 0]) # Top left corner\n",
    "ax1 = plt.subplot(gs[0, 1]) # Top right corner\n",
    "ax2 = plt.subplot(gs[1, :]) # Bottom, span entire width\n",
    "\n",
    "ax0.plot(t, np.cos(5 * t), c='b')\n",
    "ax1.plot(t, np.exp(-1 * t), c='g')\n",
    "ax2.plot(t, np.cos(5 * t) * np.exp(-1 * t), c='k')"
   ]
  },
  {
   "cell_type": "markdown",
   "metadata": {
    "collapsed": true
   },
   "source": [
    "<div style=\"background: #DFF0D8; border-radius: 3px; padding: 10px;\">\n",
    "<p>**Exercise 5.5:**\n",
    "<p>Modify the above plot in the following ways:\n",
    "<ol>\n",
    "<li>Add another plot on the right edge that spans the full vertical distance (can be a scatter plot, imshow, line plot, etc.)\n",
    "<li>Change the size of the entire plot to 12 inches wide by 6 inches tall\n",
    "<li>Add a title to each subplot, and the figure as a whole\n",
    "<li>Label all axes\n",
    "<li>Modify the x-labels on the lower-left plot such that there is a tick every 0.5 points (0, 0.5, 1, 1.5, etc).\n",
    "<li>Add gridlines to the upper left plot\n",
    "<li>Make the line in the lower left plot thicker (linewidth of 3) and dashed\n",
    "<ol>\n",
    "</div>"
   ]
  },
  {
   "cell_type": "code",
   "execution_count": null,
   "metadata": {
    "collapsed": false
   },
   "outputs": [],
   "source": []
  }
 ],
 "metadata": {
  "kernelspec": {
   "display_name": "Python 2",
   "language": "python",
   "name": "python2"
  },
  "language_info": {
   "codemirror_mode": {
    "name": "ipython",
    "version": 2
   },
   "file_extension": ".py",
   "mimetype": "text/x-python",
   "name": "python",
   "nbconvert_exporter": "python",
   "pygments_lexer": "ipython2",
   "version": "2.7.11"
  },
  "widgets": {
   "state": {},
   "version": "1.1.2"
  }
 },
 "nbformat": 4,
 "nbformat_minor": 0
}
