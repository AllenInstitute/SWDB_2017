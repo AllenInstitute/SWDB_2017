{
 "cells": [
  {
   "cell_type": "markdown",
   "metadata": {},
   "source": [
    "<img src=\"support_files/cropped-SummerWorkshop_Header.png\">  \n",
    "\n",
    "<h1 align=\"center\">Python Bootcamp</h1> \n",
    "<h3 align=\"center\">August 20-21, 2016</h3> "
   ]
  },
  {
   "cell_type": "markdown",
   "metadata": {},
   "source": [
    "<div style=\"border-left: 3px solid #000; padding: 1px; padding-left: 10px; background: #F0FAFF; \">\n",
    "<center><h1>Scientific Computing in Python</h1></center>\n",
    "\n",
    "<p>Python comes with a large number of handy standard libraries that can be imported and used:  \n",
    "&nbsp;&nbsp;&nbsp;&nbsp;https://docs.python.org/2.7/library/  \n",
    "    \n",
    "<p>However, the real power of Python for scientific computing comes from the wealth of open-source, community driven packages that are available. Many of these popular external packages com bundled with the Anaconda Python distribution. Here's a full list of the packages that come with Anaconda: \n",
    "&nbsp;&nbsp;&nbsp;&nbsp;https://docs.continuum.io/anaconda/pkg-docs  \n",
    "    \n",
    "<p>To help prepare you for the Summer Workshop on the Dynamic Brain, we are going to focus on four commonly used and extremely powerful scientific computing libraries:\n",
    "<ul>\n",
    "<li>Numpy - Matrix manipulation and optimized mathematical functions (http://www.numpy.org/)\n",
    "<li>Scipy - A suite of powerful scientific modules that extends on Numpy's functionality (http://docs.scipy.org/doc/scipy/reference/)\n",
    "<li>Matplotlib - A python 2D plotting library which produces publication quality figures (http://matplotlib.org/)\n",
    "<li>Pandas - A high-performance library for data manipulation and analysis (http://pandas.pydata.org/)\n",
    "</ul>\n",
    "\n",
    "\n",
    "</div>"
   ]
  },
  {
   "cell_type": "markdown",
   "metadata": {},
   "source": [
    "<div style=\"border-left: 3px solid #000; padding: 1px; padding-left: 10px; background: #F0FAFF; \">\n",
    "<left><h1>Module Importing</h1></left>\n",
    "<p> Before jumping into the specifics of these packages, we're going to spend a little time talking about importing modules, namespaces, and paths.\n",
    "\n",
    "<p>Beyond the limited number of built-in Python commands, any tools that you want to use must first be imported.\n",
    "\n",
    "<p>Let's start with Numpy\n",
    "<p>**Import the library:**\n",
    "\n",
    "</div>"
   ]
  },
  {
   "cell_type": "code",
   "execution_count": null,
   "metadata": {
    "collapsed": true
   },
   "outputs": [],
   "source": [
    "import numpy"
   ]
  },
  {
   "cell_type": "markdown",
   "metadata": {},
   "source": [
    "<div style=\"border-left: 3px solid #000; padding: 1px; padding-left: 10px; background: #F0FAFF; \">\n",
    "<p>Now that Numpy is imported, you can access its attributes\n",
    "\n",
    "</div>"
   ]
  },
  {
   "cell_type": "code",
   "execution_count": null,
   "metadata": {
    "collapsed": false
   },
   "outputs": [],
   "source": [
    "print(numpy.pi)"
   ]
  },
  {
   "cell_type": "markdown",
   "metadata": {},
   "source": [
    "<div style=\"border-left: 3px solid #000; padding: 1px; padding-left: 10px; background: #F0FAFF; \">\n",
    "<p>Let's use the ```dir``` command, which you learned earlier, to view all of the available methods.\n",
    "\n",
    "</div>"
   ]
  },
  {
   "cell_type": "code",
   "execution_count": null,
   "metadata": {
    "collapsed": false
   },
   "outputs": [],
   "source": [
    "print(dir(numpy))"
   ]
  },
  {
   "cell_type": "markdown",
   "metadata": {},
   "source": [
    "<div style=\"border-left: 3px solid #000; padding: 1px; padding-left: 10px; background: #F0FAFF; \">\n",
    "<p>We can also use the ```dir``` command without an argument to see what's in our global 'namespace':\n",
    "\n",
    "</div>"
   ]
  },
  {
   "cell_type": "code",
   "execution_count": null,
   "metadata": {
    "collapsed": false
   },
   "outputs": [],
   "source": [
    "print(dir())"
   ]
  },
  {
   "cell_type": "markdown",
   "metadata": {},
   "source": [
    "<div style=\"border-left: 3px solid #000; padding: 1px; padding-left: 10px; background: #F0FAFF; \">\n",
    "<p>Most of these are behind-the-scenes variables that your kernel is using to keep track of command history or other low-level attributes.\n",
    "\n",
    "<p>At this point, the only variable we've actually declared is ```numpy```\n",
    "\n",
    "</div>"
   ]
  },
  {
   "cell_type": "markdown",
   "metadata": {},
   "source": [
    "<div style=\"border-left: 3px solid #000; padding: 1px; padding-left: 10px; background: #F0FAFF; \">\n",
    "<p>**Importing specific functions from a module**\n",
    "<p>Another importing option is to import the specific functions that you need from a libary\n",
    "\n",
    "</div>"
   ]
  },
  {
   "cell_type": "code",
   "execution_count": null,
   "metadata": {
    "collapsed": true
   },
   "outputs": [],
   "source": [
    "from numpy import cos,pi"
   ]
  },
  {
   "cell_type": "markdown",
   "metadata": {},
   "source": [
    "<div style=\"border-left: 3px solid #000; padding: 1px; padding-left: 10px; background: #F0FAFF; \">\n",
    "<p>Note that, if we now look at the global namespace using ```dir```, the two names that we've just imported are now visible, which means that they're globally accessible.\n",
    "\n",
    "</div>"
   ]
  },
  {
   "cell_type": "code",
   "execution_count": null,
   "metadata": {
    "collapsed": false
   },
   "outputs": [],
   "source": [
    "print(dir())"
   ]
  },
  {
   "cell_type": "code",
   "execution_count": null,
   "metadata": {
    "collapsed": false
   },
   "outputs": [],
   "source": [
    "print(cos(pi))"
   ]
  },
  {
   "cell_type": "markdown",
   "metadata": {},
   "source": [
    "<div style=\"border-left: 3px solid #000; padding: 1px; padding-left: 10px; background: #F0FAFF; \">\n",
    "<p>**Importing all attributes into the global namespace - A word of caution:**\n",
    "<p>It is possible to use the * notation to import all methods in a libary\n",
    "\n",
    "<p>AVOID THIS UNLESS ABSOLUTELY NECESSARY - it opens you up to the possibility of namespace conflicts. For instance, if you had already defined a variable or function with a name that matches something in the imported library, the libraries function would overwrite your variable name. It is being introduced here because you are likely to come across it in help documentation, so it is important to understand what is happening. \n",
    "\n",
    "<p>Another reason to avoid doing this is that the behavior is defined by the module.  It does not necessarily import \"everything\" available.\n",
    "</div>"
   ]
  },
  {
   "cell_type": "code",
   "execution_count": null,
   "metadata": {
    "collapsed": true
   },
   "outputs": [],
   "source": [
    "from numpy import *"
   ]
  },
  {
   "cell_type": "markdown",
   "metadata": {},
   "source": [
    "<div style=\"border-left: 3px solid #000; padding: 1px; padding-left: 10px; background: #F0FAFF; \">\n",
    "<p>We can now access many of the attributes of numpy directly from the global namespace\n",
    "</div>"
   ]
  },
  {
   "cell_type": "code",
   "execution_count": null,
   "metadata": {
    "collapsed": false
   },
   "outputs": [],
   "source": [
    "print(e)"
   ]
  },
  {
   "cell_type": "markdown",
   "metadata": {},
   "source": [
    "<div style=\"border-left: 3px solid #000; padding: 1px; padding-left: 10px; background: #F0FAFF; \">\n",
    "<p>But note how full our current namespace has become: \n",
    "</div>"
   ]
  },
  {
   "cell_type": "code",
   "execution_count": null,
   "metadata": {
    "collapsed": false
   },
   "outputs": [],
   "source": [
    "print(dir())"
   ]
  },
  {
   "cell_type": "markdown",
   "metadata": {},
   "source": [
    "<div style=\"border-left: 3px solid #000; padding: 1px; padding-left: 10px; background: #F0FAFF; \">\n",
    "<p>**This is the most common way to import:**\n",
    "<p>Packages can be renamed on import and standard shorthand notation has developed for various packages. For instance, Numpy is commonly imported as ```np```. Following this convention is not required, but doing so makes it makes it easier to share code.\n",
    "</div>"
   ]
  },
  {
   "cell_type": "code",
   "execution_count": null,
   "metadata": {
    "collapsed": true
   },
   "outputs": [],
   "source": [
    "import numpy as np"
   ]
  },
  {
   "cell_type": "code",
   "execution_count": null,
   "metadata": {
    "collapsed": false
   },
   "outputs": [],
   "source": [
    "print(np.sqrt(np.pi))"
   ]
  },
  {
   "cell_type": "markdown",
   "metadata": {},
   "source": [
    "<div style=\"border-left: 3px solid #000; padding: 1px; padding-left: 10px; background: #F0FAFF; \">\n",
    "<left><h1>A brief aside on the python path  </h1></left>\n",
    "<p>When you imported Numpy above, you didn't need to specify its location. That's because, on installation, the Numpy library was saved to a location on your ```PYTHONPATH```, likely to a folder called 'site-packages' in your Anaconda install folder. Libraries can be found automatically when they are either in your ```PYTHONPATH``` or in the current working directory (which is the root folder of the external hard drive you were given, in this case).\n",
    "\n",
    "<p>Most packages should go there by default when they are installed, but you should be mindful of this when installing non-standard packages or creating your own library. ```PYTHONPATH``` issues are one of the biggest sources of grief for people new to the language.\n",
    "\n",
    "<p>We can use the ```path``` command in the ```sys``` module to view all of the folders currently in our ```PYTHONPATH```\n",
    "\n",
    "</div>"
   ]
  },
  {
   "cell_type": "code",
   "execution_count": null,
   "metadata": {
    "collapsed": false
   },
   "outputs": [],
   "source": [
    "import sys\n",
    "for folder in sys.path:\n",
    "    print(folder)"
   ]
  },
  {
   "cell_type": "markdown",
   "metadata": {},
   "source": [
    "<div style=\"border-left: 3px solid #000; padding: 1px; padding-left: 10px; background: #F0FAFF; \">\n",
    "<p>Alternatively, you can add a location to your python path using the sys module. If you use a cloud storage service such as Dropbox or Google Drive, you can make a folder that will be shared across machines you work on.  \n",
    "\n",
    "<p>We'll address that in an exercise:\n",
    "\n",
    "</div>"
   ]
  },
  {
   "cell_type": "markdown",
   "metadata": {},
   "source": [
    "<div style=\"background: #DFF0D8; border-radius: 3px; padding: 10px;\">\n",
    "<p>**Exercise 3.1:**\n",
    "<p> Let's temporarily modify our ```PYTHONPATH``` by adding a local folder\n",
    "\n",
    "<ol>\n",
    "<li>Find the path to some local folder on your machine\n",
    "<li>Use the ```sys.path.append``` command to add that path to your ```PYTHONPATH``` (Windows users: remember to convert single backslashes ```\\``` into double backslashes ```\\\\``` or forward slashes.)\n",
    "<li>Print your ```PYTHONPATH``` again to confirm that your new folder has been added\n",
    "</ol>\n",
    "\n",
    "<p>**Important Note**\n",
    "<p>Changes to your ```PYTHONPATH``` using ```sys.path.append``` only last as long as the current interpreter is active.\n",
    "<p>Advanced users may wish to permanently add a folder to their ```PYTHONPATH```. Here are references for how to do so for later use:\n",
    "<p>&nbsp;&nbsp;&nbsp;&nbsp;Instructions for Windows: http://stackoverflow.com/questions/3701646/how-to-add-to-the-pythonpath-in-windows-7\n",
    "<p>&nbsp;&nbsp;&nbsp;&nbsp;Instruction for Mac: http://stackoverflow.com/questions/3387695/add-to-python-path-mac-os-x\n",
    "\n",
    "</div>"
   ]
  },
  {
   "cell_type": "code",
   "execution_count": null,
   "metadata": {
    "collapsed": true
   },
   "outputs": [],
   "source": []
  },
  {
   "cell_type": "markdown",
   "metadata": {},
   "source": [
    "<div style=\"border-left: 3px solid #000; padding: 1px; padding-left: 10px; background: #F0FAFF; \">\n",
    "<left><h1>Using the OS module for dealing with paths, filenames and other miscellaneous operating system functions</h1></left>\n",
    "<p>Directories (folders) and files on your hard drives(s) are organized in a tree structure. Nodes are directories and files, while edges indicate containment. As you navigate from directory to directory, you trace out a path through this tree. Paths can be represented as strings like this in Linux and Mac:\n",
    "\n",
    "<p>&nbsp;&nbsp;&nbsp;&nbsp;\"/drive_name/folder_a/file.format\"\n",
    "\n",
    "<p>And like this on Windows:\n",
    "\n",
    "<p>&nbsp;&nbsp;&nbsp;&nbsp;\"drive_name:\\\\folder_a\\file.format\"\n",
    "\n",
    "<p>You can use representations like these to tell Python which locations ought to be read from and written to.\n",
    "\n",
    "<p>Dealing with paths will be substantially easier if you first import the <code>os</code> module:\n",
    "\n",
    "</div>"
   ]
  },
  {
   "cell_type": "code",
   "execution_count": null,
   "metadata": {
    "collapsed": true
   },
   "outputs": [],
   "source": [
    "import os"
   ]
  },
  {
   "cell_type": "markdown",
   "metadata": {},
   "source": [
    "<div style=\"background: #DFF0D8; border-radius: 3px; padding: 10px;\">\n",
    "<p>**Exercise 3.2:**\n",
    "<p> We can use one of the module's more useful features - automatic system-appropriate path construction:\n",
    "\n",
    "<p>&nbsp;&nbsp;&nbsp;&nbsp;<code>os.path.join('name_1', 'name_2', 'name_3')</code>\n",
    "<p>where the names might be the names of files or directories. Replace the names above with real folder names on your system and see what is output:\n",
    "\n",
    "</div>"
   ]
  },
  {
   "cell_type": "code",
   "execution_count": null,
   "metadata": {
    "collapsed": false
   },
   "outputs": [],
   "source": []
  },
  {
   "cell_type": "markdown",
   "metadata": {},
   "source": [
    "<div style=\"border-left: 3px solid #000; padding: 1px; padding-left: 10px; background: #F0FAFF; \">\n",
    "<p>Another couple of handy functions are ```getcwd``` and ```listdir```\n",
    "</div>"
   ]
  },
  {
   "cell_type": "code",
   "execution_count": null,
   "metadata": {
    "collapsed": false
   },
   "outputs": [],
   "source": [
    "print(\"current directory:\")\n",
    "print(os.getcwd())\n",
    "print('\\n')\n",
    "print(\"files in current directory:\")\n",
    "files = os.listdir(os.getcwd())\n",
    "for file in files:\n",
    "    print(file)"
   ]
  },
  {
   "cell_type": "markdown",
   "metadata": {},
   "source": [
    "<div style=\"border-left: 3px solid #000; padding: 1px; padding-left: 10px; background: #F0FAFF; \">\n",
    "<p>To find out if a path actually exists on your drive, use:\n",
    "<p>&nbsp;&nbsp;&nbsp;&nbsp;<code>os.path.exists(path)</code>\n",
    "</div>"
   ]
  },
  {
   "cell_type": "markdown",
   "metadata": {},
   "source": [
    "<div style=\"background: #DFF0D8; border-radius: 3px; padding: 10px;\">\n",
    "<p>**Exercise 3.3:**\n",
    "<p>Create a folder called ```TempFolder``` somewhere on your local drive\n",
    "<ol>\n",
    "<li>Generate the full path using the ```os.path.join``` function\n",
    "<li>Use the ```os.path.exists``` function to ensure that the folder doesn't already exist (confirm that it returns False)\n",
    "<li>Create the directory using ```os.mkdir```\n",
    "<li>Confirm that it now exists using the ```os.path.exists``` function again\n",
    "<li>Navigate to the folder using your file explorer to confirm that it's there\n",
    "</ol>\n",
    "</div>"
   ]
  },
  {
   "cell_type": "code",
   "execution_count": null,
   "metadata": {
    "collapsed": false
   },
   "outputs": [],
   "source": []
  },
  {
   "cell_type": "markdown",
   "metadata": {},
   "source": [
    "<div style=\"border-left: 3px solid #000; padding: 1px; padding-left: 10px; background: #F0FAFF; \">\n",
    "<left><h1>Print function import</h1></left>\n",
    "<p>The syntax for the ```print``` statement changed between Python 2 and Python 3. To avoid future confusion, we've elected to use the future syntax here. To explicitly set the print function into its future state, do this:\n",
    "\n",
    "</div>"
   ]
  },
  {
   "cell_type": "code",
   "execution_count": null,
   "metadata": {
    "collapsed": true
   },
   "outputs": [],
   "source": [
    "print(\"some text\",2)"
   ]
  },
  {
   "cell_type": "code",
   "execution_count": null,
   "metadata": {
    "collapsed": true
   },
   "outputs": [],
   "source": [
    "from __future__ import print_function"
   ]
  },
  {
   "cell_type": "code",
   "execution_count": null,
   "metadata": {
    "collapsed": false
   },
   "outputs": [],
   "source": [
    "print(\"some text\",2)"
   ]
  },
  {
   "cell_type": "markdown",
   "metadata": {
    "collapsed": true
   },
   "source": [
    "<div style=\"border-left: 3px solid #000; padding: 1px; padding-left: 10px; background: #F0FAFF; \">\n",
    "<left><h1>A Brief Introduction to Scipy</h1></left>\n",
    "<p>The Scipy library has a lot of useful functions for signal processing, linear algebra, statistical testing, etc. Given its breadth, and its overlap with Numpy, we've elected not to cover it in detail here.\n",
    "\n",
    "<p>But let's import it and quickly explore what is inside\n",
    "\n",
    "</div>"
   ]
  },
  {
   "cell_type": "code",
   "execution_count": null,
   "metadata": {
    "collapsed": false
   },
   "outputs": [],
   "source": [
    "import scipy\n",
    "print(dir(scipy))"
   ]
  },
  {
   "cell_type": "markdown",
   "metadata": {
    "collapsed": true
   },
   "source": [
    "<div style=\"border-left: 3px solid #000; padding: 1px; padding-left: 10px; background: #F0FAFF; \">\n",
    "<left><h1>A Brief Introduction to Scipy</h1></left>\n",
    "<p>**The Scipy library also has ~20 subpackages**\n",
    "<p>each subpackage contains a lot of useful functions<p>\n",
    "\n",
    "<ol>\n",
    "<li>Clustering package (scipy.cluster)\n",
    "<li>Constants (scipy.constants)\n",
    "<li>Discrete Fourier transforms (scipy.fftpack)\n",
    "<li>Integration and ODEs (scipy.integrate)\n",
    "<li>Interpolation (scipy.interpolate)\n",
    "<li>Input and output (scipy.io)\n",
    "<li>Linear algebra (scipy.linalg)\n",
    "<li>Miscellaneous routines (scipy.misc)\n",
    "<li>Multi-dimensional image processing (scipy.ndimage)\n",
    "<li>Orthogonal distance regression (scipy.odr)\n",
    "<li>Optimization and root finding (scipy.optimize)\n",
    "<li>Signal processing (scipy.signal)\n",
    "<li>Sparse matrices (scipy.sparse)\n",
    "<li>Sparse linear algebra (scipy.sparse.linalg)\n",
    "<li>Compressed Sparse Graph Routines (scipy.sparse.csgraph)\n",
    "<li>Spatial algorithms and data structures (scipy.spatial)\n",
    "<li>Special functions (scipy.special)\n",
    "<li>Statistical functions (scipy.stats)\n",
    "<li>Statistical functions for masked arrays (scipy.stats.mstats)\n",
    "<li>C/C++ integration (scipy.weave)\n",
    "</ol>\n",
    "</div>"
   ]
  },
  {
   "cell_type": "markdown",
   "metadata": {},
   "source": [
    "<div style=\"background: #DFF0D8; border-radius: 3px; padding: 10px;\">\n",
    "<p>**Exercise 3.4:**\n",
    "<p>Spend a few minutes exploring the scipy documnention here:\n",
    "<p>&nbsp;&nbsp;&nbsp;&nbsp;http://docs.scipy.org/doc/scipy/reference/\n",
    "\n",
    "\n",
    "</div>"
   ]
  }
 ],
 "metadata": {
  "kernelspec": {
   "display_name": "Python 2",
   "language": "python",
   "name": "python2"
  },
  "language_info": {
   "codemirror_mode": {
    "name": "ipython",
    "version": 2
   },
   "file_extension": ".py",
   "mimetype": "text/x-python",
   "name": "python",
   "nbconvert_exporter": "python",
   "pygments_lexer": "ipython2",
   "version": "2.7.11"
  },
  "widgets": {
   "state": {},
   "version": "1.1.2"
  }
 },
 "nbformat": 4,
 "nbformat_minor": 0
}
